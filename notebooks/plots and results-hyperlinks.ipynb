{
 "metadata": {
  "name": ""
 },
 "nbformat": 3,
 "nbformat_minor": 0,
 "worksheets": [
  {
   "cells": [
    {
     "cell_type": "markdown",
     "metadata": {},
     "source": [
      "#Plots for relation extraction work"
     ]
    },
    {
     "cell_type": "markdown",
     "metadata": {},
     "source": [
      "##Graph cleaning"
     ]
    },
    {
     "cell_type": "markdown",
     "metadata": {},
     "source": [
      "###Seedset selection methods"
     ]
    },
    {
     "cell_type": "markdown",
     "metadata": {},
     "source": [
      "####Reach and balance"
     ]
    },
    {
     "cell_type": "code",
     "collapsed": false,
     "input": [
      "from os import chdir\n",
      "chdir(\"/homedtic/gkoduri/workspace/relation-extraction/src/\")"
     ],
     "language": "python",
     "metadata": {},
     "outputs": [],
     "prompt_number": 9
    },
    {
     "cell_type": "code",
     "collapsed": false,
     "input": [
      "import pickle\n",
      "import networkx as nx\n",
      "import graph_filtering as gf\n",
      "reload(gf)\n",
      "\n",
      "%matplotlib tk\n",
      "rcParams['figure.figsize'] = 12, 8"
     ],
     "language": "python",
     "metadata": {},
     "outputs": [],
     "prompt_number": 10
    },
    {
     "cell_type": "code",
     "collapsed": false,
     "input": [
      "annotations = pickle.load(file('/homedtic/gkoduri/workspace/relation-extraction/data/annotations.pickle'))\n",
      "fname = '/homedtic/gkoduri/workspace/relation-extraction/data/carnatic_hyperlinks.graphml'\n",
      "g = nx.read_graphml(fname, node_type=unicode)\n",
      "print g.number_of_nodes(), g.number_of_edges()"
     ],
     "language": "python",
     "metadata": {},
     "outputs": [
      {
       "output_type": "stream",
       "stream": "stdout",
       "text": [
        "1450 8668\n"
       ]
      }
     ],
     "prompt_number": 11
    },
    {
     "cell_type": "code",
     "collapsed": false,
     "input": [
      "wg = gf.WikiGraph(g, annotations)"
     ],
     "language": "python",
     "metadata": {},
     "outputs": [],
     "prompt_number": 12
    },
    {
     "cell_type": "code",
     "collapsed": false,
     "input": [
      "res = wg.evaluate_seedset_methods()"
     ],
     "language": "python",
     "metadata": {},
     "outputs": []
    },
    {
     "cell_type": "code",
     "collapsed": false,
     "input": [
      "plot(res[\"x\"], res[\"pagerank_reach\"], \"r-\", marker=\"o\", label=\"pagerank\")\n",
      "plot(res[\"x\"], res[\"eig_reach\"], \"g-\", marker=\"o\", label=\"eigenvector centrality\")\n",
      "plot(res[\"x\"], res[\"outdegree_reach\"], \"b-\", marker=\"o\", label=\"outdegree centrality\")\n",
      "legend()\n",
      "xlabel(\"Size of the seedset\")\n",
      "ylabel(\"Reach\")"
     ],
     "language": "python",
     "metadata": {},
     "outputs": []
    },
    {
     "cell_type": "code",
     "collapsed": false,
     "input": [
      "figure()\n",
      "plot(res[\"x\"], res[\"pagerank_balance\"], \"r-\", marker=\"o\", label=\"pagerank\")\n",
      "plot(res[\"x\"], res[\"eig_balance\"], \"g-\", marker=\"o\", label=\"eigenvector centrality\")\n",
      "plot(res[\"x\"], res[\"outdegree_balance\"], \"b-\", marker=\"o\", label=\"outdegree centrality\")\n",
      "legend()\n",
      "xlabel(\"Size of the seedset\")\n",
      "ylabel(\"Balance between pos/neg chunks\")"
     ],
     "language": "python",
     "metadata": {},
     "outputs": []
    },
    {
     "cell_type": "markdown",
     "metadata": {},
     "source": [
      "####Performance of the seedset selection methods"
     ]
    },
    {
     "cell_type": "code",
     "collapsed": false,
     "input": [
      "wg.seedset_method = \"pagerank\"\n",
      "pagerank_res = wg.vary_parameter(\"seedset_size\", np.arange(20, 200, 20))"
     ],
     "language": "python",
     "metadata": {},
     "outputs": []
    },
    {
     "cell_type": "code",
     "collapsed": false,
     "input": [
      "from scipy.ndimage.filters import gaussian_filter\n",
      "sf = 0"
     ],
     "language": "python",
     "metadata": {},
     "outputs": []
    },
    {
     "cell_type": "code",
     "collapsed": false,
     "input": [
      "fig = figure()\n",
      "ax = fig.add_subplot(1,1,1)\n",
      "plot(pagerank_res[\"x\"], gaussian_filter(pagerank_res[\"precisions\"], sf), \"r--\", marker=\"o\", label=\"Precision\")\n",
      "plot(pagerank_res[\"x\"], gaussian_filter(pagerank_res[\"recalls\"], sf), \"r-.\", marker=\"o\", label=\"Recall\")\n",
      "plot(pagerank_res[\"x\"], gaussian_filter(pagerank_res[\"f_measures\"], sf), \"r-\", marker=\"o\", label=\"F measure\")\n",
      "#plot(pagerank_res[\"x\"], gaussian_filter(pagerank_res[\"pos_node_reach\"], sf), \"r.\", label=\"Positive node reach\")\n",
      "\n",
      "#xlabel(\"Size of the seedset\")\n",
      "#title(\"Pagerank\")"
     ],
     "language": "python",
     "metadata": {},
     "outputs": []
    },
    {
     "cell_type": "code",
     "collapsed": false,
     "input": [
      "wg.seedset_method = \"eig\"\n",
      "eig_res = wg.vary_parameter(\"seedset_size\", np.arange(20, 200, 20))"
     ],
     "language": "python",
     "metadata": {},
     "outputs": []
    },
    {
     "cell_type": "code",
     "collapsed": false,
     "input": [
      "plot(eig_res[\"x\"], gaussian_filter(eig_res[\"precisions\"], sf), \"g--\", marker=\"o\", label=\"Precision\")\n",
      "plot(eig_res[\"x\"], gaussian_filter(eig_res[\"recalls\"], sf), \"g-.\", marker=\"o\", label=\"Recall\")\n",
      "plot(eig_res[\"x\"], gaussian_filter(eig_res[\"f_measures\"], sf), \"g-\", marker=\"o\", label=\"F measure\")\n",
      "#plot(eig_res[\"x\"], gaussian_filter(eig_res[\"pos_node_reach\"], sf), \"g.\", label=\"Positive node reach\")\n",
      "\n",
      "#xlabel(\"Size of the seedset\")\n",
      "#title(\"Eig\")"
     ],
     "language": "python",
     "metadata": {},
     "outputs": []
    },
    {
     "cell_type": "code",
     "collapsed": false,
     "input": [
      "wg.seedset_method = \"outdegree\"\n",
      "outdegree_res = wg.vary_parameter(\"seedset_size\", np.arange(20, 200, 20))"
     ],
     "language": "python",
     "metadata": {},
     "outputs": []
    },
    {
     "cell_type": "code",
     "collapsed": false,
     "input": [
      "plot(outdegree_res[\"x\"], gaussian_filter(outdegree_res[\"precisions\"], sf), \"b--\", marker=\"o\", label=\"Precision\")\n",
      "plot(outdegree_res[\"x\"], gaussian_filter(outdegree_res[\"recalls\"], sf), \"b-.\", marker=\"o\", label=\"Recall\")\n",
      "plot(outdegree_res[\"x\"], gaussian_filter(outdegree_res[\"f_measures\"], sf), \"b-\", marker=\"o\", label=\"F measure\")\n",
      "#plot(outdegree_res[\"x\"], gaussian_filter(outdegree_res[\"pos_node_reach\"], sf), \"b.\", label=\"Positive node reach\")\n",
      "\n",
      "xlabel(\"Size of the seedset\")"
     ],
     "language": "python",
     "metadata": {},
     "outputs": []
    },
    {
     "cell_type": "code",
     "collapsed": false,
     "input": [
      "#Get artists and labels for legend and chose which ones to display\n",
      "handles, labels = ax.get_legend_handles_labels()\n",
      "display = (2, 5, 8)\n",
      "\n",
      "#Create custom artists\n",
      "precision = plt.Line2D((0,1),(0,0), color='k', linestyle='--')\n",
      "recall = plt.Line2D((0,1),(0,0), color='k', linestyle='-.')\n",
      "f_measure = plt.Line2D((0,1),(0,0), color='k', linestyle='-')\n",
      "\n",
      "#Create legend from custom artist/label lists\n",
      "ax.legend([handle for i,handle in enumerate(handles) if i in display]+[precision, recall, f_measure, num_nodes],\n",
      "          ['Pagerank', 'Eig', 'Outdegree'] + ['Precision', 'Recall', 'F Measure'])"
     ],
     "language": "python",
     "metadata": {},
     "outputs": []
    },
    {
     "cell_type": "code",
     "collapsed": false,
     "input": [
      "draw()"
     ],
     "language": "python",
     "metadata": {},
     "outputs": []
    },
    {
     "cell_type": "markdown",
     "metadata": {},
     "source": [
      "###Trust propagation methods"
     ]
    },
    {
     "cell_type": "markdown",
     "metadata": {},
     "source": [
      "####Dampening method"
     ]
    },
    {
     "cell_type": "code",
     "collapsed": false,
     "input": [
      "wg = gf.WikiGraph(g, annotations)\n",
      "wg.seedset_method = \"pagerank\"\n",
      "wg.prop_method = \"dampening\"\n",
      "wg.prop_depth = 3\n",
      "wg.seedset_size = 70"
     ],
     "language": "python",
     "metadata": {},
     "outputs": [],
     "prompt_number": 13
    },
    {
     "cell_type": "code",
     "collapsed": false,
     "input": [
      "res = wg.vary_parameter(\"damp_factor\", np.arange(0.1, 0.95, 0.2))"
     ],
     "language": "python",
     "metadata": {},
     "outputs": [
      {
       "output_type": "stream",
       "stream": "stdout",
       "text": [
        "\n",
        "        Run configuration:\n",
        "        seedset size: 70,\n",
        "        seedset method: pagerank,\n",
        "        trust propagation method: dampening,\n",
        "        trust propagation depth: 3,\n",
        "        trust propagation damp factor: 0.100000,\n",
        "        trust propagation split factor: num_edges,\n",
        "        min. community size: 10,\n",
        "        no. of expansion steps: 1\n",
        "        \n",
        "seedset selected."
       ]
      },
      {
       "output_type": "stream",
       "stream": "stdout",
       "text": [
        "\n",
        "trusts set for seedset.\n",
        "step.1 of expanding seedset (trust prop) is done."
       ]
      },
      {
       "output_type": "stream",
       "stream": "stdout",
       "text": [
        "\n",
        "\n",
        "        Run configuration:\n",
        "        seedset size: 70,\n",
        "        seedset method: pagerank,\n",
        "        trust propagation method: dampening,\n",
        "        trust propagation depth: 3,\n",
        "        trust propagation damp factor: 0.300000,\n",
        "        trust propagation split factor: num_edges,\n",
        "        min. community size: 10,\n",
        "        no. of expansion steps: 1\n",
        "        "
       ]
      },
      {
       "output_type": "stream",
       "stream": "stdout",
       "text": [
        "\n",
        "seedset selected."
       ]
      },
      {
       "output_type": "stream",
       "stream": "stdout",
       "text": [
        "\n",
        "trusts set for seedset.\n",
        "step.1 of expanding seedset (trust prop) is done."
       ]
      },
      {
       "output_type": "stream",
       "stream": "stdout",
       "text": [
        "\n",
        "\n",
        "        Run configuration:\n",
        "        seedset size: 70,\n",
        "        seedset method: pagerank,\n",
        "        trust propagation method: dampening,\n",
        "        trust propagation depth: 3,\n",
        "        trust propagation damp factor: 0.500000,\n",
        "        trust propagation split factor: num_edges,\n",
        "        min. community size: 10,\n",
        "        no. of expansion steps: 1\n",
        "        "
       ]
      },
      {
       "output_type": "stream",
       "stream": "stdout",
       "text": [
        "\n",
        "seedset selected."
       ]
      },
      {
       "output_type": "stream",
       "stream": "stdout",
       "text": [
        "\n",
        "trusts set for seedset.\n",
        "step.1 of expanding seedset (trust prop) is done."
       ]
      },
      {
       "output_type": "stream",
       "stream": "stdout",
       "text": [
        "\n",
        "\n",
        "        Run configuration:\n",
        "        seedset size: 70,\n",
        "        seedset method: pagerank,\n",
        "        trust propagation method: dampening,\n",
        "        trust propagation depth: 3,\n",
        "        trust propagation damp factor: 0.700000,\n",
        "        trust propagation split factor: num_edges,\n",
        "        min. community size: 10,\n",
        "        no. of expansion steps: 1\n",
        "        "
       ]
      },
      {
       "output_type": "stream",
       "stream": "stdout",
       "text": [
        "\n",
        "seedset selected."
       ]
      },
      {
       "output_type": "stream",
       "stream": "stdout",
       "text": [
        "\n",
        "trusts set for seedset.\n",
        "step.1 of expanding seedset (trust prop) is done."
       ]
      },
      {
       "output_type": "stream",
       "stream": "stdout",
       "text": [
        "\n",
        "\n",
        "        Run configuration:\n",
        "        seedset size: 70,\n",
        "        seedset method: pagerank,\n",
        "        trust propagation method: dampening,\n",
        "        trust propagation depth: 3,\n",
        "        trust propagation damp factor: 0.900000,\n",
        "        trust propagation split factor: num_edges,\n",
        "        min. community size: 10,\n",
        "        no. of expansion steps: 1\n",
        "        "
       ]
      },
      {
       "output_type": "stream",
       "stream": "stdout",
       "text": [
        "\n",
        "seedset selected."
       ]
      },
      {
       "output_type": "stream",
       "stream": "stdout",
       "text": [
        "\n",
        "trusts set for seedset.\n",
        "step.1 of expanding seedset (trust prop) is done."
       ]
      },
      {
       "output_type": "stream",
       "stream": "stdout",
       "text": [
        "\n"
       ]
      }
     ],
     "prompt_number": 14
    },
    {
     "cell_type": "code",
     "collapsed": false,
     "input": [
      "from scipy.ndimage.filters import gaussian_filter\n",
      "sf = 0"
     ],
     "language": "python",
     "metadata": {},
     "outputs": [],
     "prompt_number": 15
    },
    {
     "cell_type": "code",
     "collapsed": false,
     "input": [
      "fig = figure()\n",
      "ax = fig.add_subplot(1,1,1)\n",
      "plot(res[\"x\"], gaussian_filter(res[\"precisions\"], sf), \"r--\",  marker=\"o\", label=\"Precision\")\n",
      "plot(res[\"x\"], gaussian_filter(res[\"recalls\"], sf), \"r-.\",  marker=\"o\", label=\"Recall\")\n",
      "plot(res[\"x\"], gaussian_filter(res[\"f_measures\"], sf), \"r-\",  marker=\"o\", label=\"F measure\")\n",
      "xlabel(\"Damping factor\")\n",
      "legend()"
     ],
     "language": "python",
     "metadata": {},
     "outputs": [
      {
       "metadata": {},
       "output_type": "pyout",
       "prompt_number": 16,
       "text": [
        "<matplotlib.legend.Legend at 0x7ab6390>"
       ]
      }
     ],
     "prompt_number": 16
    },
    {
     "cell_type": "code",
     "collapsed": false,
     "input": [
      "wg = gf.WikiGraph(g, annotations)\n",
      "wg.seedset_method = \"pagerank\"\n",
      "wg.prop_method = \"dampening\"\n",
      "wg.damp_factor = 0.85\n",
      "wg.prop_depth = 3\n",
      "wg.seedset_size = 70\n",
      "wg.select_seedset()\n",
      "wg.set_trusts()\n",
      "wg.propagate_trust()\n",
      "[p, r, f] = wg.evaluate()"
     ],
     "language": "python",
     "metadata": {},
     "outputs": []
    },
    {
     "cell_type": "code",
     "collapsed": false,
     "input": [
      "print round(p, 2), round(r, 2), round(f, 2)"
     ],
     "language": "python",
     "metadata": {},
     "outputs": []
    },
    {
     "cell_type": "markdown",
     "metadata": {},
     "source": [
      "####Splitting method"
     ]
    },
    {
     "cell_type": "code",
     "collapsed": false,
     "input": [
      "wg = gf.WikiGraph(g, annotations)\n",
      "wg.seedset_method = \"pagerank\"\n",
      "wg.prop_method = \"splitting\"\n",
      "wg.split_with = \"num_edges\"\n",
      "wg.prop_depth = 3\n",
      "wg.seedset_size = 70\n",
      "wg.select_seedset()\n",
      "wg.set_trusts()\n",
      "wg.propagate_trust()\n",
      "[p, r, f] = wg.evaluate()"
     ],
     "language": "python",
     "metadata": {},
     "outputs": []
    },
    {
     "cell_type": "code",
     "collapsed": false,
     "input": [
      "print round(p, 2), round(r, 2), round(f, 2)"
     ],
     "language": "python",
     "metadata": {},
     "outputs": []
    },
    {
     "cell_type": "markdown",
     "metadata": {},
     "source": [
      "####Basic method"
     ]
    },
    {
     "cell_type": "code",
     "collapsed": false,
     "input": [
      "wg = gf.WikiGraph(g, annotations)\n",
      "wg.seedset_method = \"pagerank\"\n",
      "wg.prop_method = \"basic\"\n",
      "wg.prop_depth = 3\n",
      "wg.seedset_size = 70\n",
      "wg.select_seedset()\n",
      "wg.set_trusts()\n",
      "wg.propagate_trust()\n",
      "[p, r, f] = wg.evaluate()"
     ],
     "language": "python",
     "metadata": {},
     "outputs": []
    },
    {
     "cell_type": "code",
     "collapsed": false,
     "input": [
      "print round(p, 2), round(r, 2), round(f, 2)"
     ],
     "language": "python",
     "metadata": {},
     "outputs": []
    },
    {
     "cell_type": "markdown",
     "metadata": {},
     "source": [
      "###Community analysis"
     ]
    },
    {
     "cell_type": "code",
     "collapsed": false,
     "input": [
      "wg = gf.WikiGraph(g, annotations)\n",
      "wg.seedset_method = \"pagerank\"\n",
      "wg.prop_method = \"dampening\"\n",
      "wg.prop_depth = 3\n",
      "wg.seedset_size = 70\n",
      "wg.damp_factor = 0.85\n",
      "wg.min_comsize = 10\n",
      "[p, r, f] = wg.run_config(expand_steps=2)\n",
      "print round(p, 2), round(r, 2), round(f, 2)"
     ],
     "language": "python",
     "metadata": {},
     "outputs": []
    },
    {
     "cell_type": "markdown",
     "metadata": {},
     "source": [
      "###Voting"
     ]
    },
    {
     "cell_type": "code",
     "collapsed": false,
     "input": [
      "wg.vote_nodes(iterations=1, method=\"count\")"
     ],
     "language": "python",
     "metadata": {},
     "outputs": []
    },
    {
     "cell_type": "code",
     "collapsed": false,
     "input": [
      "[p, r, f] = wg.evaluate()\n",
      "print round(p, 2), round(r, 2), round(f, 2)"
     ],
     "language": "python",
     "metadata": {},
     "outputs": []
    },
    {
     "cell_type": "code",
     "collapsed": false,
     "input": [],
     "language": "python",
     "metadata": {},
     "outputs": []
    }
   ],
   "metadata": {}
  }
 ]
}