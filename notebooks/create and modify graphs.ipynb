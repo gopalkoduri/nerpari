{
 "metadata": {
  "name": ""
 },
 "nbformat": 3,
 "nbformat_minor": 0,
 "worksheets": [
  {
   "cells": [
    {
     "cell_type": "heading",
     "level": 1,
     "metadata": {},
     "source": [
      "Create LSA graphs from token-index"
     ]
    },
    {
     "cell_type": "code",
     "collapsed": false,
     "input": [
      "from os import chdir\n",
      "chdir('/homedtic/gkoduri/workspace/relation-extraction/src/')\n",
      "import wiki_grapher as wg\n",
      "reload(wg)\n",
      "chdir('/homedtic/gkoduri/workspace/relation-extraction/data/wiki_search/')\n",
      "\n",
      "f = 'indian_classical_music_token_index.pickle'\n",
      "ti = pickle.load(file(f))\n",
      "thresholds = [0.2, 0.3, 0.4, 0.5]\n",
      "neighbors = 50\n",
      "\n",
      "for threshold in thresholds:\n",
      "    g = wg.graph_lsa(ti, num_topics=200, num_neighbors=neighbors, sim_thresh=threshold)\n",
      "    out_file = f[:-18] + 'lsa_200_' + str(neighbors) + '_' + str(threshold) + '.graphml'\n",
      "    nx.write_graphml(g, out_file, encoding='utf-8')\n",
      "    print out_file"
     ],
     "language": "python",
     "metadata": {},
     "outputs": []
    },
    {
     "cell_type": "code",
     "collapsed": false,
     "input": [
      "from os import chdir\n",
      "chdir('/homedtic/gkoduri/workspace/relation-extraction/src/')\n",
      "import wiki_grapher as wg\n",
      "reload(wg)\n",
      "chdir('/homedtic/gkoduri/workspace/relation-extraction/data/wiki_search/')\n",
      "\n",
      "#f = 'indian_classical_music_link_index.pickle'\n",
      "#ti = pickle.load(file(f))\n",
      "link_g = wg.graph_hyperlinks(total_li)\n",
      "f_name = f[:-18]+'hyperlinks.graphml'\n",
      "nx.write_graphml(link_g, f_name, encoding='utf-8')"
     ],
     "language": "python",
     "metadata": {},
     "outputs": []
    },
    {
     "cell_type": "heading",
     "level": 1,
     "metadata": {},
     "source": [
      "Get indexes for the remaining pages in wiki-search group"
     ]
    },
    {
     "cell_type": "code",
     "collapsed": false,
     "input": [
      "from os import chdir\n",
      "chdir('/homedtic/gkoduri/workspace/relation-extraction/src/')\n",
      "import wiki_indexer as wi\n",
      "reload(wi)\n",
      "\n",
      "import codecs\n",
      "import networkx as nx\n",
      "import pickle\n",
      "\n",
      "chdir('/homedtic/gkoduri/workspace/relation-extraction/data/wiki_search/')\n",
      "wiki_index = pickle.load(file('/homedtic/gkoduri/workspace/relation-extraction/data/wiki_index.pickle'))"
     ],
     "language": "python",
     "metadata": {},
     "outputs": [],
     "prompt_number": 3
    },
    {
     "cell_type": "code",
     "collapsed": false,
     "input": [
      "f = 'indian_classical_music_pages.txt'\n",
      "pages = [i.strip() for i in codecs.open(f, 'r', 'utf-8').readlines()]\n",
      "\n",
      "cf = '../wiki_categories/'+f\n",
      "cpages = [i.strip() for i in codecs.open(cf, 'r', 'utf-8').readlines()]\n",
      "\n",
      "remaining_pages = list(set(pages)-set(cpages))\n",
      "print len(remaining_pages)"
     ],
     "language": "python",
     "metadata": {},
     "outputs": [],
     "prompt_number": 4
    },
    {
     "cell_type": "code",
     "collapsed": false,
     "input": [
      "rest_ti = pickle.load(file('../wiki_categories/'+f[:-10]+'_token_index.pickle'))\n",
      "rest_li = pickle.load(file('../wiki_categories/'+f[:-10]+'_link_index.pickle'))\n",
      "\n",
      "total_ti = dict(icm_indexes['token_index'])\n",
      "total_li = dict(icm_indexes['link_index'])\n",
      "\n",
      "total_ti.update(rest_ti)\n",
      "total_li.update(rest_li)\n",
      "\n",
      "pickle.dump(total_ti, file(f[:-10]+'_token_index.pickle', 'w'))\n",
      "pickle.dump(total_li, file(f[:-10]+'_link_index.pickle', 'w'))"
     ],
     "language": "python",
     "metadata": {},
     "outputs": [
      {
       "metadata": {},
       "output_type": "pyout",
       "prompt_number": 10,
       "text": [
        "'carnatic_music'"
       ]
      }
     ],
     "prompt_number": 10
    },
    {
     "cell_type": "heading",
     "level": 1,
     "metadata": {},
     "source": [
      "Get wiki annotations"
     ]
    },
    {
     "cell_type": "code",
     "collapsed": false,
     "input": [
      "import pickle\n",
      "from os import chdir\n",
      "chdir('/homedtic/gkoduri/workspace/relation-extraction/src/')\n",
      "import annotator as ann\n",
      "reload(ann)\n",
      "chdir('/homedtic/gkoduri/workspace/relation-extraction/data/')\n",
      "\n",
      "keyword = 'carnatic_music'\n",
      "search_pages_file = 'wiki_search/' + keyword + '_pages.txt'\n",
      "cat_pages_file = 'wiki_categories/' + keyword + '_pages.txt'\n",
      "annotations = ann.wiki_annotate(search_pages_file, cat_pages_file)\n",
      "pickle.dump(annotations, file(keyword+'_annotations.pickle', 'w'))"
     ],
     "language": "python",
     "metadata": {},
     "outputs": []
    }
   ],
   "metadata": {}
  }
 ]
}