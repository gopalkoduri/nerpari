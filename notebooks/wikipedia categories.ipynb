{
 "metadata": {
  "name": ""
 },
 "nbformat": 3,
 "nbformat_minor": 0,
 "worksheets": [
  {
   "cells": [
    {
     "cell_type": "code",
     "collapsed": false,
     "input": [
      "import urllib2 as ul\n",
      "import json\n",
      "import codecs\n",
      "from time import sleep"
     ],
     "language": "python",
     "metadata": {},
     "outputs": []
    },
    {
     "cell_type": "code",
     "collapsed": false,
     "input": [
      "def get_url(cat):\n",
      "    baseurl = 'http://en.wikipedia.org/w/api.php?format=json&action=query&list=categorymembers'\n",
      "    options = '&cmtitle=%s&cmtype=page|subcat&cmprop=ids|title|type&cmlimit=500'%(cat)\n",
      "    return baseurl+options"
     ],
     "language": "python",
     "metadata": {},
     "outputs": []
    },
    {
     "cell_type": "code",
     "collapsed": false,
     "input": [
      "def get_contents(cat):\n",
      "    pages = []\n",
      "    subcats = []\n",
      "    \n",
      "    url = get_url(cat)\n",
      "    while True:\n",
      "        data = ul.urlopen(url).read()\n",
      "        data = json.loads(data)\n",
      "        \n",
      "        for member in data['query']['categorymembers']:\n",
      "            if member['type'] == 'page':\n",
      "                pages.append(member['title'])\n",
      "            elif member['type'] == 'subcat':\n",
      "                subcats.append(member['title'].replace(' ', '_'))\n",
      "            else:\n",
      "                print member['type'], member['title']\n",
      "\n",
      "        if 'query-continue' in data.keys():\n",
      "            url = get_url(cat)+'&cmcontinue=%s'%(data['query-continue']['categorymembers']['cmcontinue'].encode('utf-8'))\n",
      "            sleep(2)\n",
      "        else:\n",
      "            break\n",
      "    \n",
      "    return pages, subcats"
     ],
     "language": "python",
     "metadata": {},
     "outputs": []
    },
    {
     "cell_type": "code",
     "collapsed": false,
     "input": [
      "all_pages = []\n",
      "all_cats = ['Category:Politics_of_Spain']\n",
      "visited_cats = []\n",
      "\n",
      "while True:\n",
      "    new_cats = []\n",
      "    for cat in all_cats:\n",
      "        if cat in visited_cats:\n",
      "            continue\n",
      "            \n",
      "        print cat, \n",
      "        pages, subcats = get_contents(cat.encode('utf-8'))\n",
      "        print len(pages), len(subcats)\n",
      "        sleep(2)\n",
      "        visited_cats.append(cat)\n",
      "        \n",
      "        all_pages.extend(pages)\n",
      "        new_cats.extend(subcats)\n",
      "        \n",
      "    all_cats.extend(new_cats)\n",
      "    all_cats = list(unique(all_cats))\n",
      "    if len(set(all_cats)-set(visited_cats)) == 0:\n",
      "        break"
     ],
     "language": "python",
     "metadata": {},
     "outputs": []
    },
    {
     "cell_type": "code",
     "collapsed": false,
     "input": [
      "print len(unique(all_cats)), len(unique(all_pages))"
     ],
     "language": "python",
     "metadata": {},
     "outputs": []
    },
    {
     "cell_type": "code",
     "collapsed": false,
     "input": [
      "all_pages = list(unique(all_pages))"
     ],
     "language": "python",
     "metadata": {},
     "outputs": []
    },
    {
     "cell_type": "code",
     "collapsed": false,
     "input": [
      "f = codecs.open('../data/spain_politic_wiki_annotations.txt', 'w', 'utf-8')"
     ],
     "language": "python",
     "metadata": {},
     "outputs": []
    },
    {
     "cell_type": "code",
     "collapsed": false,
     "input": [
      "for page in all_pages:\n",
      "    f.write(page+'\\n')\n",
      "f.close()"
     ],
     "language": "python",
     "metadata": {},
     "outputs": []
    }
   ],
   "metadata": {}
  }
 ]
}