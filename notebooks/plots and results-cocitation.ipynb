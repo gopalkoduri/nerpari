{
 "metadata": {
  "name": ""
 },
 "nbformat": 3,
 "nbformat_minor": 0,
 "worksheets": [
  {
   "cells": [
    {
     "cell_type": "markdown",
     "metadata": {},
     "source": [
      "#Plots for relation extraction work"
     ]
    },
    {
     "cell_type": "markdown",
     "metadata": {},
     "source": [
      "##Graph cleaning"
     ]
    },
    {
     "cell_type": "markdown",
     "metadata": {},
     "source": [
      "###Seedset selection methods"
     ]
    },
    {
     "cell_type": "markdown",
     "metadata": {},
     "source": [
      "####Reach and balance"
     ]
    },
    {
     "cell_type": "code",
     "collapsed": false,
     "input": [
      "from os import chdir\n",
      "chdir(\"/homedtic/gkoduri/workspace/relation-extraction/src/\")"
     ],
     "language": "python",
     "metadata": {},
     "outputs": [],
     "prompt_number": 1
    },
    {
     "cell_type": "code",
     "collapsed": false,
     "input": [
      "import pickle\n",
      "import networkx as nx\n",
      "import graph_filtering as gf\n",
      "import graph_utils as gu\n",
      "reload(gf)\n",
      "\n",
      "%matplotlib tk\n",
      "rcParams['figure.figsize'] = 12, 8"
     ],
     "language": "python",
     "metadata": {},
     "outputs": [],
     "prompt_number": 2
    },
    {
     "cell_type": "code",
     "collapsed": false,
     "input": [
      "annotations = pickle.load(file('/homedtic/gkoduri/workspace/relation-extraction/data/annotations.pickle'))\n",
      "fname = '/homedtic/gkoduri/workspace/relation-extraction/data/carnatic_cocitation.graphml'\n",
      "g = nx.read_graphml(fname, node_type=unicode)\n",
      "print g.number_of_nodes(), g.number_of_edges()"
     ],
     "language": "python",
     "metadata": {},
     "outputs": [
      {
       "output_type": "stream",
       "stream": "stdout",
       "text": [
        "884 25688\n"
       ]
      }
     ],
     "prompt_number": 5
    },
    {
     "cell_type": "code",
     "collapsed": false,
     "input": [
      "g = gu.filter_edgeweight(g, 0.25, weight_type=\"similarity\")\n",
      "print g.number_of_nodes(), g.number_of_edges()"
     ],
     "language": "python",
     "metadata": {},
     "outputs": [
      {
       "output_type": "stream",
       "stream": "stdout",
       "text": [
        "884 5722\n"
       ]
      }
     ],
     "prompt_number": 6
    },
    {
     "cell_type": "code",
     "collapsed": false,
     "input": [
      "wg = gf.WikiGraph(g, annotations)"
     ],
     "language": "python",
     "metadata": {},
     "outputs": [],
     "prompt_number": 7
    },
    {
     "cell_type": "code",
     "collapsed": false,
     "input": [
      "res = wg.evaluate_seedset_methods()"
     ],
     "language": "python",
     "metadata": {},
     "outputs": [
      {
       "output_type": "stream",
       "stream": "stdout",
       "text": [
        "susarla dakshinamurthi not in annotations\n",
        "susarla dakshinamurthi"
       ]
      },
      {
       "output_type": "stream",
       "stream": "stdout",
       "text": [
        " not in annotations\n",
        "susarla dakshinamurthi"
       ]
      },
      {
       "output_type": "stream",
       "stream": "stdout",
       "text": [
        " not in annotations\n",
        "susarla dakshinamurthi"
       ]
      },
      {
       "output_type": "stream",
       "stream": "stdout",
       "text": [
        " not in annotations\n",
        "susarla dakshinamurthi"
       ]
      },
      {
       "output_type": "stream",
       "stream": "stdout",
       "text": [
        " not in annotations\n",
        "t. r. rajakumari not in annotations\n",
        "susarla dakshinamurthi"
       ]
      },
      {
       "output_type": "stream",
       "stream": "stdout",
       "text": [
        " not in annotations\n",
        "susarla dakshinamurthi"
       ]
      },
      {
       "output_type": "stream",
       "stream": "stdout",
       "text": [
        " not in annotations\n",
        "susarla dakshinamurthi"
       ]
      },
      {
       "output_type": "stream",
       "stream": "stdout",
       "text": [
        " not in annotations\n",
        "t. r. rajakumari not in annotations\n",
        "susarla dakshinamurthi"
       ]
      },
      {
       "output_type": "stream",
       "stream": "stdout",
       "text": [
        " not in annotations\n",
        "susarla dakshinamurthi"
       ]
      },
      {
       "output_type": "stream",
       "stream": "stdout",
       "text": [
        " not in annotations\n",
        "susarla dakshinamurthi"
       ]
      },
      {
       "output_type": "stream",
       "stream": "stdout",
       "text": [
        " not in annotations\n",
        "t. r. rajakumari not in annotations\n",
        "susarla dakshinamurthi"
       ]
      },
      {
       "output_type": "stream",
       "stream": "stdout",
       "text": [
        " not in annotations\n",
        "t. r. rajakumari not in annotations\n"
       ]
      }
     ],
     "prompt_number": 8
    },
    {
     "cell_type": "code",
     "collapsed": false,
     "input": [
      "plot(res[\"x\"], res[\"pagerank_reach\"], \"r-\", marker=\"o\", label=\"pagerank\")\n",
      "plot(res[\"x\"], res[\"eig_reach\"], \"g-\", marker=\"o\", label=\"eigenvector centrality\")\n",
      "plot(res[\"x\"], res[\"outdegree_reach\"], \"b-\", marker=\"o\", label=\"outdegree centrality\")\n",
      "legend()\n",
      "xlabel(\"Size of the seedset\")\n",
      "ylabel(\"Reach\")"
     ],
     "language": "python",
     "metadata": {},
     "outputs": [
      {
       "metadata": {},
       "output_type": "pyout",
       "prompt_number": 11,
       "text": [
        "<matplotlib.text.Text at 0x4d56090>"
       ]
      }
     ],
     "prompt_number": 11
    },
    {
     "cell_type": "code",
     "collapsed": false,
     "input": [
      "figure()\n",
      "plot(res[\"x\"], res[\"pagerank_balance\"], \"r-\", marker=\"o\", label=\"pagerank\")\n",
      "plot(res[\"x\"], res[\"eig_balance\"], \"g-\", marker=\"o\", label=\"eigenvector centrality\")\n",
      "plot(res[\"x\"], res[\"outdegree_balance\"], \"b-\", marker=\"o\", label=\"outdegree centrality\")\n",
      "legend()\n",
      "xlabel(\"Size of the seedset\")\n",
      "ylabel(\"Balance between pos/neg chunks\")"
     ],
     "language": "python",
     "metadata": {},
     "outputs": [
      {
       "metadata": {},
       "output_type": "pyout",
       "prompt_number": 12,
       "text": [
        "<matplotlib.text.Text at 0x4261290>"
       ]
      }
     ],
     "prompt_number": 12
    },
    {
     "cell_type": "markdown",
     "metadata": {},
     "source": [
      "####Performance of the seedset selection methods"
     ]
    },
    {
     "cell_type": "code",
     "collapsed": false,
     "input": [
      "wg.seedset_method = \"pagerank\"\n",
      "pagerank_res = wg.vary_parameter(\"seedset_size\", np.arange(20, 200, 20))"
     ],
     "language": "python",
     "metadata": {},
     "outputs": [
      {
       "output_type": "stream",
       "stream": "stdout",
       "text": [
        "\n",
        "        Run configuration:\n",
        "        seedset size: 20,\n",
        "        seedset method: pagerank,\n",
        "        trust propagation method: dampening,\n",
        "        trust propagation depth: 3,\n",
        "        trust propagation damp factor: 0.850000,\n",
        "        trust propagation split factor: num_edges,\n",
        "        min. community size: 10,\n",
        "        no. of expansion steps: 1\n",
        "        \n",
        "seedset selected."
       ]
      },
      {
       "output_type": "stream",
       "stream": "stdout",
       "text": [
        "\n",
        "trusts set for seedset.\n",
        "step.1 of expanding seedset (trust prop) is done."
       ]
      },
      {
       "output_type": "stream",
       "stream": "stdout",
       "text": [
        "\n",
        "\n",
        "        Run configuration:\n",
        "        seedset size: 40,\n",
        "        seedset method: pagerank,\n",
        "        trust propagation method: dampening,\n",
        "        trust propagation depth: 3,\n",
        "        trust propagation damp factor: 0.850000,\n",
        "        trust propagation split factor: num_edges,\n",
        "        min. community size: 10,\n",
        "        no. of expansion steps: 1\n",
        "        "
       ]
      },
      {
       "output_type": "stream",
       "stream": "stdout",
       "text": [
        "\n",
        "seedset selected."
       ]
      },
      {
       "output_type": "stream",
       "stream": "stdout",
       "text": [
        "\n",
        "trusts set for seedset.\n",
        "step.1 of expanding seedset (trust prop) is done."
       ]
      },
      {
       "output_type": "stream",
       "stream": "stdout",
       "text": [
        "\n",
        "\n",
        "        Run configuration:\n",
        "        seedset size: 60,\n",
        "        seedset method: pagerank,\n",
        "        trust propagation method: dampening,\n",
        "        trust propagation depth: 3,\n",
        "        trust propagation damp factor: 0.850000,\n",
        "        trust propagation split factor: num_edges,\n",
        "        min. community size: 10,\n",
        "        no. of expansion steps: 1\n",
        "        "
       ]
      },
      {
       "output_type": "stream",
       "stream": "stdout",
       "text": [
        "\n",
        "seedset selected."
       ]
      },
      {
       "output_type": "stream",
       "stream": "stdout",
       "text": [
        "\n",
        "trusts set for seedset.\n",
        "step.1 of expanding seedset (trust prop) is done."
       ]
      },
      {
       "output_type": "stream",
       "stream": "stdout",
       "text": [
        "\n",
        "\n",
        "        Run configuration:\n",
        "        seedset size: 80,\n",
        "        seedset method: pagerank,\n",
        "        trust propagation method: dampening,\n",
        "        trust propagation depth: 3,\n",
        "        trust propagation damp factor: 0.850000,\n",
        "        trust propagation split factor: num_edges,\n",
        "        min. community size: 10,\n",
        "        no. of expansion steps: 1\n",
        "        "
       ]
      },
      {
       "output_type": "stream",
       "stream": "stdout",
       "text": [
        "\n",
        "seedset selected."
       ]
      },
      {
       "output_type": "stream",
       "stream": "stdout",
       "text": [
        "\n",
        "trusts set for seedset.\n",
        "step.1 of expanding seedset (trust prop) is done."
       ]
      },
      {
       "output_type": "stream",
       "stream": "stdout",
       "text": [
        "\n",
        "\n",
        "        Run configuration:\n",
        "        seedset size: 100,\n",
        "        seedset method: pagerank,\n",
        "        trust propagation method: dampening,\n",
        "        trust propagation depth: 3,\n",
        "        trust propagation damp factor: 0.850000,\n",
        "        trust propagation split factor: num_edges,\n",
        "        min. community size: 10,\n",
        "        no. of expansion steps: 1\n",
        "        "
       ]
      },
      {
       "output_type": "stream",
       "stream": "stdout",
       "text": [
        "\n",
        "seedset selected."
       ]
      },
      {
       "output_type": "stream",
       "stream": "stdout",
       "text": [
        "\n",
        "trusts set for seedset.\n",
        "step.1 of expanding seedset (trust prop) is done."
       ]
      },
      {
       "output_type": "stream",
       "stream": "stdout",
       "text": [
        "\n",
        "\n",
        "        Run configuration:\n",
        "        seedset size: 120,\n",
        "        seedset method: pagerank,\n",
        "        trust propagation method: dampening,\n",
        "        trust propagation depth: 3,\n",
        "        trust propagation damp factor: 0.850000,\n",
        "        trust propagation split factor: num_edges,\n",
        "        min. community size: 10,\n",
        "        no. of expansion steps: 1\n",
        "        "
       ]
      },
      {
       "output_type": "stream",
       "stream": "stdout",
       "text": [
        "\n",
        "seedset selected."
       ]
      },
      {
       "output_type": "stream",
       "stream": "stdout",
       "text": [
        "\n",
        "trusts set for seedset.\n",
        "step.1 of expanding seedset (trust prop) is done."
       ]
      },
      {
       "output_type": "stream",
       "stream": "stdout",
       "text": [
        "\n",
        "\n",
        "        Run configuration:\n",
        "        seedset size: 140,\n",
        "        seedset method: pagerank,\n",
        "        trust propagation method: dampening,\n",
        "        trust propagation depth: 3,\n",
        "        trust propagation damp factor: 0.850000,\n",
        "        trust propagation split factor: num_edges,\n",
        "        min. community size: 10,\n",
        "        no. of expansion steps: 1\n",
        "        "
       ]
      },
      {
       "output_type": "stream",
       "stream": "stdout",
       "text": [
        "\n",
        "susarla dakshinamurthi"
       ]
      },
      {
       "output_type": "stream",
       "stream": "stdout",
       "text": [
        " not in annotations\n",
        "seedset selected.\n",
        "trusts set for seedset.\n",
        "step.1 of expanding seedset (trust prop) is done."
       ]
      },
      {
       "output_type": "stream",
       "stream": "stdout",
       "text": [
        "\n",
        "\n",
        "        Run configuration:\n",
        "        seedset size: 160,\n",
        "        seedset method: pagerank,\n",
        "        trust propagation method: dampening,\n",
        "        trust propagation depth: 3,\n",
        "        trust propagation damp factor: 0.850000,\n",
        "        trust propagation split factor: num_edges,\n",
        "        min. community size: 10,\n",
        "        no. of expansion steps: 1\n",
        "        "
       ]
      },
      {
       "output_type": "stream",
       "stream": "stdout",
       "text": [
        "\n",
        "susarla dakshinamurthi"
       ]
      },
      {
       "output_type": "stream",
       "stream": "stdout",
       "text": [
        " not in annotations\n",
        "seedset selected.\n",
        "trusts set for seedset.\n",
        "step.1 of expanding seedset (trust prop) is done."
       ]
      },
      {
       "output_type": "stream",
       "stream": "stdout",
       "text": [
        "\n",
        "\n",
        "        Run configuration:\n",
        "        seedset size: 180,\n",
        "        seedset method: pagerank,\n",
        "        trust propagation method: dampening,\n",
        "        trust propagation depth: 3,\n",
        "        trust propagation damp factor: 0.850000,\n",
        "        trust propagation split factor: num_edges,\n",
        "        min. community size: 10,\n",
        "        no. of expansion steps: 1\n",
        "        "
       ]
      },
      {
       "output_type": "stream",
       "stream": "stdout",
       "text": [
        "\n",
        "susarla dakshinamurthi"
       ]
      },
      {
       "output_type": "stream",
       "stream": "stdout",
       "text": [
        " not in annotations\n",
        "seedset selected.\n",
        "trusts set for seedset.\n",
        "step.1 of expanding seedset (trust prop) is done."
       ]
      },
      {
       "output_type": "stream",
       "stream": "stdout",
       "text": [
        "\n"
       ]
      }
     ],
     "prompt_number": 13
    },
    {
     "cell_type": "code",
     "collapsed": false,
     "input": [
      "from scipy.ndimage.filters import gaussian_filter\n",
      "sf = 1"
     ],
     "language": "python",
     "metadata": {},
     "outputs": [],
     "prompt_number": 26
    },
    {
     "cell_type": "code",
     "collapsed": false,
     "input": [
      "fig = figure()\n",
      "ax = fig.add_subplot(1,1,1)\n",
      "plot(pagerank_res[\"x\"], gaussian_filter(pagerank_res[\"precisions\"], sf), \"r--\", marker=\"o\", label=\"Precision\")\n",
      "plot(pagerank_res[\"x\"], gaussian_filter(pagerank_res[\"recalls\"], sf), \"r-.\", marker=\"o\", label=\"Recall\")\n",
      "plot(pagerank_res[\"x\"], gaussian_filter(pagerank_res[\"f_measures\"], sf), \"r-\", marker=\"o\", label=\"F measure\")\n",
      "#plot(pagerank_res[\"x\"], gaussian_filter(pagerank_res[\"pos_node_reach\"], sf), \"r.\", label=\"Positive node reach\")\n",
      "\n",
      "#xlabel(\"Size of the seedset\")\n",
      "#title(\"Pagerank\")"
     ],
     "language": "python",
     "metadata": {},
     "outputs": [
      {
       "metadata": {},
       "output_type": "pyout",
       "prompt_number": 27,
       "text": [
        "[<matplotlib.lines.Line2D at 0x4715350>]"
       ]
      }
     ],
     "prompt_number": 27
    },
    {
     "cell_type": "code",
     "collapsed": false,
     "input": [
      "wg.seedset_method = \"eig\"\n",
      "eig_res = wg.vary_parameter(\"seedset_size\", np.arange(20, 200, 20))"
     ],
     "language": "python",
     "metadata": {},
     "outputs": [
      {
       "output_type": "stream",
       "stream": "stdout",
       "text": [
        "\n",
        "        Run configuration:\n",
        "        seedset size: 20,\n",
        "        seedset method: eig,\n",
        "        trust propagation method: dampening,\n",
        "        trust propagation depth: 3,\n",
        "        trust propagation damp factor: 0.850000,\n",
        "        trust propagation split factor: num_edges,\n",
        "        min. community size: 10,\n",
        "        no. of expansion steps: 1\n",
        "        \n",
        "seedset selected."
       ]
      },
      {
       "output_type": "stream",
       "stream": "stdout",
       "text": [
        "\n",
        "trusts set for seedset.\n",
        "step.1 of expanding seedset (trust prop) is done."
       ]
      },
      {
       "output_type": "stream",
       "stream": "stdout",
       "text": [
        "\n",
        "\n",
        "        Run configuration:\n",
        "        seedset size: 40,\n",
        "        seedset method: eig,\n",
        "        trust propagation method: dampening,\n",
        "        trust propagation depth: 3,\n",
        "        trust propagation damp factor: 0.850000,\n",
        "        trust propagation split factor: num_edges,\n",
        "        min. community size: 10,\n",
        "        no. of expansion steps: 1\n",
        "        "
       ]
      },
      {
       "output_type": "stream",
       "stream": "stdout",
       "text": [
        "\n",
        "seedset selected."
       ]
      },
      {
       "output_type": "stream",
       "stream": "stdout",
       "text": [
        "\n",
        "trusts set for seedset.\n",
        "step.1 of expanding seedset (trust prop) is done."
       ]
      },
      {
       "output_type": "stream",
       "stream": "stdout",
       "text": [
        "\n",
        "\n",
        "        Run configuration:\n",
        "        seedset size: 60,\n",
        "        seedset method: eig,\n",
        "        trust propagation method: dampening,\n",
        "        trust propagation depth: 3,\n",
        "        trust propagation damp factor: 0.850000,\n",
        "        trust propagation split factor: num_edges,\n",
        "        min. community size: 10,\n",
        "        no. of expansion steps: 1\n",
        "        "
       ]
      },
      {
       "output_type": "stream",
       "stream": "stdout",
       "text": [
        "\n",
        "seedset selected."
       ]
      },
      {
       "output_type": "stream",
       "stream": "stdout",
       "text": [
        "\n",
        "trusts set for seedset.\n",
        "step.1 of expanding seedset (trust prop) is done."
       ]
      },
      {
       "output_type": "stream",
       "stream": "stdout",
       "text": [
        "\n",
        "\n",
        "        Run configuration:\n",
        "        seedset size: 80,\n",
        "        seedset method: eig,\n",
        "        trust propagation method: dampening,\n",
        "        trust propagation depth: 3,\n",
        "        trust propagation damp factor: 0.850000,\n",
        "        trust propagation split factor: num_edges,\n",
        "        min. community size: 10,\n",
        "        no. of expansion steps: 1\n",
        "        "
       ]
      },
      {
       "output_type": "stream",
       "stream": "stdout",
       "text": [
        "\n",
        "seedset selected."
       ]
      },
      {
       "output_type": "stream",
       "stream": "stdout",
       "text": [
        "\n",
        "trusts set for seedset.\n",
        "step.1 of expanding seedset (trust prop) is done."
       ]
      },
      {
       "output_type": "stream",
       "stream": "stdout",
       "text": [
        "\n",
        "\n",
        "        Run configuration:\n",
        "        seedset size: 100,\n",
        "        seedset method: eig,\n",
        "        trust propagation method: dampening,\n",
        "        trust propagation depth: 3,\n",
        "        trust propagation damp factor: 0.850000,\n",
        "        trust propagation split factor: num_edges,\n",
        "        min. community size: 10,\n",
        "        no. of expansion steps: 1\n",
        "        "
       ]
      },
      {
       "output_type": "stream",
       "stream": "stdout",
       "text": [
        "\n",
        "susarla dakshinamurthi"
       ]
      },
      {
       "output_type": "stream",
       "stream": "stdout",
       "text": [
        " not in annotations\n",
        "seedset selected.\n",
        "trusts set for seedset.\n",
        "step.1 of expanding seedset (trust prop) is done."
       ]
      },
      {
       "output_type": "stream",
       "stream": "stdout",
       "text": [
        "\n",
        "\n",
        "        Run configuration:\n",
        "        seedset size: 120,\n",
        "        seedset method: eig,\n",
        "        trust propagation method: dampening,\n",
        "        trust propagation depth: 3,\n",
        "        trust propagation damp factor: 0.850000,\n",
        "        trust propagation split factor: num_edges,\n",
        "        min. community size: 10,\n",
        "        no. of expansion steps: 1\n",
        "        "
       ]
      },
      {
       "output_type": "stream",
       "stream": "stdout",
       "text": [
        "\n",
        "susarla dakshinamurthi"
       ]
      },
      {
       "output_type": "stream",
       "stream": "stdout",
       "text": [
        " not in annotations\n",
        "seedset selected.\n",
        "trusts set for seedset.\n",
        "step.1 of expanding seedset (trust prop) is done."
       ]
      },
      {
       "output_type": "stream",
       "stream": "stdout",
       "text": [
        "\n",
        "\n",
        "        Run configuration:\n",
        "        seedset size: 140,\n",
        "        seedset method: eig,\n",
        "        trust propagation method: dampening,\n",
        "        trust propagation depth: 3,\n",
        "        trust propagation damp factor: 0.850000,\n",
        "        trust propagation split factor: num_edges,\n",
        "        min. community size: 10,\n",
        "        no. of expansion steps: 1\n",
        "        "
       ]
      },
      {
       "output_type": "stream",
       "stream": "stdout",
       "text": [
        "\n",
        "susarla dakshinamurthi"
       ]
      },
      {
       "output_type": "stream",
       "stream": "stdout",
       "text": [
        " not in annotations\n",
        "t. r. rajakumari not in annotations\n",
        "seedset selected.\n",
        "trusts set for seedset.\n",
        "step.1 of expanding seedset (trust prop) is done."
       ]
      },
      {
       "output_type": "stream",
       "stream": "stdout",
       "text": [
        "\n",
        "\n",
        "        Run configuration:\n",
        "        seedset size: 160,\n",
        "        seedset method: eig,\n",
        "        trust propagation method: dampening,\n",
        "        trust propagation depth: 3,\n",
        "        trust propagation damp factor: 0.850000,\n",
        "        trust propagation split factor: num_edges,\n",
        "        min. community size: 10,\n",
        "        no. of expansion steps: 1\n",
        "        "
       ]
      },
      {
       "output_type": "stream",
       "stream": "stdout",
       "text": [
        "\n",
        "susarla dakshinamurthi"
       ]
      },
      {
       "output_type": "stream",
       "stream": "stdout",
       "text": [
        " not in annotations\n",
        "t. r. rajakumari not in annotations\n",
        "seedset selected.\n",
        "trusts set for seedset.\n",
        "step.1 of expanding seedset (trust prop) is done."
       ]
      },
      {
       "output_type": "stream",
       "stream": "stdout",
       "text": [
        "\n",
        "\n",
        "        Run configuration:\n",
        "        seedset size: 180,\n",
        "        seedset method: eig,\n",
        "        trust propagation method: dampening,\n",
        "        trust propagation depth: 3,\n",
        "        trust propagation damp factor: 0.850000,\n",
        "        trust propagation split factor: num_edges,\n",
        "        min. community size: 10,\n",
        "        no. of expansion steps: 1\n",
        "        "
       ]
      },
      {
       "output_type": "stream",
       "stream": "stdout",
       "text": [
        "\n",
        "susarla dakshinamurthi"
       ]
      },
      {
       "output_type": "stream",
       "stream": "stdout",
       "text": [
        " not in annotations\n",
        "t. r. rajakumari not in annotations\n",
        "seedset selected.\n",
        "trusts set for seedset.\n",
        "step.1 of expanding seedset (trust prop) is done."
       ]
      },
      {
       "output_type": "stream",
       "stream": "stdout",
       "text": [
        "\n"
       ]
      }
     ],
     "prompt_number": 16
    },
    {
     "cell_type": "code",
     "collapsed": false,
     "input": [
      "plot(eig_res[\"x\"], gaussian_filter(eig_res[\"precisions\"], sf), \"g--\", marker=\"o\", label=\"Precision\")\n",
      "plot(eig_res[\"x\"], gaussian_filter(eig_res[\"recalls\"], sf), \"g-.\", marker=\"o\", label=\"Recall\")\n",
      "plot(eig_res[\"x\"], gaussian_filter(eig_res[\"f_measures\"], sf), \"g-\", marker=\"o\", label=\"F measure\")\n",
      "#plot(eig_res[\"x\"], gaussian_filter(eig_res[\"pos_node_reach\"], sf), \"g.\", label=\"Positive node reach\")\n",
      "\n",
      "#xlabel(\"Size of the seedset\")\n",
      "#title(\"Eig\")"
     ],
     "language": "python",
     "metadata": {},
     "outputs": [
      {
       "metadata": {},
       "output_type": "pyout",
       "prompt_number": 28,
       "text": [
        "[<matplotlib.lines.Line2D at 0x4700b50>]"
       ]
      }
     ],
     "prompt_number": 28
    },
    {
     "cell_type": "code",
     "collapsed": false,
     "input": [
      "wg.seedset_method = \"outdegree\"\n",
      "outdegree_res = wg.vary_parameter(\"seedset_size\", np.arange(20, 200, 20))"
     ],
     "language": "python",
     "metadata": {},
     "outputs": [
      {
       "output_type": "stream",
       "stream": "stdout",
       "text": [
        "\n",
        "        Run configuration:\n",
        "        seedset size: 20,\n",
        "        seedset method: outdegree,\n",
        "        trust propagation method: dampening,\n",
        "        trust propagation depth: 3,\n",
        "        trust propagation damp factor: 0.850000,\n",
        "        trust propagation split factor: num_edges,\n",
        "        min. community size: 10,\n",
        "        no. of expansion steps: 1\n",
        "        \n",
        "seedset selected.\n",
        "trusts set for seedset.\n",
        "step.1 of expanding seedset (trust prop) is done."
       ]
      },
      {
       "output_type": "stream",
       "stream": "stdout",
       "text": [
        "\n",
        "\n",
        "        Run configuration:\n",
        "        seedset size: 40,\n",
        "        seedset method: outdegree,\n",
        "        trust propagation method: dampening,\n",
        "        trust propagation depth: 3,\n",
        "        trust propagation damp factor: 0.850000,\n",
        "        trust propagation split factor: num_edges,\n",
        "        min. community size: 10,\n",
        "        no. of expansion steps: 1\n",
        "        "
       ]
      },
      {
       "output_type": "stream",
       "stream": "stdout",
       "text": [
        "\n",
        "seedset selected.\n",
        "trusts set for seedset.\n",
        "step.1 of expanding seedset (trust prop) is done."
       ]
      },
      {
       "output_type": "stream",
       "stream": "stdout",
       "text": [
        "\n",
        "\n",
        "        Run configuration:\n",
        "        seedset size: 60,\n",
        "        seedset method: outdegree,\n",
        "        trust propagation method: dampening,\n",
        "        trust propagation depth: 3,\n",
        "        trust propagation damp factor: 0.850000,\n",
        "        trust propagation split factor: num_edges,\n",
        "        min. community size: 10,\n",
        "        no. of expansion steps: 1\n",
        "        "
       ]
      },
      {
       "output_type": "stream",
       "stream": "stdout",
       "text": [
        "\n",
        "seedset selected.\n",
        "trusts set for seedset.\n",
        "step.1 of expanding seedset (trust prop) is done."
       ]
      },
      {
       "output_type": "stream",
       "stream": "stdout",
       "text": [
        "\n",
        "\n",
        "        Run configuration:\n",
        "        seedset size: 80,\n",
        "        seedset method: outdegree,\n",
        "        trust propagation method: dampening,\n",
        "        trust propagation depth: 3,\n",
        "        trust propagation damp factor: 0.850000,\n",
        "        trust propagation split factor: num_edges,\n",
        "        min. community size: 10,\n",
        "        no. of expansion steps: 1\n",
        "        "
       ]
      },
      {
       "output_type": "stream",
       "stream": "stdout",
       "text": [
        "\n",
        "seedset selected.\n",
        "trusts set for seedset.\n",
        "step.1 of expanding seedset (trust prop) is done."
       ]
      },
      {
       "output_type": "stream",
       "stream": "stdout",
       "text": [
        "\n",
        "\n",
        "        Run configuration:\n",
        "        seedset size: 100,\n",
        "        seedset method: outdegree,\n",
        "        trust propagation method: dampening,\n",
        "        trust propagation depth: 3,\n",
        "        trust propagation damp factor: 0.850000,\n",
        "        trust propagation split factor: num_edges,\n",
        "        min. community size: 10,\n",
        "        no. of expansion steps: 1\n",
        "        "
       ]
      },
      {
       "output_type": "stream",
       "stream": "stdout",
       "text": [
        "\n",
        "seedset selected.\n",
        "trusts set for seedset.\n",
        "step.1 of expanding seedset (trust prop) is done."
       ]
      },
      {
       "output_type": "stream",
       "stream": "stdout",
       "text": [
        "\n",
        "\n",
        "        Run configuration:\n",
        "        seedset size: 120,\n",
        "        seedset method: outdegree,\n",
        "        trust propagation method: dampening,\n",
        "        trust propagation depth: 3,\n",
        "        trust propagation damp factor: 0.850000,\n",
        "        trust propagation split factor: num_edges,\n",
        "        min. community size: 10,\n",
        "        no. of expansion steps: 1\n",
        "        "
       ]
      },
      {
       "output_type": "stream",
       "stream": "stdout",
       "text": [
        "\n",
        "susarla dakshinamurthi not in annotations\n",
        "seedset selected.\n",
        "trusts set for seedset.\n",
        "step.1 of expanding seedset (trust prop) is done."
       ]
      },
      {
       "output_type": "stream",
       "stream": "stdout",
       "text": [
        "\n",
        "\n",
        "        Run configuration:\n",
        "        seedset size: 140,\n",
        "        seedset method: outdegree,\n",
        "        trust propagation method: dampening,\n",
        "        trust propagation depth: 3,\n",
        "        trust propagation damp factor: 0.850000,\n",
        "        trust propagation split factor: num_edges,\n",
        "        min. community size: 10,\n",
        "        no. of expansion steps: 1\n",
        "        "
       ]
      },
      {
       "output_type": "stream",
       "stream": "stdout",
       "text": [
        "\n",
        "susarla dakshinamurthi not in annotations\n",
        "seedset selected.\n",
        "trusts set for seedset.\n",
        "step.1 of expanding seedset (trust prop) is done."
       ]
      },
      {
       "output_type": "stream",
       "stream": "stdout",
       "text": [
        "\n",
        "\n",
        "        Run configuration:\n",
        "        seedset size: 160,\n",
        "        seedset method: outdegree,\n",
        "        trust propagation method: dampening,\n",
        "        trust propagation depth: 3,\n",
        "        trust propagation damp factor: 0.850000,\n",
        "        trust propagation split factor: num_edges,\n",
        "        min. community size: 10,\n",
        "        no. of expansion steps: 1\n",
        "        "
       ]
      },
      {
       "output_type": "stream",
       "stream": "stdout",
       "text": [
        "\n",
        "susarla dakshinamurthi not in annotations\n",
        "seedset selected.\n",
        "trusts set for seedset.\n",
        "step.1 of expanding seedset (trust prop) is done."
       ]
      },
      {
       "output_type": "stream",
       "stream": "stdout",
       "text": [
        "\n",
        "\n",
        "        Run configuration:\n",
        "        seedset size: 180,\n",
        "        seedset method: outdegree,\n",
        "        trust propagation method: dampening,\n",
        "        trust propagation depth: 3,\n",
        "        trust propagation damp factor: 0.850000,\n",
        "        trust propagation split factor: num_edges,\n",
        "        min. community size: 10,\n",
        "        no. of expansion steps: 1\n",
        "        "
       ]
      },
      {
       "output_type": "stream",
       "stream": "stdout",
       "text": [
        "\n",
        "susarla dakshinamurthi not in annotations\n",
        "t. r. rajakumari not in annotations\n",
        "seedset selected.\n",
        "trusts set for seedset.\n",
        "step.1 of expanding seedset (trust prop) is done."
       ]
      },
      {
       "output_type": "stream",
       "stream": "stdout",
       "text": [
        "\n"
       ]
      }
     ],
     "prompt_number": 18
    },
    {
     "cell_type": "code",
     "collapsed": false,
     "input": [
      "plot(outdegree_res[\"x\"], gaussian_filter(outdegree_res[\"precisions\"], sf), \"b--\", marker=\"o\", label=\"Precision\")\n",
      "plot(outdegree_res[\"x\"], gaussian_filter(outdegree_res[\"recalls\"], sf), \"b-.\", marker=\"o\", label=\"Recall\")\n",
      "plot(outdegree_res[\"x\"], gaussian_filter(outdegree_res[\"f_measures\"], sf), \"b-\", marker=\"o\", label=\"F measure\")\n",
      "#plot(outdegree_res[\"x\"], gaussian_filter(outdegree_res[\"pos_node_reach\"], sf), \"b.\", label=\"Positive node reach\")\n",
      "\n",
      "xlabel(\"Size of the seedset\")"
     ],
     "language": "python",
     "metadata": {},
     "outputs": [
      {
       "metadata": {},
       "output_type": "pyout",
       "prompt_number": 29,
       "text": [
        "<matplotlib.text.Text at 0x6d77d50>"
       ]
      }
     ],
     "prompt_number": 29
    },
    {
     "cell_type": "code",
     "collapsed": false,
     "input": [
      "#Get artists and labels for legend and chose which ones to display\n",
      "handles, labels = ax.get_legend_handles_labels()\n",
      "display = (2, 5, 8)\n",
      "\n",
      "#Create custom artists\n",
      "precision = plt.Line2D((0,1),(0,0), color='k', linestyle='--')\n",
      "recall = plt.Line2D((0,1),(0,0), color='k', linestyle='-.')\n",
      "f_measure = plt.Line2D((0,1),(0,0), color='k', linestyle='-')\n",
      "\n",
      "#Create legend from custom artist/label lists\n",
      "ax.legend([handle for i,handle in enumerate(handles) if i in display]+[precision, recall, f_measure],\n",
      "          ['Pagerank', 'Eig', 'Outdegree'] + ['Precision', 'Recall', 'F Measure'])"
     ],
     "language": "python",
     "metadata": {},
     "outputs": [
      {
       "metadata": {},
       "output_type": "pyout",
       "prompt_number": 30,
       "text": [
        "<matplotlib.legend.Legend at 0x67be350>"
       ]
      }
     ],
     "prompt_number": 30
    },
    {
     "cell_type": "code",
     "collapsed": false,
     "input": [
      "draw()"
     ],
     "language": "python",
     "metadata": {},
     "outputs": [],
     "prompt_number": 31
    },
    {
     "cell_type": "markdown",
     "metadata": {},
     "source": [
      "###Trust propagation methods"
     ]
    },
    {
     "cell_type": "markdown",
     "metadata": {},
     "source": [
      "####Dampening method"
     ]
    },
    {
     "cell_type": "code",
     "collapsed": false,
     "input": [
      "wg = gf.WikiGraph(g, annotations)\n",
      "wg.seedset_method = \"pagerank\"\n",
      "wg.prop_method = \"dampening\"\n",
      "wg.prop_depth = 3\n",
      "wg.seedset_size = 70"
     ],
     "language": "python",
     "metadata": {},
     "outputs": [],
     "prompt_number": 32
    },
    {
     "cell_type": "code",
     "collapsed": false,
     "input": [
      "res = wg.vary_parameter(\"damp_factor\", np.arange(0.1, 0.95, 0.2))"
     ],
     "language": "python",
     "metadata": {},
     "outputs": [
      {
       "output_type": "stream",
       "stream": "stdout",
       "text": [
        "\n",
        "        Run configuration:\n",
        "        seedset size: 70,\n",
        "        seedset method: pagerank,\n",
        "        trust propagation method: dampening,\n",
        "        trust propagation depth: 3,\n",
        "        trust propagation damp factor: 0.100000,\n",
        "        trust propagation split factor: num_edges,\n",
        "        min. community size: 10,\n",
        "        no. of expansion steps: 1\n",
        "        \n",
        "seedset selected."
       ]
      },
      {
       "output_type": "stream",
       "stream": "stdout",
       "text": [
        "\n",
        "trusts set for seedset.\n",
        "step.1 of expanding seedset (trust prop) is done."
       ]
      },
      {
       "output_type": "stream",
       "stream": "stdout",
       "text": [
        "\n",
        "\n",
        "        Run configuration:\n",
        "        seedset size: 70,\n",
        "        seedset method: pagerank,\n",
        "        trust propagation method: dampening,\n",
        "        trust propagation depth: 3,\n",
        "        trust propagation damp factor: 0.300000,\n",
        "        trust propagation split factor: num_edges,\n",
        "        min. community size: 10,\n",
        "        no. of expansion steps: 1\n",
        "        "
       ]
      },
      {
       "output_type": "stream",
       "stream": "stdout",
       "text": [
        "\n",
        "seedset selected."
       ]
      },
      {
       "output_type": "stream",
       "stream": "stdout",
       "text": [
        "\n",
        "trusts set for seedset.\n",
        "step.1 of expanding seedset (trust prop) is done."
       ]
      },
      {
       "output_type": "stream",
       "stream": "stdout",
       "text": [
        "\n",
        "\n",
        "        Run configuration:\n",
        "        seedset size: 70,\n",
        "        seedset method: pagerank,\n",
        "        trust propagation method: dampening,\n",
        "        trust propagation depth: 3,\n",
        "        trust propagation damp factor: 0.500000,\n",
        "        trust propagation split factor: num_edges,\n",
        "        min. community size: 10,\n",
        "        no. of expansion steps: 1\n",
        "        "
       ]
      },
      {
       "output_type": "stream",
       "stream": "stdout",
       "text": [
        "\n",
        "seedset selected."
       ]
      },
      {
       "output_type": "stream",
       "stream": "stdout",
       "text": [
        "\n",
        "trusts set for seedset.\n",
        "step.1 of expanding seedset (trust prop) is done."
       ]
      },
      {
       "output_type": "stream",
       "stream": "stdout",
       "text": [
        "\n",
        "\n",
        "        Run configuration:\n",
        "        seedset size: 70,\n",
        "        seedset method: pagerank,\n",
        "        trust propagation method: dampening,\n",
        "        trust propagation depth: 3,\n",
        "        trust propagation damp factor: 0.700000,\n",
        "        trust propagation split factor: num_edges,\n",
        "        min. community size: 10,\n",
        "        no. of expansion steps: 1\n",
        "        "
       ]
      },
      {
       "output_type": "stream",
       "stream": "stdout",
       "text": [
        "\n",
        "seedset selected."
       ]
      },
      {
       "output_type": "stream",
       "stream": "stdout",
       "text": [
        "\n",
        "trusts set for seedset.\n",
        "step.1 of expanding seedset (trust prop) is done."
       ]
      },
      {
       "output_type": "stream",
       "stream": "stdout",
       "text": [
        "\n",
        "\n",
        "        Run configuration:\n",
        "        seedset size: 70,\n",
        "        seedset method: pagerank,\n",
        "        trust propagation method: dampening,\n",
        "        trust propagation depth: 3,\n",
        "        trust propagation damp factor: 0.900000,\n",
        "        trust propagation split factor: num_edges,\n",
        "        min. community size: 10,\n",
        "        no. of expansion steps: 1\n",
        "        "
       ]
      },
      {
       "output_type": "stream",
       "stream": "stdout",
       "text": [
        "\n",
        "seedset selected."
       ]
      },
      {
       "output_type": "stream",
       "stream": "stdout",
       "text": [
        "\n",
        "trusts set for seedset.\n",
        "step.1 of expanding seedset (trust prop) is done."
       ]
      },
      {
       "output_type": "stream",
       "stream": "stdout",
       "text": [
        "\n"
       ]
      }
     ],
     "prompt_number": 33
    },
    {
     "cell_type": "code",
     "collapsed": false,
     "input": [
      "from scipy.ndimage.filters import gaussian_filter\n",
      "sf = 0"
     ],
     "language": "python",
     "metadata": {},
     "outputs": [],
     "prompt_number": 34
    },
    {
     "cell_type": "code",
     "collapsed": false,
     "input": [
      "fig = figure()\n",
      "ax = fig.add_subplot(1,1,1)\n",
      "plot(res[\"x\"], gaussian_filter(res[\"precisions\"], sf), \"r--\",  marker=\"o\", label=\"Precision\")\n",
      "plot(res[\"x\"], gaussian_filter(res[\"recalls\"], sf), \"r-.\",  marker=\"o\", label=\"Recall\")\n",
      "plot(res[\"x\"], gaussian_filter(res[\"f_measures\"], sf), \"r-\",  marker=\"o\", label=\"F measure\")\n",
      "xlabel(\"Damping factor\")\n",
      "legend()"
     ],
     "language": "python",
     "metadata": {},
     "outputs": [
      {
       "metadata": {},
       "output_type": "pyout",
       "prompt_number": 36,
       "text": [
        "<matplotlib.legend.Legend at 0x7737150>"
       ]
      }
     ],
     "prompt_number": 36
    },
    {
     "cell_type": "code",
     "collapsed": false,
     "input": [
      "wg = gf.WikiGraph(g, annotations)\n",
      "wg.seedset_method = \"pagerank\"\n",
      "wg.prop_method = \"dampening\"\n",
      "wg.damp_factor = 0.85\n",
      "wg.prop_depth = 3\n",
      "wg.seedset_size = 70\n",
      "wg.select_seedset()\n",
      "wg.set_trusts()\n",
      "wg.propagate_trust()\n",
      "[p, r, f] = wg.evaluate()"
     ],
     "language": "python",
     "metadata": {},
     "outputs": [],
     "prompt_number": 41
    },
    {
     "cell_type": "code",
     "collapsed": false,
     "input": [
      "print round(p, 2), round(r, 2), round(f, 2)"
     ],
     "language": "python",
     "metadata": {},
     "outputs": [
      {
       "output_type": "stream",
       "stream": "stdout",
       "text": [
        "0.82 0.73 0.77\n"
       ]
      }
     ],
     "prompt_number": 43
    },
    {
     "cell_type": "markdown",
     "metadata": {},
     "source": [
      "####Splitting method"
     ]
    },
    {
     "cell_type": "code",
     "collapsed": false,
     "input": [
      "wg = gf.WikiGraph(g, annotations)\n",
      "wg.seedset_method = \"pagerank\"\n",
      "wg.prop_method = \"splitting\"\n",
      "wg.split_with = \"num_edges\"\n",
      "wg.prop_depth = 3\n",
      "wg.seedset_size = 70\n",
      "wg.select_seedset()\n",
      "wg.set_trusts()\n",
      "wg.propagate_trust()\n",
      "[p, r, f] = wg.evaluate()"
     ],
     "language": "python",
     "metadata": {},
     "outputs": [],
     "prompt_number": 53
    },
    {
     "cell_type": "code",
     "collapsed": false,
     "input": [
      "print round(p, 2), round(r, 2), round(f, 2)"
     ],
     "language": "python",
     "metadata": {},
     "outputs": [
      {
       "output_type": "stream",
       "stream": "stdout",
       "text": [
        "0.81 0.56 0.67\n"
       ]
      }
     ],
     "prompt_number": 54
    },
    {
     "cell_type": "markdown",
     "metadata": {},
     "source": [
      "####Basic method"
     ]
    },
    {
     "cell_type": "code",
     "collapsed": false,
     "input": [
      "wg = gf.WikiGraph(g, annotations)\n",
      "wg.seedset_method = \"pagerank\"\n",
      "wg.prop_method = \"basic\"\n",
      "wg.prop_depth = 3\n",
      "wg.seedset_size = 70\n",
      "wg.select_seedset()\n",
      "wg.set_trusts()\n",
      "wg.propagate_trust()\n",
      "[p, r, f] = wg.evaluate()"
     ],
     "language": "python",
     "metadata": {},
     "outputs": [],
     "prompt_number": 55
    },
    {
     "cell_type": "code",
     "collapsed": false,
     "input": [
      "print round(p, 2), round(r, 2), round(f, 2)"
     ],
     "language": "python",
     "metadata": {},
     "outputs": [
      {
       "output_type": "stream",
       "stream": "stdout",
       "text": [
        "0.68 0.83 0.74\n"
       ]
      }
     ],
     "prompt_number": 56
    },
    {
     "cell_type": "markdown",
     "metadata": {},
     "source": [
      "###Community analysis"
     ]
    },
    {
     "cell_type": "code",
     "collapsed": false,
     "input": [
      "wg = gf.WikiGraph(g, annotations)\n",
      "wg.seedset_method = \"pagerank\"\n",
      "wg.prop_method = \"dampening\"\n",
      "wg.prop_depth = 3\n",
      "wg.seedset_size = 70\n",
      "wg.damp_factor = 0.85\n",
      "wg.min_comsize = 10\n",
      "[p, r, f] = wg.run_config(expand_steps=2)\n",
      "print round(p, 2), round(r, 2), round(f, 2)"
     ],
     "language": "python",
     "metadata": {},
     "outputs": [
      {
       "output_type": "stream",
       "stream": "stdout",
       "text": [
        "\n",
        "        Run configuration:\n",
        "        seedset size: 70,\n",
        "        seedset method: pagerank,\n",
        "        trust propagation method: dampening,\n",
        "        trust propagation depth: 3,\n",
        "        trust propagation damp factor: 0.850000,\n",
        "        trust propagation split factor: num_edges,\n",
        "        min. community size: 10,\n",
        "        no. of expansion steps: 2\n",
        "        \n",
        "seedset selected."
       ]
      },
      {
       "output_type": "stream",
       "stream": "stdout",
       "text": [
        "\n",
        "trusts set for seedset.\n",
        "step.1 of expanding seedset (trust prop) is done."
       ]
      },
      {
       "output_type": "stream",
       "stream": "stdout",
       "text": [
        "\n",
        "0.465794252556"
       ]
      },
      {
       "output_type": "stream",
       "stream": "stdout",
       "text": [
        " 0.0159340210369 0.933846436216 0 84\n",
        "0.0 0.121510723795 -1.0 1 13\n",
        "0.321012118911 0.00760241977917 0.953730472124 2 41\n",
        "0.117851130198 0.108850086046 0.0397044369716 3 20\n",
        "0.0 0.386379476067 -1.0 4 63\n",
        "0.053033008589 0.386417805463 -0.758639616116 5 80\n",
        "0.283823106099 0.0 1.0 6 29\n",
        "0.103362278824 0.143201761303 -0.161578640821 7 26\n",
        "0.0178174161275 0.238620499374 -0.861039143977 8 35\n",
        "0.145095250022 0.0781744823341 0.299730585878 9 19\n",
        "0.0 0.275371356329 -1.0 10 32\n",
        "0.0105409255339 0.214188648745 -0.906190134808 12 25\n",
        "0.128445772598 0.127109515588 0.00522883724878 13 33\n",
        "0.0 0.317971453407 -1.0 14 54\n",
        "0.189814150591 0.0834842050303 0.389061783117 15 34\n",
        "0.404831926716 0.0 1.0 18 59\n",
        "0.00978700365858 0.235027198323 -0.920045458316 19 29\n",
        "0.334147556286 0.0143547242532 0.917620485978 20 46\n",
        "0.0549971940923 0.275753551317 -0.667440240993 22 45\n",
        "0.0422577127364 0.104080589577 -0.422465450692 23 14\n",
        "0.184466196843 0.0243396191756 0.766868379055 27 16\n",
        "step.2 of expanding seedset (community analysis) is done.\n",
        "0.89"
       ]
      },
      {
       "output_type": "stream",
       "stream": "stdout",
       "text": [
        " 0.74 0.8\n"
       ]
      }
     ],
     "prompt_number": 57
    },
    {
     "cell_type": "markdown",
     "metadata": {},
     "source": [
      "###Voting"
     ]
    },
    {
     "cell_type": "code",
     "collapsed": false,
     "input": [
      "wg.vote_nodes(iterations=1, method=\"count\")"
     ],
     "language": "python",
     "metadata": {},
     "outputs": [],
     "prompt_number": 58
    },
    {
     "cell_type": "code",
     "collapsed": false,
     "input": [
      "[p, r, f] = wg.evaluate()\n",
      "print round(p, 2), round(r, 2), round(f, 2)"
     ],
     "language": "python",
     "metadata": {},
     "outputs": [
      {
       "output_type": "stream",
       "stream": "stdout",
       "text": [
        "0.89 0.97 0.92\n"
       ]
      }
     ],
     "prompt_number": 59
    },
    {
     "cell_type": "code",
     "collapsed": false,
     "input": [],
     "language": "python",
     "metadata": {},
     "outputs": []
    }
   ],
   "metadata": {}
  }
 ]
}