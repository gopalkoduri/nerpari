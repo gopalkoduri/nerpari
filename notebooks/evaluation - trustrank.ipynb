{
 "metadata": {
  "name": ""
 },
 "nbformat": 3,
 "nbformat_minor": 0,
 "worksheets": [
  {
   "cells": [
    {
     "cell_type": "code",
     "collapsed": false,
     "input": [
      "from os.path import expanduser\n",
      "home = expanduser(\"~\")\n",
      "\n",
      "from os import chdir\n",
      "chdir(home+\"/workspace/relation-extraction/src/\")"
     ],
     "language": "python",
     "metadata": {},
     "outputs": [],
     "prompt_number": 21
    },
    {
     "cell_type": "code",
     "collapsed": false,
     "input": [
      "import pickle\n",
      "import networkx as nx\n",
      "import graph_filtering as gf\n",
      "import annotator as ann\n",
      "reload(gf)\n",
      "\n",
      "import cProfile\n",
      "\n",
      "rcParams['figure.figsize'] = 12, 8"
     ],
     "language": "python",
     "metadata": {},
     "outputs": [],
     "prompt_number": 22
    },
    {
     "cell_type": "code",
     "collapsed": false,
     "input": [
      "keyword = 'jazz_music'\n",
      "\n",
      "annotations = ann.wiki_annotate(keyword, fraction_expansion=1)\n",
      "\n",
      "search_graph_file = home+'/workspace/relation-extraction/data/wiki_search/'+keyword+'_hyperlinks.graphml'\n",
      "sg = nx.read_graphml(search_graph_file, node_type=unicode)\n",
      "print sg.number_of_nodes(), sg.number_of_edges()"
     ],
     "language": "python",
     "metadata": {},
     "outputs": [
      {
       "output_type": "stream",
       "stream": "stdout",
       "text": [
        "48213 "
       ]
      },
      {
       "output_type": "stream",
       "stream": "stdout",
       "text": [
        "417976\n"
       ]
      }
     ],
     "prompt_number": 15
    },
    {
     "cell_type": "code",
     "collapsed": false,
     "input": [
      "seedsizes = np.arange(10, 60, 10).tolist() + np.arange(75, 210, 25).tolist()"
     ],
     "language": "python",
     "metadata": {},
     "outputs": [],
     "prompt_number": 6
    },
    {
     "cell_type": "heading",
     "level": 1,
     "metadata": {},
     "source": [
      "Trust-only propagation"
     ]
    },
    {
     "cell_type": "markdown",
     "metadata": {},
     "source": [
      "Run once and check the histogram of trust values to decide on the range to be investigated for the best value of threshold.\n",
      "\n",
      "**Range: 0.0001 to 0.001**"
     ]
    },
    {
     "cell_type": "code",
     "collapsed": false,
     "input": [
      "res_pagerank = {\"f\":[], \"p\": [], \"r\": []}\n",
      "\n",
      "for thresh in np.arange(0.0001, 0.0011, 0.0001):\n",
      "    wg.reset_data()\n",
      "    wg.seedset_method = \"pagerank\"\n",
      "    wg.seedset_type = \"pos\"\n",
      "    wg.seedset_size = 50\n",
      "    wg.select_seedset()\n",
      "    \n",
      "    score_index = wg.trustrank(iterations=100, alpha=0.85, trust_thresh=thresh)\n",
      "    #wg.set_trusts(score_index)\n",
      "    \n",
      "    [p, r, f] = wg.evaluate()\n",
      "    res_pagerank[\"f\"].append(f)\n",
      "    res_pagerank[\"p\"].append(p)\n",
      "    res_pagerank[\"r\"].append(r)"
     ],
     "language": "python",
     "metadata": {},
     "outputs": []
    },
    {
     "cell_type": "code",
     "collapsed": false,
     "input": [
      "trusts = [wg.graph[node][\"trust\"] for node in wg.graph.nodes_iter() if \"trust\" in wg.graph[node].keys()]\n",
      "hist(trusts, 100)"
     ],
     "language": "python",
     "metadata": {},
     "outputs": []
    },
    {
     "cell_type": "code",
     "collapsed": false,
     "input": [
      "from scipy.ndimage.filters import gaussian_filter\n",
      "sf = 1\n",
      "\n",
      "fig = figure()\n",
      "ax = fig.add_subplot(1,1,1)\n",
      "\n",
      "plot(np.arange(0.0001, 0.0011, 0.0001), gaussian_filter(res_pagerank[\"p\"], sf), \"r--\", marker=\"o\", label=\"Precision\")\n",
      "plot(np.arange(0.0001, 0.0011, 0.0001), gaussian_filter(res_pagerank[\"r\"], sf), \"r-.\", marker=\"o\", label=\"Recall\")\n",
      "plot(np.arange(0.0001, 0.0011, 0.0001), gaussian_filter(res_pagerank[\"f\"], sf), \"r-\", marker=\"o\", label=\"F-measure\")\n",
      "\n",
      "ax.legend(loc='upper right')\n",
      "grid()\n",
      "draw()"
     ],
     "language": "python",
     "metadata": {},
     "outputs": []
    },
    {
     "cell_type": "heading",
     "level": 1,
     "metadata": {},
     "source": [
      "Distrust-only propagation"
     ]
    },
    {
     "cell_type": "code",
     "collapsed": false,
     "input": [
      "res_pagerank = {\"f\":[], \"p\": [], \"r\": []}\n",
      "\n",
      "for thresh in np.arange(-0.001, -0.00009, 0.0001):\n",
      "    wg.reset_data()\n",
      "    wg.seedset_method = \"pagerank\"\n",
      "    wg.seedset_type = \"neg\"\n",
      "    wg.seedset_size = 50\n",
      "    wg.select_seedset()\n",
      "    \n",
      "    score_index = wg.trustrank(iterations=100, alpha=0.85, trust_thresh=thresh)\n",
      "    #wg.set_trusts(score_index)\n",
      "    \n",
      "    [p, r, f] = wg.evaluate()\n",
      "    res_pagerank[\"f\"].append(f)\n",
      "    res_pagerank[\"p\"].append(p)\n",
      "    res_pagerank[\"r\"].append(r)"
     ],
     "language": "python",
     "metadata": {},
     "outputs": []
    },
    {
     "cell_type": "code",
     "collapsed": false,
     "input": [
      "wg.set_trusts(score_index)\n",
      "trusts = [wg.graph[node][\"trust\"] for node in wg.graph.nodes_iter() if \"trust\" in wg.graph[node].keys()]\n",
      "hist(trusts, 100)"
     ],
     "language": "python",
     "metadata": {},
     "outputs": []
    },
    {
     "cell_type": "code",
     "collapsed": false,
     "input": [
      "from scipy.ndimage.filters import gaussian_filter\n",
      "sf = 1\n",
      "\n",
      "fig = figure()\n",
      "ax = fig.add_subplot(1,1,1)\n",
      "\n",
      "plot(np.arange(0.0001, 0.0011, 0.0001), gaussian_filter(res_pagerank[\"p\"], sf), \"r--\", marker=\"o\", label=\"Precision\")\n",
      "plot(np.arange(0.0001, 0.0011, 0.0001), gaussian_filter(res_pagerank[\"r\"], sf), \"r-.\", marker=\"o\", label=\"Recall\")\n",
      "plot(np.arange(0.0001, 0.0011, 0.0001), gaussian_filter(res_pagerank[\"f\"], sf), \"r-\", marker=\"o\", label=\"F-measure\")\n",
      "\n",
      "ax.legend(loc='upper right')\n",
      "grid()\n",
      "draw()"
     ],
     "language": "python",
     "metadata": {},
     "outputs": []
    },
    {
     "cell_type": "heading",
     "level": 1,
     "metadata": {},
     "source": [
      "Simultaneous trust and distrust propagation"
     ]
    },
    {
     "cell_type": "code",
     "collapsed": false,
     "input": [
      "wg = gf.WikiGraph(sg, annotations)"
     ],
     "language": "python",
     "metadata": {},
     "outputs": [],
     "prompt_number": 23
    },
    {
     "cell_type": "code",
     "collapsed": false,
     "input": [
      "res_pagerank = {\"f\":[], \"p\": [], \"r\": []}\n",
      "wg.reset_data(scores=True)\n",
      "for size in seedsizes:\n",
      "    wg.seedset_method = \"pagerank\"\n",
      "    wg.seedset_size = size\n",
      "    wg.select_seedset()\n",
      "    \n",
      "    score_index = wg.trustrank(iterations=100, alpha=0.85, trust_thresh=0)\n",
      "    #wg.set_trusts(score_index)\n",
      "    \n",
      "    [p, r, f] = wg.evaluate()\n",
      "    res_pagerank[\"f\"].append(f)\n",
      "    res_pagerank[\"p\"].append(p)\n",
      "    res_pagerank[\"r\"].append(r)\n",
      "    wg.reset_data(scores=False)"
     ],
     "language": "python",
     "metadata": {},
     "outputs": [
      {
       "output_type": "stream",
       "stream": "stdout",
       "text": [
        "7579 11655 19944 5133\n",
        "5449"
       ]
      },
      {
       "output_type": "stream",
       "stream": "stdout",
       "text": [
        " 5065 26534 7263\n",
        "5232"
       ]
      },
      {
       "output_type": "stream",
       "stream": "stdout",
       "text": [
        " 4917 26682 7480\n",
        "5353"
       ]
      },
      {
       "output_type": "stream",
       "stream": "stdout",
       "text": [
        " 5157 26442 7359\n",
        "5301"
       ]
      },
      {
       "output_type": "stream",
       "stream": "stdout",
       "text": [
        " 5022 26577 7411\n",
        "5285"
       ]
      },
      {
       "output_type": "stream",
       "stream": "stdout",
       "text": [
        " 4903 26696 7427\n",
        "5276"
       ]
      },
      {
       "output_type": "stream",
       "stream": "stdout",
       "text": [
        " 5121 26478 7436\n",
        "5212"
       ]
      },
      {
       "output_type": "stream",
       "stream": "stdout",
       "text": [
        " 4962 26637 7500\n",
        "5153"
       ]
      },
      {
       "output_type": "stream",
       "stream": "stdout",
       "text": [
        " 4772 26827 7559\n",
        "5158"
       ]
      },
      {
       "output_type": "stream",
       "stream": "stdout",
       "text": [
        " 4703 26896 7554\n",
        "5243"
       ]
      },
      {
       "output_type": "stream",
       "stream": "stdout",
       "text": [
        " 4828 26771 7469\n"
       ]
      }
     ],
     "prompt_number": 17
    },
    {
     "cell_type": "code",
     "collapsed": false,
     "input": [
      "res_comm_pagerank_one = {\"f\":[], \"p\": [], \"r\": []}\n",
      "wg.level = 2\n",
      "wg.reset_data(scores=True)\n",
      "for size in seedsizes:\n",
      "    wg.seedset_method = \"community-pagerank\"\n",
      "    wg.seedset_size = size\n",
      "    wg.select_seedset()\n",
      "    score_index = wg.trustrank(iterations=100, alpha=0.85, trust_thresh=0)\n",
      "    wg.set_trusts(score_index)\n",
      "    [p, r, f] = wg.evaluate()\n",
      "    res_comm_pagerank_one[\"f\"].append(f)\n",
      "    res_comm_pagerank_one[\"p\"].append(p)\n",
      "    res_comm_pagerank_one[\"r\"].append(r)\n",
      "    wg.reset_data(scores=False)"
     ],
     "language": "python",
     "metadata": {},
     "outputs": [
      {
       "output_type": "stream",
       "stream": "stdout",
       "text": [
        "7579 11655 19944 5133\n",
        "5449"
       ]
      },
      {
       "output_type": "stream",
       "stream": "stdout",
       "text": [
        " 5065 26534 7263\n",
        "5303"
       ]
      },
      {
       "output_type": "stream",
       "stream": "stdout",
       "text": [
        " 5437 26162 7409\n",
        "5281"
       ]
      },
      {
       "output_type": "stream",
       "stream": "stdout",
       "text": [
        " 4915 26684 7431\n",
        "5157"
       ]
      },
      {
       "output_type": "stream",
       "stream": "stdout",
       "text": [
        " 4635 26964 7555\n",
        "5359"
       ]
      },
      {
       "ename": "KeyError",
       "evalue": "u'jon marks'",
       "output_type": "pyerr",
       "traceback": [
        "\u001b[1;31m---------------------------------------------------------------------------\u001b[0m\n\u001b[1;31mKeyError\u001b[0m                                  Traceback (most recent call last)",
        "\u001b[1;32m<ipython-input-25-7ea72e23f965>\u001b[0m in \u001b[0;36m<module>\u001b[1;34m()\u001b[0m\n\u001b[0;32m      5\u001b[0m     \u001b[0mwg\u001b[0m\u001b[1;33m.\u001b[0m\u001b[0mseedset_method\u001b[0m \u001b[1;33m=\u001b[0m \u001b[1;34m\"community-pagerank\"\u001b[0m\u001b[1;33m\u001b[0m\u001b[0m\n\u001b[0;32m      6\u001b[0m     \u001b[0mwg\u001b[0m\u001b[1;33m.\u001b[0m\u001b[0mseedset_size\u001b[0m \u001b[1;33m=\u001b[0m \u001b[0msize\u001b[0m\u001b[1;33m\u001b[0m\u001b[0m\n\u001b[1;32m----> 7\u001b[1;33m     \u001b[0mwg\u001b[0m\u001b[1;33m.\u001b[0m\u001b[0mselect_seedset\u001b[0m\u001b[1;33m(\u001b[0m\u001b[1;33m)\u001b[0m\u001b[1;33m\u001b[0m\u001b[0m\n\u001b[0m\u001b[0;32m      8\u001b[0m     \u001b[0mscore_index\u001b[0m \u001b[1;33m=\u001b[0m \u001b[0mwg\u001b[0m\u001b[1;33m.\u001b[0m\u001b[0mtrustrank\u001b[0m\u001b[1;33m(\u001b[0m\u001b[0miterations\u001b[0m\u001b[1;33m=\u001b[0m\u001b[1;36m100\u001b[0m\u001b[1;33m,\u001b[0m \u001b[0malpha\u001b[0m\u001b[1;33m=\u001b[0m\u001b[1;36m0.85\u001b[0m\u001b[1;33m,\u001b[0m \u001b[0mtrust_thresh\u001b[0m\u001b[1;33m=\u001b[0m\u001b[1;36m0\u001b[0m\u001b[1;33m)\u001b[0m\u001b[1;33m\u001b[0m\u001b[0m\n\u001b[0;32m      9\u001b[0m     \u001b[0mwg\u001b[0m\u001b[1;33m.\u001b[0m\u001b[0mset_trusts\u001b[0m\u001b[1;33m(\u001b[0m\u001b[0mscore_index\u001b[0m\u001b[1;33m)\u001b[0m\u001b[1;33m\u001b[0m\u001b[0m\n",
        "\u001b[1;32m/media/CompMusic/audio/users/gkoduri/workspace/relation-extraction/src/graph_filtering.py\u001b[0m in \u001b[0;36mselect_seedset\u001b[1;34m(self)\u001b[0m\n\u001b[0;32m    226\u001b[0m         \u001b[0mself\u001b[0m\u001b[1;33m.\u001b[0m\u001b[0mseedset\u001b[0m \u001b[1;33m=\u001b[0m \u001b[1;33m{\u001b[0m\u001b[1;34m\"good\"\u001b[0m\u001b[1;33m:\u001b[0m \u001b[1;33m[\u001b[0m\u001b[1;33m]\u001b[0m\u001b[1;33m,\u001b[0m \u001b[1;34m\"bad\"\u001b[0m\u001b[1;33m:\u001b[0m \u001b[1;33m[\u001b[0m\u001b[1;33m]\u001b[0m\u001b[1;33m,\u001b[0m \u001b[1;34m\"orphans\"\u001b[0m\u001b[1;33m:\u001b[0m \u001b[1;33m[\u001b[0m\u001b[1;33m]\u001b[0m\u001b[1;33m}\u001b[0m\u001b[1;33m\u001b[0m\u001b[0m\n\u001b[0;32m    227\u001b[0m         \u001b[1;32mfor\u001b[0m \u001b[0mnode\u001b[0m \u001b[1;32min\u001b[0m \u001b[0mselected_nodes\u001b[0m\u001b[1;33m:\u001b[0m\u001b[1;33m\u001b[0m\u001b[0m\n\u001b[1;32m--> 228\u001b[1;33m             \u001b[1;32mif\u001b[0m \u001b[0mself\u001b[0m\u001b[1;33m.\u001b[0m\u001b[0mannotations\u001b[0m\u001b[1;33m[\u001b[0m\u001b[0mnode\u001b[0m\u001b[1;33m]\u001b[0m \u001b[1;33m==\u001b[0m \u001b[1;34m\"good\"\u001b[0m\u001b[1;33m:\u001b[0m\u001b[1;33m\u001b[0m\u001b[0m\n\u001b[0m\u001b[0;32m    229\u001b[0m                 \u001b[0mself\u001b[0m\u001b[1;33m.\u001b[0m\u001b[0mseedset\u001b[0m\u001b[1;33m[\u001b[0m\u001b[1;34m\"good\"\u001b[0m\u001b[1;33m]\u001b[0m\u001b[1;33m.\u001b[0m\u001b[0mappend\u001b[0m\u001b[1;33m(\u001b[0m\u001b[0mnode\u001b[0m\u001b[1;33m)\u001b[0m\u001b[1;33m\u001b[0m\u001b[0m\n\u001b[0;32m    230\u001b[0m             \u001b[1;32melif\u001b[0m \u001b[0mself\u001b[0m\u001b[1;33m.\u001b[0m\u001b[0mannotations\u001b[0m\u001b[1;33m[\u001b[0m\u001b[0mnode\u001b[0m\u001b[1;33m]\u001b[0m \u001b[1;33m==\u001b[0m \u001b[1;34m\"bad\"\u001b[0m\u001b[1;33m:\u001b[0m\u001b[1;33m\u001b[0m\u001b[0m\n",
        "\u001b[1;31mKeyError\u001b[0m: u'jon marks'"
       ]
      },
      {
       "output_type": "stream",
       "stream": "stdout",
       "text": [
        " 4915 26684 7353\n"
       ]
      }
     ],
     "prompt_number": 25
    },
    {
     "cell_type": "code",
     "collapsed": false,
     "input": [
      "res_eig = {\"f\":[], \"p\": [], \"r\": []}\n",
      "\n",
      "wg.reset_data(scores=True)\n",
      "for size in seedsizes:\n",
      "    wg.reset_data()\n",
      "    wg.seedset_method = \"eig\"\n",
      "    wg.seedset_size = size\n",
      "    wg.select_seedset()\n",
      "    \n",
      "    score_index = wg.trustrank(iterations=100, alpha=0.85, trust_thresh=0)\n",
      "    wg.set_trusts(score_index)\n",
      "    \n",
      "    [p, r, f] = wg.evaluate()\n",
      "    res_eig[\"f\"].append(f)\n",
      "    res_eig[\"p\"].append(p)\n",
      "    res_eig[\"r\"].append(r)\n",
      "    wg.reset_data(scores=False)"
     ],
     "language": "python",
     "metadata": {},
     "outputs": []
    },
    {
     "cell_type": "code",
     "collapsed": false,
     "input": [
      "res_outdegree = {\"f\":[], \"p\": [], \"r\": []}\n",
      "wg.reset_data(scores=True)\n",
      "for size in seedsizes:\n",
      "    wg.reset_data()\n",
      "    wg.seedset_method = \"outdegree\"\n",
      "    wg.seedset_size = size\n",
      "    wg.select_seedset()\n",
      "    \n",
      "    score_index = wg.trustrank(iterations=100, alpha=0.85, trust_thresh=0)\n",
      "    wg.set_trusts(score_index)\n",
      "    \n",
      "    [p, r, f] = wg.evaluate()\n",
      "    res_outdegree[\"f\"].append(f)\n",
      "    res_outdegree[\"p\"].append(p)\n",
      "    res_outdegree[\"r\"].append(r)\n",
      "    wg.reset_data(scores=False)"
     ],
     "language": "python",
     "metadata": {},
     "outputs": []
    },
    {
     "cell_type": "code",
     "collapsed": false,
     "input": [
      "res_comm_hubs = {\"f\":[], \"p\": [], \"r\": []}\n",
      "wg.reset_data(scores=True)\n",
      "for size in seedsizes:\n",
      "    wg.reset_data()\n",
      "    wg.seedset_method = \"community-hubs\"\n",
      "    wg.seedset_size = size\n",
      "    wg.select_seedset()\n",
      "    \n",
      "    score_index = wg.trustrank(iterations=100, alpha=0.85, trust_thresh=0)\n",
      "    wg.set_trusts(score_index)\n",
      "    \n",
      "    [p, r, f] = wg.evaluate()\n",
      "    res_comm_hubs[\"f\"].append(f)\n",
      "    res_comm_hubs[\"p\"].append(p)\n",
      "    res_comm_hubs[\"r\"].append(r)\n",
      "    wg.reset_data(scores=False)"
     ],
     "language": "python",
     "metadata": {},
     "outputs": []
    },
    {
     "cell_type": "code",
     "collapsed": false,
     "input": [
      "from scipy.ndimage.filters import gaussian_filter\n",
      "sf = 1\n",
      "\n",
      "fig = figure()\n",
      "ax = fig.add_subplot(1,1,1)\n",
      "seedsizes = array(seedsizes)/2\n",
      "\n",
      "plot(seedsizes, gaussian_filter(res_pagerank[\"p\"], sf), \"r--\", marker=\"o\", label=\"Precision\")\n",
      "plot(seedsizes, gaussian_filter(res_pagerank[\"r\"], sf), \"r-.\", marker=\"o\", label=\"Recall\")\n",
      "plot(seedsizes, gaussian_filter(res_pagerank[\"f\"], sf), \"r-\", marker=\"o\", label=\"F-measure\")\n",
      "\n",
      "plot(seedsizes, gaussian_filter(res_comm_pagerank_one[\"p\"], sf), \"b--\", marker=\"o\", label=\"Precision\")\n",
      "plot(seedsizes, gaussian_filter(res_comm_pagerank_one[\"r\"], sf), \"b-.\", marker=\"o\", label=\"Recall\")\n",
      "plot(seedsizes, gaussian_filter(res_comm_pagerank_one[\"f\"], sf), \"b-\", marker=\"o\", label=\"F-measure\")\n",
      "\n",
      "plot(seedsizes, gaussian_filter(res_comm_hubs[\"p\"], sf), \"g--\", marker=\"o\", label=\"Precision\")\n",
      "plot(seedsizes, gaussian_filter(res_comm_hubs[\"r\"], sf), \"g-.\", marker=\"o\", label=\"Recall\")\n",
      "plot(seedsizes, gaussian_filter(res_comm_hubs[\"f\"], sf), \"g-\", marker=\"o\", label=\"F-measure\")\n",
      "\n",
      "plot(seedsizes, gaussian_filter(res_outdegree[\"p\"], sf), \"c--\", marker=\"o\", label=\"Precision\")\n",
      "plot(seedsizes, gaussian_filter(res_outdegree[\"r\"], sf), \"c-.\", marker=\"o\", label=\"Recall\")\n",
      "plot(seedsizes, gaussian_filter(res_outdegree[\"f\"], sf), \"c-\", marker=\"o\", label=\"F-measure\")\n",
      "\n",
      "plot(seedsizes, gaussian_filter(res_eig[\"p\"], sf), \"m--\", marker=\"o\", label=\"Precision\")\n",
      "plot(seedsizes, gaussian_filter(res_eig[\"r\"], sf), \"m-.\", marker=\"o\", label=\"Recall\")\n",
      "plot(seedsizes, gaussian_filter(res_eig[\"f\"], sf), \"m-\", marker=\"o\", label=\"F-measure\")\n",
      "\n",
      "#Get artists and labels for legend and chose which ones to display\n",
      "xlabel(\"Size of the seedset\")\n",
      "\n",
      "handles, labels = ax.get_legend_handles_labels()\n",
      "display = (2, 5, 8, 11, 14)\n",
      "\n",
      "#Create custom artists\n",
      "precision = plt.Line2D((0,1),(0,0), color='k', linestyle='--')\n",
      "recall = plt.Line2D((0,1),(0,0), color='k', linestyle='-.')\n",
      "f_measure = plt.Line2D((0,1),(0,0), color='k', linestyle='-')\n",
      "\n",
      "#Create legend from custom artist/label lists\n",
      "ax.legend([handle for i,handle in enumerate(handles) if i in display]+[precision, recall, f_measure],\n",
      "          ['Pagerank', 'Community (pageranks)', 'Community (hubs)', 'Outdegree centrality', 'Eigenvector centrality'] + ['Precision', 'Recall', 'F-Measure'], \n",
      "          loc='lower right')\n",
      "\n",
      "grid()\n",
      "draw()"
     ],
     "language": "python",
     "metadata": {},
     "outputs": []
    },
    {
     "cell_type": "code",
     "collapsed": false,
     "input": [
      "title('Jazz music')"
     ],
     "language": "python",
     "metadata": {},
     "outputs": []
    },
    {
     "cell_type": "heading",
     "level": 1,
     "metadata": {},
     "source": [
      "Use the best method"
     ]
    },
    {
     "cell_type": "code",
     "collapsed": false,
     "input": [
      "wg = gf.WikiGraph(sg, annotations)\n",
      "wg.seedset_method = \"community-pagerank\"\n",
      "wg.seedset_type = \"both\"\n",
      "wg.seedset_size = 50\n",
      "wg.select_seedset()\n",
      "\n",
      "score_index = wg.trustrank(iterations=100, alpha=0.85, trust_thresh=0)\n",
      "wg.set_trusts(score_index)\n",
      "\n",
      "[p, r, f] = wg.evaluate()\n",
      "print round(p, 2), round(r, 2), round(f, 2)"
     ],
     "language": "python",
     "metadata": {},
     "outputs": []
    },
    {
     "cell_type": "code",
     "collapsed": false,
     "input": [],
     "language": "python",
     "metadata": {},
     "outputs": []
    },
    {
     "cell_type": "code",
     "collapsed": false,
     "input": [
      "wg.seedset"
     ],
     "language": "python",
     "metadata": {},
     "outputs": []
    },
    {
     "cell_type": "code",
     "collapsed": false,
     "input": [
      "clean_g = wg.graph.subgraph(wg.expanded_seedset[\"good\"])\n",
      "nx.write_graphml(clean_g, '../data/carnatic_music_lsa_clean.graphml')"
     ],
     "language": "python",
     "metadata": {},
     "outputs": []
    },
    {
     "cell_type": "code",
     "collapsed": false,
     "input": [
      "print clean_g.number_of_nodes(), clean_g.number_of_edges()"
     ],
     "language": "python",
     "metadata": {},
     "outputs": []
    }
   ],
   "metadata": {}
  }
 ]
}