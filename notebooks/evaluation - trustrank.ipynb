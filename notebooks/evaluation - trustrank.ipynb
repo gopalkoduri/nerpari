{
 "metadata": {
  "name": ""
 },
 "nbformat": 3,
 "nbformat_minor": 0,
 "worksheets": [
  {
   "cells": [
    {
     "cell_type": "code",
     "collapsed": false,
     "input": [
      "from os import chdir\n",
      "chdir(\"/homedtic/gkoduri/workspace/relation-extraction/src/\")"
     ],
     "language": "python",
     "metadata": {},
     "outputs": [],
     "prompt_number": 93
    },
    {
     "cell_type": "code",
     "collapsed": false,
     "input": [
      "import pickle\n",
      "import networkx as nx\n",
      "import graph_filtering as gf\n",
      "reload(gf)\n",
      "\n",
      "%matplotlib tk\n",
      "rcParams['figure.figsize'] = 12, 8"
     ],
     "language": "python",
     "metadata": {},
     "outputs": [],
     "prompt_number": 94
    },
    {
     "cell_type": "code",
     "collapsed": false,
     "input": [
      "annotations = pickle.load(file('/homedtic/gkoduri/workspace/relation-extraction/data/annotations.pickle'))\n",
      "fname = '/homedtic/gkoduri/workspace/relation-extraction/data/carnatic_music_lsa.graphml'\n",
      "g = nx.read_graphml(fname, node_type=unicode)\n",
      "print g.number_of_nodes(), g.number_of_edges()"
     ],
     "language": "python",
     "metadata": {},
     "outputs": [
      {
       "output_type": "stream",
       "stream": "stdout",
       "text": [
        "1182 52568\n"
       ]
      }
     ],
     "prompt_number": 91
    },
    {
     "cell_type": "code",
     "collapsed": false,
     "input": [
      "wg = gf.WikiGraph(g, annotations)"
     ],
     "language": "python",
     "metadata": {},
     "outputs": [],
     "prompt_number": 95
    },
    {
     "cell_type": "code",
     "collapsed": false,
     "input": [
      "seedsizes = np.arange(10, 60, 10).tolist() + np.arange(75, 210, 25).tolist()"
     ],
     "language": "python",
     "metadata": {},
     "outputs": [],
     "prompt_number": 71
    },
    {
     "cell_type": "heading",
     "level": 1,
     "metadata": {},
     "source": [
      "Trust-only propagation"
     ]
    },
    {
     "cell_type": "markdown",
     "metadata": {},
     "source": [
      "Run once and check the histogram of trust values to decide on the range to be investigated for the best value of threshold.\n",
      "\n",
      "**Range: 0.0001 to 0.001**"
     ]
    },
    {
     "cell_type": "code",
     "collapsed": false,
     "input": [
      "res_pagerank = {\"f\":[], \"p\": [], \"r\": []}\n",
      "\n",
      "for thresh in np.arange(0.0001, 0.0011, 0.0001):\n",
      "    wg.reset_data()\n",
      "    wg.seedset_method = \"pagerank\"\n",
      "    wg.seedset_type = \"pos\"\n",
      "    wg.seedset_size = 50\n",
      "    wg.select_seedset()\n",
      "    \n",
      "    score_index = wg.trustrank(iterations=100, alpha=0.85, trust_thresh=thresh)\n",
      "    #wg.set_trusts(score_index)\n",
      "    \n",
      "    [p, r, f] = wg.evaluate()\n",
      "    res_pagerank[\"f\"].append(f)\n",
      "    res_pagerank[\"p\"].append(p)\n",
      "    res_pagerank[\"r\"].append(r)"
     ],
     "language": "python",
     "metadata": {},
     "outputs": [
      {
       "output_type": "stream",
       "stream": "stdout",
       "text": [
        "<class 'numpy.matrixlib.defmatrix.matrix'> (1182, 1182)\n",
        "481"
       ]
      },
      {
       "output_type": "stream",
       "stream": "stdout",
       "text": [
        " 471 85 75\n",
        "<class 'numpy.matrixlib.defmatrix.matrix'>"
       ]
      },
      {
       "output_type": "stream",
       "stream": "stdout",
       "text": [
        " (1182, 1182)\n",
        "436"
       ]
      },
      {
       "output_type": "stream",
       "stream": "stdout",
       "text": [
        " 404 152 120\n",
        "<class 'numpy.matrixlib.defmatrix.matrix'>"
       ]
      },
      {
       "output_type": "stream",
       "stream": "stdout",
       "text": [
        " (1182, 1182)\n",
        "389"
       ]
      },
      {
       "output_type": "stream",
       "stream": "stdout",
       "text": [
        " 347 209 167\n",
        "<class 'numpy.matrixlib.defmatrix.matrix'>"
       ]
      },
      {
       "output_type": "stream",
       "stream": "stdout",
       "text": [
        " (1182, 1182)\n",
        "356"
       ]
      },
      {
       "output_type": "stream",
       "stream": "stdout",
       "text": [
        " 297 259 200\n",
        "<class 'numpy.matrixlib.defmatrix.matrix'>"
       ]
      },
      {
       "output_type": "stream",
       "stream": "stdout",
       "text": [
        " (1182, 1182)\n",
        "328"
       ]
      },
      {
       "output_type": "stream",
       "stream": "stdout",
       "text": [
        " 257 299 228\n",
        "<class 'numpy.matrixlib.defmatrix.matrix'>"
       ]
      },
      {
       "output_type": "stream",
       "stream": "stdout",
       "text": [
        " (1182, 1182)\n",
        "314"
       ]
      },
      {
       "output_type": "stream",
       "stream": "stdout",
       "text": [
        " 228 328 242\n",
        "<class 'numpy.matrixlib.defmatrix.matrix'>"
       ]
      },
      {
       "output_type": "stream",
       "stream": "stdout",
       "text": [
        " (1182, 1182)\n",
        "285"
       ]
      },
      {
       "output_type": "stream",
       "stream": "stdout",
       "text": [
        " 190 366 271\n",
        "<class 'numpy.matrixlib.defmatrix.matrix'>"
       ]
      },
      {
       "output_type": "stream",
       "stream": "stdout",
       "text": [
        " (1182, 1182)\n",
        "262"
       ]
      },
      {
       "output_type": "stream",
       "stream": "stdout",
       "text": [
        " 169 387 294\n",
        "<class 'numpy.matrixlib.defmatrix.matrix'>"
       ]
      },
      {
       "output_type": "stream",
       "stream": "stdout",
       "text": [
        " (1182, 1182)\n",
        "246"
       ]
      },
      {
       "output_type": "stream",
       "stream": "stdout",
       "text": [
        " 157 399 310\n",
        "<class 'numpy.matrixlib.defmatrix.matrix'>"
       ]
      },
      {
       "output_type": "stream",
       "stream": "stdout",
       "text": [
        " (1182, 1182)\n",
        "234"
       ]
      },
      {
       "output_type": "stream",
       "stream": "stdout",
       "text": [
        " 140 416 322\n"
       ]
      }
     ],
     "prompt_number": 75
    },
    {
     "cell_type": "code",
     "collapsed": false,
     "input": [
      "trusts = [wg.graph[node][\"trust\"] for node in wg.graph.nodes_iter() if \"trust\" in wg.graph[node].keys()]\n",
      "hist(trusts, 100)"
     ],
     "language": "python",
     "metadata": {},
     "outputs": [
      {
       "metadata": {},
       "output_type": "pyout",
       "prompt_number": 74,
       "text": [
        "(array([99, 84, 67, 65, 57, 54, 43, 47, 36, 33, 25, 27, 41, 32, 24, 20, 12,\n",
        "       21, 12, 17, 12, 15, 15, 21, 24, 29, 26, 25, 24, 20, 10,  9,  8,  6,\n",
        "        4,  6,  8,  8,  4,  6,  5,  1,  1,  3,  3,  5,  1,  0,  4,  1,  2,\n",
        "        1,  1,  1,  0,  0,  0,  1,  1,  3,  1,  1,  0,  2,  3,  0,  2,  2,\n",
        "        0,  2,  1,  5,  1,  0,  1,  3,  1,  0,  4,  1,  2,  4,  2,  6,  1,\n",
        "        1,  1,  0,  1,  0,  0,  0,  0,  1,  0,  1,  1,  0,  0,  1]),\n",
        " array([  0.00000000e+00,   5.25095387e-05,   1.05019077e-04,\n",
        "         1.57528616e-04,   2.10038155e-04,   2.62547693e-04,\n",
        "         3.15057232e-04,   3.67566771e-04,   4.20076309e-04,\n",
        "         4.72585848e-04,   5.25095387e-04,   5.77604925e-04,\n",
        "         6.30114464e-04,   6.82624003e-04,   7.35133541e-04,\n",
        "         7.87643080e-04,   8.40152619e-04,   8.92662157e-04,\n",
        "         9.45171696e-04,   9.97681235e-04,   1.05019077e-03,\n",
        "         1.10270031e-03,   1.15520985e-03,   1.20771939e-03,\n",
        "         1.26022893e-03,   1.31273847e-03,   1.36524801e-03,\n",
        "         1.41775754e-03,   1.47026708e-03,   1.52277662e-03,\n",
        "         1.57528616e-03,   1.62779570e-03,   1.68030524e-03,\n",
        "         1.73281478e-03,   1.78532431e-03,   1.83783385e-03,\n",
        "         1.89034339e-03,   1.94285293e-03,   1.99536247e-03,\n",
        "         2.04787201e-03,   2.10038155e-03,   2.15289109e-03,\n",
        "         2.20540062e-03,   2.25791016e-03,   2.31041970e-03,\n",
        "         2.36292924e-03,   2.41543878e-03,   2.46794832e-03,\n",
        "         2.52045786e-03,   2.57296739e-03,   2.62547693e-03,\n",
        "         2.67798647e-03,   2.73049601e-03,   2.78300555e-03,\n",
        "         2.83551509e-03,   2.88802463e-03,   2.94053417e-03,\n",
        "         2.99304370e-03,   3.04555324e-03,   3.09806278e-03,\n",
        "         3.15057232e-03,   3.20308186e-03,   3.25559140e-03,\n",
        "         3.30810094e-03,   3.36061047e-03,   3.41312001e-03,\n",
        "         3.46562955e-03,   3.51813909e-03,   3.57064863e-03,\n",
        "         3.62315817e-03,   3.67566771e-03,   3.72817725e-03,\n",
        "         3.78068678e-03,   3.83319632e-03,   3.88570586e-03,\n",
        "         3.93821540e-03,   3.99072494e-03,   4.04323448e-03,\n",
        "         4.09574402e-03,   4.14825356e-03,   4.20076309e-03,\n",
        "         4.25327263e-03,   4.30578217e-03,   4.35829171e-03,\n",
        "         4.41080125e-03,   4.46331079e-03,   4.51582033e-03,\n",
        "         4.56832986e-03,   4.62083940e-03,   4.67334894e-03,\n",
        "         4.72585848e-03,   4.77836802e-03,   4.83087756e-03,\n",
        "         4.88338710e-03,   4.93589664e-03,   4.98840617e-03,\n",
        "         5.04091571e-03,   5.09342525e-03,   5.14593479e-03,\n",
        "         5.19844433e-03,   5.25095387e-03]),\n",
        " <a list of 100 Patch objects>)"
       ]
      }
     ],
     "prompt_number": 74
    },
    {
     "cell_type": "code",
     "collapsed": false,
     "input": [
      "from scipy.ndimage.filters import gaussian_filter\n",
      "sf = 1\n",
      "\n",
      "fig = figure()\n",
      "ax = fig.add_subplot(1,1,1)\n",
      "\n",
      "plot(np.arange(0.0001, 0.0011, 0.0001), gaussian_filter(res_pagerank[\"p\"], sf), \"r--\", marker=\"o\", label=\"Precision\")\n",
      "plot(np.arange(0.0001, 0.0011, 0.0001), gaussian_filter(res_pagerank[\"r\"], sf), \"r-.\", marker=\"o\", label=\"Recall\")\n",
      "plot(np.arange(0.0001, 0.0011, 0.0001), gaussian_filter(res_pagerank[\"f\"], sf), \"r-\", marker=\"o\", label=\"F-measure\")\n",
      "\n",
      "ax.legend(loc='upper right')\n",
      "grid()\n",
      "draw()"
     ],
     "language": "python",
     "metadata": {},
     "outputs": [],
     "prompt_number": 80
    },
    {
     "cell_type": "heading",
     "level": 1,
     "metadata": {},
     "source": [
      "Distrust-only propagation"
     ]
    },
    {
     "cell_type": "code",
     "collapsed": false,
     "input": [
      "res_pagerank = {\"f\":[], \"p\": [], \"r\": []}\n",
      "\n",
      "for thresh in np.arange(-0.001, -0.00009, 0.0001):\n",
      "    wg.reset_data()\n",
      "    wg.seedset_method = \"pagerank\"\n",
      "    wg.seedset_type = \"neg\"\n",
      "    wg.seedset_size = 50\n",
      "    wg.select_seedset()\n",
      "    \n",
      "    score_index = wg.trustrank(iterations=100, alpha=0.85, trust_thresh=thresh)\n",
      "    #wg.set_trusts(score_index)\n",
      "    \n",
      "    [p, r, f] = wg.evaluate()\n",
      "    res_pagerank[\"f\"].append(f)\n",
      "    res_pagerank[\"p\"].append(p)\n",
      "    res_pagerank[\"r\"].append(r)"
     ],
     "language": "python",
     "metadata": {},
     "outputs": [
      {
       "output_type": "stream",
       "stream": "stdout",
       "text": [
        "<class 'numpy.matrixlib.defmatrix.matrix'> (1182, 1182)\n",
        "523"
       ]
      },
      {
       "output_type": "stream",
       "stream": "stdout",
       "text": [
        " 309 247 33\n",
        "<class 'numpy.matrixlib.defmatrix.matrix'>"
       ]
      },
      {
       "output_type": "stream",
       "stream": "stdout",
       "text": [
        " (1182, 1182)\n",
        "521"
       ]
      },
      {
       "output_type": "stream",
       "stream": "stdout",
       "text": [
        " 301 255 35\n",
        "<class 'numpy.matrixlib.defmatrix.matrix'>"
       ]
      },
      {
       "output_type": "stream",
       "stream": "stdout",
       "text": [
        " (1182, 1182)\n",
        "516"
       ]
      },
      {
       "output_type": "stream",
       "stream": "stdout",
       "text": [
        " 279 277 40\n",
        "<class 'numpy.matrixlib.defmatrix.matrix'>"
       ]
      },
      {
       "output_type": "stream",
       "stream": "stdout",
       "text": [
        " (1182, 1182)\n",
        "505"
       ]
      },
      {
       "output_type": "stream",
       "stream": "stdout",
       "text": [
        " 260 296 51\n",
        "<class 'numpy.matrixlib.defmatrix.matrix'>"
       ]
      },
      {
       "output_type": "stream",
       "stream": "stdout",
       "text": [
        " (1182, 1182)\n",
        "489"
       ]
      },
      {
       "output_type": "stream",
       "stream": "stdout",
       "text": [
        " 237 319 67\n",
        "<class 'numpy.matrixlib.defmatrix.matrix'>"
       ]
      },
      {
       "output_type": "stream",
       "stream": "stdout",
       "text": [
        " (1182, 1182)\n",
        "465"
       ]
      },
      {
       "output_type": "stream",
       "stream": "stdout",
       "text": [
        " 208 348 91\n",
        "<class 'numpy.matrixlib.defmatrix.matrix'>"
       ]
      },
      {
       "output_type": "stream",
       "stream": "stdout",
       "text": [
        " (1182, 1182)\n",
        "438"
       ]
      },
      {
       "output_type": "stream",
       "stream": "stdout",
       "text": [
        " 183 373 118\n",
        "<class 'numpy.matrixlib.defmatrix.matrix'>"
       ]
      },
      {
       "output_type": "stream",
       "stream": "stdout",
       "text": [
        " (1182, 1182)\n",
        "394"
       ]
      },
      {
       "output_type": "stream",
       "stream": "stdout",
       "text": [
        " 145 411 162\n",
        "<class 'numpy.matrixlib.defmatrix.matrix'>"
       ]
      },
      {
       "output_type": "stream",
       "stream": "stdout",
       "text": [
        " (1182, 1182)\n",
        "332"
       ]
      },
      {
       "output_type": "stream",
       "stream": "stdout",
       "text": [
        " 103 453 224\n",
        "<class 'numpy.matrixlib.defmatrix.matrix'>"
       ]
      },
      {
       "output_type": "stream",
       "stream": "stdout",
       "text": [
        " (1182, 1182)\n",
        "151"
       ]
      },
      {
       "output_type": "stream",
       "stream": "stdout",
       "text": [
        " 66 490 405\n"
       ]
      }
     ],
     "prompt_number": 86
    },
    {
     "cell_type": "code",
     "collapsed": false,
     "input": [
      "wg.set_trusts(score_index)\n",
      "trusts = [wg.graph[node][\"trust\"] for node in wg.graph.nodes_iter() if \"trust\" in wg.graph[node].keys()]\n",
      "hist(trusts, 100)"
     ],
     "language": "python",
     "metadata": {},
     "outputs": [
      {
       "metadata": {},
       "output_type": "pyout",
       "prompt_number": 85,
       "text": [
        "(array([  2,   0,   0,   0,   0,   0,   1,   0,   0,   0,   0,   0,   0,\n",
        "         0,   1,   0,   1,   0,   1,   1,   0,   1,   1,   1,   2,   1,\n",
        "         1,   0,   3,   0,   2,   0,   3,   0,   2,   0,   1,   3,   1,\n",
        "         0,   0,   3,   1,   2,   0,   3,   1,   2,   0,   0,   1,   2,\n",
        "         1,   2,   2,   3,   1,   1,   3,   2,   3,   4,   5,   2,   7,\n",
        "         3,   3,   6,   1,   4,   5,   2,   3,   6,   7,   9,  12,   7,\n",
        "        10,  12,  11,  12,  14,  16,  12,  10,  21,  18,  16,  18,  24,\n",
        "        31,  31,  51,  57,  65,  79, 105, 215, 206]),\n",
        " array([ -8.73133484e-03,  -8.64402149e-03,  -8.55670815e-03,\n",
        "        -8.46939480e-03,  -8.38208145e-03,  -8.29476810e-03,\n",
        "        -8.20745475e-03,  -8.12014140e-03,  -8.03282806e-03,\n",
        "        -7.94551471e-03,  -7.85820136e-03,  -7.77088801e-03,\n",
        "        -7.68357466e-03,  -7.59626131e-03,  -7.50894796e-03,\n",
        "        -7.42163462e-03,  -7.33432127e-03,  -7.24700792e-03,\n",
        "        -7.15969457e-03,  -7.07238122e-03,  -6.98506787e-03,\n",
        "        -6.89775453e-03,  -6.81044118e-03,  -6.72312783e-03,\n",
        "        -6.63581448e-03,  -6.54850113e-03,  -6.46118778e-03,\n",
        "        -6.37387444e-03,  -6.28656109e-03,  -6.19924774e-03,\n",
        "        -6.11193439e-03,  -6.02462104e-03,  -5.93730769e-03,\n",
        "        -5.84999434e-03,  -5.76268100e-03,  -5.67536765e-03,\n",
        "        -5.58805430e-03,  -5.50074095e-03,  -5.41342760e-03,\n",
        "        -5.32611425e-03,  -5.23880091e-03,  -5.15148756e-03,\n",
        "        -5.06417421e-03,  -4.97686086e-03,  -4.88954751e-03,\n",
        "        -4.80223416e-03,  -4.71492082e-03,  -4.62760747e-03,\n",
        "        -4.54029412e-03,  -4.45298077e-03,  -4.36566742e-03,\n",
        "        -4.27835407e-03,  -4.19104072e-03,  -4.10372738e-03,\n",
        "        -4.01641403e-03,  -3.92910068e-03,  -3.84178733e-03,\n",
        "        -3.75447398e-03,  -3.66716063e-03,  -3.57984729e-03,\n",
        "        -3.49253394e-03,  -3.40522059e-03,  -3.31790724e-03,\n",
        "        -3.23059389e-03,  -3.14328054e-03,  -3.05596719e-03,\n",
        "        -2.96865385e-03,  -2.88134050e-03,  -2.79402715e-03,\n",
        "        -2.70671380e-03,  -2.61940045e-03,  -2.53208710e-03,\n",
        "        -2.44477376e-03,  -2.35746041e-03,  -2.27014706e-03,\n",
        "        -2.18283371e-03,  -2.09552036e-03,  -2.00820701e-03,\n",
        "        -1.92089367e-03,  -1.83358032e-03,  -1.74626697e-03,\n",
        "        -1.65895362e-03,  -1.57164027e-03,  -1.48432692e-03,\n",
        "        -1.39701357e-03,  -1.30970023e-03,  -1.22238688e-03,\n",
        "        -1.13507353e-03,  -1.04776018e-03,  -9.60446833e-04,\n",
        "        -8.73133484e-04,  -7.85820136e-04,  -6.98506787e-04,\n",
        "        -6.11193439e-04,  -5.23880091e-04,  -4.36566742e-04,\n",
        "        -3.49253394e-04,  -2.61940045e-04,  -1.74626697e-04,\n",
        "        -8.73133484e-05,   0.00000000e+00]),\n",
        " <a list of 100 Patch objects>)"
       ]
      }
     ],
     "prompt_number": 85
    },
    {
     "cell_type": "code",
     "collapsed": false,
     "input": [
      "from scipy.ndimage.filters import gaussian_filter\n",
      "sf = 1\n",
      "\n",
      "fig = figure()\n",
      "ax = fig.add_subplot(1,1,1)\n",
      "\n",
      "plot(np.arange(0.0001, 0.0011, 0.0001), gaussian_filter(res_pagerank[\"p\"], sf), \"r--\", marker=\"o\", label=\"Precision\")\n",
      "plot(np.arange(0.0001, 0.0011, 0.0001), gaussian_filter(res_pagerank[\"r\"], sf), \"r-.\", marker=\"o\", label=\"Recall\")\n",
      "plot(np.arange(0.0001, 0.0011, 0.0001), gaussian_filter(res_pagerank[\"f\"], sf), \"r-\", marker=\"o\", label=\"F-measure\")\n",
      "\n",
      "ax.legend(loc='upper right')\n",
      "grid()\n",
      "draw()"
     ],
     "language": "python",
     "metadata": {},
     "outputs": [],
     "prompt_number": 87
    },
    {
     "cell_type": "heading",
     "level": 1,
     "metadata": {},
     "source": [
      "Simultaneous trust and distrust propagation"
     ]
    },
    {
     "cell_type": "code",
     "collapsed": false,
     "input": [
      "res_pagerank = {\"f\":[], \"p\": [], \"r\": []}\n",
      "\n",
      "for size in seedsizes:\n",
      "    wg.reset_data()\n",
      "    wg.seedset_method = \"pagerank\"\n",
      "    wg.seedset_size = size\n",
      "    wg.select_seedset()\n",
      "    \n",
      "    score_index = wg.trustrank(iterations=100, alpha=0.85, trust_thresh=-0.000001)\n",
      "    #wg.set_trusts(score_index)\n",
      "    \n",
      "    [p, r, f] = wg.evaluate()\n",
      "    res_pagerank[\"f\"].append(f)\n",
      "    res_pagerank[\"p\"].append(p)\n",
      "    res_pagerank[\"r\"].append(r)"
     ],
     "language": "python",
     "metadata": {},
     "outputs": [
      {
       "output_type": "stream",
       "stream": "stdout",
       "text": [
        "bad 10\n",
        "good 0\n",
        "orphans 0\n",
        "<class 'numpy.matrixlib.defmatrix.matrix'>"
       ]
      },
      {
       "output_type": "stream",
       "stream": "stdout",
       "text": [
        " (1182, 1182)\n",
        "13"
       ]
      },
      {
       "output_type": "stream",
       "stream": "stdout",
       "text": [
        " 3 553 543\n",
        "bad"
       ]
      },
      {
       "output_type": "stream",
       "stream": "stdout",
       "text": [
        " 20\n",
        "good 0\n",
        "orphans 0\n",
        "<class 'numpy.matrixlib.defmatrix.matrix'>"
       ]
      },
      {
       "output_type": "stream",
       "stream": "stdout",
       "text": [
        " (1182, 1182)\n",
        "11"
       ]
      },
      {
       "output_type": "stream",
       "stream": "stdout",
       "text": [
        " 1 555 545\n",
        "bad"
       ]
      },
      {
       "output_type": "stream",
       "stream": "stdout",
       "text": [
        " 30\n",
        "good 0\n",
        "orphans 0\n",
        "<class 'numpy.matrixlib.defmatrix.matrix'>"
       ]
      },
      {
       "output_type": "stream",
       "stream": "stdout",
       "text": [
        " (1182, 1182)\n",
        "10"
       ]
      },
      {
       "output_type": "stream",
       "stream": "stdout",
       "text": [
        " 1 555 546\n",
        "bad"
       ]
      },
      {
       "output_type": "stream",
       "stream": "stdout",
       "text": [
        " 40\n",
        "good 0\n",
        "orphans 0\n",
        "<class 'numpy.matrixlib.defmatrix.matrix'>"
       ]
      },
      {
       "output_type": "stream",
       "stream": "stdout",
       "text": [
        " (1182, 1182)\n",
        "11"
       ]
      },
      {
       "ename": "KeyboardInterrupt",
       "evalue": "",
       "output_type": "pyerr",
       "traceback": [
        "\u001b[1;31m---------------------------------------------------------------------------\u001b[0m\n\u001b[1;31mKeyboardInterrupt\u001b[0m                         Traceback (most recent call last)",
        "\u001b[1;32m<ipython-input-57-d5412dd52608>\u001b[0m in \u001b[0;36m<module>\u001b[1;34m()\u001b[0m\n\u001b[0;32m      5\u001b[0m     \u001b[0mwg\u001b[0m\u001b[1;33m.\u001b[0m\u001b[0mseedset_method\u001b[0m \u001b[1;33m=\u001b[0m \u001b[1;34m\"pagerank\"\u001b[0m\u001b[1;33m\u001b[0m\u001b[0m\n\u001b[0;32m      6\u001b[0m     \u001b[0mwg\u001b[0m\u001b[1;33m.\u001b[0m\u001b[0mseedset_size\u001b[0m \u001b[1;33m=\u001b[0m \u001b[0msize\u001b[0m\u001b[1;33m\u001b[0m\u001b[0m\n\u001b[1;32m----> 7\u001b[1;33m     \u001b[0mwg\u001b[0m\u001b[1;33m.\u001b[0m\u001b[0mselect_seedset\u001b[0m\u001b[1;33m(\u001b[0m\u001b[1;33m)\u001b[0m\u001b[1;33m\u001b[0m\u001b[0m\n\u001b[0m\u001b[0;32m      8\u001b[0m     \u001b[1;32mfor\u001b[0m \u001b[0mcat\u001b[0m\u001b[1;33m,\u001b[0m \u001b[0mvals\u001b[0m \u001b[1;32min\u001b[0m \u001b[0mwg\u001b[0m\u001b[1;33m.\u001b[0m\u001b[0mseedset\u001b[0m\u001b[1;33m.\u001b[0m\u001b[0mitems\u001b[0m\u001b[1;33m(\u001b[0m\u001b[1;33m)\u001b[0m\u001b[1;33m:\u001b[0m\u001b[1;33m\u001b[0m\u001b[0m\n\u001b[0;32m      9\u001b[0m         \u001b[1;32mprint\u001b[0m \u001b[0mcat\u001b[0m\u001b[1;33m,\u001b[0m \u001b[0mlen\u001b[0m\u001b[1;33m(\u001b[0m\u001b[0mvals\u001b[0m\u001b[1;33m)\u001b[0m\u001b[1;33m\u001b[0m\u001b[0m\n",
        "\u001b[1;32m/mnt/compmusic/users/gkoduri/workspace/relation-extraction/src/graph_filtering.pyc\u001b[0m in \u001b[0;36mselect_seedset\u001b[1;34m(self)\u001b[0m\n\u001b[0;32m     91\u001b[0m             \u001b[1;32melse\u001b[0m\u001b[1;33m:\u001b[0m\u001b[1;33m\u001b[0m\u001b[0m\n\u001b[0;32m     92\u001b[0m                 \u001b[0mrev_g\u001b[0m \u001b[1;33m=\u001b[0m \u001b[0mself\u001b[0m\u001b[1;33m.\u001b[0m\u001b[0mgraph\u001b[0m\u001b[1;33m\u001b[0m\u001b[0m\n\u001b[1;32m---> 93\u001b[1;33m             \u001b[0minv_pageranks\u001b[0m \u001b[1;33m=\u001b[0m \u001b[0mnx\u001b[0m\u001b[1;33m.\u001b[0m\u001b[0mpagerank\u001b[0m\u001b[1;33m(\u001b[0m\u001b[0mrev_g\u001b[0m\u001b[1;33m)\u001b[0m\u001b[1;33m.\u001b[0m\u001b[0mitems\u001b[0m\u001b[1;33m(\u001b[0m\u001b[1;33m)\u001b[0m\u001b[1;33m\u001b[0m\u001b[0m\n\u001b[0m\u001b[0;32m     94\u001b[0m             \u001b[0minv_pageranks\u001b[0m \u001b[1;33m=\u001b[0m \u001b[0msorted\u001b[0m\u001b[1;33m(\u001b[0m\u001b[0minv_pageranks\u001b[0m\u001b[1;33m,\u001b[0m \u001b[0mkey\u001b[0m\u001b[1;33m=\u001b[0m\u001b[1;32mlambda\u001b[0m \u001b[0mx\u001b[0m\u001b[1;33m:\u001b[0m \u001b[0mx\u001b[0m\u001b[1;33m[\u001b[0m\u001b[1;36m1\u001b[0m\u001b[1;33m]\u001b[0m\u001b[1;33m,\u001b[0m \u001b[0mreverse\u001b[0m\u001b[1;33m=\u001b[0m\u001b[0mTrue\u001b[0m\u001b[1;33m)\u001b[0m\u001b[1;33m\u001b[0m\u001b[0m\n\u001b[0;32m     95\u001b[0m             \u001b[0mselected_nodes\u001b[0m \u001b[1;33m=\u001b[0m \u001b[1;33m[\u001b[0m\u001b[1;33m]\u001b[0m\u001b[1;33m\u001b[0m\u001b[0m\n",
        "\u001b[1;32m/mnt/compmusic/users/gkoduri/.virtualenv/PhD/local/lib/python2.7/site-packages/networkx/algorithms/link_analysis/pagerank_alg.pyc\u001b[0m in \u001b[0;36mpagerank\u001b[1;34m(G, alpha, personalization, max_iter, tol, nstart, weight)\u001b[0m\n\u001b[0;32m    129\u001b[0m             \u001b[1;31m# doing a left multiply x^T=xlast^T*W\u001b[0m\u001b[1;33m\u001b[0m\u001b[1;33m\u001b[0m\u001b[0m\n\u001b[0;32m    130\u001b[0m             \u001b[1;32mfor\u001b[0m \u001b[0mnbr\u001b[0m \u001b[1;32min\u001b[0m \u001b[0mW\u001b[0m\u001b[1;33m[\u001b[0m\u001b[0mn\u001b[0m\u001b[1;33m]\u001b[0m\u001b[1;33m:\u001b[0m\u001b[1;33m\u001b[0m\u001b[0m\n\u001b[1;32m--> 131\u001b[1;33m                 \u001b[0mx\u001b[0m\u001b[1;33m[\u001b[0m\u001b[0mnbr\u001b[0m\u001b[1;33m]\u001b[0m\u001b[1;33m+=\u001b[0m\u001b[0malpha\u001b[0m\u001b[1;33m*\u001b[0m\u001b[0mxlast\u001b[0m\u001b[1;33m[\u001b[0m\u001b[0mn\u001b[0m\u001b[1;33m]\u001b[0m\u001b[1;33m*\u001b[0m\u001b[0mW\u001b[0m\u001b[1;33m[\u001b[0m\u001b[0mn\u001b[0m\u001b[1;33m]\u001b[0m\u001b[1;33m[\u001b[0m\u001b[0mnbr\u001b[0m\u001b[1;33m]\u001b[0m\u001b[1;33m[\u001b[0m\u001b[0mweight\u001b[0m\u001b[1;33m]\u001b[0m\u001b[1;33m\u001b[0m\u001b[0m\n\u001b[0m\u001b[0;32m    132\u001b[0m             \u001b[0mx\u001b[0m\u001b[1;33m[\u001b[0m\u001b[0mn\u001b[0m\u001b[1;33m]\u001b[0m\u001b[1;33m+=\u001b[0m\u001b[0mdanglesum\u001b[0m\u001b[1;33m+\u001b[0m\u001b[1;33m(\u001b[0m\u001b[1;36m1.0\u001b[0m\u001b[1;33m-\u001b[0m\u001b[0malpha\u001b[0m\u001b[1;33m)\u001b[0m\u001b[1;33m*\u001b[0m\u001b[0mp\u001b[0m\u001b[1;33m[\u001b[0m\u001b[0mn\u001b[0m\u001b[1;33m]\u001b[0m\u001b[1;33m\u001b[0m\u001b[0m\n\u001b[0;32m    133\u001b[0m         \u001b[1;31m# normalize vector\u001b[0m\u001b[1;33m\u001b[0m\u001b[1;33m\u001b[0m\u001b[0m\n",
        "\u001b[1;32m/mnt/compmusic/users/gkoduri/.virtualenv/PhD/local/lib/python2.7/site-packages/networkx/classes/graph.pyc\u001b[0m in \u001b[0;36m__getitem__\u001b[1;34m(self, n)\u001b[0m\n\u001b[0;32m    289\u001b[0m         \u001b[1;32mreturn\u001b[0m \u001b[0mlen\u001b[0m\u001b[1;33m(\u001b[0m\u001b[0mself\u001b[0m\u001b[1;33m.\u001b[0m\u001b[0mnode\u001b[0m\u001b[1;33m)\u001b[0m\u001b[1;33m\u001b[0m\u001b[0m\n\u001b[0;32m    290\u001b[0m \u001b[1;33m\u001b[0m\u001b[0m\n\u001b[1;32m--> 291\u001b[1;33m     \u001b[1;32mdef\u001b[0m \u001b[0m__getitem__\u001b[0m\u001b[1;33m(\u001b[0m\u001b[0mself\u001b[0m\u001b[1;33m,\u001b[0m \u001b[0mn\u001b[0m\u001b[1;33m)\u001b[0m\u001b[1;33m:\u001b[0m\u001b[1;33m\u001b[0m\u001b[0m\n\u001b[0m\u001b[0;32m    292\u001b[0m         \"\"\"Return a dict of neighbors of node n.  Use the expression 'G[n]'.\n\u001b[0;32m    293\u001b[0m \u001b[1;33m\u001b[0m\u001b[0m\n",
        "\u001b[1;31mKeyboardInterrupt\u001b[0m: "
       ]
      },
      {
       "output_type": "stream",
       "stream": "stdout",
       "text": [
        " 1 555 545\n"
       ]
      }
     ],
     "prompt_number": 57
    },
    {
     "cell_type": "code",
     "collapsed": false,
     "input": [
      "#for comms selected at level one\n",
      "res_comm_pagerank_one = {\"f\":[], \"p\": [], \"r\": []}\n",
      "\n",
      "for size in seedsizes:\n",
      "    wg = gf.WikiGraph(g, annotations)\n",
      "    wg.seedset_method = \"community-pagerank\"\n",
      "    wg.seedset_size = size\n",
      "    wg.select_seedset()\n",
      "    \n",
      "    score_index = wg.trustrank(iterations=100, alpha=0.85, trust_thresh=0)\n",
      "    wg.set_trusts(score_index)\n",
      "    \n",
      "    [p, r, f] = wg.evaluate()\n",
      "    res_comm_pagerank_one[\"f\"].append(f)\n",
      "    res_comm_pagerank_one[\"p\"].append(p)\n",
      "    res_comm_pagerank_one[\"r\"].append(r)"
     ],
     "language": "python",
     "metadata": {},
     "outputs": [
      {
       "output_type": "stream",
       "stream": "stdout",
       "text": [
        "<class 'numpy.matrixlib.defmatrix.matrix'> (1115, 1115)\n",
        "369"
       ]
      },
      {
       "output_type": "stream",
       "stream": "stdout",
       "text": [
        " 243 313 187\n",
        "<class 'numpy.matrixlib.defmatrix.matrix'>"
       ]
      },
      {
       "output_type": "stream",
       "stream": "stdout",
       "text": [
        " (1115, 1115)\n",
        "380"
       ]
      },
      {
       "output_type": "stream",
       "stream": "stdout",
       "text": [
        " 245 311 176\n",
        "<class 'numpy.matrixlib.defmatrix.matrix'>"
       ]
      },
      {
       "output_type": "stream",
       "stream": "stdout",
       "text": [
        " (1115, 1115)\n",
        "388"
       ]
      },
      {
       "output_type": "stream",
       "stream": "stdout",
       "text": [
        " 246 310 168\n",
        "<class 'numpy.matrixlib.defmatrix.matrix'>"
       ]
      },
      {
       "output_type": "stream",
       "stream": "stdout",
       "text": [
        " (1115, 1115)\n",
        "393"
       ]
      },
      {
       "output_type": "stream",
       "stream": "stdout",
       "text": [
        " 247 309 163\n",
        "<class 'numpy.matrixlib.defmatrix.matrix'>"
       ]
      },
      {
       "output_type": "stream",
       "stream": "stdout",
       "text": [
        " (1115, 1115)\n",
        "394"
       ]
      },
      {
       "output_type": "stream",
       "stream": "stdout",
       "text": [
        " 247 309 162\n",
        "<class 'numpy.matrixlib.defmatrix.matrix'>"
       ]
      },
      {
       "output_type": "stream",
       "stream": "stdout",
       "text": [
        " (1115, 1115)\n",
        "404"
       ]
      },
      {
       "output_type": "stream",
       "stream": "stdout",
       "text": [
        " 248 308 152\n",
        "<class 'numpy.matrixlib.defmatrix.matrix'>"
       ]
      },
      {
       "output_type": "stream",
       "stream": "stdout",
       "text": [
        " (1115, 1115)\n",
        "409"
       ]
      },
      {
       "output_type": "stream",
       "stream": "stdout",
       "text": [
        " 249 307 147\n",
        "<class 'numpy.matrixlib.defmatrix.matrix'>"
       ]
      },
      {
       "output_type": "stream",
       "stream": "stdout",
       "text": [
        " (1115, 1115)\n",
        "413"
       ]
      },
      {
       "output_type": "stream",
       "stream": "stdout",
       "text": [
        " 250 306 143\n",
        "<class 'numpy.matrixlib.defmatrix.matrix'>"
       ]
      },
      {
       "output_type": "stream",
       "stream": "stdout",
       "text": [
        " (1115, 1115)\n",
        "418"
       ]
      },
      {
       "output_type": "stream",
       "stream": "stdout",
       "text": [
        " 252 304 138\n",
        "<class 'numpy.matrixlib.defmatrix.matrix'>"
       ]
      },
      {
       "output_type": "stream",
       "stream": "stdout",
       "text": [
        " (1115, 1115)\n",
        "428"
       ]
      },
      {
       "output_type": "stream",
       "stream": "stdout",
       "text": [
        " 253 303 128\n",
        "<class 'numpy.matrixlib.defmatrix.matrix'>"
       ]
      },
      {
       "output_type": "stream",
       "stream": "stdout",
       "text": [
        " (1115, 1115)\n",
        "435"
       ]
      },
      {
       "output_type": "stream",
       "stream": "stdout",
       "text": [
        " 253 303 121\n"
       ]
      }
     ],
     "prompt_number": 8
    },
    {
     "cell_type": "code",
     "collapsed": false,
     "input": [
      "#for comms selected at level zero\n",
      "res_eig = {\"f\":[], \"p\": [], \"r\": []}\n",
      "\n",
      "for size in seedsizes:\n",
      "    wg = gf.WikiGraph(g, annotations)\n",
      "    wg.seedset_method = \"eig\"\n",
      "    wg.seedset_size = size\n",
      "    wg.select_seedset()\n",
      "    \n",
      "    score_index = wg.trustrank(iterations=100, alpha=0.85, trust_thresh=0)\n",
      "    wg.set_trusts(score_index)\n",
      "    \n",
      "    [p, r, f] = wg.evaluate()\n",
      "    res_eig[\"f\"].append(f)\n",
      "    res_eig[\"p\"].append(p)\n",
      "    res_eig[\"r\"].append(r)"
     ],
     "language": "python",
     "metadata": {},
     "outputs": [
      {
       "output_type": "stream",
       "stream": "stdout",
       "text": [
        "<class 'numpy.matrixlib.defmatrix.matrix'> (1115, 1115)\n",
        "359"
       ]
      },
      {
       "output_type": "stream",
       "stream": "stdout",
       "text": [
        " 241 315 197\n",
        "<class 'numpy.matrixlib.defmatrix.matrix'>"
       ]
      },
      {
       "output_type": "stream",
       "stream": "stdout",
       "text": [
        " (1115, 1115)\n",
        "359"
       ]
      },
      {
       "output_type": "stream",
       "stream": "stdout",
       "text": [
        " 241 315 197\n",
        "<class 'numpy.matrixlib.defmatrix.matrix'>"
       ]
      },
      {
       "output_type": "stream",
       "stream": "stdout",
       "text": [
        " (1115, 1115)\n",
        "361"
       ]
      },
      {
       "output_type": "stream",
       "stream": "stdout",
       "text": [
        " 241 315 195\n",
        "<class 'numpy.matrixlib.defmatrix.matrix'>"
       ]
      },
      {
       "output_type": "stream",
       "stream": "stdout",
       "text": [
        " (1115, 1115)\n",
        "368"
       ]
      },
      {
       "output_type": "stream",
       "stream": "stdout",
       "text": [
        " 242 314 188\n",
        "<class 'numpy.matrixlib.defmatrix.matrix'>"
       ]
      },
      {
       "output_type": "stream",
       "stream": "stdout",
       "text": [
        " (1115, 1115)\n",
        "373"
       ]
      },
      {
       "output_type": "stream",
       "stream": "stdout",
       "text": [
        " 243 313 183\n",
        "<class 'numpy.matrixlib.defmatrix.matrix'>"
       ]
      },
      {
       "output_type": "stream",
       "stream": "stdout",
       "text": [
        " (1115, 1115)\n",
        "384"
       ]
      },
      {
       "output_type": "stream",
       "stream": "stdout",
       "text": [
        " 243 313 172\n",
        "<class 'numpy.matrixlib.defmatrix.matrix'>"
       ]
      },
      {
       "output_type": "stream",
       "stream": "stdout",
       "text": [
        " (1115, 1115)\n",
        "402"
       ]
      },
      {
       "output_type": "stream",
       "stream": "stdout",
       "text": [
        " 243 313 154\n",
        "<class 'numpy.matrixlib.defmatrix.matrix'>"
       ]
      },
      {
       "output_type": "stream",
       "stream": "stdout",
       "text": [
        " (1115, 1115)\n",
        "404"
       ]
      },
      {
       "output_type": "stream",
       "stream": "stdout",
       "text": [
        " 243 313 152\n",
        "<class 'numpy.matrixlib.defmatrix.matrix'>"
       ]
      },
      {
       "output_type": "stream",
       "stream": "stdout",
       "text": [
        " (1115, 1115)\n",
        "413"
       ]
      },
      {
       "output_type": "stream",
       "stream": "stdout",
       "text": [
        " 245 311 143\n",
        "<class 'numpy.matrixlib.defmatrix.matrix'>"
       ]
      },
      {
       "output_type": "stream",
       "stream": "stdout",
       "text": [
        " (1115, 1115)\n",
        "418"
       ]
      },
      {
       "output_type": "stream",
       "stream": "stdout",
       "text": [
        " 245 311 138\n",
        "<class 'numpy.matrixlib.defmatrix.matrix'>"
       ]
      },
      {
       "output_type": "stream",
       "stream": "stdout",
       "text": [
        " (1115, 1115)\n",
        "434"
       ]
      },
      {
       "output_type": "stream",
       "stream": "stdout",
       "text": [
        " 246 310 122\n"
       ]
      }
     ],
     "prompt_number": 10
    },
    {
     "cell_type": "code",
     "collapsed": false,
     "input": [
      "#for comms selected at level zero\n",
      "res_outdegree = {\"f\":[], \"p\": [], \"r\": []}\n",
      "\n",
      "for size in seedsizes:\n",
      "    wg = gf.WikiGraph(g, annotations)\n",
      "    wg.seedset_method = \"outdegree\"\n",
      "    wg.seedset_size = size\n",
      "    wg.select_seedset()\n",
      "    \n",
      "    score_index = wg.trustrank(iterations=100, alpha=0.85, trust_thresh=0)\n",
      "    wg.set_trusts(score_index)\n",
      "    \n",
      "    [p, r, f] = wg.evaluate()\n",
      "    res_outdegree[\"f\"].append(f)\n",
      "    res_outdegree[\"p\"].append(p)\n",
      "    res_outdegree[\"r\"].append(r)"
     ],
     "language": "python",
     "metadata": {},
     "outputs": [
      {
       "output_type": "stream",
       "stream": "stdout",
       "text": [
        "<class 'numpy.matrixlib.defmatrix.matrix'> (1115, 1115)\n",
        "359"
       ]
      },
      {
       "output_type": "stream",
       "stream": "stdout",
       "text": [
        " 241 315 197\n",
        "<class 'numpy.matrixlib.defmatrix.matrix'>"
       ]
      },
      {
       "output_type": "stream",
       "stream": "stdout",
       "text": [
        " (1115, 1115)\n",
        "364"
       ]
      },
      {
       "output_type": "stream",
       "stream": "stdout",
       "text": [
        " 241 315 192\n",
        "<class 'numpy.matrixlib.defmatrix.matrix'>"
       ]
      },
      {
       "output_type": "stream",
       "stream": "stdout",
       "text": [
        " (1115, 1115)\n",
        "369"
       ]
      },
      {
       "output_type": "stream",
       "stream": "stdout",
       "text": [
        " 241 315 187\n",
        "<class 'numpy.matrixlib.defmatrix.matrix'>"
       ]
      },
      {
       "output_type": "stream",
       "stream": "stdout",
       "text": [
        " (1115, 1115)\n",
        "372"
       ]
      },
      {
       "output_type": "stream",
       "stream": "stdout",
       "text": [
        " 242 314 184\n",
        "<class 'numpy.matrixlib.defmatrix.matrix'>"
       ]
      },
      {
       "output_type": "stream",
       "stream": "stdout",
       "text": [
        " (1115, 1115)\n",
        "384"
       ]
      },
      {
       "output_type": "stream",
       "stream": "stdout",
       "text": [
        " 243 313 172\n",
        "<class 'numpy.matrixlib.defmatrix.matrix'>"
       ]
      },
      {
       "output_type": "stream",
       "stream": "stdout",
       "text": [
        " (1115, 1115)\n",
        "402"
       ]
      },
      {
       "output_type": "stream",
       "stream": "stdout",
       "text": [
        " 245 311 154\n",
        "<class 'numpy.matrixlib.defmatrix.matrix'>"
       ]
      },
      {
       "output_type": "stream",
       "stream": "stdout",
       "text": [
        " (1115, 1115)\n",
        "406"
       ]
      },
      {
       "output_type": "stream",
       "stream": "stdout",
       "text": [
        " 245 311 150\n",
        "<class 'numpy.matrixlib.defmatrix.matrix'>"
       ]
      },
      {
       "output_type": "stream",
       "stream": "stdout",
       "text": [
        " (1115, 1115)\n",
        "410"
       ]
      },
      {
       "output_type": "stream",
       "stream": "stdout",
       "text": [
        " 245 311 146\n",
        "<class 'numpy.matrixlib.defmatrix.matrix'>"
       ]
      },
      {
       "output_type": "stream",
       "stream": "stdout",
       "text": [
        " (1115, 1115)\n",
        "421"
       ]
      },
      {
       "output_type": "stream",
       "stream": "stdout",
       "text": [
        " 245 311 135\n",
        "<class 'numpy.matrixlib.defmatrix.matrix'>"
       ]
      },
      {
       "output_type": "stream",
       "stream": "stdout",
       "text": [
        " (1115, 1115)\n",
        "431"
       ]
      },
      {
       "output_type": "stream",
       "stream": "stdout",
       "text": [
        " 245 311 125\n",
        "<class 'numpy.matrixlib.defmatrix.matrix'>"
       ]
      },
      {
       "output_type": "stream",
       "stream": "stdout",
       "text": [
        " (1115, 1115)\n",
        "434"
       ]
      },
      {
       "output_type": "stream",
       "stream": "stdout",
       "text": [
        " 245 311 122\n"
       ]
      }
     ],
     "prompt_number": 11
    },
    {
     "cell_type": "code",
     "collapsed": false,
     "input": [
      "#for comms selected at level zero\n",
      "res_comm_hubs = {\"f\":[], \"p\": [], \"r\": []}\n",
      "\n",
      "for size in seedsizes:\n",
      "    wg = gf.WikiGraph(g, annotations)\n",
      "    wg.seedset_method = \"community-hubs\"\n",
      "    wg.seedset_size = size\n",
      "    wg.select_seedset()\n",
      "    \n",
      "    score_index = wg.trustrank(iterations=100, alpha=0.85, trust_thresh=0)\n",
      "    wg.set_trusts(score_index)\n",
      "    \n",
      "    [p, r, f] = wg.evaluate()\n",
      "    res_comm_hubs[\"f\"].append(f)\n",
      "    res_comm_hubs[\"p\"].append(p)\n",
      "    res_comm_hubs[\"r\"].append(r)"
     ],
     "language": "python",
     "metadata": {},
     "outputs": [
      {
       "output_type": "stream",
       "stream": "stdout",
       "text": [
        "<class 'numpy.matrixlib.defmatrix.matrix'> (1115, 1115)\n",
        "332"
       ]
      },
      {
       "output_type": "stream",
       "stream": "stdout",
       "text": [
        " 237 319 224\n",
        "<class 'numpy.matrixlib.defmatrix.matrix'>"
       ]
      },
      {
       "output_type": "stream",
       "stream": "stdout",
       "text": [
        " (1115, 1115)\n",
        "339"
       ]
      },
      {
       "output_type": "stream",
       "stream": "stdout",
       "text": [
        " 237 319 217\n",
        "<class 'numpy.matrixlib.defmatrix.matrix'>"
       ]
      },
      {
       "output_type": "stream",
       "stream": "stdout",
       "text": [
        " (1115, 1115)\n",
        "342"
       ]
      },
      {
       "output_type": "stream",
       "stream": "stdout",
       "text": [
        " 238 318 214\n",
        "<class 'numpy.matrixlib.defmatrix.matrix'>"
       ]
      },
      {
       "output_type": "stream",
       "stream": "stdout",
       "text": [
        " (1115, 1115)\n",
        "351"
       ]
      },
      {
       "output_type": "stream",
       "stream": "stdout",
       "text": [
        " 238 318 205\n",
        "<class 'numpy.matrixlib.defmatrix.matrix'>"
       ]
      },
      {
       "output_type": "stream",
       "stream": "stdout",
       "text": [
        " (1115, 1115)\n",
        "357"
       ]
      },
      {
       "output_type": "stream",
       "stream": "stdout",
       "text": [
        " 238 318 199\n",
        "<class 'numpy.matrixlib.defmatrix.matrix'>"
       ]
      },
      {
       "output_type": "stream",
       "stream": "stdout",
       "text": [
        " (1115, 1115)\n",
        "366"
       ]
      },
      {
       "output_type": "stream",
       "stream": "stdout",
       "text": [
        " 239 317 190\n",
        "<class 'numpy.matrixlib.defmatrix.matrix'>"
       ]
      },
      {
       "output_type": "stream",
       "stream": "stdout",
       "text": [
        " (1115, 1115)\n",
        "382"
       ]
      },
      {
       "output_type": "stream",
       "stream": "stdout",
       "text": [
        " 239 317 174\n",
        "<class 'numpy.matrixlib.defmatrix.matrix'>"
       ]
      },
      {
       "output_type": "stream",
       "stream": "stdout",
       "text": [
        " (1115, 1115)\n",
        "385"
       ]
      },
      {
       "output_type": "stream",
       "stream": "stdout",
       "text": [
        " 239 317 171\n",
        "<class 'numpy.matrixlib.defmatrix.matrix'>"
       ]
      },
      {
       "output_type": "stream",
       "stream": "stdout",
       "text": [
        " (1115, 1115)\n",
        "394"
       ]
      },
      {
       "output_type": "stream",
       "stream": "stdout",
       "text": [
        " 241 315 162\n",
        "<class 'numpy.matrixlib.defmatrix.matrix'>"
       ]
      },
      {
       "output_type": "stream",
       "stream": "stdout",
       "text": [
        " (1115, 1115)\n",
        "404"
       ]
      },
      {
       "output_type": "stream",
       "stream": "stdout",
       "text": [
        " 242 314 152\n",
        "<class 'numpy.matrixlib.defmatrix.matrix'>"
       ]
      },
      {
       "output_type": "stream",
       "stream": "stdout",
       "text": [
        " (1115, 1115)\n",
        "420"
       ]
      },
      {
       "output_type": "stream",
       "stream": "stdout",
       "text": [
        " 242 314 136\n"
       ]
      }
     ],
     "prompt_number": 9
    },
    {
     "cell_type": "code",
     "collapsed": false,
     "input": [
      "from scipy.ndimage.filters import gaussian_filter\n",
      "sf = 1\n",
      "\n",
      "fig = figure()\n",
      "ax = fig.add_subplot(1,1,1)\n",
      "seedsizes = array(seedsizes)/2\n",
      "\n",
      "plot(seedsizes, gaussian_filter(res_pagerank[\"p\"], sf), \"r--\", marker=\"o\", label=\"Precision\")\n",
      "plot(seedsizes, gaussian_filter(res_pagerank[\"r\"], sf), \"r-.\", marker=\"o\", label=\"Recall\")\n",
      "plot(seedsizes, gaussian_filter(res_pagerank[\"f\"], sf), \"r-\", marker=\"o\", label=\"F-measure\")\n",
      "\n",
      "plot(seedsizes, gaussian_filter(res_comm_pagerank_one[\"p\"], sf), \"b--\", marker=\"o\", label=\"Precision\")\n",
      "plot(seedsizes, gaussian_filter(res_comm_pagerank_one[\"r\"], sf), \"b-.\", marker=\"o\", label=\"Recall\")\n",
      "plot(seedsizes, gaussian_filter(res_comm_pagerank_one[\"f\"], sf), \"b-\", marker=\"o\", label=\"F-measure\")\n",
      "\n",
      "plot(seedsizes, gaussian_filter(res_comm_hubs[\"p\"], sf), \"g--\", marker=\"o\", label=\"Precision\")\n",
      "plot(seedsizes, gaussian_filter(res_comm_hubs[\"r\"], sf), \"g-.\", marker=\"o\", label=\"Recall\")\n",
      "plot(seedsizes, gaussian_filter(res_comm_hubs[\"f\"], sf), \"g-\", marker=\"o\", label=\"F-measure\")\n",
      "\n",
      "plot(seedsizes, gaussian_filter(res_outdegree[\"p\"], sf), \"c--\", marker=\"o\", label=\"Precision\")\n",
      "plot(seedsizes, gaussian_filter(res_outdegree[\"r\"], sf), \"c-.\", marker=\"o\", label=\"Recall\")\n",
      "plot(seedsizes, gaussian_filter(res_outdegree[\"f\"], sf), \"c-\", marker=\"o\", label=\"F-measure\")\n",
      "\n",
      "plot(seedsizes, gaussian_filter(res_eig[\"p\"], sf), \"m--\", marker=\"o\", label=\"Precision\")\n",
      "plot(seedsizes, gaussian_filter(res_eig[\"r\"], sf), \"m-.\", marker=\"o\", label=\"Recall\")\n",
      "plot(seedsizes, gaussian_filter(res_eig[\"f\"], sf), \"m-\", marker=\"o\", label=\"F-measure\")\n",
      "\n",
      "#Get artists and labels for legend and chose which ones to display\n",
      "xlabel(\"Size of the seedset\")\n",
      "\n",
      "handles, labels = ax.get_legend_handles_labels()\n",
      "display = (2, 5, 8, 11, 14)\n",
      "\n",
      "#Create custom artists\n",
      "precision = plt.Line2D((0,1),(0,0), color='k', linestyle='--')\n",
      "recall = plt.Line2D((0,1),(0,0), color='k', linestyle='-.')\n",
      "f_measure = plt.Line2D((0,1),(0,0), color='k', linestyle='-')\n",
      "\n",
      "#Create legend from custom artist/label lists\n",
      "ax.legend([handle for i,handle in enumerate(handles) if i in display]+[precision, recall, f_measure],\n",
      "          ['Pagerank', 'Community (pageranks)', 'Community (hubs)', 'Outdegree centrality', 'Eigenvector centrality'] + ['Precision', 'Recall', 'F-Measure'], \n",
      "          loc='lower right')\n",
      "\n",
      "grid()\n",
      "draw()"
     ],
     "language": "python",
     "metadata": {},
     "outputs": [],
     "prompt_number": 14
    },
    {
     "cell_type": "heading",
     "level": 1,
     "metadata": {},
     "source": [
      "Use the best method"
     ]
    },
    {
     "cell_type": "code",
     "collapsed": false,
     "input": [
      "wg = gf.WikiGraph(g, annotations)\n",
      "wg.seedset_method = \"community-pagerank\"\n",
      "wg.seedset_type = \"both\"\n",
      "wg.seedset_size = 50\n",
      "wg.select_seedset()\n",
      "\n",
      "score_index = wg.trustrank(iterations=100, alpha=0.85, trust_thresh=0)\n",
      "wg.set_trusts(score_index)\n",
      "\n",
      "[p, r, f] = wg.evaluate()"
     ],
     "language": "python",
     "metadata": {},
     "outputs": [
      {
       "output_type": "stream",
       "stream": "stdout",
       "text": [
        "<class 'numpy.matrixlib.defmatrix.matrix'> (1182, 1182)\n",
        "441"
       ]
      },
      {
       "ename": "TypeError",
       "evalue": "len() takes exactly one argument (2 given)",
       "output_type": "pyerr",
       "traceback": [
        "\u001b[1;31m---------------------------------------------------------------------------\u001b[0m\n\u001b[1;31mTypeError\u001b[0m                                 Traceback (most recent call last)",
        "\u001b[1;32m<ipython-input-96-f540986f1c88>\u001b[0m in \u001b[0;36m<module>\u001b[1;34m()\u001b[0m\n\u001b[0;32m      9\u001b[0m \u001b[1;33m\u001b[0m\u001b[0m\n\u001b[0;32m     10\u001b[0m \u001b[1;33m[\u001b[0m\u001b[0mp\u001b[0m\u001b[1;33m,\u001b[0m \u001b[0mr\u001b[0m\u001b[1;33m,\u001b[0m \u001b[0mf\u001b[0m\u001b[1;33m]\u001b[0m \u001b[1;33m=\u001b[0m \u001b[0mwg\u001b[0m\u001b[1;33m.\u001b[0m\u001b[0mevaluate\u001b[0m\u001b[1;33m(\u001b[0m\u001b[1;33m)\u001b[0m\u001b[1;33m\u001b[0m\u001b[0m\n\u001b[1;32m---> 11\u001b[1;33m \u001b[1;32mprint\u001b[0m \u001b[0mp\u001b[0m\u001b[1;33m,\u001b[0m\u001b[0mr\u001b[0m\u001b[1;33m,\u001b[0m\u001b[0mf\u001b[0m\u001b[1;33m,\u001b[0m\u001b[0mlen\u001b[0m\u001b[1;33m(\u001b[0m\u001b[0mwg\u001b[0m\u001b[1;33m.\u001b[0m\u001b[0mexpanded_seedset\u001b[0m\u001b[1;33m[\u001b[0m\u001b[1;34m\"good\"\u001b[0m\u001b[1;33m]\u001b[0m\u001b[1;33m,\u001b[0m \u001b[0mwg\u001b[0m\u001b[1;33m.\u001b[0m\u001b[0mexpanded_seedset\u001b[0m\u001b[1;33m[\u001b[0m\u001b[1;34m\"bad\"\u001b[0m\u001b[1;33m]\u001b[0m\u001b[1;33m)\u001b[0m\u001b[1;33m\u001b[0m\u001b[0m\n\u001b[0m",
        "\u001b[1;31mTypeError\u001b[0m: len() takes exactly one argument (2 given)"
       ]
      },
      {
       "output_type": "stream",
       "stream": "stdout",
       "text": [
        " 77 479 115\n",
        "0.851351351351 0.793165467626 0.821229050279"
       ]
      }
     ],
     "prompt_number": 96
    },
    {
     "cell_type": "code",
     "collapsed": false,
     "input": [
      "clean_g = wg.graph.subgraph(wg.expanded_seedset[\"good\"])\n",
      "nx.write_graphml(clean_g, '../data/carnatic_music_lsa_clean.graphml')"
     ],
     "language": "python",
     "metadata": {},
     "outputs": [],
     "prompt_number": 98
    },
    {
     "cell_type": "code",
     "collapsed": false,
     "input": [
      "print clean_g.number_of_nodes(), clean_g.number_of_edges()"
     ],
     "language": "python",
     "metadata": {},
     "outputs": [
      {
       "output_type": "stream",
       "stream": "stdout",
       "text": [
        "535 18511\n"
       ]
      }
     ],
     "prompt_number": 99
    }
   ],
   "metadata": {}
  }
 ]
}