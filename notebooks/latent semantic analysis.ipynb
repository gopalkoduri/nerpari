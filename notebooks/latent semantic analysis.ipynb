{
 "metadata": {
  "name": ""
 },
 "nbformat": 3,
 "nbformat_minor": 0,
 "worksheets": [
  {
   "cells": [
    {
     "cell_type": "code",
     "collapsed": false,
     "input": [
      "from os import chdir\n",
      "chdir(\"/homedtic/gkoduri/workspace/relation-extraction/src/\")\n",
      "\n",
      "from gensim import corpora, models, similarities\n",
      "import nltk\n",
      "import networkx as nx\n",
      "import wiki_indexer as wi\n",
      "import wiki_grapher as wg\n",
      "import pickle\n",
      "reload(wi)\n",
      "reload(wg)"
     ],
     "language": "python",
     "metadata": {},
     "outputs": [
      {
       "metadata": {},
       "output_type": "pyout",
       "prompt_number": 3,
       "text": [
        "<module 'wiki_grapher' from 'wiki_grapher.pyc'>"
       ]
      }
     ],
     "prompt_number": 3
    },
    {
     "cell_type": "code",
     "collapsed": false,
     "input": [
      "wiki_index = pickle.load(file('/homedtic/gkoduri/workspace/relation-extraction/data/wiki_index.pickle'))"
     ],
     "language": "python",
     "metadata": {},
     "outputs": [],
     "prompt_number": 4
    },
    {
     "cell_type": "code",
     "collapsed": false,
     "input": [
      "link_index = pickle.load(file('/homedtic/gkoduri/workspace/relation-extraction/data/india_politic_hyperlinks.pickle'))\n",
      "page_titles = link_index.keys()"
     ],
     "language": "python",
     "metadata": {},
     "outputs": [],
     "prompt_number": 5
    },
    {
     "cell_type": "code",
     "collapsed": false,
     "input": [
      "class WikiData():\n",
      "    def __init__(self, pages, wiki_index):\n",
      "        self.pages = pages\n",
      "        self.wiki_index = wiki_index\n",
      "        self.stemming = True\n",
      "        self.stopword_removal = True\n",
      "\n",
      "        self.alphabetic_tokenizer = nltk.tokenize.RegexpTokenizer(r'\\w+')\n",
      "        self.stemmer = nltk.stem.snowball.SnowballStemmer(\"english\")\n",
      "        \n",
      "        self.content = \"\"\n",
      "        self.tokens = []\n",
      "        \n",
      "    def __iter__(self):\n",
      "        for page in self.pages:\n",
      "            self.content = wi.get_page_content(page, self.wiki_index)\n",
      "            self.tokenize()\n",
      "            yield self.tokens\n",
      "            \n",
      "    def tokenize(self):\n",
      "        #Tokenize the text to words\n",
      "        tokenized_text = [self.alphabetic_tokenizer.tokenize(s) for s in nltk.sent_tokenize(self.content)]\n",
      "        tokenized_text = np.concatenate(tokenized_text)\n",
      "\n",
      "        #Do stemming and remove stopwords\n",
      "        if self.stemming:\n",
      "            tokenized_text = [self.stemmer.stem(w) for w in tokenized_text if\n",
      "                              not w in nltk.corpus.stopwords.words('english')]\n",
      "        elif self.stopword_removal:\n",
      "            tokenized_text = [w for w in tokenized_text if not w in nltk.corpus.stopwords.words('english')]\n",
      "            \n",
      "        rare_tokens = set(w for w in set(tokenized_text) if tokenized_text.count(w) == 1)\n",
      "        tokenized_text = [w for w in tokenized_text if w not in rare_tokens]\n",
      "        \n",
      "        self.tokens = tokenized_text"
     ],
     "language": "python",
     "metadata": {},
     "outputs": [],
     "prompt_number": 6
    },
    {
     "cell_type": "code",
     "collapsed": false,
     "input": [
      "data = WikiData(page_titles, wiki_index)"
     ],
     "language": "python",
     "metadata": {},
     "outputs": [],
     "prompt_number": 7
    },
    {
     "cell_type": "code",
     "collapsed": false,
     "input": [
      "dictionary = corpora.Dictionary(tokens for tokens in data)"
     ],
     "language": "python",
     "metadata": {},
     "outputs": [],
     "prompt_number": "*"
    },
    {
     "cell_type": "code",
     "collapsed": false,
     "input": [
      "dictionary.save('/homedtic/gkoduri/workspace/relation-extraction/data/content-analysis/carnatic_music_hyperlinks.dict')"
     ],
     "language": "python",
     "metadata": {},
     "outputs": [],
     "prompt_number": "*"
    },
    {
     "cell_type": "code",
     "collapsed": false,
     "input": [
      "print dictionary"
     ],
     "language": "python",
     "metadata": {},
     "outputs": [],
     "prompt_number": "*"
    },
    {
     "cell_type": "code",
     "collapsed": false,
     "input": [
      "class WikiCorpus():\n",
      "    def __init__(self, data, dictionary):\n",
      "        self.dictionary = dictionary\n",
      "        self.data = data\n",
      "    def __iter__(self):\n",
      "        for tokens in self.data:\n",
      "            yield self.dictionary.doc2bow(tokens)"
     ],
     "language": "python",
     "metadata": {},
     "outputs": [],
     "prompt_number": "*"
    },
    {
     "cell_type": "code",
     "collapsed": false,
     "input": [
      "corpus_gen = WikiCorpus(data, dictionary)"
     ],
     "language": "python",
     "metadata": {},
     "outputs": [],
     "prompt_number": "*"
    },
    {
     "cell_type": "code",
     "collapsed": false,
     "input": [
      "corpus = [i for i in corpus_gen]"
     ],
     "language": "python",
     "metadata": {},
     "outputs": [],
     "prompt_number": "*"
    },
    {
     "cell_type": "code",
     "collapsed": false,
     "input": [
      "corpora.MmCorpus.serialize('/homedtic/gkoduri/workspace/relation-extraction/data/content-analysis/carnatic_music_hyperlinks.mm', corpus)"
     ],
     "language": "python",
     "metadata": {},
     "outputs": [],
     "prompt_number": "*"
    },
    {
     "cell_type": "code",
     "collapsed": false,
     "input": [
      "tfidf = models.TfidfModel(corpus)\n",
      "corpus_tfidf = tfidf[corpus]"
     ],
     "language": "python",
     "metadata": {},
     "outputs": [],
     "prompt_number": 54
    },
    {
     "cell_type": "code",
     "collapsed": false,
     "input": [
      "lsi = models.LsiModel(corpus_tfidf, id2word=dictionary, num_topics=100)"
     ],
     "language": "python",
     "metadata": {},
     "outputs": [],
     "prompt_number": 96
    },
    {
     "cell_type": "code",
     "collapsed": false,
     "input": [
      "lsi.print_topics(20)"
     ],
     "language": "python",
     "metadata": {},
     "outputs": [
      {
       "metadata": {},
       "output_type": "pyout",
       "prompt_number": 97,
       "text": [
        "['0.730*\"r\\xc4\\x81gam\" + 0.359*\"scale\" + 0.256*\"melakarta\" + 0.178*\"note\" + 0.170*\"janya\" + 0.147*\"graha\" + 0.146*\"bhedam\" + 0.123*\"ascend\" + 0.104*\"descend\" + 0.102*\"shuddha\"',\n",
        " '0.264*\"film\" + 0.160*\"tamil\" + 0.148*\"song\" + 0.137*\"award\" + 0.127*\"india\" + 0.121*\"indian\" + 0.115*\"compos\" + 0.105*\"singer\" + 0.104*\"perform\" + -0.101*\"r\\xc4\\x81gam\"',\n",
        " '-0.413*\"film\" + 0.182*\"templ\" + -0.173*\"song\" + 0.158*\"centuri\" + -0.152*\"singer\" + -0.142*\"award\" + -0.121*\"album\" + -0.109*\"malayalam\" + 0.109*\"citi\" + 0.104*\"karnataka\"',\n",
        " '-0.498*\"raga\" + 0.261*\"film\" + -0.184*\"iyer\" + 0.166*\"r\\xc4\\x81gam\" + -0.130*\"swara\" + 0.117*\"tamil\" + -0.109*\"scale\" + -0.108*\"concert\" + -0.097*\"violin\" + -0.094*\"veena\"',\n",
        " '0.419*\"raga\" + -0.297*\"iyer\" + 0.189*\"film\" + -0.152*\"r\\xc4\\x81gam\" + 0.149*\"scale\" + -0.137*\"sri\" + -0.122*\"concert\" + 0.122*\"swara\" + -0.109*\"mridangam\" + -0.104*\"v\"',\n",
        " '-0.275*\"kannada\" + 0.273*\"templ\" + -0.201*\"mysor\" + 0.182*\"citi\" + 0.162*\"raga\" + -0.143*\"literatur\" + -0.136*\"poet\" + -0.115*\"write\" + -0.110*\"dasa\" + -0.109*\"wrote\"',\n",
        " '0.322*\"iyer\" + -0.187*\"album\" + 0.151*\"p\" + 0.145*\"r\" + -0.138*\"instrument\" + -0.132*\"perform\" + -0.131*\"shankar\" + -0.125*\"band\" + 0.123*\"k\" + -0.122*\"indian\"',\n",
        " '-0.332*\"mysor\" + 0.268*\"templ\" + 0.259*\"iyer\" + 0.156*\"compos\" + 0.149*\"tamil\" + -0.143*\"g\" + -0.134*\"d\" + -0.132*\"r\" + -0.130*\"p\" + 0.126*\"tyagaraja\"',\n",
        " '-0.402*\"iyer\" + 0.371*\"templ\" + 0.209*\"mysor\" + 0.180*\"sri\" + 0.149*\"festiv\" + -0.142*\"mridangam\" + -0.125*\"tamil\" + -0.116*\"scale\" + 0.115*\"lord\" + 0.090*\"song\"',\n",
        " '-0.211*\"raga\" + -0.203*\"iyer\" + 0.192*\"string\" + 0.188*\"flute\" + 0.179*\"templ\" + 0.172*\"instrument\" + 0.159*\"g\" + -0.159*\"mysor\" + 0.138*\"p\" + 0.137*\"k\"',\n",
        " '-0.388*\"mysor\" + -0.338*\"veena\" + -0.176*\"film\" + -0.145*\"wadiyar\" + -0.141*\"string\" + -0.133*\"maharaja\" + 0.122*\"danc\" + -0.120*\"iyengar\" + 0.120*\"sri\" + 0.103*\"literatur\"',\n",
        " '-0.509*\"scale\" + 0.329*\"list\" + 0.256*\"melakarta\" + 0.179*\"raga\" + -0.173*\"pentaton\" + -0.124*\"sampurna\" + -0.121*\"rishabham\" + -0.121*\"ascend\" + 0.107*\"mnemon\" + -0.107*\"templ\"',\n",
        " '-0.342*\"album\" + 0.275*\"film\" + 0.204*\"kerala\" + 0.188*\"danc\" + -0.147*\"song\" + -0.145*\"shankar\" + 0.144*\"kathakali\" + -0.139*\"tamil\" + 0.133*\"kalamandalam\" + -0.129*\"singer\"',\n",
        " '-0.353*\"kerala\" + 0.206*\"film\" + -0.176*\"singer\" + -0.170*\"malayalam\" + -0.169*\"kalamandalam\" + -0.168*\"kathakali\" + 0.158*\"sri\" + 0.154*\"flute\" + -0.148*\"pillai\" + -0.145*\"album\"',\n",
        " '-0.275*\"compos\" + -0.218*\"tyagaraja\" + 0.211*\"iyer\" + -0.185*\"list\" + 0.169*\"mridangam\" + 0.165*\"templ\" + -0.154*\"composit\" + 0.150*\"album\" + -0.148*\"kriti\" + 0.135*\"kannada\"',\n",
        " '-0.253*\"shankar\" + 0.240*\"flute\" + 0.222*\"veena\" + 0.178*\"sri\" + 0.166*\"tamil\" + 0.164*\"singer\" + 0.142*\"award\" + -0.135*\"compos\" + 0.133*\"playback\" + -0.123*\"templ\"',\n",
        " '0.410*\"veena\" + -0.304*\"flute\" + -0.277*\"list\" + -0.201*\"mridangam\" + -0.167*\"pillai\" + -0.139*\"mali\" + 0.121*\"sriniva\" + -0.117*\"sankaran\" + 0.116*\"string\" + -0.114*\"kerala\"',\n",
        " '-0.299*\"list\" + -0.202*\"veena\" + -0.187*\"khan\" + -0.143*\"karnataka\" + -0.140*\"scale\" + -0.122*\"sangeet\" + 0.116*\"pallavi\" + 0.115*\"mysor\" + -0.112*\"compos\" + 0.112*\"charanam\"',\n",
        " '-0.262*\"flute\" + -0.238*\"list\" + -0.218*\"veena\" + 0.176*\"pallavi\" + 0.142*\"charanam\" + -0.129*\"album\" + 0.125*\"tyagaraja\" + -0.121*\"kerala\" + 0.119*\"tala\" + 0.116*\"pillai\"',\n",
        " '-0.295*\"list\" + 0.275*\"flute\" + 0.207*\"rao\" + -0.184*\"tamil\" + -0.156*\"violin\" + 0.151*\"khan\" + 0.138*\"sastri\" + 0.128*\"mali\" + 0.125*\"tyagaraja\" + 0.121*\"p\"']"
       ]
      }
     ],
     "prompt_number": 97
    },
    {
     "cell_type": "code",
     "collapsed": false,
     "input": [
      "index = similarities.MatrixSimilarity(lsi[corpus_tfidf])"
     ],
     "language": "python",
     "metadata": {},
     "outputs": [],
     "prompt_number": 98
    },
    {
     "cell_type": "code",
     "collapsed": false,
     "input": [
      "for i in xrange(10):\n",
      "    sims = index[lsi[corpus[i]]]\n",
      "    sims[i] = 0\n",
      "    sim_index = list(enumerate(sims))\n",
      "    sim_index = sorted(sim_index, key=lambda x: x[1], reverse=True)\n",
      "    print page_titles[i], \":\"\n",
      "    for j, sim_value in sim_index[:10]:\n",
      "        print page_titles[j], sim_value\n",
      "    print"
     ],
     "language": "python",
     "metadata": {},
     "outputs": [
      {
       "output_type": "stream",
       "stream": "stdout",
       "text": [
        "gayathri girish :\n",
        "gayathri venkataraghavan 0.606536\n",
        "gayatri asokan 0.595556\n",
        "katcheri 0.538108\n",
        "performances of carnatic music 0.536887\n",
        "e. gayathri 0.535458\n",
        "m. balamuralikrishna 0.493117\n",
        "ranjani-gayatri 0.485892\n",
        "nirmala rajasekar 0.475727\n",
        "aruna sairam 0.468483\n",
        "sikkil gurucharan 0.462352\n",
        "\n",
        "desa munnetram :\n",
        "nandanar (1935 film) 0.827223\n",
        "marudhanayagam 0.81482\n",
        "annakili 0.774568\n",
        "en swasa kaatre 0.761007\n",
        "k. balachander 0.751128\n",
        "chandralekha (1948 film) 0.741841\n",
        "sringaram 0.734067\n",
        "u. r. jeevarathinam 0.733254\n",
        "remya nambeesan 0.731047\n",
        "ivan megharoopan 0.719976\n",
        "\n",
        "kalakkad s. ramanarayana iyer :\n",
        "iyer 0.675426\n",
        "balanadarajah iyer 0.667435\n",
        "kalpakam swaminathan 0.656251\n",
        "vairamangalam lakshmi narayanan 0.643886\n",
        "kalaimamani 0.639821\n",
        "music of tamil nadu 0.571223\n",
        "list of iyers 0.56127\n",
        "f. g. natesa iyer 0.521626\n",
        "tirukkodikaval krishna iyer 0.510385\n",
        "semmozhiyaana thamizh mozhiyaam 0.502786\n",
        "\n",
        "pacchimiriam adiyappa :\n",
        "list of carnatic composers 0.701818\n",
        "mudra (music) 0.665081\n",
        "list of compositions by tyagaraja 0.631515\n",
        "tiruvottriyur tyagayyar 0.631479\n",
        "dharmapuri subbarayar 0.622018\n",
        "pattabhiramayya 0.599915\n",
        "list of indian composers 0.593269\n",
        "musical composition 0.536915\n",
        "manambuchavadi venkatasubbayyar 0.474077\n",
        "amutham music 0.444383\n",
        "\n",
        "oottukkadu venkata kavi :\n",
        "kavi kunjara bharati 0.638961\n",
        "koteeswara iyer 0.6033\n",
        "arunachala kavi 0.591462\n",
        "giriraja kavi 0.561608\n",
        "carnatic music 0.534298\n",
        "musical composition 0.506129\n",
        "swarajati 0.481006\n",
        "pacchimiriam adiyappa 0.469603\n",
        "muthu thandavar 0.467071\n",
        "mosa walsalam sastriyar 0.462388\n",
        "\n",
        "saindhavi :\n",
        "s. janaki 0.75718\n",
        "ranjith (singer) 0.746524\n",
        "s. p. balasubrahmanyam 0.731908\n",
        "chinmayi 0.726553\n",
        "raveendran 0.714739\n",
        "mano (singer) 0.706363\n",
        "p. susheela 0.690748\n",
        "deepa miriam 0.687777\n",
        "madhu balakrishnan 0.685609\n",
        "harini 0.674675\n",
        "\n",
        "vijayanagara musicological nonet"
       ]
      },
      {
       "output_type": "stream",
       "stream": "stdout",
       "text": [
        " :\n",
        "svaramelakalanidhi 0.766727\n",
        "sangita ratnakara 0.757944\n",
        "haridasas and carnatic music 0.730588\n",
        "cant\u00e9yodjay\u00e2 0.631656\n",
        "history of music 0.624804\n",
        "music 0.584288\n",
        "development of carnatic music 0.575353\n",
        "robert morris (composer) 0.57404\n",
        "hindustani classical music 0.55047\n",
        "alan hovhaness 0.504619\n",
        "\n",
        "tyagaraja :\n",
        "list of compositions by tyagaraja 0.886079\n",
        "pancharatna kriti 0.863391\n",
        "manambuchavadi venkatasubbayyar 0.771299\n",
        "tyagaraja aradhana 0.754466\n",
        "bangalore nagarathnamma 0.689709\n",
        "tyagayya (1946 film) 0.599179\n",
        "pallavi seshayyar 0.597644\n",
        "ghanam krishna iyer 0.595103\n",
        "giriraja kavi 0.591973\n",
        "nallan chakravartula krishnamacharyulu 0.560347\n",
        "\n",
        "veturi sundararama murthy :\n",
        "bhanumathi ramakrishna 0.885546\n",
        "anand (2004 film) 0.752012\n",
        "ghantasala (singer) 0.740698\n",
        "mickey j meyer 0.727564\n",
        "mamta mohandas 0.685419\n",
        "s. p. balasubrahmanyam 0.681694\n",
        "achu rajamani 0.672367\n",
        "remya nambeesan 0.650976\n",
        "p. susheela 0.64857\n",
        "k. balachander 0.646576\n",
        "\n",
        "n. s. ramachandran :\n",
        "charumathi ramachandran 0.928802\n",
        "trichur v. ramachandran 0.908705\n",
        "sreeram ramachandran 0.854903\n",
        "ponvayal 0.607109\n",
        "chittoor subramaniam pillai 0.403775\n",
        "avaneeswaram s r vinu 0.401125\n",
        "s. v. venkatraman 0.371849\n",
        "m. l. vasanthakumari 0.297698\n",
        "mannargudi easwaran 0.276713\n",
        "kalavati 0.274305\n",
        "\n"
       ]
      }
     ],
     "prompt_number": 115
    },
    {
     "cell_type": "code",
     "collapsed": false,
     "input": [
      "lsa_g = wg.graph_lsa(page_titles, dictionary, corpus, num_topics=100, num_neighbors=100, sim_thresh=0.4)"
     ],
     "language": "python",
     "metadata": {},
     "outputs": [],
     "prompt_number": 124
    },
    {
     "cell_type": "code",
     "collapsed": false,
     "input": [
      "print len(page_titles)\n",
      "print lsa_g.number_of_nodes(), lsa_g.number_of_edges()"
     ],
     "language": "python",
     "metadata": {},
     "outputs": [
      {
       "output_type": "stream",
       "stream": "stdout",
       "text": [
        "1187\n",
        "1182 52568\n"
       ]
      }
     ],
     "prompt_number": 125
    },
    {
     "cell_type": "code",
     "collapsed": false,
     "input": [
      "annotations = pickle.load(file('/homedtic/gkoduri/workspace/relation-extraction/data/annotations.pickle'))\n",
      "for i in set(page_titles)-set(lsa_g.nodes()):\n",
      "    if i in annotations.keys():\n",
      "        print i, annotations[i]"
     ],
     "language": "python",
     "metadata": {},
     "outputs": [
      {
       "output_type": "stream",
       "stream": "stdout",
       "text": [
        "visalakshi nityanand carnatic\n"
       ]
      }
     ],
     "prompt_number": 126
    },
    {
     "cell_type": "code",
     "collapsed": false,
     "input": [
      "nx.write_graphml(lsa_g, '/homedtic/gkoduri/workspace/relation-extraction/data/carnatic_music_lsa.graphml')"
     ],
     "language": "python",
     "metadata": {},
     "outputs": [],
     "prompt_number": 127
    },
    {
     "cell_type": "code",
     "collapsed": false,
     "input": [],
     "language": "python",
     "metadata": {},
     "outputs": []
    }
   ],
   "metadata": {}
  }
 ]
}