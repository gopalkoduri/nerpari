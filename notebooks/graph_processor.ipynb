{
 "metadata": {
  "name": ""
 },
 "nbformat": 3,
 "nbformat_minor": 0,
 "worksheets": [
  {
   "cells": [
    {
     "cell_type": "code",
     "collapsed": false,
     "input": [
      "import networkx as nx\n",
      "import community as c"
     ],
     "language": "python",
     "metadata": {},
     "outputs": [],
     "prompt_number": 31
    },
    {
     "cell_type": "code",
     "collapsed": false,
     "input": [
      "g = nx.read_graphml(\"/homedtic/gkoduri/workspace/relation-extraction/data/carnatic-0.1.graphml\", node_type=unicode)"
     ],
     "language": "python",
     "metadata": {},
     "outputs": [],
     "prompt_number": 2
    },
    {
     "cell_type": "markdown",
     "metadata": {},
     "source": [
      "##Personalized pagerank based cleansing"
     ]
    },
    {
     "cell_type": "code",
     "collapsed": false,
     "input": [
      "nodes = [\"t. m. krishna\", \"abhogi\", \"vijayanagara musicological nonet\", \"chennai\", \n",
      "         \"azam jah of the carnatic\", \"mazhavaraayas\", \"national indian music competition\", \n",
      "         \"ceylon defence force\", \"madanakamarajan\", \"gaadha\"]\n",
      "\n",
      "ranks = nx.pagerank(g)\n",
      "for n in nodes:\n",
      "    print n, ranks[n]"
     ],
     "language": "python",
     "metadata": {},
     "outputs": [
      {
       "output_type": "stream",
       "stream": "stdout",
       "text": [
        "t. m. krishna 0.000689029700456\n",
        "abhogi 0.00122117426134\n",
        "vijayanagara musicological nonet 0.000323293038311\n",
        "chennai 0.000251050087372\n",
        "azam jah of the carnatic 0.000901552513085\n",
        "mazhavaraayas 0.000354018542234\n",
        "national indian music competition 0.000839475297141\n",
        "ceylon defence force 0.000118104007179\n",
        "madanakamarajan 0.000201638625206\n",
        "gaadha 0.000431366808057\n"
       ]
      }
     ],
     "prompt_number": 48
    },
    {
     "cell_type": "markdown",
     "metadata": {},
     "source": [
      "##Community detection\n",
      "\n",
      "* Check for communities\n",
      "* Get heuristics for each community to be qualified as belonging to Carnatic music."
     ]
    },
    {
     "cell_type": "code",
     "collapsed": false,
     "input": [
      "dendo = c.generate_dendogram(g)"
     ],
     "language": "python",
     "metadata": {},
     "outputs": [],
     "prompt_number": 37
    },
    {
     "cell_type": "code",
     "collapsed": false,
     "input": [
      "partition = c.best_partition(g)"
     ],
     "language": "python",
     "metadata": {},
     "outputs": [],
     "prompt_number": 4
    },
    {
     "cell_type": "code",
     "collapsed": false,
     "input": [
      "categories = {}\n",
      "min_com_size = 25\n",
      "\n",
      "for com in set(partition.values()) :\n",
      "    list_nodes = [nodes for nodes in partition.keys()\n",
      "                                if partition[nodes] == com]\n",
      "    if len(list_nodes) > min_com_size:\n",
      "         categories[com] = list_nodes"
     ],
     "language": "python",
     "metadata": {},
     "outputs": [],
     "prompt_number": 6
    },
    {
     "cell_type": "code",
     "collapsed": false,
     "input": [
      "for ind, c in categories.items():\n",
      "    avg_cc = nx.average_clustering(g, c, weight=\"weight\")\n",
      "    \n",
      "    subg = nx.subgraph(g, c)\n",
      "    sub_cc = nx.average_clustering(subg, weight=\"weight\")\n",
      "    print ind, len(c), avg_cc, sub_cc\n",
      "    print"
     ],
     "language": "python",
     "metadata": {},
     "outputs": [
      {
       "output_type": "stream",
       "stream": "stdout",
       "text": [
        "0 470 0.0764431676781 0.094859043826\n",
        "\n",
        "1"
       ]
      },
      {
       "output_type": "stream",
       "stream": "stdout",
       "text": [
        " 408 0.09165624943 0.119859179812\n",
        "\n",
        "2"
       ]
      },
      {
       "output_type": "stream",
       "stream": "stdout",
       "text": [
        " 203 0.067708855605 0.142816532019\n",
        "\n",
        "3"
       ]
      },
      {
       "output_type": "stream",
       "stream": "stdout",
       "text": [
        " 224 0.075596441867 0.102093703085\n",
        "\n",
        "4"
       ]
      },
      {
       "output_type": "stream",
       "stream": "stdout",
       "text": [
        " 145 0.199235973334 0.348465811577\n",
        "\n"
       ]
      }
     ],
     "prompt_number": 27
    },
    {
     "cell_type": "code",
     "collapsed": false,
     "input": [
      "for ind, c in categories.items():\n",
      "    print ind, c\n",
      "    print"
     ],
     "language": "python",
     "metadata": {},
     "outputs": [
      {
       "output_type": "stream",
       "stream": "stdout",
       "text": [
        "0 [u'gayathri girish', u'the blast (album)', u'desa munnetram', u'kalakkad s. ramanarayana iyer', u'palghat srirama bhagavathar', u'anthimanthaarai', u'chitra visweswaran', u'1921 buckingham and carnatic mills strike', u'royapuram', u'semmangudi', u'mysore brothers', u'azam jah of the carnatic', u'rishi valley school', u'national indian music competition', u'chennai egmore\\u2013thanjavur line', u'william ayling (judge)', u'vellore a. r. srinivasan', u'gaadha', u'vandana srinivasan', u'madanakamarajan', u'ceylon defence force', u'puthucode', u'vellore district', u'sathya prakash', u'covelong', u'southern railway zone', u'm. s. thripunithura', u'manu narayan', u'expeditions in bengal', u'vadiveeswaram', u'north indian culture', u'jaya madhavan', u'changanassery', u'bombay lakshmi rajagopalan', u'azhagianambi pillai', u'rajapalayam (dog)', u'rockfort', u'darshana kt', u'b. shivaraman', u'sakuntalai', u'gingee fort', u'g. j. r. krishnan', u'binny and co.', u'r. pichumani iyer', u'coke studio (india)', u'samuel vedanayagam pillai', u'tallapaka, india', u'tvi raaga sankamam', u'a. v. anand', u'gaana.com', u'music of andhra pradesh', u'shahid parvez', u'visakhapatnam\\u2013vijayawada section', u'mukkudal', u'sriram parasuram', u'amir mahal', u's. r. janakiraman', u'shrutilayalu', u'm. s. subbulakshmi', u't. v. sankaranarayanan', u'delhi p. sunder rajan', u'saidapet', u'upakarma', u'sithara (singer)', u'patri satish kumar', u'abdul halim jaffer khan', u'hafiz ahmad khan mosque', u't. n. sivagnanam pillai', u't. viswanathan', u'tirukkodikaval krishna iyer', u'semmozhiyaana thamizh mozhiyaam', u'abhishek raghuram', u'joi srivastava', u'nookala chinna satyanarayana', u'sainoj', u'usha uthup', u'swara', u'mysore manjunath', u'kerala natanam', u'dharmadasa walpola', u'awards of chembai', u'l. athira krishna', u'kate soper (composer)', u'royapuram railway station', u'culture of bangalore', u'nandini muthuswamy', u'indiramma iyengar', u'culture of pune', u'gayathri venkataraghavan', u'karaikudi sambasiva iyer', u'mallur, karnataka', u't. n. sivakumar', u'ramanathapuram district', u'thellar block', u'aatma (album)', u'agnee', u'7 notes to infinity', u'masjid mamoor', u'donald campbell (traveller)', u'p. leela', u'n. ramani', u'bennet veetraag', u'janardhan mitta', u'chembai memorial government music college', u'rayalaseema', u'nandanar (1935 film)', u'mothey vedakumari', u'nagai muralidharan', u'mg venkata raghavan', u'buckingham and carnatic mills', u'subramanya bharathi', u'edward balfour', u'namagiripettai', u'karthik raja', u'arungundram', u'nageshvara temple, begur', u'irinjalakuda', u'illathu pillaimar', u'kesavananda bharati', u'h. k. narayana', u'prapancham sitaram', u'amruthavarshini', u'anil srinivasan', u'violin technique', u'chowdiah', u'rudrapatna', u'anandathandavapuram', u'kaviyoor revamma', u'abdul hameed khan', u'annasaheb kirloskar', u'shankar tucker', u'nedumangad sivanandan', u'ramya nsk', u'theeyaattam', u'k. n. kesari', u'praveen d rao', u'arvind parikh', u'v. selvaganesh', u'garimella balakrishna prasad', u'ponvayal', u'tiruvallur district', u'padaharella vayasu', u'budalur', u'mavelikara krishnankutty nair', u'ore kadal', u'vijaya bhaskar', u'shrutinandan', u'vairamangalam lakshmi narayanan', u'violin', u'luz anjaneya temple', u'ranjankudi fort', u'krishna raja wadiyar iv', u'chingleput ranganathan', u'umayalpuram mali', u'mannargudi sambasiva bhagavatar', u's. jayalakshmi', u'ranganayaki rajagopalan', u'bellary m raghavendra', u'kensri school', u'msn murthy', u'c. natesa mudaliar', u'alathur brothers', u'toby wren', u'tourism in tamil nadu', u'ranjani', u'culture of thiruvananthapuram', u'damodar hota', u'battle of arnee', u'srimushnam v. raja rao', u'pappu venugopala rao', u'harini ravi', u'malabar rites', u'orlov (diamond)', u'sadanam k. harikumaran', u'sankaraguptam', u'eastern fare music foundation', u'kumaran kundram', u'vimochanam', u'haricharan', u'isai velalar', u'john mclaughlin (musician)', u'v. balakrishna eradi', u'kalavati', u'devasuram', u'vijaya dasa', u'agam (band)', u'subedar', u'thiagarajan ramani', u'melattur sahadevan', u'south indian railway company', u'ghatam udupa', u'perumbavoor g. raveendranath', u'music of india', u's. d. subbulakshmi', u'thiruvarur bakthavathsalam', u'salem k. meera', u'triplicane', u'shri (musician)', u'1932 madras and southern mahratta railway strike', u'shankar mahadevan academy', u'seshulatha kosuru', u'durga jasraj', u'list of people from karnataka', u'm. chandrasekaran', u'andolika', u'rangapura vihara', u't. r. rajakumari', u'whole tone scale', u'h. ramakrishnan', u'nawab of banganapalle', u'nadir shah mosque', u'karamana', u'karaikudi mani', u'v. v. ravi', u'sujatha rangarajan', u'kunnakudi subbalakshmi', u'santhome', u'kotturpuram', u'b. a. chidambaranath', u'thyagaraja temple, tiruvottiyur', u'kallidaikurichi', u'ranjani-gayatri', u'palghat r. raghu', u'dandapani desikar', u'thyagaraja temple, tiruvarur', u'jaysri-jeyaraaj', u\"st. george's cathedral, chennai\", u'madurai maqbara', u'kalamandalam hyderali', u'introducing a. r. rahman', u'pandit motiram pandit maniram sangeet samaroh', u'jayachamarajendra wadiyar', u'tambaram', u'shashank subramanyam', u'jaya tv', u'chandralekha (1948 film)', u'tiruvallur', u'thrissur c. rajendran', u'pudukkottai district', u'vidya shah', u'south indian education society high school', u'avaneeswaram s r vinu', u'sangeetha kalasikhamani', u'sheik chinna moulana', u'sivamani', u'pravin godkhindi', u'mannargudi easwaran', u'n. c. vasanthakokilam', u'rajkumar bharathi', u'd. karthika anagha', u'o. thanikachalam chetti', u'rama ravi', u'reghu kumar', u'sridharan sriram', u'chowdiah memorial hall', u'gowda', u'pattupurakkavu bhagavathi temple', u'aalap raju', u'khairagarh', u'kiratha arjuna', u's. rajam', u'p. v. cherian', u'mavelikkara prabhakara varma', u'ned mcgowan', u'baiju dharmajan', u'semmangudi srinivasa iyer', u'tanmoy bose', u'works of c. rajagopalachari', u'pudukkottai state', u'chepauk palace', u'pantula rama', u'chittoor subramaniam pillai', u'talagunda pillar inscription', u'kathakali', u'double harmonic scale', u's. ramanan', u'doraiswamy iyengar', u'thiruthalvaadi', u'sankaran embranthiri', u'development of carnatic music', u'm. narmadha', u'airtel super singer junior', u'raja of panagal', u'anayampatti s. ganesan', u'umayalpuram k. narayanaswamy', u'sarangadeva', u'thetakudi harihara subash chandran', u't. v. gopalakrishnan', u'jal tarang', u'reena esmail', u'raghunath manet', u'christian friedrich schwarz', u'musiri subramania iyer', u'smitha rajan', u'sudha ragunathan', u'arun luthra', u'sripada pinakapani', u'miss malini', u'narayan iyengar', u'kalaimamani', u'kambhoji', u'sheik mahaboob subhani', u'sreeram ramachandran', u'katapayadi system', u'eraviputhenthurai', u'p. s. narayanaswamy', u'susarla dakshinamurthi', u'sankarabharanam', u'lalgudi jayaraman', u'sukumar prasad', u'palladam sanjiva rao', u'before the rains', u'kuthira malika', u'edward monckton', u'madurai t. srinivasan', u'irayimman thampi', u'palghat anantharama bhagavatar', u'rugmini gopalakrishnan', u'sangeet natak', u'k. p. kittappa pillai', u'battle of wandiwash', u'kizhakku vasal', u'jama masjid, kanchipuram', u'seemantham', u'h. ramachandra shastry', u'bank of madras', u'ettayapuram', u'pavithram', u'jyotsna srikanth', u'sir john macpherson, 1st baronet', u'sir charles oakeley, 1st baronet', u'ramnad krishnan', u'ghantasala (singer)', u'nagai sriram', u'ivan megharoopan', u'thiruvilwamala', u'darbar festival', u'ramanathapuram c s murugabhoopathy', u'dhor', u'thiruvaiyaru', u'l. vaidyanathan', u'aiyarappar temple', u'r. n. arogyasamy mudaliar', u't. v. ramprasadh', u'swarabhishekam', u'arcot ramasamy mudaliar', u'philip v. francis', u'list of carnatic singers', u'guruvayur', u'arcot, vellore', u'abbas cultural organization', u'french in syracuse, new york', u'manda sudharani', u'life of pi (film)', u'swati kiranam', u'jonathan scott (orientalist)', u\"st.joseph's school, trichy\", u'de ghuma ke', u'mylapore', u'radha viswanathan', u'p. unni krishnan', u'louis banks', u'neyveli santhanagopalan', u'tiruchy l. saravanan', u'fireflies festival of sacred music', u'p.s. vanajam', u'colonial cousins (album)', u'dwaram lakshmi', u'madurai pushpavanam', u'revathy krishna', u'bansuri', u'geetha rajashekar', u'namagiripettai krishnan', u'jugalbandi', u'null device', u'sindhu bhairavi', u'srirangam gopalaratnam', u'e. m. subramaniam (ghatamist)', u'parampara series \\u2013 andhri', u'cant\\xe9yodjay\\xe2', u'malladi brothers', u'deepti omchery bhalla', u'sankardev', u'mankatha (soundtrack)', u'william fullarton', u'g. n. balasubramaniam', u'balabhaskar', u'swathi thirunal college of music', u'timeless (jim ankan deka album)', u'ornament (music)', u'azim-ud-daula', u'79th regiment of foot (1757)', u't. k. murthy', u'punya srinivas', u'sir thomas rumbold, 1st baronet', u'karnataka college of percussion', u'lalgudi vijayalakshmi', u'jaggi vasudev', u'aditya kalyanpur', u'nisha rajagopal', u'r. suryaprakash', u'indian institute of management lucknow', u'sangeet natak akademi fellowship', u'vani sateesh', u'london bridge (film)', u'vijay madhavan', u'patrick russell (herpetologist)', u'trichy sankaran', u'otteri nullah', u'panchalankurichi', u'seetha doraiswamy', u'r. prasanna', u'neelakantan nambisan', u'mynampati sreerama chandra', u'swarnakamalam', u'g. s. rajan', u't. nagar', u'colonial cousins', u'm. a. sreenivasan', u'ranjit barot', u'charulatha mani', u'maharajapuram viswanatha iyer', u'malayapuram singaravelu chettiar', u't.s sankaran', u'that (music)', u't. n. seshagopalan', u's. kalyanaraman', u'puli thevar', u'masjid-o-anwari', u'lan tung', u'kalasagaram annual cultural festival of music, dance and drama', u'puducode krishnamurthy', u'vidya subramanian', u'k. m. radha krishnan', u'prasanna venkatesa perumal temple, thanjavur', u'n. murali', u'h. s. sudhindra', u'tanam', u'u. srinivas', u'national public school, chennai', u'choreography (vanessa-mae album)', u'kodambakkam, chennai', u'madurai sundar', u'rajiv menon', u'nedunuri krishnamurthy', u'sreevalsan j menon', u'scott tinkler', u'grace note', u'kadayam', u'sanjay subrahmanyan', u'bidaram krishnappa', u'list of carnatic artists', u'vichitra veena', u'vaikom vijayalakshmi', u'indian rock', u'musical composition', u'parupalli ramakrishnayya pantulu', u'l.p.r. varma', u'yaksha (festival)', u't. r. mahalingam (flautist)', u'punjab gharana', u'battle of sholinghur', u'sringaram', u'list of fm radio stations in bangalore', u'magnasound', u'puzhavathu', u'robert morris (composer)', u'bahram jung mosque', u'kundgol', u'm.k. sankaran namboothiri']\n",
        "\n",
        "1 [u'saindhavi', u'vijayanagara musicological nonet', u'devulapalli krishnasastri', u'sthai', u'sahityam', u'morning raga', u'katcheri', u'adi tala', u'aman ali khan', u'chakkani rajamargamu', u'kadri gopalnath', u'subbarama dikshitar', u'vasanta habba', u'tyagaraja', u'ghatam', u'music of odisha', u'culture of mysore', u'k. s. narayanaswamy', u'resonance (madras string quartet album)', u'devadasu', u'list of carnatic instrumentalists', u'thiruvalaputhur t a kaliyamurthy', u'serfoji ii', u'performances of carnatic music', u'manachanallur giridharan', u'gangubai hangal', u'alathur venkatesa iyer', u'vanaja (film)', u'samay', u'sargam (music)', u'concerts of chembai', u'james vasanthan', u'tyagaraja aradhana', u'abdul karim khan', u'subbaraya sastri', u'simizhi sundaram iyer', u'chitta swara', u'kshetram vadyam', u'ram nam', u'rakes of mallow', u'sarangapani (disambiguation)', u'sirkazhi g. sivachidambaram', u'dakshinamurthy pillai', u'rasika', u'nishad george', u'sangeetha kalanidhi', u'margazhi raagam', u'septuple meter', u'mallika srinivasan', u'a. k. c. natarajan', u'nandhavana theru', u'bala (1976 film)', u'antara (music)', u'tarangini (music)', u'pancharatna kriti', u'pharaju', u'carnatic music', u'v.r. raghava krishna', u'madras music season', u'trichur v. ramachandran', u'poochi srinivasa iyengar', u'konnakol', u'musicians of the kingdom of mysore', u'mallikarjun mansur', u'chitti babu (musician)', u'neralattu rama poduval', u'sikh music', u'chandra', u'remya nambeesan', u'kuchipudi', u'hungarian gypsy scale', u'sopana sangeetham', u'todi (raga)', u'saranamanthram', u'emani sankara sastry', u'kanada (raga group)', u'd. k. jayaraman', u'vashanth sellathurai', u'chithram', u'kalki sadasivam', u'swarajati', u'gottuvadhyam', u'sadasiva brahmendra', u'ramesh narayan', u'viswanatha sastri', u'navakoti narayana', u't. t. krishnamachari auditorium', u'ariyakudi ramanuja iyengar', u'k. radhakrishnan', u'shakti (band)', u't. muktha', u'bazaar-e-husn', u'chembai sangeetholsavam', u'ramesh vinayakam', u'm. jayachandran', u'bhavadhaarini', u'dwaram venkataswamy naidu', u'm. k. thyagaraja bhagavathar', u'madurai mani iyer', u'parthasarathy swami sabha', u'tiruvottriyur tyagayyar', u'rudrabhatta', u'idakka', u'justin mccarthy (dancer)', u'odissi music', u'puthur-vela', u'vijayalakshmy subramaniam', u'manambuchavadi venkatasubbayyar', u'achyuta deva raya', u'a. kanyakumari', u'ee sanje', u'dance in india', u't. n. krishnan', u'haridasas and carnatic music', u'thenral', u'akkarai subhalakshmi', u'ganesh and kumaresh', u'kovur sundareswarar temple', u'alladi ramakrishnan', u'anai ayya brothers', u'urmila satyanarayana', u'thetakudi harihara vinayakram', u'rithvik raja', u'purandara dasa', u'govinda dikshitar', u'pradip somasundaran', u'ravi shankar', u't. brinda', u'ghanam krishna iyer', u'voleti venkatesvarulu', u'ram sampath', u'svaramelakalanidhi', u'palghat parameswara bhagavathar', u'naresh iyer', u'manodharma', u'carnatic r\\u0101ga', u'kirtan', u'vimala menon', u'vyasatirtha', u'h.k. narasimha murthy', u'tillana', u'paul poovathingal', u'kalki krishnamurthy', u'sikkil gurucharan', u'u. r. jeevarathinam', u'pragathi guruprasad', u'vishnu narayan bhatkhande', u'visalakshi nityanand', u'viruthan shanku', u'harmony', u'kamalamba navavarna kritis', u'e. gayathri', u'aniruddha knight', u'chembai', u't. m. krishna', u'sahiti g', u'tala (music)', u'list of compositions by tyagaraja', u'navaragamalika', u'jamey haddad', u'anupallavi', u'list of carnatic music treatises', u'culture of kerala', u'd. k. pattammal', u'raja annamalai chettiar hall', u't. ranganathan', u'suresh talwalkar', u'sikkil r. bhaskaran', u'music of malaysia', u'kurai onrum illai', u'tamil trinity', u'karnataka rajyotsava', u'pattu rajagopalan', u'soolamangalam sisters', u'mysore vasudevachar', u'm. k. rocksamy', u'r. k. shriramkumar', u'morsing', u'kirwani', u'indian classical music', u'ottu (instrument)', u'geetam', u'gamaka (storytelling)', u's. sowmya', u'kancherla gopanna', u'shahana', u'jon b. higgins', u'vijay siva', u'mysore srikanth', u'koteeswara iyer', u'papanasam sivan', u't s radhakrishnan', u'palani subramaniam pillai', u'tamil folk culture', u'malladihalli sri raghavendra swamiji', u'tiruvidaimarudur', u'ancient tamil music', u'rudresh mahanthappa', u'manickam yogeswaran', u'subbudu', u'kavi kunjara bharati', u'muthuswami dikshitar', u's. a. k. durga', u'prem nazir', u'ugabhoga', u'narayana ninna namada', u'south indian cultural association, indore', u'aishwarya vidhya raghunath', u'k. v. krishna prasad', u'2010 commonwealth games opening ceremony', u'the sunpilots', u'padmanabhapuram palace', u'madras music academy', u'oottukkadu venkata kavi', u'n. s. ramachandran', u'veenai dhanammal', u'vishaka hari', u'quintuple meter', u'k. thavamani devi', u'works of jayadeva', u'nithyasree mahadevan', u'neyyattinkara vasudevan', u'national institute of technology, tiruchirappalli', u'alan hovhaness', u'kanjira', u'manakkal rangarajan', u's. ramanathan', u'nattakurinji', u'kadal (soundtrack)', u'music of tamil nadu', u'alapana', u'viruttam', u'charanam', u'theatre of india', u'palghat mani iyer', u'saroja vaidyanathan', u'n. rajam', u'sundaram balachander', u'bhupal todi', u'rallapalli ananta krishna sharma', u'kannada poetry', u'puranam purushottama sastri', u'thayambaka', u'gopalakrishna bharathi', u'rudra (band)', u'f. g. natesa iyer', u'lakshmi shankar', u'embar kannan', u'ajjada adibhatla narayana dasu', u'kanaka dasa', u'manambuchavadi', u'mavelikkara s. r. raju', u'n. ravikiran', u'aruna sairam', u's. a. saminatha iyer', u'syama sastri', u'gandharva mahavidyalaya', u'aranmula ponnamma', u'ragam thanam pallavi', u'mukul shivputra', u'niraval', u'alla rakha', u'yaman (raga)', u'malkaush', u'bharatham', u'vinjamuri anasuya devi', u'lalitha sivakumar', u'list of indian composers', u'marimutthu pillai', u'r. n. jayagopal', u'k. v. narayanaswamy', u'saketharaman', u'veene sheshanna', u'tanpura (instrument)', u'priya sisters', u'bhinnashadaja', u'amutham music', u'kriti', u'bangalore gayana samaja', u'annupamaa', u'rajee narayan', u'annamacharya', u'kshetrayya', u'hindustani classical music', u'miguel frasconi', u'thrippunithura', u'akshipthika', u'muthiah bhagavatar', u'sarangapani', u'bharata natyam', u'narada', u'k. bhaskaran', u'mudra (music)', u'culture of andhra pradesh', u'murki', u'ranjini (disambiguation)', u'charumathi ramachandran', u'panchari melam', u'b. sasikumar', u'urmila varma', u'hyderabad brothers', u'radha jayalakshmi', u'shakthisree gopalan', u'natya shastra', u'nirmala rajasekar', u'trinity of carnatic music', u'naattupurapaattu', u'telugu poetry', u'riyaz', u'muthu thandavar', u'tambourine', u'm. l. vasanthakumari', u'neelakanta sivan', u'e. krishna iyer', u'arunachala kavi', u'shweta subram', u's. somasundaram', u'maharajapuram santhanam', u'indo-caribbean american', u'smitha madhav', u'vittal ramamurthy', u'sugama sangeetha', u'suprabhatam', u'bhadrachalam', u'm. d. ramanathan', u'hosahalli', u'varnam', u'recaka', u'thavil', u'nottuswara', u'south indian cultural association, hyderabad', u'chamarajendra wadiyar x', u'm. s. gopalakrishnan', u'dhananjayans', u'maha vaidyanatha iyer', u'veena venkatagiriyappa', u'pallavi seshayyar', u'sri rajarajeswari peetam', u'melharmony', u'ennappadam venkatarama bhagavatar', u'anand (2004 film)', u'unnal mudiyum thambi', u'rani vijaya devi', u'mridangam', u'kalasadan', u'srirangam kannan', u'madavoor vasudevan nair', u'raghunatha nayak', u'sanjeev chimmalgi', u'kalamandalam haridas', u'b. shankar rao', u'g. harishankar', u\"jew's harp\", u'thamil isai kalaamanram', u'narayana teertha', u'kothainayaki ammal', u'drone music', u'pacchimiriam adiyappa', u'tarana', u'kunnakudi vaidyanathan', u'vinay s r', u'l. shankar', u'adyar k. lakshman', u'papanasa mudaliar', u'ahir bhairav', u'natyanjali', u'kaithapram damodaran namboothiri', u'bhopali', u'kalpakam swaminathan', u'hayden chisholm', u'd. srinivas (instrumentalist)', u'sangeetha kalasarathy', u'bhairav (raga)', u'list of carnatic composers', u'solf\\xe8ge', u'rose muralikrishnan', u'nallan chakravartula krishnamacharyulu', u'vedala hemachandra', u'k. c. kesava pillai', u'singapore indian fine arts society', u'tiger varadachariar', u'sangita ratnakara', u'gamaka (music)', u'patrayani seetharama sastry', u'kudamaloor janardanan', u'broche varevaru ra', u'saraswati veena', u'rudrapatnam brothers', u'thanjavur quartet', u'anirudh ravichander', u'matrka', u'malaikkottai govindaswamy pillai', u'kirana gharana', u'vadi (music)', u'giriraja kavi', u'v. raghavan', u'patnam subramania iyer', u'susheela raman', u'motherjane', u'telugu literature', u'dharmapuri subbarayar', u'pallavi', u'veena kuppayyar', u'bhairavi (hindustani)', u'vidya balan', u'l. subramaniam', u'mysore (disambiguation)', u'mysore sadasiva rao']\n",
        "\n",
        "2 [u'hamsika iyer', u'appayya swamigalu', u'n. c. karunya', u'kottayam', u'chakra tanam', u'k. j. yesudas', u'ratheesh vegha', u'medieval kannada literature', u'carnatic expansion', u'old kannada', u'south india', u'shweta mohan', u'm. balamuralikrishna', u'hamsageethe', u'swathi thirunal rama varma', u'ivan (2002 film)', u'india', u'chola nadu', u'puttaraj gawai', u'shravanabelagola', u'hariharan (singer)', u'yuvan shankar raja', u'vokkaliga', u'mysore literature in kannada', u'culture of india', u'epigraphia carnatica', u'alaipayuthey', u'krishna ni begane baaro', u'music of kerala', u'yakshagana', u'tyagayya (1946 film)', u'eka tala', u'b. lewis rice', u'parthasarathy (parthu)', u'vidyabhushana', u'vijayanagara empire', u'arts and entertainment in india', u'chetan kumar', u'srividya', u'dakhini', u'tourism in chennai', u'thespesia populnea', u'mamta mohandas', u'chinmayi', u'haridasa', u'vidyasagar (music director)', u'anuradha sriram', u'pattabhiramayya', u'ranjith (singer)', u'art and culture of karnataka', u'manjula gururaj', u'flute', u'm. s. viswanathan', u'gayatri asokan', u'bharathwaj', u'annakili', u'm. g. radhakrishnan', u'bhimsen joshi', u'rajan-nagendra', u'bhanumathi ramakrishna', u'iyer wedding', u'sangamam', u'g. ramanathan', u'mudiraju', u'biju narayanan', u'm. g. sreekumar', u'marudhanayagam', u'karnataka', u'r. krishnasamy naidu', u'alphons joseph', u'list of k. j. yesudas concerts', u'sowmya raoh', u'bagalkot district', u'gururao deshpande', u'culture of chennai', u'political history of medieval karnataka', u'sabarimala', u'k. s. chithra', u't. k. ramamoorthy', u'indian literature', u'vijay prakash', u'ilaiyaraaja', u'p. susheela', u'patrick ngcobo', u'achu rajamani', u'karthik (singer)', u'g. devarajan', u'tripunithura krishnadas', u'tourism in karnataka', u'indian people', u'sirkazhi govindarajan', u'society of the kingdom of mysore', u't. g. lingappa', u'basavaraj rajguru', u'sawai gandharva bhimsen festival', u'gemini ganesan', u'varumayin niram sivappu', u'bangalore', u'sooraj santhosh', u'k. j. yesudas discography', u'sowmya mahadevan', u'sharanya srinivas', u'johnson (composer)', u'bombay jayashri', u'thiruvananthapuram', u's. hanumantha rao', u'vani jairam', u'andhra pradesh', u'chinmaya m. rao', u'bangalore nagarathnamma', u'vyjayanthimala', u'raaga.com', u'elu suttina kote', u'k. balachander', u'kishore kumar', u'malayalam cinema', u'vijayanagara literature in kannada', u'iruvar', u's. v. venkatraman', u'shankar mahadevan', u'south west india', u'p. pullaiah', u'anitha shaiq', u's. janaki', u'vithoba', u'filmi', u'raveendran', u'priyamani', u'puttur narasimha nayak', u'deepa miriam', u'kandukondain kandukondain', u'kanda naal mudhal', u's. r. ramaswamy', u'megha (singer)', u'viswanathan\\u2013ramamoorthy', u'mickey j meyer', u'b. arundhathi', u'rahul nambiar', u'devi sri prasad', u'jyotsna radhakrishnan', u'harris jayaraj', u'sriram parthasarathy', u'v. ramarathnam', u'k. omanakutty', u'malayali', u'c. r. subburaman', u'enthiran (soundtrack)', u'his highness abdullah', u'm. r. rajakrishnan', u'ottagathai kattiko', u's. rajeswara rao', u'western chalukya literature in kannada', u'lakshmi gopalaswamy', u'malgudi days (tv series)', u'east india', u'mahathi', u'santha p. nair', u'mohanlal', u'manoj k. jayan', u'bombay sisters', u'ramachandra tondaiman', u'keli (film)', u'j. d. chakravarthy', u'venu', u'sarabha sastri', u'en swasa kaatre', u'thanjavur subha rao', u'mano (singer)', u'gireesh puthenchery', u'anusha mani', u'srikanta wadiyar', u'a. r. rahman', u'anjana sowmya', u'mathangi jagdish', u'the prince (1996 film)', u'v. dakshinamoorthy', u'kerala', u'vasundhara devi', u'list of iyers', u'mahalakshmi iyer', u'venu (disambiguation)', u'odisha', u'rajkumar (actor)', u's. srikanta sastri', u'etymology of karnataka', u'vijayanagara literature', u'pravachan', u's. p. balasubrahmanyam', u'shankar\\u2013ehsaan\\u2013loy', u'katha (storytelling format)', u't. m. soundararajan', u'deepak dev', u'a. m. rajah', u'sindhu bhairavi (film)', u'madhu balakrishnan', u'harini', u'david dean shulman', u'south indian culture', u'thulluvadho ilamai', u'kannada literature', u'north karnataka', u'raman mahadevan', u'just sangeetha']\n",
        "\n",
        "3 [u'kanchipuram', u'chennai', u'siege of trichinopoly (1743)', u'battle of condore', u'muhammed yusuf khan', u'mazhavaraayas', u'c. p. ramaswami iyer', u'polygar war', u'ibrahim adil shah ii', u'vijaya raghunatha tondaiman', u'south arcot district (madras presidency)', u'thiruvarur', u'virudhunagar', u'karur', u'erode', u'the madras regiment', u'carnatic treaty', u'presidencies and provinces of british india', u'carnatic wars', u'ramnad estate', u'74th punjabis', u'battle of cuddalore (1758)', u'sivakasi', u\"jean-baptiste l. rom\\xe9 de l'isle\", u'jahandar shah', u'deccan plateau', u'69th punjabis', u'foreign alliances of france', u'claude martin', u'justice party (india)', u'bombay presidency', u'siege of pondicherry (1760)', u'annamalaiyar temple', u'list of governors of bombay', u'muhammad shah', u'bangaru thirumalai nayak', u'third anglo-mysore war', u'james welsh (east india company officer)', u'francis day (madras)', u'aurangzeb', u'history of bangalore', u'siege of jinji', u'73rd carnatic infantry', u'64th pioneers', u'edward harrison (british administrator)', u'alamparai fort', u'86th carnatic infantry', u'list of pre-modern great powers', u'vengeur-class ship of the line', u'edward montagu (indian army officer)', u'hmis carnatic (j199)', u'chand bibi', u'gingee', u'marquis de bussy-castelnau', u'franco-indian alliances', u'christianity in puducherry', u'muhammad ali khan wallajah', u'joseph collett', u'raghoji i bhonsle', u'james alms', u'76th punjabis', u'history of tamil nadu', u\"france in the seven years' war\", u'thoothukudi', u'meenakshi (nayak queen)', u'madras presidency', u'c. rajagopalachari', u'william baillie (east india company officer)', u'siege of arcot', u'carnatic region', u'joseph fran\\xe7ois dupleix', u'dodda krishnaraja i', u'2nd punjab regiment', u'battle of adyar', u'79th carnatic infantry', u'history of kolkata', u\"10th princess mary's own gurkha rifles\", u'fourth anglo-mysore war', u'thanjavur maratha kingdom', u'ekoji i', u\"st. mary's church, chennai\", u'british empire', u'paul benfield', u'impeachment of warren hastings', u'brigade of the guards', u'daud khan of the carnatic', u'france\\u2013india relations', u'anwaruddin khan', u'dindigul', u'tirunelveli', u'1st punjab regiment', u'sirkazhi', u'tamil people', u'roman catholic archdiocese of pondicherry and cuddalore', u'hyderabad state', u'saadatullah khan ii', u'shuldham peard', u'hinduism in tamil nadu', u'eyre coote (east india company officer)', u'thomas pitt', u'velu thampi dalawa', u'battle of pondicherry', u'siege of trichinopoly (1751\\u201352)', u'alamgir ii', u'pratap singh of thanjavur', u'travancore', u'history of madras presidency', u'nasir jung', u'second anglo-mysore war', u'chikka devaraja', u'history of india', u'ariyalur', u'kingdom of great britain', u'dost ali khan', u'battle of golden rock', u'treaty of pondicherry', u'linguistic history of the indian subcontinent', u'saadatullah khan i', u'siege of pondicherry (1748)', u'richard benyon of madras', u'palaiyakkarar', u'mysorean invasion of kerala', u'65th carnatic infantry', u'thuljaji', u\"st. peter's pontifical seminary\", u'zahir-ud-daula', u'nattar', u'santaji ghorpade', u'tirumala venkateswara temple', u'punjab regiment (india)', u'ghulam muhammad ghouse khan', u'siege of calcutta', u'battle of plassey', u'ananda ranga pillai', u'military history of india', u'hms carnatic (1783)', u'captivity of mangalorean catholics at seringapatam', u'sadashivrao bhau', u'biryani', u'80th carnatic infantry', u'john jervis, 1st earl of st vincent', u'hyder ali', u'history of the united kingdom', u'john vaughan (east india company officer)', u'madurai', u'salt march', u'nawab of the carnatic', u'battle of madras', u'trichinopoly district', u'punjab regiment (pakistan)', u'ahmad shah bahadur', u'vellore', u'dharma raja', u'chingleput district (madras presidency)', u'tiruchirappalli fort', u'chanda sahib', u'economy of chennai', u'sri ranganathaswamy temple, srirangam', u'avadhanum paupiah', u'67th punjabis', u'ambur', u'indian independence movement in tamil nadu', u'hms baleine', u'divisions of madras presidency', u'madurai nayak dynasty', u'tamil literature', u'thillai nataraja temple, chidambaram', u'francis hastings of madras', u\"great britain in the seven years' war\", u'siege of trichinopoly (1741)', u'tiruvannamalai', u'88th carnatic infantry', u'fatah muhammad', u'thanjavur', u\"child's war\", u'political history of mysore and coorg (1565\\u20131760)', u'first anglo-mysore war', u'mughal empire', u'blowing from a gun', u'cornwallis in india', u'mayiladuthurai', u'61st pioneers', u'first carnatic war', u'16th light cavalry', u'murari rao', u'vijaya raghunatha raya tondaiman i', u\"seven years' war\", u'tamil nadu', u'salabat jung', u'history of tiruchirappalli', u'action of 6 july 1746', u'nathaniel elwick', u'tiruchirappalli', u'robert clive', u'hms carnatic (1823)', u'84th regiment of foot (1759)', u'john amherst', u'province of sira', u'75th carnatic infantry', u'tanjore district (madras presidency)', u'vellore fort', u'battle of negapatam (1758)', u'azim jah', u'roman catholic diocese of vellore', u'east india company', u'iyer', u'kingdom of mysore', u'robert orme', u'tipu sultan', u'early modern britain', u'77th moplah rifles', u'tiruchirapalli rock fort', u'thalassery', u'charles penrose (royal navy officer)', u'charles cornwallis, 1st marquess cornwallis', u'muhyi ad-din muzaffar jang hidayat', u'battle of ambur', u'umdat ul-umara', u'fort st. george, india', u'63rd palamcottah light infantry', u'treaty of mangalore', u'george pigot, 1st baron pigot', u'coja petrus uscan', u'battle of chingleput']\n",
        "\n",
        "4 [u'vasu', u'abhogi', u'bhairavi (carnatic)', u'madhuvanti', u'rishi', u'shree ragam', u'sampurna raga', u'glossary of carnatic music', u'saveri', u'hindolam', u'yagapriya', u'atana', u'kalpanaswaram', u'list of janya ragas', u'manavati', u'charukesi', u'namanarayani', u'gavambhodi', u'nagasvaravali', u'malayamarutam', u'gamanashrama', u'shree ranjani', u'kokilapriya', u'navaneetam', u'naganandini', u'graha bhedam', u'sarasangi', u'sucharitra', u'kapi (raga)', u'salaga bhairavi', u'khamas (raga)', u'shruti (music)', u'jalarnavam', u'anandabhairavi', u'madhyamavati', u'shanmukhapriya', u'jhalavarali', u'raghupriya', u'vachaspati (raga)', u'udayaravichandrika', u'valaji', u'vanaspati (raga)', u'saramati', u'bilahari', u'jyoti swarupini', u'dheerasankarabharanam', u'nasikabhushani', u'kanakangi', u'bhavapriya', u'ambi subramaniam', u'kantamani', u'heptatonic scale', u'bhupalam', u'simhendramadhyamam', u'darbari kanada', u'chakravakam (raga)', u'gourimanohari', u'sahana (raga)', u'raga bhoopeshwari', u'tanarupi', u'chalanata', u'kharaharapriya', u'vivadi', u'endaro mahanubhavulu', u'ratnangi', u'avarohana', u'chitrambari', u'shadvidamargini', u'senavati', u'khamaj', u'kamavardani', u'vagadheeswari', u'vishwambari', u'dharmavati', u'dhatuvardani', u'rupavati', u'dhenuka (raga)', u'harikambhoji', u'kedaragaula', u'mararanjani', u'paidala gurumurti sastri', u'jhankaradhvani', u'gambhiranata', u'raghuvamsa sudha', u'nata (raga)', u'gangeyabhushani', u'venkatamakhin', u'natabhairavi', u'suvarnangi', u'dhanyasi', u'malahari', u'suryakantam', u'hatakambari', u'yadukulakamboji', u'melakarta', u'divyamani', u'kosalam', u'niroshta', u'kalyanavasantam', u'gayakapriya', u'arabhi', u'kalyani (raga)', u'shubhapantuvarali', u'ragavardhini', u'hanumatodi', u'raga', u'arohana', u'ramapriya', u'mohanam', u'amritavarshini', u'pann', u'neetimati', u'mohanakalyani', u'garudadhvani', u'ganamurti', u'periyasaamy thooran', u'gaula (raga)', u'janya', u'varunapriya', u'abheri', u'shulini', u'sunadavinodini', u'asaveri', u'shamalangi', u'vakulabharanam', u'asampurna melakarta', u'latangi', u'shuddha saveri', u'dhavalambari', u'kafi (raga)', u'natakapriya', u'pavani (raga)', u'varali', u'shivaranjani', u'list of compositions by muthuswami dikshitar', u'hamsadhvani', u'revati (raga)', u'keeravani', u'rishabhapriya', u'devagandhari', u'salagam', u'rasikapriya', u'karnataka shuddha saveri', u'hemavati (raga)', u'hamsanandi']\n",
        "\n"
       ]
      }
     ],
     "prompt_number": 28
    },
    {
     "cell_type": "markdown",
     "metadata": {},
     "source": [
      "##Draw the partitions"
     ]
    },
    {
     "cell_type": "code",
     "collapsed": false,
     "input": [
      "def plot_communities(g, partition):\n",
      "    colors = [\"#00308F\", \"#AF002A\", \"#FF7E00\", \"#665D1E\", \"#841B2D\", \"#3D2B1F\", \"#79443B\", \"#CD7F32\", \"#7FFF00\", \n",
      "              \"#893F45\", \"#9400D3\", \"#9B7653\", \"#555D50\", \"#CD5C5C\", \"#EE82EE\"]\n",
      "    \n",
      "    size = float(len(set(partition.values())))\n",
      "    pos = nx.spring_layout(g)\n",
      "    count = 0\n",
      "    for com in set(partition.values()) :\n",
      "        count = count + 1\n",
      "        list_nodes = [nodes for nodes in partition.keys()\n",
      "                                    if partition[nodes] == com]\n",
      "        nx.draw_networkx_nodes(g, pos, list_nodes, node_size = 20,\n",
      "                                    node_color = colors[count-1])\n",
      "    \n",
      "    \n",
      "    nx.draw_networkx_edges(g, pos, alpha=0.5)"
     ],
     "language": "python",
     "metadata": {},
     "outputs": [],
     "prompt_number": 20
    },
    {
     "cell_type": "code",
     "collapsed": false,
     "input": [
      "def filter_nodes(g, min_com_size=25):\n",
      "    partition = c.best_partition(g)\n",
      "    communities = {}\n",
      "    \n",
      "    for com in set(partition.values()) :\n",
      "        list_nodes = [nodes for nodes in partition.keys()\n",
      "                                    if partition[nodes] == com]\n",
      "        if len(list_nodes) > min_com_size:\n",
      "             communities[com] = list_nodes\n",
      "    \n",
      "    "
     ],
     "language": "python",
     "metadata": {},
     "outputs": []
    },
    {
     "cell_type": "code",
     "collapsed": false,
     "input": [
      "#Shortest path algorithm\n",
      "#Note: Does not give a good result!\n",
      "\n",
      "nodes = [\"t. m. krishna\", \"abhogi\", \"vijayanagara musicological nonet\", \"chennai\", \n",
      "         \"azam jah of the carnatic\", \"mazhavaraayas\", \"national indian music competition\", \n",
      "         \"ceylon defence force\", \"madanakamarajan\", \"gaadha\"]\n",
      "\n",
      "target_node = \"carnatic music\"\n",
      "thresh = 0.3\n",
      "\n",
      "for src_node in nodes:\n",
      "    print src_node\n",
      "    paths = nx.shortest_paths.all_shortest_paths(g, src_node, target_node)\n",
      "    #paths = nx.simple_paths.all_simple_paths(g, src_node, target_node, cutoff=2)\n",
      "    \n",
      "    relevance = 0\n",
      "    count = 0\n",
      "    for path in paths:\n",
      "        #print path, \n",
      "        l = len(path)\n",
      "        count += 1\n",
      "        weights = []\n",
      "        for i in xrange(l-1):\n",
      "            edge_data = g.get_edge_data(path[i], path[i+1])\n",
      "            if type(edge_data) is dict:\n",
      "                weights.append(edge_data[\"weight\"])\n",
      "        \n",
      "        w = reduce(lambda x, y: x*y, weights)\n",
      "        relevance += w/(l*l)\n",
      "        #print weights, w/len(path)\n",
      "    relevance /= count\n",
      "    print \"Total relevance\", relevance, \"\\n\""
     ],
     "language": "python",
     "metadata": {},
     "outputs": []
    }
   ],
   "metadata": {}
  }
 ]
}