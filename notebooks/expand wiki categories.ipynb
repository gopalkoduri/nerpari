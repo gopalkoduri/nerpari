{
 "metadata": {
  "name": ""
 },
 "nbformat": 3,
 "nbformat_minor": 0,
 "worksheets": [
  {
   "cells": [
    {
     "cell_type": "code",
     "collapsed": false,
     "input": [
      "from os.path import expanduser\n",
      "home = expanduser(\"~\")\n",
      "\n",
      "from os import chdir\n",
      "chdir(home+\"/workspace/relation-extraction/src/\")"
     ],
     "language": "python",
     "metadata": {},
     "outputs": [],
     "prompt_number": 54
    },
    {
     "cell_type": "code",
     "collapsed": false,
     "input": [
      "import pickle\n",
      "import networkx as nx\n",
      "from scipy.stats import mode\n",
      "import graph_filtering as gf\n",
      "reload(gf)\n",
      "\n",
      "import cProfile\n",
      "\n",
      "rcParams['figure.figsize'] = 12, 8"
     ],
     "language": "python",
     "metadata": {},
     "outputs": [],
     "prompt_number": 55
    },
    {
     "cell_type": "code",
     "collapsed": false,
     "input": [
      "keyword = 'carnatic_music'\n",
      "\n",
      "annotations = pickle.load(file(home+'/workspace/relation-extraction/data/'+keyword+'_annotations.pickle'))\n",
      "search_graph_file = home+'/workspace/relation-extraction/data/wiki_search/'+keyword+'_hyperlinks.graphml'\n",
      "cat_graph_file = home+'/workspace/relation-extraction/data/wiki_categories/'+keyword+'_hyperlinks.graphml'\n",
      "\n",
      "sg = nx.read_graphml(search_graph_file, node_type=unicode)\n",
      "cg = nx.read_graphml(cat_graph_file, node_type=unicode)\n",
      "\n",
      "print sg.number_of_nodes(), sg.number_of_edges()\n",
      "print cg.number_of_nodes(), cg.number_of_edges()"
     ],
     "language": "python",
     "metadata": {},
     "outputs": [
      {
       "output_type": "stream",
       "stream": "stdout",
       "text": [
        "1353 7788\n",
        "553 2752\n"
       ]
      }
     ],
     "prompt_number": 56
    },
    {
     "cell_type": "markdown",
     "metadata": {},
     "source": [
      "##Compute pageranks and assign them as initial trusts\n",
      "\n",
      "Compute pageranks from cat_graph and assign them as trusts to search_graph"
     ]
    },
    {
     "cell_type": "code",
     "collapsed": false,
     "input": [
      "pageranks = nx.pagerank(cg).items()\n",
      "pageranks = sorted(pageranks, key=lambda x: x[1], reverse=True)"
     ],
     "language": "python",
     "metadata": {},
     "outputs": [],
     "prompt_number": 57
    },
    {
     "cell_type": "code",
     "collapsed": false,
     "input": [
      "n = int(len(pageranks))\n",
      "thresh = mean([i[1] for i in pageranks[:n]])\n",
      "\n",
      "wg = gf.WikiGraph(sg, annotations)\n",
      "\n",
      "wg.set_trusts(pageranks[:n])\n",
      "scoreindex = wg.trustrank(iterations=100, trust_thresh=thresh, initialize=False)\n",
      "wg.set_trusts(scoreindex)"
     ],
     "language": "python",
     "metadata": {},
     "outputs": [],
     "prompt_number": 71
    },
    {
     "cell_type": "code",
     "collapsed": false,
     "input": [
      "added_nodes = {}\n",
      "for n in wg.graph.nodes():\n",
      "    if 'trust' in wg.graph[n] and wg.graph[n]['trust'] >= thresh and n not in cg.nodes():\n",
      "        added_nodes[n] = wg.graph[n]['trust']"
     ],
     "language": "python",
     "metadata": {},
     "outputs": [],
     "prompt_number": 72
    },
    {
     "cell_type": "code",
     "collapsed": false,
     "input": [
      "print len(added_nodes)"
     ],
     "language": "python",
     "metadata": {},
     "outputs": [
      {
       "output_type": "stream",
       "stream": "stdout",
       "text": [
        "38\n"
       ]
      }
     ],
     "prompt_number": 73
    }
   ],
   "metadata": {}
  }
 ]
}