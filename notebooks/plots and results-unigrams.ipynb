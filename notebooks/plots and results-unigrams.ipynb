{
 "metadata": {
  "name": ""
 },
 "nbformat": 3,
 "nbformat_minor": 0,
 "worksheets": [
  {
   "cells": [
    {
     "cell_type": "markdown",
     "metadata": {},
     "source": [
      "#Plots for relation extraction work"
     ]
    },
    {
     "cell_type": "markdown",
     "metadata": {},
     "source": [
      "##Graph cleaning"
     ]
    },
    {
     "cell_type": "markdown",
     "metadata": {},
     "source": [
      "###Seedset selection methods"
     ]
    },
    {
     "cell_type": "markdown",
     "metadata": {},
     "source": [
      "####Reach and balance"
     ]
    },
    {
     "cell_type": "code",
     "collapsed": false,
     "input": [
      "from os import chdir\n",
      "chdir(\"/homedtic/gkoduri/workspace/relation-extraction/src/\")"
     ],
     "language": "python",
     "metadata": {},
     "outputs": [],
     "prompt_number": 18
    },
    {
     "cell_type": "code",
     "collapsed": false,
     "input": [
      "import pickle\n",
      "import networkx as nx\n",
      "import graph_filtering as gf\n",
      "import graph_utils as gu\n",
      "reload(gf)\n",
      "\n",
      "%matplotlib tk\n",
      "rcParams['figure.figsize'] = 12, 8"
     ],
     "language": "python",
     "metadata": {},
     "outputs": [],
     "prompt_number": 57
    },
    {
     "cell_type": "code",
     "collapsed": false,
     "input": [
      "annotations = pickle.load(file('/homedtic/gkoduri/workspace/relation-extraction/data/annotations.pickle'))\n",
      "fname = '/homedtic/gkoduri/workspace/relation-extraction/data/carnatic_unigrams.graphml'\n",
      "g = nx.read_graphml(fname, node_type=unicode)\n",
      "print g.number_of_nodes(), g.number_of_edges()"
     ],
     "language": "python",
     "metadata": {},
     "outputs": [
      {
       "output_type": "stream",
       "stream": "stdout",
       "text": [
        "1532 238905\n"
       ]
      }
     ],
     "prompt_number": 8
    },
    {
     "cell_type": "code",
     "collapsed": false,
     "input": [
      "g = gu.filter_edgeweight(g, 0.25, weight_type=\"similarity\")"
     ],
     "language": "python",
     "metadata": {},
     "outputs": [],
     "prompt_number": 10
    },
    {
     "cell_type": "code",
     "collapsed": false,
     "input": [
      "print g.number_of_nodes(), g.number_of_edges()"
     ],
     "language": "python",
     "metadata": {},
     "outputs": [
      {
       "output_type": "stream",
       "stream": "stdout",
       "text": [
        "1353 20714\n"
       ]
      }
     ],
     "prompt_number": 13
    },
    {
     "cell_type": "code",
     "collapsed": false,
     "input": [
      "wg = gf.WikiGraph(g, annotations)"
     ],
     "language": "python",
     "metadata": {},
     "outputs": [],
     "prompt_number": 35
    },
    {
     "cell_type": "code",
     "collapsed": false,
     "input": [
      "res = wg.evaluate_seedset_methods()"
     ],
     "language": "python",
     "metadata": {},
     "outputs": [
      {
       "output_type": "stream",
       "stream": "stdout",
       "text": [
        "m. s. sheela not in annotations\n",
        "m. s. sheela"
       ]
      },
      {
       "output_type": "stream",
       "stream": "stdout",
       "text": [
        " not in annotations\n",
        "m. s. sheela"
       ]
      },
      {
       "output_type": "stream",
       "stream": "stdout",
       "text": [
        " not in annotations\n",
        "m. s. sheela"
       ]
      },
      {
       "output_type": "stream",
       "stream": "stdout",
       "text": [
        " not in annotations\n",
        "m. s. sheela"
       ]
      },
      {
       "output_type": "stream",
       "stream": "stdout",
       "text": [
        " not in annotations\n",
        "m. s. sheela"
       ]
      },
      {
       "output_type": "stream",
       "stream": "stdout",
       "text": [
        " not in annotations\n",
        "m. s. sheela"
       ]
      },
      {
       "output_type": "stream",
       "stream": "stdout",
       "text": [
        " not in annotations\n",
        "m. s. sheela"
       ]
      },
      {
       "output_type": "stream",
       "stream": "stdout",
       "text": [
        " not in annotations\n",
        "m. s. sheela"
       ]
      },
      {
       "output_type": "stream",
       "stream": "stdout",
       "text": [
        " not in annotations\n",
        "m. s. sheela"
       ]
      },
      {
       "output_type": "stream",
       "stream": "stdout",
       "text": [
        " not in annotations\n",
        "m. s. sheela"
       ]
      },
      {
       "output_type": "stream",
       "stream": "stdout",
       "text": [
        " not in annotations\n",
        "m. s. sheela"
       ]
      },
      {
       "output_type": "stream",
       "stream": "stdout",
       "text": [
        " not in annotations\n",
        "blind musicians not in annotations\n",
        "m. s. sheela"
       ]
      },
      {
       "output_type": "stream",
       "stream": "stdout",
       "text": [
        " not in annotations\n",
        "blind musicians not in annotations\n",
        "m. s. sheela"
       ]
      },
      {
       "output_type": "stream",
       "stream": "stdout",
       "text": [
        " not in annotations\n",
        "blind musicians not in annotations\n",
        "m. s. sheela"
       ]
      },
      {
       "output_type": "stream",
       "stream": "stdout",
       "text": [
        " not in annotations\n",
        "blind musicians not in annotations\n",
        "m. s. sheela"
       ]
      },
      {
       "output_type": "stream",
       "stream": "stdout",
       "text": [
        " not in annotations\n",
        "blind musicians not in annotations\n",
        "m. s. sheela"
       ]
      },
      {
       "output_type": "stream",
       "stream": "stdout",
       "text": [
        " not in annotations\n",
        "blind musicians not in annotations\n",
        "m. s. sheela"
       ]
      },
      {
       "output_type": "stream",
       "stream": "stdout",
       "text": [
        " not in annotations\n",
        "blind musicians not in annotations\n",
        "m. s. sheela"
       ]
      },
      {
       "output_type": "stream",
       "stream": "stdout",
       "text": [
        " not in annotations\n",
        "blind musicians not in annotations\n",
        "m. s. sheela"
       ]
      },
      {
       "output_type": "stream",
       "stream": "stdout",
       "text": [
        " not in annotations\n",
        "blind musicians not in annotations\n",
        "bhinnashadaja"
       ]
      },
      {
       "output_type": "stream",
       "stream": "stdout",
       "text": [
        " not in annotations\n",
        "m. s. sheela"
       ]
      },
      {
       "output_type": "stream",
       "stream": "stdout",
       "text": [
        " not in annotations\n",
        "blind musicians not in annotations\n",
        "bhinnashadaja"
       ]
      },
      {
       "output_type": "stream",
       "stream": "stdout",
       "text": [
        " not in annotations\n",
        "m. s. sheela"
       ]
      },
      {
       "output_type": "stream",
       "stream": "stdout",
       "text": [
        " not in annotations\n",
        "blind musicians not in annotations\n",
        "bhinnashadaja"
       ]
      },
      {
       "output_type": "stream",
       "stream": "stdout",
       "text": [
        " not in annotations\n",
        "m. s. sheela"
       ]
      },
      {
       "output_type": "stream",
       "stream": "stdout",
       "text": [
        " not in annotations\n",
        "blind musicians not in annotations\n",
        "bhinnashadaja"
       ]
      },
      {
       "output_type": "stream",
       "stream": "stdout",
       "text": [
        " not in annotations\n",
        "m. s. sheela"
       ]
      },
      {
       "output_type": "stream",
       "stream": "stdout",
       "text": [
        " not in annotations\n",
        "blind musicians not in annotations\n",
        "bhinnashadaja"
       ]
      },
      {
       "output_type": "stream",
       "stream": "stdout",
       "text": [
        " not in annotations\n",
        "m. s. sheela"
       ]
      },
      {
       "output_type": "stream",
       "stream": "stdout",
       "text": [
        " not in annotations\n",
        "blind musicians not in annotations\n",
        "bhinnashadaja"
       ]
      },
      {
       "output_type": "stream",
       "stream": "stdout",
       "text": [
        " not in annotations\n",
        "m. s. sheela"
       ]
      },
      {
       "output_type": "stream",
       "stream": "stdout",
       "text": [
        " not in annotations\n",
        "blind musicians not in annotations\n",
        "bhinnashadaja"
       ]
      },
      {
       "output_type": "stream",
       "stream": "stdout",
       "text": [
        " not in annotations\n"
       ]
      }
     ],
     "prompt_number": 36
    },
    {
     "cell_type": "code",
     "collapsed": false,
     "input": [
      "plot(res[\"x\"], res[\"pagerank_reach\"], label=\"pagerank\")\n",
      "plot(res[\"x\"], res[\"eig_reach\"], label=\"eigenvector centrality\")\n",
      "plot(res[\"x\"], res[\"outdegree_reach\"], label=\"outdegree centrality\")\n",
      "legend()\n",
      "xlabel(\"Size of the seedset\")\n",
      "ylabel(\"Reach\")"
     ],
     "language": "python",
     "metadata": {},
     "outputs": [
      {
       "metadata": {},
       "output_type": "pyout",
       "prompt_number": 37,
       "text": [
        "<matplotlib.text.Text at 0x3ac6f90>"
       ]
      }
     ],
     "prompt_number": 37
    },
    {
     "cell_type": "code",
     "collapsed": false,
     "input": [
      "figure()\n",
      "plot(res[\"x\"], res[\"pagerank_balance\"], label=\"pagerank\")\n",
      "plot(res[\"x\"], res[\"eig_balance\"], label=\"eigenvector centrality\")\n",
      "plot(res[\"x\"], res[\"outdegree_balance\"], label=\"outdegree centrality\")\n",
      "legend()\n",
      "xlabel(\"Size of the seedset\")\n",
      "ylabel(\"Balance between pos/neg chunks\")"
     ],
     "language": "python",
     "metadata": {},
     "outputs": [
      {
       "metadata": {},
       "output_type": "pyout",
       "prompt_number": 38,
       "text": [
        "<matplotlib.text.Text at 0x1c0c0f50>"
       ]
      }
     ],
     "prompt_number": 38
    },
    {
     "cell_type": "markdown",
     "metadata": {},
     "source": [
      "####Performance of the seedset selection methods"
     ]
    },
    {
     "cell_type": "code",
     "collapsed": false,
     "input": [
      "wg.seedset_method = \"pagerank\"\n",
      "pagerank_res = wg.vary_parameter(\"seedset_size\", np.arange(10, 200, 5))"
     ],
     "language": "python",
     "metadata": {},
     "outputs": [
      {
       "output_type": "stream",
       "stream": "stdout",
       "text": [
        "\n",
        "        Run configuration:\n",
        "        seedset size: 10,\n",
        "        seedset method: pagerank,\n",
        "        trust propagation method: dampening,\n",
        "        trust propagation depth: 3,\n",
        "        trust propagation damp factor: 0.850000,\n",
        "        trust propagation split factor: num_edges,\n",
        "        min. community size: 10,\n",
        "        no. of expansion steps: 1\n",
        "        \n",
        "seedset selected."
       ]
      },
      {
       "output_type": "stream",
       "stream": "stdout",
       "text": [
        "\n",
        "trusts set for seedset.\n",
        "step.1 of expanding seedset (trust prop) is done."
       ]
      },
      {
       "output_type": "stream",
       "stream": "stdout",
       "text": [
        "\n",
        "\n",
        "        Run configuration:\n",
        "        seedset size: 15,\n",
        "        seedset method: pagerank,\n",
        "        trust propagation method: dampening,\n",
        "        trust propagation depth: 3,\n",
        "        trust propagation damp factor: 0.850000,\n",
        "        trust propagation split factor: num_edges,\n",
        "        min. community size: 10,\n",
        "        no. of expansion steps: 1\n",
        "        "
       ]
      },
      {
       "output_type": "stream",
       "stream": "stdout",
       "text": [
        "\n",
        "seedset selected."
       ]
      },
      {
       "output_type": "stream",
       "stream": "stdout",
       "text": [
        "\n",
        "trusts set for seedset.\n",
        "step.1 of expanding seedset (trust prop) is done.\n",
        "\n",
        "        Run configuration:\n",
        "        seedset size: 20,\n",
        "        seedset method: pagerank,\n",
        "        trust propagation method: dampening,\n",
        "        trust propagation depth: 3,\n",
        "        trust propagation damp factor: 0.850000,\n",
        "        trust propagation split factor: num_edges,\n",
        "        min. community size: 10,\n",
        "        no. of expansion steps: 1\n",
        "        "
       ]
      },
      {
       "output_type": "stream",
       "stream": "stdout",
       "text": [
        "\n",
        "seedset selected."
       ]
      },
      {
       "output_type": "stream",
       "stream": "stdout",
       "text": [
        "\n",
        "trusts set for seedset.\n",
        "step.1 of expanding seedset (trust prop) is done."
       ]
      },
      {
       "output_type": "stream",
       "stream": "stdout",
       "text": [
        "\n",
        "\n",
        "        Run configuration:\n",
        "        seedset size: 25,\n",
        "        seedset method: pagerank,\n",
        "        trust propagation method: dampening,\n",
        "        trust propagation depth: 3,\n",
        "        trust propagation damp factor: 0.850000,\n",
        "        trust propagation split factor: num_edges,\n",
        "        min. community size: 10,\n",
        "        no. of expansion steps: 1\n",
        "        "
       ]
      },
      {
       "output_type": "stream",
       "stream": "stdout",
       "text": [
        "\n",
        "seedset selected."
       ]
      },
      {
       "output_type": "stream",
       "stream": "stdout",
       "text": [
        "\n",
        "trusts set for seedset.\n",
        "step.1 of expanding seedset (trust prop) is done.\n",
        "\n",
        "        Run configuration:\n",
        "        seedset size: 30,\n",
        "        seedset method: pagerank,\n",
        "        trust propagation method: dampening,\n",
        "        trust propagation depth: 3,\n",
        "        trust propagation damp factor: 0.850000,\n",
        "        trust propagation split factor: num_edges,\n",
        "        min. community size: 10,\n",
        "        no. of expansion steps: 1\n",
        "        "
       ]
      },
      {
       "output_type": "stream",
       "stream": "stdout",
       "text": [
        "\n",
        "seedset selected."
       ]
      },
      {
       "output_type": "stream",
       "stream": "stdout",
       "text": [
        "\n",
        "trusts set for seedset.\n",
        "step.1 of expanding seedset (trust prop) is done."
       ]
      },
      {
       "output_type": "stream",
       "stream": "stdout",
       "text": [
        "\n",
        "\n",
        "        Run configuration:\n",
        "        seedset size: 35,\n",
        "        seedset method: pagerank,\n",
        "        trust propagation method: dampening,\n",
        "        trust propagation depth: 3,\n",
        "        trust propagation damp factor: 0.850000,\n",
        "        trust propagation split factor: num_edges,\n",
        "        min. community size: 10,\n",
        "        no. of expansion steps: 1\n",
        "        "
       ]
      },
      {
       "output_type": "stream",
       "stream": "stdout",
       "text": [
        "\n",
        "seedset selected."
       ]
      },
      {
       "output_type": "stream",
       "stream": "stdout",
       "text": [
        "\n",
        "trusts set for seedset.\n",
        "step.1 of expanding seedset (trust prop) is done."
       ]
      },
      {
       "output_type": "stream",
       "stream": "stdout",
       "text": [
        "\n",
        "\n",
        "        Run configuration:\n",
        "        seedset size: 40,\n",
        "        seedset method: pagerank,\n",
        "        trust propagation method: dampening,\n",
        "        trust propagation depth: 3,\n",
        "        trust propagation damp factor: 0.850000,\n",
        "        trust propagation split factor: num_edges,\n",
        "        min. community size: 10,\n",
        "        no. of expansion steps: 1\n",
        "        "
       ]
      },
      {
       "output_type": "stream",
       "stream": "stdout",
       "text": [
        "\n",
        "seedset selected."
       ]
      },
      {
       "output_type": "stream",
       "stream": "stdout",
       "text": [
        "\n",
        "trusts set for seedset.\n",
        "step.1 of expanding seedset (trust prop) is done.\n",
        "\n",
        "        Run configuration:\n",
        "        seedset size: 45,\n",
        "        seedset method: pagerank,\n",
        "        trust propagation method: dampening,\n",
        "        trust propagation depth: 3,\n",
        "        trust propagation damp factor: 0.850000,\n",
        "        trust propagation split factor: num_edges,\n",
        "        min. community size: 10,\n",
        "        no. of expansion steps: 1\n",
        "        "
       ]
      },
      {
       "output_type": "stream",
       "stream": "stdout",
       "text": [
        "\n",
        "seedset selected."
       ]
      },
      {
       "output_type": "stream",
       "stream": "stdout",
       "text": [
        "\n",
        "trusts set for seedset.\n",
        "step.1 of expanding seedset (trust prop) is done.\n",
        "\n",
        "        Run configuration:\n",
        "        seedset size: 50,\n",
        "        seedset method: pagerank,\n",
        "        trust propagation method: dampening,\n",
        "        trust propagation depth: 3,\n",
        "        trust propagation damp factor: 0.850000,\n",
        "        trust propagation split factor: num_edges,\n",
        "        min. community size: 10,\n",
        "        no. of expansion steps: 1\n",
        "        "
       ]
      },
      {
       "output_type": "stream",
       "stream": "stdout",
       "text": [
        "\n",
        "seedset selected."
       ]
      },
      {
       "output_type": "stream",
       "stream": "stdout",
       "text": [
        "\n",
        "trusts set for seedset.\n",
        "step.1 of expanding seedset (trust prop) is done.\n",
        "\n",
        "        Run configuration:\n",
        "        seedset size: 55,\n",
        "        seedset method: pagerank,\n",
        "        trust propagation method: dampening,\n",
        "        trust propagation depth: 3,\n",
        "        trust propagation damp factor: 0.850000,\n",
        "        trust propagation split factor: num_edges,\n",
        "        min. community size: 10,\n",
        "        no. of expansion steps: 1\n",
        "        "
       ]
      },
      {
       "output_type": "stream",
       "stream": "stdout",
       "text": [
        "\n",
        "seedset selected."
       ]
      },
      {
       "output_type": "stream",
       "stream": "stdout",
       "text": [
        "\n",
        "trusts set for seedset.\n",
        "step.1 of expanding seedset (trust prop) is done.\n",
        "\n",
        "        Run configuration:\n",
        "        seedset size: 60,\n",
        "        seedset method: pagerank,\n",
        "        trust propagation method: dampening,\n",
        "        trust propagation depth: 3,\n",
        "        trust propagation damp factor: 0.850000,\n",
        "        trust propagation split factor: num_edges,\n",
        "        min. community size: 10,\n",
        "        no. of expansion steps: 1\n",
        "        "
       ]
      },
      {
       "output_type": "stream",
       "stream": "stdout",
       "text": [
        "\n",
        "seedset selected."
       ]
      },
      {
       "output_type": "stream",
       "stream": "stdout",
       "text": [
        "\n",
        "trusts set for seedset.\n",
        "step.1 of expanding seedset (trust prop) is done.\n",
        "\n",
        "        Run configuration:\n",
        "        seedset size: 65,\n",
        "        seedset method: pagerank,\n",
        "        trust propagation method: dampening,\n",
        "        trust propagation depth: 3,\n",
        "        trust propagation damp factor: 0.850000,\n",
        "        trust propagation split factor: num_edges,\n",
        "        min. community size: 10,\n",
        "        no. of expansion steps: 1\n",
        "        "
       ]
      },
      {
       "output_type": "stream",
       "stream": "stdout",
       "text": [
        "\n",
        "seedset selected."
       ]
      },
      {
       "output_type": "stream",
       "stream": "stdout",
       "text": [
        "\n",
        "trusts set for seedset.\n",
        "step.1 of expanding seedset (trust prop) is done."
       ]
      },
      {
       "output_type": "stream",
       "stream": "stdout",
       "text": [
        "\n",
        "\n",
        "        Run configuration:\n",
        "        seedset size: 70,\n",
        "        seedset method: pagerank,\n",
        "        trust propagation method: dampening,\n",
        "        trust propagation depth: 3,\n",
        "        trust propagation damp factor: 0.850000,\n",
        "        trust propagation split factor: num_edges,\n",
        "        min. community size: 10,\n",
        "        no. of expansion steps: 1\n",
        "        "
       ]
      },
      {
       "output_type": "stream",
       "stream": "stdout",
       "text": [
        "\n",
        "m. s. sheela"
       ]
      },
      {
       "output_type": "stream",
       "stream": "stdout",
       "text": [
        " not in annotations\n",
        "seedset selected.\n",
        "trusts set for seedset.\n",
        "step.1 of expanding seedset (trust prop) is done.\n",
        "\n",
        "        Run configuration:\n",
        "        seedset size: 75,\n",
        "        seedset method: pagerank,\n",
        "        trust propagation method: dampening,\n",
        "        trust propagation depth: 3,\n",
        "        trust propagation damp factor: 0.850000,\n",
        "        trust propagation split factor: num_edges,\n",
        "        min. community size: 10,\n",
        "        no. of expansion steps: 1\n",
        "        "
       ]
      },
      {
       "output_type": "stream",
       "stream": "stdout",
       "text": [
        "\n",
        "m. s. sheela"
       ]
      },
      {
       "output_type": "stream",
       "stream": "stdout",
       "text": [
        " not in annotations\n",
        "seedset selected.\n",
        "trusts set for seedset.\n",
        "step.1 of expanding seedset (trust prop) is done.\n",
        "\n",
        "        Run configuration:\n",
        "        seedset size: 80,\n",
        "        seedset method: pagerank,\n",
        "        trust propagation method: dampening,\n",
        "        trust propagation depth: 3,\n",
        "        trust propagation damp factor: 0.850000,\n",
        "        trust propagation split factor: num_edges,\n",
        "        min. community size: 10,\n",
        "        no. of expansion steps: 1\n",
        "        "
       ]
      },
      {
       "output_type": "stream",
       "stream": "stdout",
       "text": [
        "\n",
        "m. s. sheela"
       ]
      },
      {
       "output_type": "stream",
       "stream": "stdout",
       "text": [
        " not in annotations\n",
        "seedset selected.\n",
        "trusts set for seedset.\n",
        "step.1 of expanding seedset (trust prop) is done.\n",
        "\n",
        "        Run configuration:\n",
        "        seedset size: 85,\n",
        "        seedset method: pagerank,\n",
        "        trust propagation method: dampening,\n",
        "        trust propagation depth: 3,\n",
        "        trust propagation damp factor: 0.850000,\n",
        "        trust propagation split factor: num_edges,\n",
        "        min. community size: 10,\n",
        "        no. of expansion steps: 1\n",
        "        "
       ]
      },
      {
       "output_type": "stream",
       "stream": "stdout",
       "text": [
        "\n",
        "m. s. sheela"
       ]
      },
      {
       "output_type": "stream",
       "stream": "stdout",
       "text": [
        " not in annotations\n",
        "seedset selected.\n",
        "trusts set for seedset.\n",
        "step.1 of expanding seedset (trust prop) is done.\n",
        "\n",
        "        Run configuration:\n",
        "        seedset size: 90,\n",
        "        seedset method: pagerank,\n",
        "        trust propagation method: dampening,\n",
        "        trust propagation depth: 3,\n",
        "        trust propagation damp factor: 0.850000,\n",
        "        trust propagation split factor: num_edges,\n",
        "        min. community size: 10,\n",
        "        no. of expansion steps: 1\n",
        "        "
       ]
      },
      {
       "output_type": "stream",
       "stream": "stdout",
       "text": [
        "\n",
        "m. s. sheela"
       ]
      },
      {
       "output_type": "stream",
       "stream": "stdout",
       "text": [
        " not in annotations\n",
        "seedset selected.\n",
        "trusts set for seedset.\n",
        "step.1 of expanding seedset (trust prop) is done.\n",
        "\n",
        "        Run configuration:\n",
        "        seedset size: 95,\n",
        "        seedset method: pagerank,\n",
        "        trust propagation method: dampening,\n",
        "        trust propagation depth: 3,\n",
        "        trust propagation damp factor: 0.850000,\n",
        "        trust propagation split factor: num_edges,\n",
        "        min. community size: 10,\n",
        "        no. of expansion steps: 1\n",
        "        "
       ]
      },
      {
       "output_type": "stream",
       "stream": "stdout",
       "text": [
        "\n",
        "m. s. sheela"
       ]
      },
      {
       "output_type": "stream",
       "stream": "stdout",
       "text": [
        " not in annotations\n",
        "seedset selected.\n",
        "trusts set for seedset.\n",
        "step.1 of expanding seedset (trust prop) is done.\n",
        "\n",
        "        Run configuration:\n",
        "        seedset size: 100,\n",
        "        seedset method: pagerank,\n",
        "        trust propagation method: dampening,\n",
        "        trust propagation depth: 3,\n",
        "        trust propagation damp factor: 0.850000,\n",
        "        trust propagation split factor: num_edges,\n",
        "        min. community size: 10,\n",
        "        no. of expansion steps: 1\n",
        "        "
       ]
      },
      {
       "output_type": "stream",
       "stream": "stdout",
       "text": [
        "\n",
        "m. s. sheela"
       ]
      },
      {
       "output_type": "stream",
       "stream": "stdout",
       "text": [
        " not in annotations\n",
        "seedset selected.\n",
        "trusts set for seedset.\n",
        "step.1 of expanding seedset (trust prop) is done.\n",
        "\n",
        "        Run configuration:\n",
        "        seedset size: 105,\n",
        "        seedset method: pagerank,\n",
        "        trust propagation method: dampening,\n",
        "        trust propagation depth: 3,\n",
        "        trust propagation damp factor: 0.850000,\n",
        "        trust propagation split factor: num_edges,\n",
        "        min. community size: 10,\n",
        "        no. of expansion steps: 1\n",
        "        "
       ]
      },
      {
       "output_type": "stream",
       "stream": "stdout",
       "text": [
        "\n",
        "m. s. sheela"
       ]
      },
      {
       "output_type": "stream",
       "stream": "stdout",
       "text": [
        " not in annotations\n",
        "seedset selected.\n",
        "trusts set for seedset.\n",
        "step.1 of expanding seedset (trust prop) is done."
       ]
      },
      {
       "output_type": "stream",
       "stream": "stdout",
       "text": [
        "\n",
        "\n",
        "        Run configuration:\n",
        "        seedset size: 110,\n",
        "        seedset method: pagerank,\n",
        "        trust propagation method: dampening,\n",
        "        trust propagation depth: 3,\n",
        "        trust propagation damp factor: 0.850000,\n",
        "        trust propagation split factor: num_edges,\n",
        "        min. community size: 10,\n",
        "        no. of expansion steps: 1\n",
        "        "
       ]
      },
      {
       "output_type": "stream",
       "stream": "stdout",
       "text": [
        "\n",
        "m. s. sheela"
       ]
      },
      {
       "output_type": "stream",
       "stream": "stdout",
       "text": [
        " not in annotations\n",
        "seedset selected.\n",
        "trusts set for seedset.\n",
        "step.1 of expanding seedset (trust prop) is done."
       ]
      },
      {
       "output_type": "stream",
       "stream": "stdout",
       "text": [
        "\n",
        "\n",
        "        Run configuration:\n",
        "        seedset size: 115,\n",
        "        seedset method: pagerank,\n",
        "        trust propagation method: dampening,\n",
        "        trust propagation depth: 3,\n",
        "        trust propagation damp factor: 0.850000,\n",
        "        trust propagation split factor: num_edges,\n",
        "        min. community size: 10,\n",
        "        no. of expansion steps: 1\n",
        "        "
       ]
      },
      {
       "output_type": "stream",
       "stream": "stdout",
       "text": [
        "\n",
        "m. s. sheela"
       ]
      },
      {
       "output_type": "stream",
       "stream": "stdout",
       "text": [
        " not in annotations\n",
        "seedset selected.\n",
        "trusts set for seedset.\n",
        "step.1 of expanding seedset (trust prop) is done."
       ]
      },
      {
       "output_type": "stream",
       "stream": "stdout",
       "text": [
        "\n",
        "\n",
        "        Run configuration:\n",
        "        seedset size: 120,\n",
        "        seedset method: pagerank,\n",
        "        trust propagation method: dampening,\n",
        "        trust propagation depth: 3,\n",
        "        trust propagation damp factor: 0.850000,\n",
        "        trust propagation split factor: num_edges,\n",
        "        min. community size: 10,\n",
        "        no. of expansion steps: 1\n",
        "        "
       ]
      },
      {
       "output_type": "stream",
       "stream": "stdout",
       "text": [
        "\n",
        "m. s. sheela"
       ]
      },
      {
       "output_type": "stream",
       "stream": "stdout",
       "text": [
        " not in annotations\n",
        "seedset selected.\n",
        "trusts set for seedset.\n",
        "step.1 of expanding seedset (trust prop) is done."
       ]
      },
      {
       "output_type": "stream",
       "stream": "stdout",
       "text": [
        "\n",
        "\n",
        "        Run configuration:\n",
        "        seedset size: 125,\n",
        "        seedset method: pagerank,\n",
        "        trust propagation method: dampening,\n",
        "        trust propagation depth: 3,\n",
        "        trust propagation damp factor: 0.850000,\n",
        "        trust propagation split factor: num_edges,\n",
        "        min. community size: 10,\n",
        "        no. of expansion steps: 1\n",
        "        "
       ]
      },
      {
       "output_type": "stream",
       "stream": "stdout",
       "text": [
        "\n",
        "m. s. sheela"
       ]
      },
      {
       "output_type": "stream",
       "stream": "stdout",
       "text": [
        " not in annotations\n",
        "blind musicians not in annotations\n",
        "seedset selected.\n",
        "trusts set for seedset.\n",
        "step.1 of expanding seedset (trust prop) is done."
       ]
      },
      {
       "output_type": "stream",
       "stream": "stdout",
       "text": [
        "\n",
        "\n",
        "        Run configuration:\n",
        "        seedset size: 130,\n",
        "        seedset method: pagerank,\n",
        "        trust propagation method: dampening,\n",
        "        trust propagation depth: 3,\n",
        "        trust propagation damp factor: 0.850000,\n",
        "        trust propagation split factor: num_edges,\n",
        "        min. community size: 10,\n",
        "        no. of expansion steps: 1\n",
        "        "
       ]
      },
      {
       "output_type": "stream",
       "stream": "stdout",
       "text": [
        "\n",
        "m. s. sheela"
       ]
      },
      {
       "output_type": "stream",
       "stream": "stdout",
       "text": [
        " not in annotations\n",
        "blind musicians not in annotations\n",
        "seedset selected.\n",
        "trusts set for seedset.\n",
        "step.1 of expanding seedset (trust prop) is done."
       ]
      },
      {
       "output_type": "stream",
       "stream": "stdout",
       "text": [
        "\n",
        "\n",
        "        Run configuration:\n",
        "        seedset size: 135,\n",
        "        seedset method: pagerank,\n",
        "        trust propagation method: dampening,\n",
        "        trust propagation depth: 3,\n",
        "        trust propagation damp factor: 0.850000,\n",
        "        trust propagation split factor: num_edges,\n",
        "        min. community size: 10,\n",
        "        no. of expansion steps: 1\n",
        "        "
       ]
      },
      {
       "output_type": "stream",
       "stream": "stdout",
       "text": [
        "\n",
        "m. s. sheela"
       ]
      },
      {
       "output_type": "stream",
       "stream": "stdout",
       "text": [
        " not in annotations\n",
        "blind musicians not in annotations\n",
        "seedset selected.\n",
        "trusts set for seedset.\n",
        "step.1 of expanding seedset (trust prop) is done."
       ]
      },
      {
       "output_type": "stream",
       "stream": "stdout",
       "text": [
        "\n",
        "\n",
        "        Run configuration:\n",
        "        seedset size: 140,\n",
        "        seedset method: pagerank,\n",
        "        trust propagation method: dampening,\n",
        "        trust propagation depth: 3,\n",
        "        trust propagation damp factor: 0.850000,\n",
        "        trust propagation split factor: num_edges,\n",
        "        min. community size: 10,\n",
        "        no. of expansion steps: 1\n",
        "        "
       ]
      },
      {
       "output_type": "stream",
       "stream": "stdout",
       "text": [
        "\n",
        "m. s. sheela"
       ]
      },
      {
       "output_type": "stream",
       "stream": "stdout",
       "text": [
        " not in annotations\n",
        "blind musicians not in annotations\n",
        "seedset selected.\n",
        "trusts set for seedset.\n",
        "step.1 of expanding seedset (trust prop) is done."
       ]
      },
      {
       "output_type": "stream",
       "stream": "stdout",
       "text": [
        "\n",
        "\n",
        "        Run configuration:\n",
        "        seedset size: 145,\n",
        "        seedset method: pagerank,\n",
        "        trust propagation method: dampening,\n",
        "        trust propagation depth: 3,\n",
        "        trust propagation damp factor: 0.850000,\n",
        "        trust propagation split factor: num_edges,\n",
        "        min. community size: 10,\n",
        "        no. of expansion steps: 1\n",
        "        "
       ]
      },
      {
       "output_type": "stream",
       "stream": "stdout",
       "text": [
        "\n",
        "m. s. sheela"
       ]
      },
      {
       "output_type": "stream",
       "stream": "stdout",
       "text": [
        " not in annotations\n",
        "blind musicians not in annotations\n",
        "seedset selected.\n",
        "trusts set for seedset.\n",
        "step.1 of expanding seedset (trust prop) is done."
       ]
      },
      {
       "output_type": "stream",
       "stream": "stdout",
       "text": [
        "\n",
        "\n",
        "        Run configuration:\n",
        "        seedset size: 150,\n",
        "        seedset method: pagerank,\n",
        "        trust propagation method: dampening,\n",
        "        trust propagation depth: 3,\n",
        "        trust propagation damp factor: 0.850000,\n",
        "        trust propagation split factor: num_edges,\n",
        "        min. community size: 10,\n",
        "        no. of expansion steps: 1\n",
        "        "
       ]
      },
      {
       "output_type": "stream",
       "stream": "stdout",
       "text": [
        "\n",
        "m. s. sheela"
       ]
      },
      {
       "output_type": "stream",
       "stream": "stdout",
       "text": [
        " not in annotations\n",
        "blind musicians not in annotations\n",
        "seedset selected.\n",
        "trusts set for seedset.\n",
        "step.1 of expanding seedset (trust prop) is done."
       ]
      },
      {
       "output_type": "stream",
       "stream": "stdout",
       "text": [
        "\n",
        "\n",
        "        Run configuration:\n",
        "        seedset size: 155,\n",
        "        seedset method: pagerank,\n",
        "        trust propagation method: dampening,\n",
        "        trust propagation depth: 3,\n",
        "        trust propagation damp factor: 0.850000,\n",
        "        trust propagation split factor: num_edges,\n",
        "        min. community size: 10,\n",
        "        no. of expansion steps: 1\n",
        "        "
       ]
      },
      {
       "output_type": "stream",
       "stream": "stdout",
       "text": [
        "\n",
        "m. s. sheela"
       ]
      },
      {
       "output_type": "stream",
       "stream": "stdout",
       "text": [
        " not in annotations\n",
        "blind musicians not in annotations\n",
        "seedset selected.\n",
        "trusts set for seedset.\n",
        "step.1 of expanding seedset (trust prop) is done."
       ]
      },
      {
       "output_type": "stream",
       "stream": "stdout",
       "text": [
        "\n",
        "\n",
        "        Run configuration:\n",
        "        seedset size: 160,\n",
        "        seedset method: pagerank,\n",
        "        trust propagation method: dampening,\n",
        "        trust propagation depth: 3,\n",
        "        trust propagation damp factor: 0.850000,\n",
        "        trust propagation split factor: num_edges,\n",
        "        min. community size: 10,\n",
        "        no. of expansion steps: 1\n",
        "        "
       ]
      },
      {
       "output_type": "stream",
       "stream": "stdout",
       "text": [
        "\n",
        "m. s. sheela"
       ]
      },
      {
       "output_type": "stream",
       "stream": "stdout",
       "text": [
        " not in annotations\n",
        "blind musicians not in annotations\n",
        "seedset selected.\n",
        "trusts set for seedset.\n",
        "step.1 of expanding seedset (trust prop) is done."
       ]
      },
      {
       "output_type": "stream",
       "stream": "stdout",
       "text": [
        "\n",
        "\n",
        "        Run configuration:\n",
        "        seedset size: 165,\n",
        "        seedset method: pagerank,\n",
        "        trust propagation method: dampening,\n",
        "        trust propagation depth: 3,\n",
        "        trust propagation damp factor: 0.850000,\n",
        "        trust propagation split factor: num_edges,\n",
        "        min. community size: 10,\n",
        "        no. of expansion steps: 1\n",
        "        "
       ]
      },
      {
       "output_type": "stream",
       "stream": "stdout",
       "text": [
        "\n",
        "m. s. sheela"
       ]
      },
      {
       "output_type": "stream",
       "stream": "stdout",
       "text": [
        " not in annotations\n",
        "blind musicians not in annotations\n",
        "seedset selected.\n",
        "trusts set for seedset.\n",
        "step.1 of expanding seedset (trust prop) is done."
       ]
      },
      {
       "output_type": "stream",
       "stream": "stdout",
       "text": [
        "\n",
        "\n",
        "        Run configuration:\n",
        "        seedset size: 170,\n",
        "        seedset method: pagerank,\n",
        "        trust propagation method: dampening,\n",
        "        trust propagation depth: 3,\n",
        "        trust propagation damp factor: 0.850000,\n",
        "        trust propagation split factor: num_edges,\n",
        "        min. community size: 10,\n",
        "        no. of expansion steps: 1\n",
        "        "
       ]
      },
      {
       "output_type": "stream",
       "stream": "stdout",
       "text": [
        "\n",
        "m. s. sheela"
       ]
      },
      {
       "output_type": "stream",
       "stream": "stdout",
       "text": [
        " not in annotations\n",
        "blind musicians not in annotations\n",
        "seedset selected.\n",
        "trusts set for seedset.\n",
        "step.1 of expanding seedset (trust prop) is done."
       ]
      },
      {
       "output_type": "stream",
       "stream": "stdout",
       "text": [
        "\n",
        "\n",
        "        Run configuration:\n",
        "        seedset size: 175,\n",
        "        seedset method: pagerank,\n",
        "        trust propagation method: dampening,\n",
        "        trust propagation depth: 3,\n",
        "        trust propagation damp factor: 0.850000,\n",
        "        trust propagation split factor: num_edges,\n",
        "        min. community size: 10,\n",
        "        no. of expansion steps: 1\n",
        "        "
       ]
      },
      {
       "output_type": "stream",
       "stream": "stdout",
       "text": [
        "\n",
        "m. s. sheela"
       ]
      },
      {
       "output_type": "stream",
       "stream": "stdout",
       "text": [
        " not in annotations\n",
        "blind musicians not in annotations\n",
        "seedset selected.\n",
        "trusts set for seedset.\n",
        "step.1 of expanding seedset (trust prop) is done."
       ]
      },
      {
       "output_type": "stream",
       "stream": "stdout",
       "text": [
        "\n",
        "\n",
        "        Run configuration:\n",
        "        seedset size: 180,\n",
        "        seedset method: pagerank,\n",
        "        trust propagation method: dampening,\n",
        "        trust propagation depth: 3,\n",
        "        trust propagation damp factor: 0.850000,\n",
        "        trust propagation split factor: num_edges,\n",
        "        min. community size: 10,\n",
        "        no. of expansion steps: 1\n",
        "        "
       ]
      },
      {
       "output_type": "stream",
       "stream": "stdout",
       "text": [
        "\n",
        "m. s. sheela"
       ]
      },
      {
       "output_type": "stream",
       "stream": "stdout",
       "text": [
        " not in annotations\n",
        "blind musicians not in annotations\n",
        "seedset selected.\n",
        "trusts set for seedset.\n",
        "step.1 of expanding seedset (trust prop) is done."
       ]
      },
      {
       "output_type": "stream",
       "stream": "stdout",
       "text": [
        "\n",
        "\n",
        "        Run configuration:\n",
        "        seedset size: 185,\n",
        "        seedset method: pagerank,\n",
        "        trust propagation method: dampening,\n",
        "        trust propagation depth: 3,\n",
        "        trust propagation damp factor: 0.850000,\n",
        "        trust propagation split factor: num_edges,\n",
        "        min. community size: 10,\n",
        "        no. of expansion steps: 1\n",
        "        "
       ]
      },
      {
       "output_type": "stream",
       "stream": "stdout",
       "text": [
        "\n",
        "m. s. sheela"
       ]
      },
      {
       "output_type": "stream",
       "stream": "stdout",
       "text": [
        " not in annotations\n",
        "blind musicians not in annotations\n",
        "seedset selected.\n",
        "trusts set for seedset.\n",
        "step.1 of expanding seedset (trust prop) is done."
       ]
      },
      {
       "output_type": "stream",
       "stream": "stdout",
       "text": [
        "\n",
        "\n",
        "        Run configuration:\n",
        "        seedset size: 190,\n",
        "        seedset method: pagerank,\n",
        "        trust propagation method: dampening,\n",
        "        trust propagation depth: 3,\n",
        "        trust propagation damp factor: 0.850000,\n",
        "        trust propagation split factor: num_edges,\n",
        "        min. community size: 10,\n",
        "        no. of expansion steps: 1\n",
        "        "
       ]
      },
      {
       "output_type": "stream",
       "stream": "stdout",
       "text": [
        "\n",
        "m. s. sheela"
       ]
      },
      {
       "output_type": "stream",
       "stream": "stdout",
       "text": [
        " not in annotations\n",
        "blind musicians not in annotations\n",
        "seedset selected.\n",
        "trusts set for seedset.\n",
        "step.1 of expanding seedset (trust prop) is done."
       ]
      },
      {
       "output_type": "stream",
       "stream": "stdout",
       "text": [
        "\n",
        "\n",
        "        Run configuration:\n",
        "        seedset size: 195,\n",
        "        seedset method: pagerank,\n",
        "        trust propagation method: dampening,\n",
        "        trust propagation depth: 3,\n",
        "        trust propagation damp factor: 0.850000,\n",
        "        trust propagation split factor: num_edges,\n",
        "        min. community size: 10,\n",
        "        no. of expansion steps: 1\n",
        "        "
       ]
      },
      {
       "output_type": "stream",
       "stream": "stdout",
       "text": [
        "\n",
        "m. s. sheela"
       ]
      },
      {
       "output_type": "stream",
       "stream": "stdout",
       "text": [
        " not in annotations\n",
        "blind musicians not in annotations\n",
        "seedset selected.\n",
        "trusts set for seedset.\n",
        "step.1 of expanding seedset (trust prop) is done."
       ]
      },
      {
       "output_type": "stream",
       "stream": "stdout",
       "text": [
        "\n"
       ]
      }
     ],
     "prompt_number": 39
    },
    {
     "cell_type": "code",
     "collapsed": false,
     "input": [
      "from scipy.ndimage.filters import gaussian_filter\n",
      "sf = 2"
     ],
     "language": "python",
     "metadata": {},
     "outputs": [],
     "prompt_number": 40
    },
    {
     "cell_type": "code",
     "collapsed": false,
     "input": [
      "fig = figure()\n",
      "ax = fig.add_subplot(1,1,1)\n",
      "plot(pagerank_res[\"x\"], gaussian_filter(pagerank_res[\"precisions\"], sf), \"r--\", label=\"Precision\")\n",
      "plot(pagerank_res[\"x\"], gaussian_filter(pagerank_res[\"recalls\"], sf), \"r-.\", label=\"Recall\")\n",
      "plot(pagerank_res[\"x\"], gaussian_filter(pagerank_res[\"f_measures\"], sf), \"r-\", label=\"F measure\")\n",
      "#plot(pagerank_res[\"x\"], gaussian_filter(pagerank_res[\"pos_node_reach\"], sf), \"r.\", label=\"Positive node reach\")\n",
      "\n",
      "#xlabel(\"Size of the seedset\")\n",
      "#title(\"Pagerank\")"
     ],
     "language": "python",
     "metadata": {},
     "outputs": [
      {
       "metadata": {},
       "output_type": "pyout",
       "prompt_number": 66,
       "text": [
        "[<matplotlib.lines.Line2D at 0x2682dfd0>]"
       ]
      }
     ],
     "prompt_number": 66
    },
    {
     "cell_type": "code",
     "collapsed": false,
     "input": [
      "wg.seedset_method = \"eig\"\n",
      "eig_res = wg.vary_parameter(\"seedset_size\", np.arange(10, 200, 10))"
     ],
     "language": "python",
     "metadata": {},
     "outputs": [
      {
       "output_type": "stream",
       "stream": "stdout",
       "text": [
        "\n",
        "        Run configuration:\n",
        "        seedset size: 10,\n",
        "        seedset method: eig,\n",
        "        trust propagation method: dampening,\n",
        "        trust propagation depth: 3,\n",
        "        trust propagation damp factor: 0.850000,\n",
        "        trust propagation split factor: num_edges,\n",
        "        min. community size: 10,\n",
        "        no. of expansion steps: 1\n",
        "        \n",
        "seedset selected."
       ]
      },
      {
       "output_type": "stream",
       "stream": "stdout",
       "text": [
        "\n",
        "trusts set for seedset.\n",
        "step.1 of expanding seedset (trust prop) is done.\n",
        "\n",
        "        Run configuration:\n",
        "        seedset size: 20,\n",
        "        seedset method: eig,\n",
        "        trust propagation method: dampening,\n",
        "        trust propagation depth: 3,\n",
        "        trust propagation damp factor: 0.850000,\n",
        "        trust propagation split factor: num_edges,\n",
        "        min. community size: 10,\n",
        "        no. of expansion steps: 1\n",
        "        "
       ]
      },
      {
       "output_type": "stream",
       "stream": "stdout",
       "text": [
        "\n",
        "seedset selected."
       ]
      },
      {
       "output_type": "stream",
       "stream": "stdout",
       "text": [
        "\n",
        "trusts set for seedset.\n",
        "step.1 of expanding seedset (trust prop) is done.\n",
        "\n",
        "        Run configuration:\n",
        "        seedset size: 30,\n",
        "        seedset method: eig,\n",
        "        trust propagation method: dampening,\n",
        "        trust propagation depth: 3,\n",
        "        trust propagation damp factor: 0.850000,\n",
        "        trust propagation split factor: num_edges,\n",
        "        min. community size: 10,\n",
        "        no. of expansion steps: 1\n",
        "        "
       ]
      },
      {
       "output_type": "stream",
       "stream": "stdout",
       "text": [
        "\n",
        "seedset selected."
       ]
      },
      {
       "output_type": "stream",
       "stream": "stdout",
       "text": [
        "\n",
        "trusts set for seedset.\n",
        "step.1 of expanding seedset (trust prop) is done."
       ]
      },
      {
       "output_type": "stream",
       "stream": "stdout",
       "text": [
        "\n",
        "\n",
        "        Run configuration:\n",
        "        seedset size: 40,\n",
        "        seedset method: eig,\n",
        "        trust propagation method: dampening,\n",
        "        trust propagation depth: 3,\n",
        "        trust propagation damp factor: 0.850000,\n",
        "        trust propagation split factor: num_edges,\n",
        "        min. community size: 10,\n",
        "        no. of expansion steps: 1\n",
        "        "
       ]
      },
      {
       "output_type": "stream",
       "stream": "stdout",
       "text": [
        "\n",
        "seedset selected."
       ]
      },
      {
       "output_type": "stream",
       "stream": "stdout",
       "text": [
        "\n",
        "trusts set for seedset.\n",
        "step.1 of expanding seedset (trust prop) is done.\n",
        "\n",
        "        Run configuration:\n",
        "        seedset size: 50,\n",
        "        seedset method: eig,\n",
        "        trust propagation method: dampening,\n",
        "        trust propagation depth: 3,\n",
        "        trust propagation damp factor: 0.850000,\n",
        "        trust propagation split factor: num_edges,\n",
        "        min. community size: 10,\n",
        "        no. of expansion steps: 1\n",
        "        "
       ]
      },
      {
       "output_type": "stream",
       "stream": "stdout",
       "text": [
        "\n",
        "seedset selected."
       ]
      },
      {
       "output_type": "stream",
       "stream": "stdout",
       "text": [
        "\n",
        "trusts set for seedset.\n",
        "step.1 of expanding seedset (trust prop) is done.\n",
        "\n",
        "        Run configuration:\n",
        "        seedset size: 60,\n",
        "        seedset method: eig,\n",
        "        trust propagation method: dampening,\n",
        "        trust propagation depth: 3,\n",
        "        trust propagation damp factor: 0.850000,\n",
        "        trust propagation split factor: num_edges,\n",
        "        min. community size: 10,\n",
        "        no. of expansion steps: 1\n",
        "        "
       ]
      },
      {
       "output_type": "stream",
       "stream": "stdout",
       "text": [
        "\n",
        "seedset selected."
       ]
      },
      {
       "output_type": "stream",
       "stream": "stdout",
       "text": [
        "\n",
        "trusts set for seedset.\n",
        "step.1 of expanding seedset (trust prop) is done.\n",
        "\n",
        "        Run configuration:\n",
        "        seedset size: 70,\n",
        "        seedset method: eig,\n",
        "        trust propagation method: dampening,\n",
        "        trust propagation depth: 3,\n",
        "        trust propagation damp factor: 0.850000,\n",
        "        trust propagation split factor: num_edges,\n",
        "        min. community size: 10,\n",
        "        no. of expansion steps: 1\n",
        "        "
       ]
      },
      {
       "output_type": "stream",
       "stream": "stdout",
       "text": [
        "\n",
        "seedset selected."
       ]
      },
      {
       "output_type": "stream",
       "stream": "stdout",
       "text": [
        "\n",
        "trusts set for seedset.\n",
        "step.1 of expanding seedset (trust prop) is done."
       ]
      },
      {
       "output_type": "stream",
       "stream": "stdout",
       "text": [
        "\n",
        "\n",
        "        Run configuration:\n",
        "        seedset size: 80,\n",
        "        seedset method: eig,\n",
        "        trust propagation method: dampening,\n",
        "        trust propagation depth: 3,\n",
        "        trust propagation damp factor: 0.850000,\n",
        "        trust propagation split factor: num_edges,\n",
        "        min. community size: 10,\n",
        "        no. of expansion steps: 1\n",
        "        "
       ]
      },
      {
       "output_type": "stream",
       "stream": "stdout",
       "text": [
        "\n",
        "seedset selected."
       ]
      },
      {
       "output_type": "stream",
       "stream": "stdout",
       "text": [
        "\n",
        "trusts set for seedset.\n",
        "step.1 of expanding seedset (trust prop) is done.\n",
        "\n",
        "        Run configuration:\n",
        "        seedset size: 90,\n",
        "        seedset method: eig,\n",
        "        trust propagation method: dampening,\n",
        "        trust propagation depth: 3,\n",
        "        trust propagation damp factor: 0.850000,\n",
        "        trust propagation split factor: num_edges,\n",
        "        min. community size: 10,\n",
        "        no. of expansion steps: 1\n",
        "        "
       ]
      },
      {
       "output_type": "stream",
       "stream": "stdout",
       "text": [
        "\n",
        "seedset selected."
       ]
      },
      {
       "output_type": "stream",
       "stream": "stdout",
       "text": [
        "\n",
        "trusts set for seedset.\n",
        "step.1 of expanding seedset (trust prop) is done.\n",
        "\n",
        "        Run configuration:\n",
        "        seedset size: 100,\n",
        "        seedset method: eig,\n",
        "        trust propagation method: dampening,\n",
        "        trust propagation depth: 3,\n",
        "        trust propagation damp factor: 0.850000,\n",
        "        trust propagation split factor: num_edges,\n",
        "        min. community size: 10,\n",
        "        no. of expansion steps: 1\n",
        "        "
       ]
      },
      {
       "output_type": "stream",
       "stream": "stdout",
       "text": [
        "\n",
        "seedset selected."
       ]
      },
      {
       "output_type": "stream",
       "stream": "stdout",
       "text": [
        "\n",
        "trusts set for seedset.\n",
        "step.1 of expanding seedset (trust prop) is done.\n",
        "\n",
        "        Run configuration:\n",
        "        seedset size: 110,\n",
        "        seedset method: eig,\n",
        "        trust propagation method: dampening,\n",
        "        trust propagation depth: 3,\n",
        "        trust propagation damp factor: 0.850000,\n",
        "        trust propagation split factor: num_edges,\n",
        "        min. community size: 10,\n",
        "        no. of expansion steps: 1\n",
        "        "
       ]
      },
      {
       "output_type": "stream",
       "stream": "stdout",
       "text": [
        "\n",
        "seedset selected."
       ]
      },
      {
       "output_type": "stream",
       "stream": "stdout",
       "text": [
        "\n",
        "trusts set for seedset.\n",
        "step.1 of expanding seedset (trust prop) is done.\n",
        "\n",
        "        Run configuration:\n",
        "        seedset size: 120,\n",
        "        seedset method: eig,\n",
        "        trust propagation method: dampening,\n",
        "        trust propagation depth: 3,\n",
        "        trust propagation damp factor: 0.850000,\n",
        "        trust propagation split factor: num_edges,\n",
        "        min. community size: 10,\n",
        "        no. of expansion steps: 1\n",
        "        "
       ]
      },
      {
       "output_type": "stream",
       "stream": "stdout",
       "text": [
        "\n",
        "seedset selected."
       ]
      },
      {
       "output_type": "stream",
       "stream": "stdout",
       "text": [
        "\n",
        "trusts set for seedset.\n",
        "step.1 of expanding seedset (trust prop) is done.\n",
        "\n",
        "        Run configuration:\n",
        "        seedset size: 130,\n",
        "        seedset method: eig,\n",
        "        trust propagation method: dampening,\n",
        "        trust propagation depth: 3,\n",
        "        trust propagation damp factor: 0.850000,\n",
        "        trust propagation split factor: num_edges,\n",
        "        min. community size: 10,\n",
        "        no. of expansion steps: 1\n",
        "        "
       ]
      },
      {
       "output_type": "stream",
       "stream": "stdout",
       "text": [
        "\n",
        "seedset selected."
       ]
      },
      {
       "output_type": "stream",
       "stream": "stdout",
       "text": [
        "\n",
        "trusts set for seedset.\n",
        "step.1 of expanding seedset (trust prop) is done.\n",
        "\n",
        "        Run configuration:\n",
        "        seedset size: 140,\n",
        "        seedset method: eig,\n",
        "        trust propagation method: dampening,\n",
        "        trust propagation depth: 3,\n",
        "        trust propagation damp factor: 0.850000,\n",
        "        trust propagation split factor: num_edges,\n",
        "        min. community size: 10,\n",
        "        no. of expansion steps: 1\n",
        "        "
       ]
      },
      {
       "output_type": "stream",
       "stream": "stdout",
       "text": [
        "\n",
        "seedset selected."
       ]
      },
      {
       "output_type": "stream",
       "stream": "stdout",
       "text": [
        "\n",
        "trusts set for seedset.\n",
        "step.1 of expanding seedset (trust prop) is done."
       ]
      },
      {
       "output_type": "stream",
       "stream": "stdout",
       "text": [
        "\n",
        "\n",
        "        Run configuration:\n",
        "        seedset size: 150,\n",
        "        seedset method: eig,\n",
        "        trust propagation method: dampening,\n",
        "        trust propagation depth: 3,\n",
        "        trust propagation damp factor: 0.850000,\n",
        "        trust propagation split factor: num_edges,\n",
        "        min. community size: 10,\n",
        "        no. of expansion steps: 1\n",
        "        "
       ]
      },
      {
       "output_type": "stream",
       "stream": "stdout",
       "text": [
        "\n",
        "seedset selected."
       ]
      },
      {
       "output_type": "stream",
       "stream": "stdout",
       "text": [
        "\n",
        "trusts set for seedset.\n",
        "step.1 of expanding seedset (trust prop) is done."
       ]
      },
      {
       "output_type": "stream",
       "stream": "stdout",
       "text": [
        "\n",
        "\n",
        "        Run configuration:\n",
        "        seedset size: 160,\n",
        "        seedset method: eig,\n",
        "        trust propagation method: dampening,\n",
        "        trust propagation depth: 3,\n",
        "        trust propagation damp factor: 0.850000,\n",
        "        trust propagation split factor: num_edges,\n",
        "        min. community size: 10,\n",
        "        no. of expansion steps: 1\n",
        "        "
       ]
      },
      {
       "output_type": "stream",
       "stream": "stdout",
       "text": [
        "\n",
        "seedset selected."
       ]
      },
      {
       "output_type": "stream",
       "stream": "stdout",
       "text": [
        "\n",
        "trusts set for seedset.\n",
        "step.1 of expanding seedset (trust prop) is done."
       ]
      },
      {
       "output_type": "stream",
       "stream": "stdout",
       "text": [
        "\n",
        "\n",
        "        Run configuration:\n",
        "        seedset size: 170,\n",
        "        seedset method: eig,\n",
        "        trust propagation method: dampening,\n",
        "        trust propagation depth: 3,\n",
        "        trust propagation damp factor: 0.850000,\n",
        "        trust propagation split factor: num_edges,\n",
        "        min. community size: 10,\n",
        "        no. of expansion steps: 1\n",
        "        "
       ]
      },
      {
       "output_type": "stream",
       "stream": "stdout",
       "text": [
        "\n",
        "bhinnashadaja"
       ]
      },
      {
       "output_type": "stream",
       "stream": "stdout",
       "text": [
        " not in annotations\n",
        "seedset selected.\n",
        "trusts set for seedset.\n",
        "step.1 of expanding seedset (trust prop) is done."
       ]
      },
      {
       "output_type": "stream",
       "stream": "stdout",
       "text": [
        "\n",
        "\n",
        "        Run configuration:\n",
        "        seedset size: 180,\n",
        "        seedset method: eig,\n",
        "        trust propagation method: dampening,\n",
        "        trust propagation depth: 3,\n",
        "        trust propagation damp factor: 0.850000,\n",
        "        trust propagation split factor: num_edges,\n",
        "        min. community size: 10,\n",
        "        no. of expansion steps: 1\n",
        "        "
       ]
      },
      {
       "output_type": "stream",
       "stream": "stdout",
       "text": [
        "\n",
        "bhinnashadaja"
       ]
      },
      {
       "output_type": "stream",
       "stream": "stdout",
       "text": [
        " not in annotations\n",
        "seedset selected.\n",
        "trusts set for seedset.\n",
        "step.1 of expanding seedset (trust prop) is done."
       ]
      },
      {
       "output_type": "stream",
       "stream": "stdout",
       "text": [
        "\n",
        "\n",
        "        Run configuration:\n",
        "        seedset size: 190,\n",
        "        seedset method: eig,\n",
        "        trust propagation method: dampening,\n",
        "        trust propagation depth: 3,\n",
        "        trust propagation damp factor: 0.850000,\n",
        "        trust propagation split factor: num_edges,\n",
        "        min. community size: 10,\n",
        "        no. of expansion steps: 1\n",
        "        "
       ]
      },
      {
       "output_type": "stream",
       "stream": "stdout",
       "text": [
        "\n",
        "bhinnashadaja"
       ]
      },
      {
       "output_type": "stream",
       "stream": "stdout",
       "text": [
        " not in annotations\n",
        "seedset selected.\n",
        "trusts set for seedset.\n",
        "step.1 of expanding seedset (trust prop) is done."
       ]
      },
      {
       "output_type": "stream",
       "stream": "stdout",
       "text": [
        "\n"
       ]
      }
     ],
     "prompt_number": 42
    },
    {
     "cell_type": "code",
     "collapsed": false,
     "input": [
      "plot(eig_res[\"x\"], gaussian_filter(eig_res[\"precisions\"], sf), \"g--\", label=\"Precision\")\n",
      "plot(eig_res[\"x\"], gaussian_filter(eig_res[\"recalls\"], sf), \"g-.\", label=\"Recall\")\n",
      "plot(eig_res[\"x\"], gaussian_filter(eig_res[\"f_measures\"], sf), \"g-\", label=\"F measure\")\n",
      "#plot(eig_res[\"x\"], gaussian_filter(eig_res[\"pos_node_reach\"], sf), \"g.\", label=\"Positive node reach\")\n",
      "\n",
      "#xlabel(\"Size of the seedset\")\n",
      "#title(\"Eig\")"
     ],
     "language": "python",
     "metadata": {},
     "outputs": [
      {
       "metadata": {},
       "output_type": "pyout",
       "prompt_number": 67,
       "text": [
        "[<matplotlib.lines.Line2D at 0x268110d0>]"
       ]
      }
     ],
     "prompt_number": 67
    },
    {
     "cell_type": "code",
     "collapsed": false,
     "input": [
      "wg.seedset_method = \"outdegree\"\n",
      "outdegree_res = wg.vary_parameter(\"seedset_size\", np.arange(10, 200, 10))"
     ],
     "language": "python",
     "metadata": {},
     "outputs": [
      {
       "output_type": "stream",
       "stream": "stdout",
       "text": [
        "\n",
        "        Run configuration:\n",
        "        seedset size: 10,\n",
        "        seedset method: outdegree,\n",
        "        trust propagation method: dampening,\n",
        "        trust propagation depth: 3,\n",
        "        trust propagation damp factor: 0.850000,\n",
        "        trust propagation split factor: num_edges,\n",
        "        min. community size: 10,\n",
        "        no. of expansion steps: 1\n",
        "        \n",
        "seedset selected.\n",
        "trusts set for seedset.\n",
        "step.1 of expanding seedset (trust prop) is done.\n",
        "\n",
        "        Run configuration:\n",
        "        seedset size: 20,\n",
        "        seedset method: outdegree,\n",
        "        trust propagation method: dampening,\n",
        "        trust propagation depth: 3,\n",
        "        trust propagation damp factor: 0.850000,\n",
        "        trust propagation split factor: num_edges,\n",
        "        min. community size: 10,\n",
        "        no. of expansion steps: 1\n",
        "        "
       ]
      },
      {
       "output_type": "stream",
       "stream": "stdout",
       "text": [
        "\n",
        "seedset selected.\n",
        "trusts set for seedset.\n",
        "step.1 of expanding seedset (trust prop) is done.\n",
        "\n",
        "        Run configuration:\n",
        "        seedset size: 30,\n",
        "        seedset method: outdegree,\n",
        "        trust propagation method: dampening,\n",
        "        trust propagation depth: 3,\n",
        "        trust propagation damp factor: 0.850000,\n",
        "        trust propagation split factor: num_edges,\n",
        "        min. community size: 10,\n",
        "        no. of expansion steps: 1\n",
        "        "
       ]
      },
      {
       "output_type": "stream",
       "stream": "stdout",
       "text": [
        "\n",
        "seedset selected.\n",
        "trusts set for seedset.\n",
        "step.1 of expanding seedset (trust prop) is done."
       ]
      },
      {
       "output_type": "stream",
       "stream": "stdout",
       "text": [
        "\n",
        "\n",
        "        Run configuration:\n",
        "        seedset size: 40,\n",
        "        seedset method: outdegree,\n",
        "        trust propagation method: dampening,\n",
        "        trust propagation depth: 3,\n",
        "        trust propagation damp factor: 0.850000,\n",
        "        trust propagation split factor: num_edges,\n",
        "        min. community size: 10,\n",
        "        no. of expansion steps: 1\n",
        "        "
       ]
      },
      {
       "output_type": "stream",
       "stream": "stdout",
       "text": [
        "\n",
        "seedset selected.\n",
        "trusts set for seedset.\n",
        "step.1 of expanding seedset (trust prop) is done."
       ]
      },
      {
       "output_type": "stream",
       "stream": "stdout",
       "text": [
        "\n",
        "\n",
        "        Run configuration:\n",
        "        seedset size: 50,\n",
        "        seedset method: outdegree,\n",
        "        trust propagation method: dampening,\n",
        "        trust propagation depth: 3,\n",
        "        trust propagation damp factor: 0.850000,\n",
        "        trust propagation split factor: num_edges,\n",
        "        min. community size: 10,\n",
        "        no. of expansion steps: 1\n",
        "        "
       ]
      },
      {
       "output_type": "stream",
       "stream": "stdout",
       "text": [
        "\n",
        "seedset selected.\n",
        "trusts set for seedset.\n",
        "step.1 of expanding seedset (trust prop) is done."
       ]
      },
      {
       "output_type": "stream",
       "stream": "stdout",
       "text": [
        "\n",
        "\n",
        "        Run configuration:\n",
        "        seedset size: 60,\n",
        "        seedset method: outdegree,\n",
        "        trust propagation method: dampening,\n",
        "        trust propagation depth: 3,\n",
        "        trust propagation damp factor: 0.850000,\n",
        "        trust propagation split factor: num_edges,\n",
        "        min. community size: 10,\n",
        "        no. of expansion steps: 1\n",
        "        "
       ]
      },
      {
       "output_type": "stream",
       "stream": "stdout",
       "text": [
        "\n",
        "seedset selected.\n",
        "trusts set for seedset.\n",
        "step.1 of expanding seedset (trust prop) is done."
       ]
      },
      {
       "output_type": "stream",
       "stream": "stdout",
       "text": [
        "\n",
        "\n",
        "        Run configuration:\n",
        "        seedset size: 70,\n",
        "        seedset method: outdegree,\n",
        "        trust propagation method: dampening,\n",
        "        trust propagation depth: 3,\n",
        "        trust propagation damp factor: 0.850000,\n",
        "        trust propagation split factor: num_edges,\n",
        "        min. community size: 10,\n",
        "        no. of expansion steps: 1\n",
        "        "
       ]
      },
      {
       "output_type": "stream",
       "stream": "stdout",
       "text": [
        "\n",
        "seedset selected.\n",
        "trusts set for seedset.\n",
        "step.1 of expanding seedset (trust prop) is done."
       ]
      },
      {
       "output_type": "stream",
       "stream": "stdout",
       "text": [
        "\n",
        "\n",
        "        Run configuration:\n",
        "        seedset size: 80,\n",
        "        seedset method: outdegree,\n",
        "        trust propagation method: dampening,\n",
        "        trust propagation depth: 3,\n",
        "        trust propagation damp factor: 0.850000,\n",
        "        trust propagation split factor: num_edges,\n",
        "        min. community size: 10,\n",
        "        no. of expansion steps: 1\n",
        "        "
       ]
      },
      {
       "output_type": "stream",
       "stream": "stdout",
       "text": [
        "\n",
        "seedset selected.\n",
        "trusts set for seedset.\n",
        "step.1 of expanding seedset (trust prop) is done."
       ]
      },
      {
       "output_type": "stream",
       "stream": "stdout",
       "text": [
        "\n",
        "\n",
        "        Run configuration:\n",
        "        seedset size: 90,\n",
        "        seedset method: outdegree,\n",
        "        trust propagation method: dampening,\n",
        "        trust propagation depth: 3,\n",
        "        trust propagation damp factor: 0.850000,\n",
        "        trust propagation split factor: num_edges,\n",
        "        min. community size: 10,\n",
        "        no. of expansion steps: 1\n",
        "        "
       ]
      },
      {
       "output_type": "stream",
       "stream": "stdout",
       "text": [
        "\n",
        "seedset selected.\n",
        "trusts set for seedset.\n",
        "step.1 of expanding seedset (trust prop) is done."
       ]
      },
      {
       "output_type": "stream",
       "stream": "stdout",
       "text": [
        "\n",
        "\n",
        "        Run configuration:\n",
        "        seedset size: 100,\n",
        "        seedset method: outdegree,\n",
        "        trust propagation method: dampening,\n",
        "        trust propagation depth: 3,\n",
        "        trust propagation damp factor: 0.850000,\n",
        "        trust propagation split factor: num_edges,\n",
        "        min. community size: 10,\n",
        "        no. of expansion steps: 1\n",
        "        "
       ]
      },
      {
       "output_type": "stream",
       "stream": "stdout",
       "text": [
        "\n",
        "seedset selected.\n",
        "trusts set for seedset.\n",
        "step.1 of expanding seedset (trust prop) is done."
       ]
      },
      {
       "output_type": "stream",
       "stream": "stdout",
       "text": [
        "\n",
        "\n",
        "        Run configuration:\n",
        "        seedset size: 110,\n",
        "        seedset method: outdegree,\n",
        "        trust propagation method: dampening,\n",
        "        trust propagation depth: 3,\n",
        "        trust propagation damp factor: 0.850000,\n",
        "        trust propagation split factor: num_edges,\n",
        "        min. community size: 10,\n",
        "        no. of expansion steps: 1\n",
        "        "
       ]
      },
      {
       "output_type": "stream",
       "stream": "stdout",
       "text": [
        "\n",
        "seedset selected.\n",
        "trusts set for seedset.\n",
        "step.1 of expanding seedset (trust prop) is done."
       ]
      },
      {
       "output_type": "stream",
       "stream": "stdout",
       "text": [
        "\n",
        "\n",
        "        Run configuration:\n",
        "        seedset size: 120,\n",
        "        seedset method: outdegree,\n",
        "        trust propagation method: dampening,\n",
        "        trust propagation depth: 3,\n",
        "        trust propagation damp factor: 0.850000,\n",
        "        trust propagation split factor: num_edges,\n",
        "        min. community size: 10,\n",
        "        no. of expansion steps: 1\n",
        "        "
       ]
      },
      {
       "output_type": "stream",
       "stream": "stdout",
       "text": [
        "\n",
        "seedset selected.\n",
        "trusts set for seedset.\n",
        "step.1 of expanding seedset (trust prop) is done."
       ]
      },
      {
       "output_type": "stream",
       "stream": "stdout",
       "text": [
        "\n",
        "\n",
        "        Run configuration:\n",
        "        seedset size: 130,\n",
        "        seedset method: outdegree,\n",
        "        trust propagation method: dampening,\n",
        "        trust propagation depth: 3,\n",
        "        trust propagation damp factor: 0.850000,\n",
        "        trust propagation split factor: num_edges,\n",
        "        min. community size: 10,\n",
        "        no. of expansion steps: 1\n",
        "        "
       ]
      },
      {
       "output_type": "stream",
       "stream": "stdout",
       "text": [
        "\n",
        "seedset selected.\n",
        "trusts set for seedset.\n",
        "step.1 of expanding seedset (trust prop) is done."
       ]
      },
      {
       "output_type": "stream",
       "stream": "stdout",
       "text": [
        "\n",
        "\n",
        "        Run configuration:\n",
        "        seedset size: 140,\n",
        "        seedset method: outdegree,\n",
        "        trust propagation method: dampening,\n",
        "        trust propagation depth: 3,\n",
        "        trust propagation damp factor: 0.850000,\n",
        "        trust propagation split factor: num_edges,\n",
        "        min. community size: 10,\n",
        "        no. of expansion steps: 1\n",
        "        "
       ]
      },
      {
       "output_type": "stream",
       "stream": "stdout",
       "text": [
        "\n",
        "seedset selected.\n",
        "trusts set for seedset.\n",
        "step.1 of expanding seedset (trust prop) is done."
       ]
      },
      {
       "output_type": "stream",
       "stream": "stdout",
       "text": [
        "\n",
        "\n",
        "        Run configuration:\n",
        "        seedset size: 150,\n",
        "        seedset method: outdegree,\n",
        "        trust propagation method: dampening,\n",
        "        trust propagation depth: 3,\n",
        "        trust propagation damp factor: 0.850000,\n",
        "        trust propagation split factor: num_edges,\n",
        "        min. community size: 10,\n",
        "        no. of expansion steps: 1\n",
        "        "
       ]
      },
      {
       "output_type": "stream",
       "stream": "stdout",
       "text": [
        "\n",
        "seedset selected.\n",
        "trusts set for seedset.\n",
        "step.1 of expanding seedset (trust prop) is done."
       ]
      },
      {
       "output_type": "stream",
       "stream": "stdout",
       "text": [
        "\n",
        "\n",
        "        Run configuration:\n",
        "        seedset size: 160,\n",
        "        seedset method: outdegree,\n",
        "        trust propagation method: dampening,\n",
        "        trust propagation depth: 3,\n",
        "        trust propagation damp factor: 0.850000,\n",
        "        trust propagation split factor: num_edges,\n",
        "        min. community size: 10,\n",
        "        no. of expansion steps: 1\n",
        "        "
       ]
      },
      {
       "output_type": "stream",
       "stream": "stdout",
       "text": [
        "\n",
        "seedset selected.\n",
        "trusts set for seedset.\n",
        "step.1 of expanding seedset (trust prop) is done."
       ]
      },
      {
       "output_type": "stream",
       "stream": "stdout",
       "text": [
        "\n",
        "\n",
        "        Run configuration:\n",
        "        seedset size: 170,\n",
        "        seedset method: outdegree,\n",
        "        trust propagation method: dampening,\n",
        "        trust propagation depth: 3,\n",
        "        trust propagation damp factor: 0.850000,\n",
        "        trust propagation split factor: num_edges,\n",
        "        min. community size: 10,\n",
        "        no. of expansion steps: 1\n",
        "        "
       ]
      },
      {
       "output_type": "stream",
       "stream": "stdout",
       "text": [
        "\n",
        "seedset selected.\n",
        "trusts set for seedset.\n",
        "step.1 of expanding seedset (trust prop) is done."
       ]
      },
      {
       "output_type": "stream",
       "stream": "stdout",
       "text": [
        "\n",
        "\n",
        "        Run configuration:\n",
        "        seedset size: 180,\n",
        "        seedset method: outdegree,\n",
        "        trust propagation method: dampening,\n",
        "        trust propagation depth: 3,\n",
        "        trust propagation damp factor: 0.850000,\n",
        "        trust propagation split factor: num_edges,\n",
        "        min. community size: 10,\n",
        "        no. of expansion steps: 1\n",
        "        "
       ]
      },
      {
       "output_type": "stream",
       "stream": "stdout",
       "text": [
        "\n",
        "seedset selected.\n",
        "trusts set for seedset.\n",
        "step.1 of expanding seedset (trust prop) is done."
       ]
      },
      {
       "output_type": "stream",
       "stream": "stdout",
       "text": [
        "\n",
        "\n",
        "        Run configuration:\n",
        "        seedset size: 190,\n",
        "        seedset method: outdegree,\n",
        "        trust propagation method: dampening,\n",
        "        trust propagation depth: 3,\n",
        "        trust propagation damp factor: 0.850000,\n",
        "        trust propagation split factor: num_edges,\n",
        "        min. community size: 10,\n",
        "        no. of expansion steps: 1\n",
        "        "
       ]
      },
      {
       "output_type": "stream",
       "stream": "stdout",
       "text": [
        "\n",
        "seedset selected.\n",
        "trusts set for seedset.\n",
        "step.1 of expanding seedset (trust prop) is done."
       ]
      },
      {
       "output_type": "stream",
       "stream": "stdout",
       "text": [
        "\n"
       ]
      }
     ],
     "prompt_number": 45
    },
    {
     "cell_type": "code",
     "collapsed": false,
     "input": [
      "plot(outdegree_res[\"x\"], gaussian_filter(outdegree_res[\"precisions\"], sf), \"b--\", label=\"Precision\")\n",
      "plot(outdegree_res[\"x\"], gaussian_filter(outdegree_res[\"recalls\"], sf), \"b-.\", label=\"Recall\")\n",
      "plot(outdegree_res[\"x\"], gaussian_filter(outdegree_res[\"f_measures\"], sf), \"b-\", label=\"F measure\")\n",
      "#plot(outdegree_res[\"x\"], gaussian_filter(outdegree_res[\"pos_node_reach\"], sf), \"b.\", label=\"Positive node reach\")\n",
      "\n",
      "xlabel(\"Size of the seedset\")"
     ],
     "language": "python",
     "metadata": {},
     "outputs": [
      {
       "metadata": {},
       "output_type": "pyout",
       "prompt_number": 68,
       "text": [
        "<matplotlib.text.Text at 0x26e66750>"
       ]
      }
     ],
     "prompt_number": 68
    },
    {
     "cell_type": "code",
     "collapsed": false,
     "input": [
      "#Get artists and labels for legend and chose which ones to display\n",
      "handles, labels = ax.get_legend_handles_labels()\n",
      "display = (2, 5, 8)\n",
      "\n",
      "#Create custom artists\n",
      "precision = plt.Line2D((0,1),(0,0), color='k', linestyle='--')\n",
      "recall = plt.Line2D((0,1),(0,0), color='k', linestyle='-.')\n",
      "f_measure = plt.Line2D((0,1),(0,0), color='k', linestyle='-')\n",
      "\n",
      "#Create legend from custom artist/label lists\n",
      "ax.legend([handle for i,handle in enumerate(handles) if i in display]+[precision, recall, f_measure],\n",
      "          ['Pagerank', 'Eig', 'Outdegree'] + ['Precision', 'Recall', 'F Measure'])"
     ],
     "language": "python",
     "metadata": {},
     "outputs": [
      {
       "metadata": {},
       "output_type": "pyout",
       "prompt_number": 71,
       "text": [
        "<matplotlib.legend.Legend at 0x267fe6d0>"
       ]
      }
     ],
     "prompt_number": 71
    },
    {
     "cell_type": "code",
     "collapsed": false,
     "input": [
      "draw()"
     ],
     "language": "python",
     "metadata": {},
     "outputs": [],
     "prompt_number": 72
    },
    {
     "cell_type": "markdown",
     "metadata": {},
     "source": [
      "###Trust propagation methods"
     ]
    },
    {
     "cell_type": "markdown",
     "metadata": {},
     "source": [
      "####Dampening method"
     ]
    },
    {
     "cell_type": "code",
     "collapsed": false,
     "input": [
      "wg = gf.WikiGraph(g, annotations)\n",
      "wg.seedset_method = \"pagerank\"\n",
      "wg.prop_method = \"dampening\"\n",
      "wg.prop_depth = 3\n",
      "wg.seedset_size = 70\n",
      "wg.select_seedset()"
     ],
     "language": "python",
     "metadata": {},
     "outputs": [
      {
       "output_type": "stream",
       "stream": "stdout",
       "text": [
        "m. s. sheela not in annotations\n"
       ]
      }
     ],
     "prompt_number": 54
    },
    {
     "cell_type": "code",
     "collapsed": false,
     "input": [
      "res = wg.vary_parameter(\"damp_factor\", np.arange(0.1, 0.95, 0.2))"
     ],
     "language": "python",
     "metadata": {},
     "outputs": [
      {
       "output_type": "stream",
       "stream": "stdout",
       "text": [
        "\n",
        "        Run configuration:\n",
        "        seedset size: 70,\n",
        "        seedset method: pagerank,\n",
        "        trust propagation method: dampening,\n",
        "        trust propagation depth: 3,\n",
        "        trust propagation damp factor: 0.100000,\n",
        "        trust propagation split factor: num_edges,\n",
        "        min. community size: 10,\n",
        "        no. of expansion steps: 1\n",
        "        \n",
        "m. s. sheela"
       ]
      },
      {
       "output_type": "stream",
       "stream": "stdout",
       "text": [
        " not in annotations\n",
        "seedset selected.\n",
        "trusts set for seedset.\n",
        "step.1 of expanding seedset (trust prop) is done."
       ]
      },
      {
       "output_type": "stream",
       "stream": "stdout",
       "text": [
        "\n",
        "\n",
        "        Run configuration:\n",
        "        seedset size: 70,\n",
        "        seedset method: pagerank,\n",
        "        trust propagation method: dampening,\n",
        "        trust propagation depth: 3,\n",
        "        trust propagation damp factor: 0.300000,\n",
        "        trust propagation split factor: num_edges,\n",
        "        min. community size: 10,\n",
        "        no. of expansion steps: 1\n",
        "        "
       ]
      },
      {
       "output_type": "stream",
       "stream": "stdout",
       "text": [
        "\n",
        "m. s. sheela"
       ]
      },
      {
       "output_type": "stream",
       "stream": "stdout",
       "text": [
        " not in annotations\n",
        "seedset selected.\n",
        "trusts set for seedset.\n",
        "step.1 of expanding seedset (trust prop) is done.\n",
        "\n",
        "        Run configuration:\n",
        "        seedset size: 70,\n",
        "        seedset method: pagerank,\n",
        "        trust propagation method: dampening,\n",
        "        trust propagation depth: 3,\n",
        "        trust propagation damp factor: 0.500000,\n",
        "        trust propagation split factor: num_edges,\n",
        "        min. community size: 10,\n",
        "        no. of expansion steps: 1\n",
        "        "
       ]
      },
      {
       "output_type": "stream",
       "stream": "stdout",
       "text": [
        "\n",
        "m. s. sheela"
       ]
      },
      {
       "output_type": "stream",
       "stream": "stdout",
       "text": [
        " not in annotations\n",
        "seedset selected.\n",
        "trusts set for seedset.\n",
        "step.1 of expanding seedset (trust prop) is done.\n",
        "\n",
        "        Run configuration:\n",
        "        seedset size: 70,\n",
        "        seedset method: pagerank,\n",
        "        trust propagation method: dampening,\n",
        "        trust propagation depth: 3,\n",
        "        trust propagation damp factor: 0.700000,\n",
        "        trust propagation split factor: num_edges,\n",
        "        min. community size: 10,\n",
        "        no. of expansion steps: 1\n",
        "        "
       ]
      },
      {
       "output_type": "stream",
       "stream": "stdout",
       "text": [
        "\n",
        "m. s. sheela"
       ]
      },
      {
       "output_type": "stream",
       "stream": "stdout",
       "text": [
        " not in annotations\n",
        "seedset selected.\n",
        "trusts set for seedset.\n",
        "step.1 of expanding seedset (trust prop) is done.\n",
        "\n",
        "        Run configuration:\n",
        "        seedset size: 70,\n",
        "        seedset method: pagerank,\n",
        "        trust propagation method: dampening,\n",
        "        trust propagation depth: 3,\n",
        "        trust propagation damp factor: 0.900000,\n",
        "        trust propagation split factor: num_edges,\n",
        "        min. community size: 10,\n",
        "        no. of expansion steps: 1\n",
        "        "
       ]
      },
      {
       "output_type": "stream",
       "stream": "stdout",
       "text": [
        "\n",
        "m. s. sheela"
       ]
      },
      {
       "output_type": "stream",
       "stream": "stdout",
       "text": [
        " not in annotations\n",
        "seedset selected.\n",
        "trusts set for seedset.\n",
        "step.1 of expanding seedset (trust prop) is done.\n"
       ]
      }
     ],
     "prompt_number": 51
    },
    {
     "cell_type": "code",
     "collapsed": false,
     "input": [
      "wg.set_trusts()\n",
      "wg.damp_factor = 0.1\n",
      "wg.propagate_trust()\n",
      "[p, r, f] = wg.evaluate()\n",
      "print round(p, 2), round(r, 2), round(f, 2)"
     ],
     "language": "python",
     "metadata": {},
     "outputs": [
      {
       "output_type": "stream",
       "stream": "stdout",
       "text": [
        "0.68 0.86 0.76\n"
       ]
      }
     ],
     "prompt_number": 55
    },
    {
     "cell_type": "code",
     "collapsed": false,
     "input": [
      "from scipy.ndimage.filters import gaussian_filter\n",
      "sf = 1"
     ],
     "language": "python",
     "metadata": {},
     "outputs": [],
     "prompt_number": 52
    },
    {
     "cell_type": "code",
     "collapsed": false,
     "input": [
      "fig = figure()\n",
      "ax = fig.add_subplot(1,1,1)\n",
      "plot(res[\"x\"], gaussian_filter(res[\"precisions\"], sf), \"r--\", label=\"Precision\")\n",
      "plot(res[\"x\"], gaussian_filter(res[\"recalls\"], sf), \"r-\", label=\"Recall\")\n",
      "plot(res[\"x\"], gaussian_filter(res[\"f_measures\"], sf), \"r-.\", label=\"F measure\")\n",
      "xlabel(\"Damping factor\")\n",
      "legend()"
     ],
     "language": "python",
     "metadata": {},
     "outputs": [
      {
       "metadata": {},
       "output_type": "pyout",
       "prompt_number": 53,
       "text": [
        "<matplotlib.legend.Legend at 0x195b4e90>"
       ]
      }
     ],
     "prompt_number": 53
    },
    {
     "cell_type": "markdown",
     "metadata": {},
     "source": [
      "####Splitting method"
     ]
    },
    {
     "cell_type": "code",
     "collapsed": false,
     "input": [
      "wg = gf.WikiGraph(g, annotations)\n",
      "wg.seedset_method = \"pagerank\"\n",
      "wg.prop_method = \"splitting\"\n",
      "wg.split_with = \"weights\"\n",
      "wg.prop_depth = 1\n",
      "wg.seedset_size = 70\n",
      "wg.select_seedset()\n",
      "wg.set_trusts()\n",
      "wg.propagate_trust()\n",
      "[p, r, f] = wg.evaluate()"
     ],
     "language": "python",
     "metadata": {},
     "outputs": [
      {
       "output_type": "stream",
       "stream": "stdout",
       "text": [
        "m. s. sheela not in annotations\n"
       ]
      }
     ],
     "prompt_number": 62
    },
    {
     "cell_type": "code",
     "collapsed": false,
     "input": [
      "print round(p, 2), round(r, 2), round(f, 2)"
     ],
     "language": "python",
     "metadata": {},
     "outputs": [
      {
       "output_type": "stream",
       "stream": "stdout",
       "text": [
        "0.66 0.72 0.69\n"
       ]
      }
     ],
     "prompt_number": 63
    },
    {
     "cell_type": "markdown",
     "metadata": {},
     "source": [
      "####Basic method"
     ]
    },
    {
     "cell_type": "code",
     "collapsed": false,
     "input": [
      "wg = gf.WikiGraph(g, annotations)\n",
      "wg.seedset_method = \"pagerank\"\n",
      "wg.prop_method = \"basic\"\n",
      "wg.prop_depth = 3\n",
      "wg.seedset_size = 70\n",
      "wg.select_seedset()\n",
      "wg.set_trusts()\n",
      "wg.propagate_trust()\n",
      "[p, r, f] = wg.evaluate()"
     ],
     "language": "python",
     "metadata": {},
     "outputs": [
      {
       "output_type": "stream",
       "stream": "stdout",
       "text": [
        "m. s. sheela not in annotations\n"
       ]
      }
     ],
     "prompt_number": 64
    },
    {
     "cell_type": "code",
     "collapsed": false,
     "input": [
      "print round(p, 2), round(r, 2), round(f, 2)"
     ],
     "language": "python",
     "metadata": {},
     "outputs": [
      {
       "output_type": "stream",
       "stream": "stdout",
       "text": [
        "0.48 0.99 0.64\n"
       ]
      }
     ],
     "prompt_number": 65
    },
    {
     "cell_type": "markdown",
     "metadata": {},
     "source": [
      "###Community analysis"
     ]
    },
    {
     "cell_type": "code",
     "collapsed": false,
     "input": [
      "wg = gf.WikiGraph(g, annotations)\n",
      "wg.seedset_method = \"pagerank\"\n",
      "wg.prop_method = \"dampening\"\n",
      "wg.prop_depth = 1\n",
      "wg.seedset_size = 70\n",
      "wg.damp_factor = 0.2\n",
      "wg.min_comsize = 10\n",
      "[p, r, f] = wg.run_config(expand_steps=2)\n",
      "print round(p, 2), round(r, 2), round(f, 2)"
     ],
     "language": "python",
     "metadata": {},
     "outputs": [
      {
       "output_type": "stream",
       "stream": "stdout",
       "text": [
        "\n",
        "        Run configuration:\n",
        "        seedset size: 70,\n",
        "        seedset method: pagerank,\n",
        "        trust propagation method: dampening,\n",
        "        trust propagation depth: 1,\n",
        "        trust propagation damp factor: 0.200000,\n",
        "        trust propagation split factor: num_edges,\n",
        "        min. community size: 10,\n",
        "        no. of expansion steps: 2\n",
        "        \n",
        "seedset selected."
       ]
      },
      {
       "output_type": "stream",
       "stream": "stdout",
       "text": [
        "\n",
        "trusts set for seedset.\n",
        "step.1 of expanding seedset (trust prop) is done.\n",
        "step.2 of expanding seedset (community analysis) is done."
       ]
      },
      {
       "output_type": "stream",
       "stream": "stdout",
       "text": [
        "\n",
        "0.78"
       ]
      },
      {
       "output_type": "stream",
       "stream": "stdout",
       "text": [
        " 0.42 0.54\n"
       ]
      }
     ],
     "prompt_number": 392
    },
    {
     "cell_type": "markdown",
     "metadata": {},
     "source": [
      "###Voting"
     ]
    },
    {
     "cell_type": "code",
     "collapsed": false,
     "input": [
      "wg.vote_nodes(iterations=1, method=\"count\")"
     ],
     "language": "python",
     "metadata": {},
     "outputs": [],
     "prompt_number": 393
    },
    {
     "cell_type": "code",
     "collapsed": false,
     "input": [
      "[p, r, f] = wg.evaluate()\n",
      "print round(p, 2), round(r, 2), round(f, 2)"
     ],
     "language": "python",
     "metadata": {},
     "outputs": [
      {
       "output_type": "stream",
       "stream": "stdout",
       "text": [
        "0.88 0.84 0.86\n"
       ]
      }
     ],
     "prompt_number": 394
    },
    {
     "cell_type": "code",
     "collapsed": false,
     "input": [],
     "language": "python",
     "metadata": {},
     "outputs": []
    }
   ],
   "metadata": {}
  }
 ]
}