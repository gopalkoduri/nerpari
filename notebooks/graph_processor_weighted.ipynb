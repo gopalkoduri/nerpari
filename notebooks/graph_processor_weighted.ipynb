{
 "metadata": {
  "name": ""
 },
 "nbformat": 3,
 "nbformat_minor": 0,
 "worksheets": [
  {
   "cells": [
    {
     "cell_type": "heading",
     "level": 1,
     "metadata": {},
     "source": [
      "Notebook for weighted graph analysis"
     ]
    },
    {
     "cell_type": "markdown",
     "metadata": {},
     "source": [
      "For all the pythonic graph modifications, we use networkx as it is easy! On the other hand, graph-tool is completely written in C++ and is orders of magnitude faster than networkx. So we use it for computations on graphs."
     ]
    },
    {
     "cell_type": "code",
     "collapsed": false,
     "input": [
      "from __future__ import division\n",
      "\n",
      "import graph_tool.all as gt\n",
      "import networkx as nx\n",
      "import community as c\n",
      "import pickle\n",
      "from pylab import *\n",
      "\n",
      "%matplotlib tk\n",
      "#rcParams['figure.figsize'] = 16, 12"
     ],
     "language": "python",
     "metadata": {},
     "outputs": [],
     "prompt_number": 202
    },
    {
     "cell_type": "code",
     "collapsed": false,
     "input": [
      "annotations = pickle.load(file('/homedtic/gkoduri/workspace/relation-extraction/data/annotations.pickle'))"
     ],
     "language": "python",
     "metadata": {},
     "outputs": [],
     "prompt_number": 102
    },
    {
     "cell_type": "code",
     "collapsed": false,
     "input": [
      "fname = '/homedtic/gkoduri/workspace/relation-extraction/data/carnatic_unigrams.graphml'\n",
      "nx_g = nx.read_graphml(fname, node_type=unicode)\n",
      "print nx_g.number_of_nodes(), nx_g.number_of_edges()"
     ],
     "language": "python",
     "metadata": {},
     "outputs": [
      {
       "output_type": "stream",
       "stream": "stdout",
       "text": [
        "1532 238905\n"
       ]
      }
     ],
     "prompt_number": 203
    },
    {
     "cell_type": "markdown",
     "metadata": {},
     "source": [
      "###Some housekeeping functions"
     ]
    },
    {
     "cell_type": "code",
     "collapsed": false,
     "input": [
      "import cStringIO\n",
      "\n",
      "def propmap_len(vertices, propmap):\n",
      "    count = 0\n",
      "    for v in vertices:\n",
      "        if propmap[v]:\n",
      "            count += 1\n",
      "    return count\n",
      "\n",
      "def convert_graph(src_g, to=\"graphtool\"):\n",
      "    buf = cStringIO.StringIO()\n",
      "    if to == \"graphtool\":\n",
      "        nx.write_graphml(src_g, buf, encoding='utf-8')\n",
      "        buf.flush()\n",
      "        buf.reset()\n",
      "        dest_g = gt.Graph()\n",
      "        dest_g.load(buf, fmt=\"xml\")\n",
      "    else:\n",
      "        src_g.save(buf, fmt=\"xml\")\n",
      "        buf.flush()\n",
      "        buf.reset()\n",
      "        dest_g = nx.read_graphml(buf, node_type=unicode)\n",
      "    return dest_g\n",
      "\n",
      "def sample_graph(g, num_nodes=100):\n",
      "    nodes = array(g.nodes())\n",
      "    indices = unique(random_integers(0, len(nodes), num_nodes+100))[:num_nodes]\n",
      "    nodes = nodes[indices]\n",
      "    sub_graph = g.subgraph(nodes)\n",
      "    return sub_graph\n",
      "\n",
      "def filter_edgeweight(g, thresh, weight_type=\"distance\"):\n",
      "    filt_g = g.copy()\n",
      "    for u,v,d in filt_g.edges(data=True):\n",
      "        if weight_type == \"distance\":\n",
      "            if d[\"weight\"] > thresh:\n",
      "                filt_g.remove_edge(u,v)\n",
      "        elif weight_type == \"similarity\":\n",
      "            if d[\"weight\"] < thresh:\n",
      "                filt_g.remove_edge(u,v)\n",
      "                \n",
      "    nodes = filt_g.nodes()\n",
      "    for n in nodes:\n",
      "        if filt_g.degree(n) == 0:\n",
      "            filt_g.remove_node(n)\n",
      "        \n",
      "    return filt_g"
     ],
     "language": "python",
     "metadata": {},
     "outputs": [],
     "prompt_number": 107
    },
    {
     "cell_type": "markdown",
     "metadata": {},
     "source": [
      "###Invert weights\n",
      "Weights in our graphs convey similarity. But they should mean 'distances' in graph theory"
     ]
    },
    {
     "cell_type": "code",
     "collapsed": false,
     "input": [
      "for u,v,d in nx_g.edges(data=True):\n",
      "    d[\"weight\"] = 1.0-d[\"weight\"]+0.000001"
     ],
     "language": "python",
     "metadata": {},
     "outputs": [],
     "prompt_number": 204
    },
    {
     "cell_type": "markdown",
     "metadata": {},
     "source": [
      "###Filter edges"
     ]
    },
    {
     "cell_type": "code",
     "collapsed": false,
     "input": [
      "filt_g = filter_edgeweight(nx_g, 0.8, weight_type=\"distance\")\n",
      "print filt_g.number_of_nodes(), filt_g.number_of_edges()"
     ],
     "language": "python",
     "metadata": {},
     "outputs": [
      {
       "output_type": "stream",
       "stream": "stdout",
       "text": [
        "1457 36691\n"
       ]
      }
     ],
     "prompt_number": 113
    },
    {
     "cell_type": "markdown",
     "metadata": {},
     "source": [
      "###Convert to graph-tool format"
     ]
    },
    {
     "cell_type": "code",
     "collapsed": false,
     "input": [
      "gt_g = convert_graph(filt_g)\n",
      "print gt_g.num_vertices(), gt_g.num_edges()"
     ],
     "language": "python",
     "metadata": {},
     "outputs": [
      {
       "output_type": "stream",
       "stream": "stdout",
       "text": [
        "1457 36691\n"
       ]
      }
     ],
     "prompt_number": 115
    },
    {
     "cell_type": "markdown",
     "metadata": {},
     "source": [
      "### Random sample a graph"
     ]
    },
    {
     "cell_type": "code",
     "collapsed": false,
     "input": [
      "sub_g = sample_graph(filt_g, 200)"
     ],
     "language": "python",
     "metadata": {},
     "outputs": [],
     "prompt_number": 205
    },
    {
     "cell_type": "code",
     "collapsed": false,
     "input": [
      "nx.write_graphml(sub_g, \"/homedtic/gkoduri/workspace/relation-extraction/data/carnatic_unigrams_sample.graphml\")"
     ],
     "language": "python",
     "metadata": {},
     "outputs": [],
     "prompt_number": 206
    },
    {
     "cell_type": "markdown",
     "metadata": {},
     "source": [
      "##Shortest path filter\n",
      "\n",
      "**Results:** Jus the shortest path filter alone gets upto 0.57 of precision with 0.57 share of nodes. Not enough, but not bad."
     ]
    },
    {
     "cell_type": "code",
     "collapsed": false,
     "input": [
      "target_node = \"carnatic music\"\n",
      "shortest_path_lenghts = nx.shortest_path_length(filt_g, target=target_node, weight=\"weight\")"
     ],
     "language": "python",
     "metadata": {},
     "outputs": [],
     "prompt_number": 129
    },
    {
     "cell_type": "code",
     "collapsed": false,
     "input": [
      "x = []\n",
      "n = []\n",
      "precisions = []\n",
      "recalls = []\n",
      "f_measures = []\n",
      "path_lengths = np.arange(0.01, 3.0, 0.01)\n",
      "\n",
      "for path_length in path_lengths:\n",
      "    tp = 0.0\n",
      "    tn = 0.0\n",
      "    fp = 0.0\n",
      "    fn = 0.0\n",
      "\n",
      "    nodes = []\n",
      "    for i in filt_g.nodes_iter():\n",
      "        if i in shortest_path_lenghts.keys() and shortest_path_lenghts[i] < path_length:\n",
      "            nodes.append(i)\n",
      "    \n",
      "    if len(nodes) < 50:\n",
      "        continue\n",
      "        \n",
      "    x.append(path_length)\n",
      "    n.append(len(nodes))\n",
      "    for page, category in annotations.items():\n",
      "        if page in nodes:\n",
      "            if category == \"carnatic\":\n",
      "                tp += 1\n",
      "            else:\n",
      "                fp += 1\n",
      "        else:\n",
      "            if category == \"carnatic\":\n",
      "                fn += 1\n",
      "            else:\n",
      "                tn += 1\n",
      "    precisions.append(tp/(tp+fp))\n",
      "    recalls.append(tp/(tp+fn))\n",
      "    f_measures.append(2*tp/(2*tp+fp+fn))"
     ],
     "language": "python",
     "metadata": {},
     "outputs": [],
     "prompt_number": 158
    },
    {
     "cell_type": "code",
     "collapsed": false,
     "input": [
      "num_nodes = np.array(n)/filt_g.number_of_nodes()"
     ],
     "language": "python",
     "metadata": {},
     "outputs": [],
     "prompt_number": 160
    },
    {
     "cell_type": "code",
     "collapsed": false,
     "input": [
      "plot(x, num_nodes, label=\"Number of nodes\")\n",
      "plot(x, f_measures, label=\"F-measure\")\n",
      "plot(x, precisions, label=\"Precision\")\n",
      "plot(x, recalls, label=\"Recalls\")\n",
      "\n",
      "legend()"
     ],
     "language": "python",
     "metadata": {},
     "outputs": [
      {
       "metadata": {},
       "output_type": "pyout",
       "prompt_number": 161,
       "text": [
        "<matplotlib.legend.Legend at 0x35ee3c50>"
       ]
      }
     ],
     "prompt_number": 161
    },
    {
     "cell_type": "markdown",
     "metadata": {},
     "source": [
      "##Degree filter\n",
      "\n",
      "**Result:** Just the degree does not help with the precision at all, it never crosses 0.4!"
     ]
    },
    {
     "cell_type": "code",
     "collapsed": false,
     "input": [
      "degrees = nx.degree(filt_g, weight=\"weight\")\n",
      "#degrees = nx.degree(filt_g)"
     ],
     "language": "python",
     "metadata": {},
     "outputs": [],
     "prompt_number": 154
    },
    {
     "cell_type": "code",
     "collapsed": false,
     "input": [
      "x = []\n",
      "n = []\n",
      "precisions = []\n",
      "recalls = []\n",
      "f_measures = []\n",
      "path_lengths = np.arange(min(degrees.values()), max(degrees.values()), 2)\n",
      "all_nodes = filt_g.nodes()\n",
      "\n",
      "for path_length in path_lengths:\n",
      "    tp = 0.0\n",
      "    tn = 0.0\n",
      "    fp = 0.0\n",
      "    fn = 0.0\n",
      "\n",
      "    nodes = []\n",
      "    for i in all_nodes:\n",
      "        if i in degrees.keys() and degrees[i] < path_length:\n",
      "            nodes.append(i)\n",
      "    \n",
      "    if len(nodes) < 50:\n",
      "        continue\n",
      "        \n",
      "    x.append(path_length)\n",
      "    n.append(len(nodes))\n",
      "    for page, category in annotations.items():\n",
      "        if page in nodes:\n",
      "            if category == \"carnatic\":\n",
      "                tp += 1\n",
      "            else:\n",
      "                fp += 1\n",
      "        else:\n",
      "            if category == \"carnatic\":\n",
      "                fn += 1\n",
      "            else:\n",
      "                tn += 1\n",
      "    precisions.append(tp/(tp+fp))\n",
      "    recalls.append(tp/(tp+fn))\n",
      "    f_measures.append(2*tp/(2*tp+fp+fn))"
     ],
     "language": "python",
     "metadata": {},
     "outputs": [],
     "prompt_number": 162
    },
    {
     "cell_type": "code",
     "collapsed": false,
     "input": [
      "num_nodes = np.array(n)/filt_g.number_of_nodes()"
     ],
     "language": "python",
     "metadata": {},
     "outputs": [],
     "prompt_number": 163
    },
    {
     "cell_type": "code",
     "collapsed": false,
     "input": [
      "plot(x, num_nodes, label=\"Number of nodes\")\n",
      "plot(x, f_measures, label=\"F-measure\")\n",
      "plot(x, precisions, label=\"Precision\")\n",
      "plot(x, recalls, label=\"Recalls\")\n",
      "\n",
      "legend()"
     ],
     "language": "python",
     "metadata": {},
     "outputs": [
      {
       "metadata": {},
       "output_type": "pyout",
       "prompt_number": 164,
       "text": [
        "<matplotlib.legend.Legend at 0x12ba7150>"
       ]
      }
     ],
     "prompt_number": 164
    },
    {
     "cell_type": "markdown",
     "metadata": {},
     "source": [
      "##Pagerank filter on hyperlinks graph\n",
      "**Results**: The precision won't go beyond 0.5, even then the number of nodes are too low."
     ]
    },
    {
     "cell_type": "code",
     "collapsed": false,
     "input": [
      "pageranks = nx.pagerank(filt_g)"
     ],
     "language": "python",
     "metadata": {},
     "outputs": [],
     "prompt_number": 165
    },
    {
     "cell_type": "code",
     "collapsed": false,
     "input": [
      "pos = [k for k,v in annotations.items() if v == \"carnatic\"]\n",
      "neg = [k for k,v in annotations.items() if v == \"non-carnatic\"]\n",
      "\n",
      "print sum([pageranks[n] for n in pos if n in pageranks.keys()])/len(pos)\n",
      "print sum([pageranks[n] for n in neg if n in pageranks.keys()])/len(neg)"
     ],
     "language": "python",
     "metadata": {},
     "outputs": [
      {
       "output_type": "stream",
       "stream": "stdout",
       "text": [
        "0.000785377100481\n",
        "0.000598603766093\n"
       ]
      }
     ],
     "prompt_number": 166
    },
    {
     "cell_type": "code",
     "collapsed": false,
     "input": [
      "n = []\n",
      "precisions = []\n",
      "recalls = []\n",
      "f_measures = []\n",
      "eig_limits = np.arange(0.0001, 0.001, 0.0001)\n",
      "\n",
      "for eig_limit in eig_limits:\n",
      "    tp = 0.0\n",
      "    tn = 0.0\n",
      "    fp = 0.0\n",
      "    fn = 0.0\n",
      "\n",
      "    nodes = [i for i in filt_g.nodes_iter() if pageranks[i] > eig_limit]\n",
      "    \n",
      "    if len(nodes) <= 50:\n",
      "        break\n",
      "        \n",
      "    n.append(len(nodes))\n",
      "    for page, category in annotations.items():\n",
      "        if page in nodes:\n",
      "            if category == \"carnatic\":\n",
      "                tp += 1\n",
      "            else:\n",
      "                fp += 1\n",
      "        else:\n",
      "            if category == \"carnatic\":\n",
      "                fn += 1\n",
      "            else:\n",
      "                tn += 1\n",
      "    precisions.append(tp/(tp+fp))\n",
      "    recalls.append(tp/(tp+fn))\n",
      "    f_measures.append(2*tp/(2*tp+fp+fn))"
     ],
     "language": "python",
     "metadata": {},
     "outputs": [],
     "prompt_number": 168
    },
    {
     "cell_type": "code",
     "collapsed": false,
     "input": [
      "num_nodes = np.array(n)/nx_g.number_of_nodes()"
     ],
     "language": "python",
     "metadata": {},
     "outputs": [],
     "prompt_number": 169
    },
    {
     "cell_type": "code",
     "collapsed": false,
     "input": [
      "x = eig_limits[:len(num_nodes)]\n",
      "\n",
      "plot(x, num_nodes, label=\"Number of nodes\")\n",
      "plot(x, f_measures, label=\"F-measure\")\n",
      "plot(x, precisions, label=\"Precision\")\n",
      "plot(x, recalls, label=\"Recalls\")\n",
      "\n",
      "legend()"
     ],
     "language": "python",
     "metadata": {},
     "outputs": [
      {
       "metadata": {},
       "output_type": "pyout",
       "prompt_number": 171,
       "text": [
        "<matplotlib.legend.Legend at 0x2c86ae90>"
       ]
      }
     ],
     "prompt_number": 171
    },
    {
     "cell_type": "markdown",
     "metadata": {},
     "source": [
      "##Eigenvector centrality filter\n",
      "**Results**: The precision and f-measure peak at 0.6 with 0.4 share of total nodes"
     ]
    },
    {
     "cell_type": "code",
     "collapsed": false,
     "input": [
      "eig_data = gt.eigenvector(gt_g, weight=gt_g.edge_properties[\"weight\"])\n",
      "#eig_data[0] is the largest eigenvalue of weighted adjacency matrix\n",
      "#eig_data[1] has the vertex property map with eigenvector centralities for each vertex\n",
      "print eig_data[0]"
     ],
     "language": "python",
     "metadata": {},
     "outputs": [
      {
       "output_type": "stream",
       "stream": "stdout",
       "text": [
        "80.3020640748\n"
       ]
      }
     ],
     "prompt_number": 172
    },
    {
     "cell_type": "code",
     "collapsed": false,
     "input": [
      "#covert the eig values to be used easily with networkx\n",
      "gt_labelmap = gt_g.vertex_properties['_graphml_vertex_id']\n",
      "eig_centralities = {}\n",
      "for v in gt_g.vertices():\n",
      "    eig_centralities[gt_labelmap[v].decode('utf-8')] = eig_data[1][v]"
     ],
     "language": "python",
     "metadata": {},
     "outputs": [],
     "prompt_number": 173
    },
    {
     "cell_type": "markdown",
     "metadata": {},
     "source": [
      "* **Just have a look at some values!**"
     ]
    },
    {
     "cell_type": "code",
     "collapsed": false,
     "input": [
      "pos = [k for k,v in annotations.items() if v == \"carnatic\"]\n",
      "neg = [k for k,v in annotations.items() if v == \"non-carnatic\"]\n",
      "\n",
      "print sum([eig_centralities[n] for n in pos if n in eig_centralities.keys()])/len(pos)\n",
      "print sum([eig_centralities[n] for n in neg if n in eig_centralities.keys()])/len(neg)"
     ],
     "language": "python",
     "metadata": {},
     "outputs": [
      {
       "output_type": "stream",
       "stream": "stdout",
       "text": [
        "0.0218650717902\n",
        "0.0129638254515\n"
       ]
      }
     ],
     "prompt_number": 174
    },
    {
     "cell_type": "markdown",
     "metadata": {},
     "source": [
      "* **Plot how the number of relations per node varies as we keep increasing the eig_centrality threshold to remove spurious nodes.** "
     ]
    },
    {
     "cell_type": "code",
     "collapsed": false,
     "input": [
      "tempg = nx_g.copy()\n",
      "eig_limits = np.arange(0.0001, 0.1, 0.0003)\n",
      "edges = []\n",
      "nodes = []\n",
      "y = []\n",
      "for eig_limit in eig_limits:\n",
      "    nbunch = [n for n,v in eig_centralities.items() if v < eig_limit]\n",
      "    tempg.remove_nodes_from(nbunch)\n",
      "    \n",
      "    edges.append(tempg.number_of_edges())\n",
      "    nodes.append(tempg.number_of_nodes())\n",
      "    if nodes[-1] == 0: break\n",
      "    y.append(1.0*edges[-1]/nodes[-1])"
     ],
     "language": "python",
     "metadata": {},
     "outputs": [],
     "prompt_number": 175
    },
    {
     "cell_type": "code",
     "collapsed": false,
     "input": [
      "plot(eig_limits[:len(y)], y)"
     ],
     "language": "python",
     "metadata": {},
     "outputs": [
      {
       "metadata": {},
       "output_type": "pyout",
       "prompt_number": 187,
       "text": [
        "[<matplotlib.lines.Line2D at 0x1ac68f50>]"
       ]
      }
     ],
     "prompt_number": 187
    },
    {
     "cell_type": "markdown",
     "metadata": {},
     "source": [
      "* **Get the eig_value corresponding to the peak in that plot.**\n",
      "* **Get the nodes setting that eig_value as threshold. These are the nodes which we are most confident are relevant!**"
     ]
    },
    {
     "cell_type": "code",
     "collapsed": false,
     "input": [
      "thresh = 0.02\n",
      "nodes = [i for i in filt_g.nodes_iter() if eig_centralities[i] > thresh]\n",
      "central_nodes = nodes\n",
      "print len(central_nodes)\n",
      "central_nodes"
     ],
     "language": "python",
     "metadata": {},
     "outputs": [
      {
       "output_type": "stream",
       "stream": "stdout",
       "text": [
        "455\n"
       ]
      },
      {
       "metadata": {},
       "output_type": "pyout",
       "prompt_number": 186,
       "text": [
        "[u'anthimanthaarai',\n",
        " u'kadri gopalnath',\n",
        " u'abhogi',\n",
        " u'mysore brothers',\n",
        " u'bhairavi (carnatic)',\n",
        " u'odissi music',\n",
        " u'madhuvanti',\n",
        " u'list of carnatic instrumentalists',\n",
        " u'performances of carnatic music',\n",
        " u'concerts of chembai',\n",
        " u'james vasanthan',\n",
        " u'm. balamuralikrishna',\n",
        " u'music',\n",
        " u'rakes of mallow',\n",
        " u'vijaya bhaskar',\n",
        " u'saveri',\n",
        " u'hindolam',\n",
        " u'yagapriya',\n",
        " u'list of janya ragas',\n",
        " u'manavati',\n",
        " u'margazhi raagam',\n",
        " u'louis banks',\n",
        " u'charukesi',\n",
        " u'namanarayani',\n",
        " u'sankarabharanam',\n",
        " u'pancharatna kriti',\n",
        " u'carnatic music',\n",
        " u'madras music season',\n",
        " u'culture of india',\n",
        " u'nagasvaravali',\n",
        " u'm. s. subbulakshmi',\n",
        " u'delhi p. sunder rajan',\n",
        " u'remya nambeesan',\n",
        " u'sithara (singer)',\n",
        " u'sopana sangeetham',\n",
        " u'yakshagana',\n",
        " u'shree ranjani',\n",
        " u'd. k. jayaraman',\n",
        " u'vashanth sellathurai',\n",
        " u'bombay lakshmi rajagopalan',\n",
        " u'srividya',\n",
        " u'simhendramadhyamam',\n",
        " u'naganandini',\n",
        " u'chinmayi',\n",
        " u'anuradha sriram',\n",
        " u'dharmadasa walpola',\n",
        " u'pattabhiramayya',\n",
        " u'swagatalakshmi dasgupta',\n",
        " u'ranjith (singer)',\n",
        " u'm. s. viswanathan',\n",
        " u'salaga bhairavi',\n",
        " u'm. k. thyagaraja bhagavathar',\n",
        " u'khamas (raga)',\n",
        " u'shivaranjani',\n",
        " u'p. leela',\n",
        " u'rajan-nagendra',\n",
        " u'justin mccarthy (dancer)',\n",
        " u'n. ramani',\n",
        " u'vellore a. r. srinivasan',\n",
        " u'bhanumathi ramakrishna',\n",
        " u'm. g. sreekumar',\n",
        " u'jalarnavam',\n",
        " u'karthik raja',\n",
        " u'jhalavarali',\n",
        " u'raghupriya',\n",
        " u'alphons joseph',\n",
        " u'thetakudi harihara vinayakram',\n",
        " u'list of k. j. yesudas concerts',\n",
        " u'chowdiah',\n",
        " u'sowmya raoh',\n",
        " u'culture of chennai',\n",
        " u'rithvik raja',\n",
        " u'valaji',\n",
        " u'pradip somasundaran',\n",
        " u'vanaspati (raga)',\n",
        " u'shankar tucker',\n",
        " u'saramati',\n",
        " u'praveen d rao',\n",
        " u'k. s. chithra',\n",
        " u'naresh iyer',\n",
        " u'kosalam',\n",
        " u'vijay prakash',\n",
        " u'bilahari',\n",
        " u'ilaiyaraaja',\n",
        " u'p. susheela',\n",
        " u'jyoti swarupini',\n",
        " u'dheerasankarabharanam',\n",
        " u'nasikabhushani',\n",
        " u'dance in india',\n",
        " u'bhavapriya',\n",
        " u'ranjani',\n",
        " u'ambi subramaniam',\n",
        " u'kantamani',\n",
        " u't. g. lingappa',\n",
        " u'sikkil r. bhaskaran',\n",
        " u'music of malaysia',\n",
        " u'haricharan',\n",
        " u'pandit s. ballesh',\n",
        " u'chakravakam (raga)',\n",
        " u'gourimanohari',\n",
        " u'sooraj santhosh',\n",
        " u'agam (band)',\n",
        " u'k. j. yesudas discography',\n",
        " u'annamacharya',\n",
        " u'shahana',\n",
        " u'sahana (raga)',\n",
        " u'music of india',\n",
        " u's. rajeswara rao',\n",
        " u'sharanya srinivas',\n",
        " u'haridasas and carnatic music',\n",
        " u'andolika',\n",
        " u't. r. rajakumari',\n",
        " u'vani jairam',\n",
        " u'kharaharapriya',\n",
        " u'vivadi',\n",
        " u'kunnakudi subbalakshmi',\n",
        " u'chinmaya m. rao',\n",
        " u'b. a. chidambaranath',\n",
        " u'vyjayanthimala',\n",
        " u'tyagaraja',\n",
        " u'ranjani-gayatri',\n",
        " u'nithyasree mahadevan',\n",
        " u'ratnangi',\n",
        " u'malayamarutam',\n",
        " u'kishore kumar',\n",
        " u'shadvidamargini',\n",
        " u's. v. venkatraman',\n",
        " u'darshana kt',\n",
        " u'alapana',\n",
        " u'ramya nsk',\n",
        " u's. janaki',\n",
        " u'vishwambari',\n",
        " u'filmi',\n",
        " u'rajkumar bharathi',\n",
        " u'shweta mohan',\n",
        " u'f. g. natesa iyer',\n",
        " u'harikambhoji',\n",
        " u'embar kannan',\n",
        " u'thrissur c. rajendran',\n",
        " u'deepa miriam',\n",
        " u'n. ravikiran',\n",
        " u'kedaragaula',\n",
        " u'mararanjani',\n",
        " u'aalap raju',\n",
        " u'pantula rama',\n",
        " u'baiju dharmajan',\n",
        " u'jhankaradhvani',\n",
        " u'vinjamuri anasuya devi',\n",
        " u'lalitha sivakumar',\n",
        " u'veene sheshanna',\n",
        " u'b. arundhathi',\n",
        " u'rahul nambiar',\n",
        " u'jyotsna radhakrishnan',\n",
        " u'doraiswamy iyengar',\n",
        " u'harris jayaraj',\n",
        " u'kshetrayya',\n",
        " u'v. ramarathnam',\n",
        " u'development of carnatic music',\n",
        " u'm. narmadha',\n",
        " u'hindustani classical music',\n",
        " u'musiri subramania iyer',\n",
        " u'arun luthra',\n",
        " u'muthiah bhagavatar',\n",
        " u'narayan iyengar',\n",
        " u'bharata natyam',\n",
        " u'ramapriya',\n",
        " u'arts and entertainment in india',\n",
        " u'sukumar prasad',\n",
        " u'b. sasikumar',\n",
        " u'hyderabad brothers',\n",
        " u'kalyanavasantam',\n",
        " u'muthu thandavar',\n",
        " u'gayakapriya',\n",
        " u'm. l. vasanthakumari',\n",
        " u'shri (musician)',\n",
        " u'vittal ramamurthy',\n",
        " u'ghantasala (singer)',\n",
        " u'history of music',\n",
        " u'swarabhishekam',\n",
        " u'culture of kerala',\n",
        " u'rishabhapriya',\n",
        " u'amritavarshini',\n",
        " u'mohanlal',\n",
        " u'swati kiranam',\n",
        " u'mohanakalyani',\n",
        " u'garudadhvani',\n",
        " u'ganamurti',\n",
        " u'radha viswanathan',\n",
        " u'anand (2004 film)',\n",
        " u'p. unni krishnan',\n",
        " u'vagadheeswari',\n",
        " u'neyveli santhanagopalan',\n",
        " u'tiruchy l. saravanan',\n",
        " u'mynampati sreerama chandra',\n",
        " u'tamil nadu',\n",
        " u'v.r. raghava krishna',\n",
        " u'vakulabharanam',\n",
        " u'usha uthup',\n",
        " u'vani sateesh',\n",
        " u'latangi',\n",
        " u'l. shankar',\n",
        " u'v. dakshinamoorthy',\n",
        " u'adyar k. lakshman',\n",
        " u'dhavalambari',\n",
        " u'kokilapriya',\n",
        " u'r. prasanna',\n",
        " u'mandolin',\n",
        " u'colonial cousins',\n",
        " u'ranjit barot',\n",
        " u'kaithapram damodaran namboothiri',\n",
        " u'natakapriya',\n",
        " u'bellary m raghavendra',\n",
        " u's. kalyanaraman',\n",
        " u'gemini ganesan',\n",
        " u'varali',\n",
        " u'shuddha saveri',\n",
        " u'h. s. sudhindra',\n",
        " u'dhatuvardani',\n",
        " u'dhenuka (raga)',\n",
        " u't. m. soundararajan',\n",
        " u'raman mahadevan',\n",
        " u'rajiv menon',\n",
        " u'g. devarajan',\n",
        " u'sindhu bhairavi (film)',\n",
        " u'carnatic r\\u0101ga',\n",
        " u'indian rock',\n",
        " u'madhu balakrishnan',\n",
        " u'lakshmi gopalaswamy',\n",
        " u'raga',\n",
        " u'susheela raman',\n",
        " u'rasikapriya',\n",
        " u'namagiripettai krishnan',\n",
        " u'kunnakudi vaidyanathan',\n",
        " u'gayathri girish',\n",
        " u'kalakkad s. ramanarayana iyer',\n",
        " u'saindhavi',\n",
        " u'sahityam',\n",
        " u'chitra visweswaran',\n",
        " u'n. c. karunya',\n",
        " u'vasanta habba',\n",
        " u'ramesh vinayakam',\n",
        " u'k. j. yesudas',\n",
        " u'madhyamavati',\n",
        " u'manachanallur giridharan',\n",
        " u'gangubai hangal',\n",
        " u'vanaja (film)',\n",
        " u'chembai',\n",
        " u'pandit venkatesh kumar',\n",
        " u'shree ragam',\n",
        " u't. s. b. k. moulee',\n",
        " u'chitta swara',\n",
        " u'sampurna raga',\n",
        " u'kadal (soundtrack)',\n",
        " u'glossary of carnatic music',\n",
        " u'mannargudi easwaran',\n",
        " u'mano (singer)',\n",
        " u'chola nadu',\n",
        " u'atana',\n",
        " u'suvarnangi',\n",
        " u'niroshta',\n",
        " u'hariharan (singer)',\n",
        " u'yuvan shankar raja',\n",
        " u'gavambhodi',\n",
        " u'pharaju',\n",
        " u'anusha mani',\n",
        " u'trichy sankaran',\n",
        " u'chitti babu (musician)',\n",
        " u'anirudh ravichander',\n",
        " u'alaipayuthey',\n",
        " u'gamanashrama',\n",
        " u'patri satish kumar',\n",
        " u'music of kerala',\n",
        " u'tyagayya (1946 film)',\n",
        " u'saranamanthram',\n",
        " u'emani sankara sastry',\n",
        " u'navaneetam',\n",
        " u'mamta mohandas',\n",
        " u'malayalam cinema',\n",
        " u'sainoj',\n",
        " u'sarasangi',\n",
        " u'vidyasagar (music director)',\n",
        " u'sucharitra',\n",
        " u'kapi (raga)',\n",
        " u'msn murthy',\n",
        " u'mysore manjunath',\n",
        " u'art and culture of karnataka',\n",
        " u'sirkazhi govindarajan',\n",
        " u'm. jayachandran',\n",
        " u't. n. sivakumar',\n",
        " u'manjula gururaj',\n",
        " u'gayatri asokan',\n",
        " u'annakili',\n",
        " u'm. g. radhakrishnan',\n",
        " u'bhimsen joshi',\n",
        " u'karthik (singer)',\n",
        " u'bennet veetraag',\n",
        " u'janardhan mitta',\n",
        " u'sangamam',\n",
        " u'g. ramanathan',\n",
        " u'ee sanje',\n",
        " u'amutham music',\n",
        " u'anandabhairavi',\n",
        " u'shanmukhapriya',\n",
        " u'akkarai subhalakshmi',\n",
        " u'shakthisree gopalan',\n",
        " u'jyotsna srikanth',\n",
        " u'vachaspati (raga)',\n",
        " u'anil srinivasan',\n",
        " u'udayaravichandrika',\n",
        " u'ravi shankar',\n",
        " u'mathangi jagdish',\n",
        " u'nedumangad sivanandan',\n",
        " u'ram sampath',\n",
        " u'vedavathi prabhakar',\n",
        " u'v. selvaganesh',\n",
        " u'paul poovathingal',\n",
        " u'varunapriya',\n",
        " u'sikkil gurucharan',\n",
        " u'pragathi guruprasad',\n",
        " u'achu rajamani',\n",
        " u't. m. krishna',\n",
        " u'kanakangi',\n",
        " u'tripunithura krishnadas',\n",
        " u'd. k. pattammal',\n",
        " u'bhupalam',\n",
        " u'harini ravi',\n",
        " u'soolamangalam sisters',\n",
        " u'chalanata',\n",
        " u'r. k. shriramkumar',\n",
        " u'waves (festival)',\n",
        " u'indian classical music',\n",
        " u'suryakantam',\n",
        " u'thiagarajan ramani',\n",
        " u'perumbavoor g. raveendranath',\n",
        " u'sowmya mahadevan',\n",
        " u'papanasam sivan',\n",
        " u'salem k. meera',\n",
        " u't s radhakrishnan',\n",
        " u'mahathi',\n",
        " u'manickam yogeswaran',\n",
        " u'muthuswami dikshitar',\n",
        " u'm. chandrasekaran',\n",
        " u'johnson (composer)',\n",
        " u'bombay jayashri',\n",
        " u'prem nazir',\n",
        " u's. hanumantha rao',\n",
        " u'tanarupi',\n",
        " u'karaikudi mani',\n",
        " u'oottukkadu venkata kavi',\n",
        " u'veturi sundararama murthy',\n",
        " u'n. c. vasanthakokilam',\n",
        " u'jaysri-jeyaraaj',\n",
        " u'k. balachander',\n",
        " u'avarohana',\n",
        " u'chandralekha (1948 film)',\n",
        " u'chitrambari',\n",
        " u'senavati',\n",
        " u'blind musicians',\n",
        " u'shankar mahadevan',\n",
        " u'music of tamil nadu',\n",
        " u'kamavardani',\n",
        " u'anitha shaiq',\n",
        " u'viruttam',\n",
        " u'pravin godkhindi',\n",
        " u'dharmavati',\n",
        " u'sundaram balachander',\n",
        " u's. p. balasubrahmanyam',\n",
        " u'rupavati',\n",
        " u'rama ravi',\n",
        " u'raveendran',\n",
        " u'kandukondain kandukondain',\n",
        " u'kiratha arjuna',\n",
        " u'semmangudi srinivasa iyer',\n",
        " u'works of c. rajagopalachari',\n",
        " u'gambhiranata',\n",
        " u'viswanathan\\u2013ramamoorthy',\n",
        " u'mickey j meyer',\n",
        " u'nata (raga)',\n",
        " u'devi sri prasad',\n",
        " u'gangeyabhushani',\n",
        " u'keeravani',\n",
        " u'sankaran embranthiri',\n",
        " u'natabhairavi',\n",
        " u'rajee narayan',\n",
        " u'sriram parthasarathy',\n",
        " u'anayampatti s. ganesan',\n",
        " u'dhanyasi',\n",
        " u'malayali',\n",
        " u'malahari',\n",
        " u'c. r. subburaman',\n",
        " u'raghunath manet',\n",
        " u'hatakambari',\n",
        " u'sudha ragunathan',\n",
        " u'his highness abdullah',\n",
        " u'k. bhaskaran',\n",
        " u'yadukulakamboji',\n",
        " u'susarla dakshinamurthi',\n",
        " u'melakarta',\n",
        " u'lalgudi jayaraman',\n",
        " u'divyamani',\n",
        " u'madurai t. srinivasan',\n",
        " u'radha jayalakshmi',\n",
        " u'm. r. rajakrishnan',\n",
        " u'list of indian composers',\n",
        " u'nirmala rajasekar',\n",
        " u'darbari kanada',\n",
        " u'arabhi',\n",
        " u'kalyani (raga)',\n",
        " u'smitha madhav',\n",
        " u'devagandhari',\n",
        " u'shubhapantuvarali',\n",
        " u'ragavardhini',\n",
        " u'hanumatodi',\n",
        " u'arohana',\n",
        " u'list of carnatic singers',\n",
        " u'm. s. gopalakrishnan',\n",
        " u'mohanam',\n",
        " u'sreevalsan j menon',\n",
        " u'neetimati',\n",
        " u'gaula (raga)',\n",
        " u'janya',\n",
        " u'colonial cousins (album)',\n",
        " u'srirangam kannan',\n",
        " u'abheri',\n",
        " u'shulini',\n",
        " u'en swasa kaatre',\n",
        " u'g. n. balasubramaniam',\n",
        " u'sunadavinodini',\n",
        " u'asaveri',\n",
        " u'shamalangi',\n",
        " u'r. suryaprakash',\n",
        " u'a. r. rahman',\n",
        " u'l. athira krishna',\n",
        " u'charulatha mani',\n",
        " u'pavani (raga)',\n",
        " u'list of carnatic composers',\n",
        " u'mahalakshmi iyer',\n",
        " u'rose muralikrishnan',\n",
        " u'rajkumar (actor)',\n",
        " u'k. m. radha krishnan',\n",
        " u'the blast (album)',\n",
        " u'hamsadhvani',\n",
        " u'sheik chinna moulana',\n",
        " u'shankar\\u2013ehsaan\\u2013loy',\n",
        " u'revati (raga)',\n",
        " u'm. s. sheela',\n",
        " u'malaikkottai govindaswamy pillai',\n",
        " u'a. m. rajah',\n",
        " u'harini',\n",
        " u'salagam',\n",
        " u'telugu literature',\n",
        " u'karnataka shuddha saveri',\n",
        " u'hemavati (raga)',\n",
        " u'l. subramaniam',\n",
        " u'hamsanandi']"
       ]
      }
     ],
     "prompt_number": 186
    },
    {
     "cell_type": "markdown",
     "metadata": {},
     "source": [
      "###Evalution of eigenvector centrality's performance"
     ]
    },
    {
     "cell_type": "code",
     "collapsed": false,
     "input": [
      "n = []\n",
      "precisions = []\n",
      "recalls = []\n",
      "f_measures = []\n",
      "eig_limits = np.arange(0.00001, 0.5, 0.00003)\n",
      "\n",
      "for eig_limit in eig_limits:\n",
      "    tp = 0.0\n",
      "    tn = 0.0\n",
      "    fp = 0.0\n",
      "    fn = 0.0\n",
      "\n",
      "    nodes = [i for i in filt_g.nodes_iter() if eig_centralities[i] > eig_limit]\n",
      "    \n",
      "    if len(nodes) <= 50:\n",
      "        break\n",
      "        \n",
      "    n.append(len(nodes))\n",
      "    for page, category in annotations.items():\n",
      "        if page in nodes:\n",
      "            if category == \"carnatic\":\n",
      "                tp += 1\n",
      "            else:\n",
      "                fp += 1\n",
      "        else:\n",
      "            if category == \"carnatic\":\n",
      "                fn += 1\n",
      "            else:\n",
      "                tn += 1\n",
      "    precisions.append(tp/(tp+fp))\n",
      "    recalls.append(tp/(tp+fn))\n",
      "    f_measures.append(2*tp/(2*tp+fp+fn))"
     ],
     "language": "python",
     "metadata": {},
     "outputs": [],
     "prompt_number": 180
    },
    {
     "cell_type": "code",
     "collapsed": false,
     "input": [
      "n = array(n)/nx_g.number_of_nodes()"
     ],
     "language": "python",
     "metadata": {},
     "outputs": [],
     "prompt_number": 181
    },
    {
     "cell_type": "code",
     "collapsed": false,
     "input": [
      "figure()\n",
      "x = eig_limits[:len(n)]\n",
      "\n",
      "plot(x, n, label=\"Number of nodes\")\n",
      "plot(x, f_measures, label=\"F-measure\")\n",
      "plot(x, precisions, label=\"Precision\")\n",
      "plot(x, recalls, label=\"Recalls\")\n",
      "\n",
      "legend()"
     ],
     "language": "python",
     "metadata": {},
     "outputs": [
      {
       "metadata": {},
       "output_type": "pyout",
       "prompt_number": 184,
       "text": [
        "<matplotlib.legend.Legend at 0x1ba29210>"
       ]
      }
     ],
     "prompt_number": 184
    },
    {
     "cell_type": "markdown",
     "metadata": {},
     "source": [
      "##Different properties of graph to know its structure\n",
      "\n",
      "**What are the properties of the graph with only these central nodes, and how do they compare to the original graph?**\n",
      "\n",
      "* Diameter (nx.diameter)\n",
      "* Size (number of edges)\n",
      "* Clustering coefficient (nx.average_clustering)\n",
      "* Maximal independent set (nx.maximal_independent_set) --> *needs to be run multiple times and an average taken*\n",
      "* Clique number (nx.clique.graph_clique_number)\n",
      "* Algebraic connectivity (Second smallest eigen value of laplacian matrix of g)\n",
      "* Cheeger constant (TODO)\n",
      "* Minimum node/edge cut (nx.minimum_edge_cut or nx.minimum_node_cut)\n",
      "* Matchings (nx.matching.maximal_matching)\n",
      "* Estrada index (nx.estrada_index)\n",
      "* Vertex cover (networkx_approximate.py)\n",
      "\n",
      "\n",
      "**Other measures that can be considered when adding less good nodes to central nodes:**\n",
      "\n",
      "* Closeness vitality (related to weiner index, nx.closeness_vitality) --> *Is too slow!*"
     ]
    },
    {
     "cell_type": "code",
     "collapsed": false,
     "input": [
      "cg = nx_g.subgraph(nodes)\n",
      "cg = convert_graph(cg)\n",
      "\n",
      "central_g = nx_g.subgraph(central_nodes)\n",
      "central_g = convert_graph(central_g)"
     ],
     "language": "python",
     "metadata": {},
     "outputs": []
    },
    {
     "cell_type": "markdown",
     "metadata": {},
     "source": [
      "**Diameter**"
     ]
    },
    {
     "cell_type": "code",
     "collapsed": false,
     "input": [
      "res_central = gt.pseudo_diameter(central_g)\n",
      "res_ext = gt.pseudo_diameter(cg)\n",
      "res_all = gt.pseudo_diameter(gt_g)\n",
      "print res_central[0], res_ext[0], res_all[0]"
     ],
     "language": "python",
     "metadata": {},
     "outputs": []
    },
    {
     "cell_type": "markdown",
     "metadata": {},
     "source": [
      "**Maximal independent vertex set**"
     ]
    },
    {
     "cell_type": "code",
     "collapsed": false,
     "input": [
      "res = gt.max_independent_vertex_set(central_g)\n",
      "print propmap_len(central_g.vertices(), res)\n",
      "\n",
      "res = gt.max_independent_vertex_set(cg)\n",
      "print propmap_len(cg.vertices(), res)"
     ],
     "language": "python",
     "metadata": {},
     "outputs": []
    },
    {
     "cell_type": "markdown",
     "metadata": {},
     "source": [
      "**Maximal matching**"
     ]
    },
    {
     "cell_type": "code",
     "collapsed": false,
     "input": [
      "res = gt.max_cardinality_matching(central_g)\n",
      "#print propmap_len(central_g.edges(), res)\n",
      "print sum(res[0].a)\n",
      "\n",
      "res = gt.max_cardinality_matching(cg)\n",
      "print sum(res[0].a)"
     ],
     "language": "python",
     "metadata": {},
     "outputs": []
    },
    {
     "cell_type": "markdown",
     "metadata": {},
     "source": [
      "**Algebraic connectivity**"
     ]
    },
    {
     "cell_type": "code",
     "collapsed": false,
     "input": [
      "lap = gt.laplacian(central_g)\n",
      "eig_vals = np.linalg.eigvals(lap.todense())\n",
      "eig_vals = sort(eig_vals)\n",
      "print eig_vals[1],\n",
      "\n",
      "lap = gt.laplacian(cg)\n",
      "eig_vals = np.linalg.eigvals(lap.todense())\n",
      "eig_vals = sort(eig_vals)\n",
      "print eig_vals[1]"
     ],
     "language": "python",
     "metadata": {},
     "outputs": []
    },
    {
     "cell_type": "markdown",
     "metadata": {},
     "source": [
      "**Min cut**"
     ]
    },
    {
     "cell_type": "code",
     "collapsed": false,
     "input": [
      "print gt.min_cut(central_g, central_g.edge_properties[\"weight\"])[0] #, len(nx.minimum_edge_cut(cg))\n",
      "print gt.min_cut(cg, cg.edge_properties[\"weight\"])[0] #, len(nx.minimum_node_cut(cg))"
     ],
     "language": "python",
     "metadata": {},
     "outputs": []
    },
    {
     "cell_type": "markdown",
     "metadata": {},
     "source": [
      "**Plot how all these measures vary as the number of nodes are increased**"
     ]
    },
    {
     "cell_type": "code",
     "collapsed": false,
     "input": [
      "eig_limits = np.arange(0.025, 0.0001, -0.0003)\n",
      "edges = []\n",
      "nodes = []\n",
      "diameters = []\n",
      "maxind_vertsets = []\n",
      "max_matches = []\n",
      "alg_conn = []\n",
      "min_cut = []\n",
      "\n",
      "for eig_limit in eig_limits:\n",
      "    print eig_limit\n",
      "    \n",
      "    nbunch = [n for n,v in eig_centralities.items() if v < eig_limit]\n",
      "    cg = nx_g.subgraph(nbunch)\n",
      "    cg = convert_graph(cg, to=\"graphtool\")\n",
      "    \n",
      "    edges.append(cg.num_edges())\n",
      "    nodes.append(cg.num_vertices())\n",
      "    if nodes[-1] == 0: \n",
      "        break\n",
      "    \n",
      "    diameters.append(gt.pseudo_diameter(cg)[0])\n",
      "    \n",
      "    res = gt.max_independent_vertex_set(cg)\n",
      "    maxind_vertsets.append(propmap_len(cg.vertices(), res))\n",
      "    \n",
      "    res = gt.max_cardinality_matching(cg)\n",
      "    max_matches.append(sum(res[0].a))\n",
      "    \n",
      "    lap = gt.laplacian(cg)\n",
      "    eig_vals = np.linalg.eigvals(lap.todense())\n",
      "    eig_vals = sort(eig_vals)\n",
      "    alg_conn.append(eig_vals[1])\n",
      "    \n",
      "    min_cut.append(gt.min_cut(cg, cg.edge_properties[\"weight\"])[0])"
     ],
     "language": "python",
     "metadata": {},
     "outputs": []
    },
    {
     "cell_type": "code",
     "collapsed": false,
     "input": [
      "min_cut = []\n",
      "clust_coeff = []\n",
      "clust_coeff_std = []\n",
      "for eig_limit in eig_limits:\n",
      "    print eig_limit,\n",
      "    nbunch = [n for n,v in eig_centralities.items() if v < eig_limit]\n",
      "    cg = nx_g.subgraph(nbunch)\n",
      "    for u,v,d in cg.edges(data=True):\n",
      "        d[\"weight\"] = 1\n",
      "    cg = convert_graph(cg, to=\"graphtool\")\n",
      "    \n",
      "    clust_coeff.append(gt.global_clustering(cg)[0])\n",
      "    clust_coeff_std.append(gt.global_clustering(cg)[1])\n",
      "    \n",
      "    #res = gt.min_cut(cg, cg.edge_properties[\"weight\"])[0]\n",
      "    #min_cut.append(res)"
     ],
     "language": "python",
     "metadata": {},
     "outputs": []
    },
    {
     "cell_type": "code",
     "collapsed": false,
     "input": [
      "nbunch = [n for n,v in eig_centralities.items() if v < 0.001]\n",
      "cg = nx_g.subgraph(nbunch)\n",
      "for u,v,d in cg.edges(data=True):\n",
      "    d[\"weight\"] = 1\n",
      "print cg.number_of_nodes(), cg.number_of_edges()\n",
      "\n",
      "cg = convert_graph(cg)\n",
      "print cg.num_vertices(), cg.num_edges()"
     ],
     "language": "python",
     "metadata": {},
     "outputs": []
    },
    {
     "cell_type": "code",
     "collapsed": false,
     "input": [
      "for e in cg.edges():\n",
      "    print e, cg.edge_properties[\"weight\"][e]"
     ],
     "language": "python",
     "metadata": {},
     "outputs": []
    },
    {
     "cell_type": "code",
     "collapsed": false,
     "input": [
      "res = gt.min_cut(cg, cg.edge_properties[\"weight\"])\n",
      "for v in cg.vertices():\n",
      "    if res[1][v]:\n",
      "        print v"
     ],
     "language": "python",
     "metadata": {},
     "outputs": []
    },
    {
     "cell_type": "code",
     "collapsed": false,
     "input": [
      "y = min_cut\n",
      "\n",
      "#res = zip(eig_limits, y)\n",
      "#res = array(sorted(res, key=lambda x:x[0]))\n",
      "#plot(res[:, 0], res[:, 1])\n",
      "\n",
      "plot(eig_limits, y)"
     ],
     "language": "python",
     "metadata": {},
     "outputs": []
    },
    {
     "cell_type": "code",
     "collapsed": false,
     "input": [
      "nx.write_graphml(cg, \"/homedtic/gkoduri/workspace/relation-extraction/data/carnatic_link_graph_0.1_cg.graphml\", \n",
      "                 encoding=\"utf-8\")\n",
      "nx.write_graphml(central_g, \"/homedtic/gkoduri/workspace/relation-extraction/data/carnatic_link_graph_0.1_central_g.graphml\", \n",
      "                 encoding=\"utf-8\")"
     ],
     "language": "python",
     "metadata": {},
     "outputs": []
    },
    {
     "cell_type": "markdown",
     "metadata": {},
     "source": [
      "##Filtering by communities\n",
      "\n",
      "* Get the communities from the graph, setting a constraint of minimum number of nodes per community."
     ]
    },
    {
     "cell_type": "code",
     "collapsed": false,
     "input": [
      "nodes = annotations.keys()\n",
      "sub_g = nx_g.subgraph(nodes)\n",
      "print sub_g.number_of_nodes(), sub_g.number_of_edges()"
     ],
     "language": "python",
     "metadata": {},
     "outputs": [
      {
       "output_type": "stream",
       "stream": "stdout",
       "text": [
        "200 4226\n"
       ]
      }
     ],
     "prompt_number": 193
    },
    {
     "cell_type": "code",
     "collapsed": false,
     "input": [
      "#sub_g = filter_edgeweight(sub_g, 0.9)\n",
      "#print sub_g.number_of_nodes(), sub_g.number_of_edges()"
     ],
     "language": "python",
     "metadata": {},
     "outputs": [
      {
       "output_type": "stream",
       "stream": "stdout",
       "text": [
        "199 4213\n"
       ]
      }
     ],
     "prompt_number": 192
    },
    {
     "cell_type": "code",
     "collapsed": false,
     "input": [
      "curg = sub_g.copy()\n",
      "print curg.number_of_nodes(), curg.number_of_edges()"
     ],
     "language": "python",
     "metadata": {},
     "outputs": [
      {
       "output_type": "stream",
       "stream": "stdout",
       "text": [
        "200 4226\n"
       ]
      }
     ],
     "prompt_number": 194
    },
    {
     "cell_type": "code",
     "collapsed": false,
     "input": [
      "partition = c.best_partition(curg)\n",
      "print len(np.unique(partition.values()))"
     ],
     "language": "python",
     "metadata": {},
     "outputs": [
      {
       "output_type": "stream",
       "stream": "stdout",
       "text": [
        "5\n"
       ]
      }
     ],
     "prompt_number": 195
    },
    {
     "cell_type": "code",
     "collapsed": false,
     "input": [
      "categories = {}\n",
      "min_com_size = 10\n",
      "\n",
      "for com in set(partition.values()) :\n",
      "    list_nodes = [nodes for nodes in partition.keys()\n",
      "                                if partition[nodes] == com]\n",
      "    print com, len(list_nodes)\n",
      "    print\n",
      "    if len(list_nodes) > min_com_size:\n",
      "         categories[com] = list_nodes"
     ],
     "language": "python",
     "metadata": {},
     "outputs": [
      {
       "output_type": "stream",
       "stream": "stdout",
       "text": [
        "0 48\n",
        "\n",
        "1 45\n",
        "\n",
        "2 44\n",
        "\n",
        "3 62\n",
        "\n",
        "4 1\n",
        "\n"
       ]
      }
     ],
     "prompt_number": 196
    },
    {
     "cell_type": "code",
     "collapsed": false,
     "input": [
      "for com, nbunch in categories.items():\n",
      "    print com, len(nbunch), np.sort(nbunch)"
     ],
     "language": "python",
     "metadata": {},
     "outputs": [
      {
       "output_type": "stream",
       "stream": "stdout",
       "text": [
        "0 48 [u'agnee' u'alapana' u'alathur venkatesa iyer' u'anai ayya brothers'\n",
        " u'anandabhairavi' u'bhavapriya' u'bilahari' u'broche varevaru ra'\n",
        " u'cant\\xe9yodjay\\xe2' u'carnatic r\\u0101ga' u'chittoor subramaniam pillai'\n",
        " u'dhavalambari' u'drone music' u'garudadhvani' u'gayakapriya'\n",
        " u'gayathri girish' u'harmony' u'heptatonic scale' u'jalarnavam'\n",
        " u'kamalamba navavarna kritis' u'katapayadi system'\n",
        " u'kovur sundareswarar temple' u'mysore literature in kannada'\n",
        " u'nagasvaravali' u'namanarayani' u'natakapriya' u'raga' u'ratnangi'\n",
        " u'sadasiva brahmendra' u'sahityam' u'saramati' u'sargam (music)' u'sthai'\n",
        " u'suvarnangi' u'swara' u'tala (music)' u'tillana'\n",
        " u'trinity of carnatic music' u'udayaravichandrika' u'vachaspati (raga)'\n",
        " u'varunapriya' u'venu (disambiguation)' u'vichitra veena' u'violin'\n",
        " u'vishnu narayan bhatkhande' u'whole tone scale' u'yagapriya'\n",
        " u'yaman (raga)']\n",
        "1 45 [u'aalap raju' u'arvind parikh' u'b. shivaraman' u'chitti babu (musician)'\n",
        " u'coke studio (india)' u'colonial cousins' u'france\\u2013india relations'\n",
        " u'g. ramanathan' u'gaadha' u'ghanam krishna iyer' u'hamsageethe'\n",
        " u'harris jayaraj' u'henry cowell' u'k. j. yesudas' u'k. s. chithra'\n",
        " u'kalamandalam haridas' u'karthik (singer)' u'kirtan' u'kizhakku vasal'\n",
        " u'kshetrayya' u'l.p.r. varma' u'm. s. thripunithura' u'm. s. viswanathan'\n",
        " u'mamta mohandas' u'manambuchavadi venkatasubbayyar' u'megha (singer)'\n",
        " u'mohanlal' u'motherjane' u'n. c. karunya' u'p. unni krishnan'\n",
        " u'rakes of mallow' u'ram sampath' u'raman mahadevan' u'remya nambeesan'\n",
        " u's. d. subbulakshmi' u'seemantham' u'shweta mohan' u'sithara (singer)'\n",
        " u'sowmya raoh' u'sringaram' u'srividya' u'susheela raman' u'vani jairam'\n",
        " u'vidya balan' u'yuvan shankar raja']\n",
        "2 44 [u'anil srinivasan' u'ariyakudi ramanuja iyengar' u'basavaraj rajguru'\n",
        " u'bhavadhaarini' u'chitra visweswaran' u'chowdiah' u'ganesh and kumaresh'\n",
        " u'h. ramachandra shastry' u'h. s. sudhindra' u'jamey haddad'\n",
        " u'jyotsna srikanth' u'kalpakam swaminathan' u'kensri school' u'l. shankar'\n",
        " u'list of carnatic artists' u'm.k. sankaran namboothiri'\n",
        " u'mannargudi easwaran' u'morning raga' u'mysore manjunath' u'n. rajam'\n",
        " u'n. ramani' u'neralattu rama poduval' u'nithyasree mahadevan'\n",
        " u'palghat mani iyer' u'palghat srirama bhagavathar'\n",
        " u'palladam sanjiva rao' u'pandit s. ballesh' u'papanasam sivan'\n",
        " u'r. k. shriramkumar' u'r. pichumani iyer' u'ranganayaki rajagopalan'\n",
        " u'rani vijaya devi' u's. sowmya' u'sangeet natak' u'shrutinandan'\n",
        " u'sirkazhi g. sivachidambaram' u'sriram parasuram' u'suresh talwalkar'\n",
        " u't. m. krishna' u't. viswanathan' u'tambourine' u'u. srinivas'\n",
        " u'umayalpuram mali' u'vani sateesh']\n",
        "3 62 [u\"72nd regiment, duke of albany's own highlanders\" u'74th punjabis'\n",
        " u'abdul hameed khan' u'aiyarappar temple' u'bahram jung mosque'\n",
        " u'bangaru thirumalai nayak' u'binny and co.' u'brigade of the guards'\n",
        " u'buckingham and carnatic mills' u'budalur' u'chanda sahib'\n",
        " u'changanassery' u'covelong' u'dakhini' u'dodda krishnaraja i'\n",
        " u'eraviputhenthurai' u'ettayapuram' u'expeditions in bengal'\n",
        " u'fourth anglo-mysore war' u'george pigot, 1st baron pigot' u'gingee fort'\n",
        " u'history of india' u'history of tamil nadu' u'hyder ali'\n",
        " u'impeachment of warren hastings' u'index of india-related articles'\n",
        " u'indian people' u'irinjalakuda' u'jaggi vasudev' u'jahandar shah'\n",
        " u'james alms' u'jayachamarajendra wadiyar'\n",
        " u'john vaughan (east india company officer)'\n",
        " u'jonathan scott (orientalist)' u'justice party (india)' u'kotturpuram'\n",
        " u'list of pre-modern great powers' u'masjid mamoor' u'mayiladuthurai'\n",
        " u'mudiraju' u'namagiripettai' u'pattabhiramayya'\n",
        " u'political history of medieval karnataka' u'polygar war'\n",
        " u'pratap singh of thanjavur' u'puli thevar' u'ramanathapuram district'\n",
        " u'roman catholic archdiocese of pondicherry and cuddalore'\n",
        " u's. a. saminatha iyer' u'saadatullah khan ii' u'serfoji ii'\n",
        " u'sir charles oakeley, 1st baronet' u'sir john macpherson, 1st baronet'\n",
        " u'society of the kingdom of mysore' u'south indian railway company'\n",
        " u\"st. george's cathedral, chennai\" u'thespesia populnea' u'thiruvaiyaru'\n",
        " u'thoothukudi' u'trichinopoly district' u'vithoba' u'zahir-ud-daula']\n"
       ]
      }
     ],
     "prompt_number": 201
    },
    {
     "cell_type": "markdown",
     "metadata": {},
     "source": [
      "###2.1 Cleaning with the help of a graph metric"
     ]
    },
    {
     "cell_type": "code",
     "collapsed": false,
     "input": [
      "#Avg shortest path to Carntic music\n",
      "src_node = \"carnatic music\"\n",
      "\n",
      "for com, nbunch in categories.items():\n",
      "    total_length = 0.0\n",
      "    no_path_count = 0\n",
      "    for dest_node in nbunch:\n",
      "        try:\n",
      "            total_length += nx.shortest_path_length(filt_g, src_node, dest_node, weight=\"weight\")\n",
      "        except:\n",
      "            no_path_count += 1\n",
      "            continue\n",
      "    \n",
      "    print com, len(nbunch), total_length/len(nbunch), no_path_count\n",
      "        "
     ],
     "language": "python",
     "metadata": {},
     "outputs": [
      {
       "output_type": "stream",
       "stream": "stdout",
       "text": [
        "1 20 2.59974574433 0\n",
        "4"
       ]
      },
      {
       "output_type": "stream",
       "stream": "stdout",
       "text": [
        " 42 1.16685870692 0\n",
        "5"
       ]
      },
      {
       "output_type": "stream",
       "stream": "stdout",
       "text": [
        " 35 1.23163139117 0\n",
        "6"
       ]
      },
      {
       "output_type": "stream",
       "stream": "stdout",
       "text": [
        " 22 1.86310577273 0\n",
        "8"
       ]
      },
      {
       "output_type": "stream",
       "stream": "stdout",
       "text": [
        " 17 0.947260801649 0\n",
        "10"
       ]
      },
      {
       "output_type": "stream",
       "stream": "stdout",
       "text": [
        " 22 1.0080719804 0\n"
       ]
      }
     ],
     "prompt_number": 127
    },
    {
     "cell_type": "code",
     "collapsed": false,
     "input": [
      "#eigenvector centrality\n",
      "for com, nbunch in categories.items():\n",
      "    print com, len(nbunch), sum([ eig_centralities[n] for n in nbunch if n in eig_centralities.keys() ])/len(nbunch)\n",
      "    "
     ],
     "language": "python",
     "metadata": {},
     "outputs": []
    },
    {
     "cell_type": "code",
     "collapsed": false,
     "input": [
      "#maximal independent set\n",
      "for com, nbunch in categories.items():\n",
      "    cg = curg.subgraph(nbunch)\n",
      "    cg = convert_graph(cg)\n",
      "    res = gt.max_independent_vertex_set(cg)\n",
      "    print com, len(nbunch), propmap_len(cg.vertices(), res), propmap_len(cg.vertices(), res)/len(nbunch)"
     ],
     "language": "python",
     "metadata": {},
     "outputs": []
    },
    {
     "cell_type": "code",
     "collapsed": false,
     "input": [
      "for com, nbunch in categories.items():\n",
      "    cg = curg.subgraph(nbunch)\n",
      "    cg = convert_graph(cg)\n",
      "    res = gt.max_cardinality_matching(cg)\n",
      "    print com, len(nbunch), sum(res[0].a), sum(res[0].a)/len(nbunch)"
     ],
     "language": "python",
     "metadata": {},
     "outputs": []
    },
    {
     "cell_type": "code",
     "collapsed": false,
     "input": [
      "#algebraic connectivity\n",
      "for com, nbunch in categories.items():\n",
      "    cg = curg.subgraph(nbunch)\n",
      "\n",
      "    #lap = gt.laplacian(cg)\n",
      "    #eig_vals = np.linalg.eigvals(lap.todense())\n",
      "    lap = nx.linalg.laplacian_matrix(cg)\n",
      "    eig_vals = np.linalg.eigvals(lap)\n",
      "    eig_vals = sort(eig_vals)\n",
      "    print com, len(nbunch), eig_vals[1]"
     ],
     "language": "python",
     "metadata": {},
     "outputs": []
    },
    {
     "cell_type": "code",
     "collapsed": false,
     "input": [
      "for com, nbunch in categories.items():\n",
      "    cg = curg.subgraph(nbunch)\n",
      "    cg = convert_graph(cg)\n",
      "    print com, len(nbunch), round(gt.pseudo_diameter(cg, weights=cg.edge_properties[\"weight\"])[0], 2)"
     ],
     "language": "python",
     "metadata": {},
     "outputs": []
    },
    {
     "cell_type": "markdown",
     "metadata": {},
     "source": [
      "##Using disparity filter"
     ]
    },
    {
     "cell_type": "code",
     "collapsed": false,
     "input": [
      "def filter_graph_edges(G, DISPARITY_FILTER_SIGNIF_LEVEL, verbose=False, print_prefix=''):\n",
      "\n",
      "    '''\n",
      "    A large number of complex systems find a natural abstraction in the form of weighted networks whose nodes represent\n",
      "    the elements of the system and the weighted edges identify the presence of an interaction and its relative strength.\n",
      "    In recent years, the study of an increasing number of large-scale networks has highlighted the statistical\n",
      "    heterogeneity of their interaction pattern, with degree and weight distributions that vary over many orders of\n",
      "    magnitude. These features, along with the large number of elements and links, make the extraction of the truly\n",
      "    relevant connections forming the network's backbone a very challenging problem. More specifically, coarse-graining\n",
      "    approaches and filtering techniques come into conflict with the multiscale nature of large-scale systems. Here, we\n",
      "    define a filtering method that offers a practical procedure to extract the relevant connection backbone in complex\n",
      "    multiscale networks, preserving the edges that represent statistically significant deviations with respect to a\n",
      "    null model for the local assignment of weights to edges. An important aspect of the method is that it does not\n",
      "    belittle small-scale interactions and operates at all scales defined by the weight distribution. We apply our\n",
      "    method to real-world network instances and compare the obtained results with alternative backbone\n",
      "    extraction techniques. (http://www.pnas.org/content/106/16/6483.abstract)\n",
      "    '''\n",
      "\n",
      "    if verbose:\n",
      "        print '%sFiltering with ' % print_prefix + str(100*(1-DISPARITY_FILTER_SIGNIF_LEVEL))+'% confidence ...',\n",
      "\n",
      "    # FOR DIRECTED\n",
      "    #indegree = G.in_degree(weight=None)\n",
      "    #outdegree = G.out_degree(weight=None)\n",
      "    #instrength = G.in_degree(weight='weight')\n",
      "    #outstrength = G.out_degree(weight='weight')\n",
      "\n",
      "    # FOR UNDIRECTED\n",
      "    degree = G.degree(weight=None)\n",
      "    strength = G.degree(weight='weight')\n",
      "\n",
      "    edges = G.edges()\n",
      "    for i, j in edges:\n",
      "            # FOR DIRECTED\n",
      "            #pij = float(G[i][j]['weight'])/float(outstrength[i])\n",
      "            #pji = float(G[i][j]['weight'])/float(instrength[j])\n",
      "            #aij = (1-pij)**(outdegree[i]-1)\n",
      "            #aji = (1-pji)**(indegree[j]-1)\n",
      "            #if aij < DISPARITY_FILTER_SIGNIF_LEVEL or aji < DISPARITY_FILTER_SIGNIF_LEVEL:\n",
      "            #    continue\n",
      "\n",
      "            # FOR UNDIRECTED\n",
      "            pij = float(G[i][j]['weight'])/float(strength[i])\n",
      "            aij = (1-pij)**(degree[i]-1)\n",
      "            if aij < DISPARITY_FILTER_SIGNIF_LEVEL:\n",
      "                continue\n",
      "\n",
      "            G.remove_edge(i, j)\n",
      "    nodes = G.nodes()\n",
      "    for n in nodes:\n",
      "        if G.degree(n) < 1:\n",
      "            #print n\n",
      "            G.remove_node(n)\n",
      "    if verbose:\n",
      "        print G.number_of_nodes(), 'nodes,', G.number_of_edges(), 'edges'\n",
      "\n",
      "    return G\n"
     ],
     "language": "python",
     "metadata": {},
     "outputs": []
    },
    {
     "cell_type": "code",
     "collapsed": false,
     "input": [
      "num_nodes = []\n",
      "num_edges = []\n",
      "precisions = []\n",
      "recalls = []\n",
      "f_measures = []\n",
      "\n",
      "disp_sig_levels = np.arange(0.01, 0.9, 0.01)\n",
      "\n",
      "for disp_sig_level in disp_sig_levels:\n",
      "    tp = 0.0\n",
      "    tn = 0.0\n",
      "    fp = 0.0\n",
      "    fn = 0.0\n",
      "\n",
      "    tempg = curg.copy()\n",
      "    filt_g = filter_graph_edges(tempg, disp_sig_level)\n",
      "        \n",
      "    num_nodes.append(filt_g.number_of_nodes())\n",
      "    num_edges.append(filt_g.number_of_edges())\n",
      "    \n",
      "    nodes = filt_g.nodes()\n",
      "    for page, category in annotations.items():\n",
      "        if page in nodes:\n",
      "            if category == \"carnatic\":\n",
      "                tp += 1\n",
      "            else:\n",
      "                fp += 1\n",
      "        else:\n",
      "            if category == \"carnatic\":\n",
      "                fn += 1\n",
      "            else:\n",
      "                tn += 1\n",
      "    if tp > 0:\n",
      "        precisions.append(tp/(tp+fp))\n",
      "        recalls.append(tp/(tp+fn))\n",
      "        f_measures.append(2*tp/(2*tp+fp+fn))\n",
      "    else:\n",
      "        precisions.append(0)\n",
      "        recalls.append(0)\n",
      "        f_measures.append(0)"
     ],
     "language": "python",
     "metadata": {},
     "outputs": []
    },
    {
     "cell_type": "code",
     "collapsed": false,
     "input": [
      "n = array(num_nodes)/curg.number_of_nodes()\n",
      "e = array(num_edges)/curg.number_of_edges()"
     ],
     "language": "python",
     "metadata": {},
     "outputs": []
    },
    {
     "cell_type": "code",
     "collapsed": false,
     "input": [
      "plot(disp_sig_levels, n, label=\"Number of nodes\")\n",
      "plot(disp_sig_levels, e, label=\"Number of edges\")\n",
      "plot(disp_sig_levels, f_measures, label=\"F-measure\")\n",
      "plot(disp_sig_levels, precisions, label=\"Precision\")\n",
      "plot(disp_sig_levels, recalls, label=\"Recalls\")\n",
      "\n",
      "legend()"
     ],
     "language": "python",
     "metadata": {},
     "outputs": []
    },
    {
     "cell_type": "markdown",
     "metadata": {},
     "source": [
      "##Draw the partitions"
     ]
    },
    {
     "cell_type": "code",
     "collapsed": false,
     "input": [
      "def plot_communities(g, partition):\n",
      "    colors = [\"#00308F\", \"#AF002A\", \"#FF7E00\", \"#665D1E\", \"#841B2D\", \"#3D2B1F\", \"#79443B\", \"#CD7F32\", \"#7FFF00\", \n",
      "              \"#893F45\", \"#9400D3\", \"#9B7653\", \"#555D50\", \"#CD5C5C\", \"#EE82EE\"]\n",
      "    \n",
      "    size = float(len(set(partition.values())))\n",
      "    pos = nx.spring_layout(g)\n",
      "    count = 0\n",
      "    for com in set(partition.values()) :\n",
      "        count = count + 1\n",
      "        list_nodes = [nodes for nodes in partition.keys()\n",
      "                                    if partition[nodes] == com]\n",
      "        nx.draw_networkx_nodes(g, pos, list_nodes, node_size = 20,\n",
      "                                    node_color = colors[count-1])\n",
      "    \n",
      "    \n",
      "    nx.draw_networkx_edges(g, pos, alpha=0.5)"
     ],
     "language": "python",
     "metadata": {},
     "outputs": []
    }
   ],
   "metadata": {}
  }
 ]
}