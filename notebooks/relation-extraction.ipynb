{
 "metadata": {
  "name": ""
 },
 "nbformat": 3,
 "nbformat_minor": 0,
 "worksheets": [
  {
   "cells": [
    {
     "cell_type": "code",
     "collapsed": false,
     "input": [
      "from os import chdir\n",
      "chdir(\"/homedtic/gkoduri/workspace/relation-extraction/src/\")\n",
      "\n",
      "code_dir = \"/homedtic/gkoduri/workspace/relation-extraction/\""
     ],
     "language": "python",
     "metadata": {},
     "outputs": [],
     "prompt_number": 1
    },
    {
     "cell_type": "code",
     "collapsed": false,
     "input": [
      "import nltk\n",
      "import pickle\n",
      "import codecs\n",
      "import networkx as nx\n",
      "import wiki_indexer as wi\n",
      "import xml.etree.ElementTree as ET\n",
      "reload(wi)"
     ],
     "language": "python",
     "metadata": {},
     "outputs": [
      {
       "metadata": {},
       "output_type": "pyout",
       "prompt_number": 2,
       "text": [
        "<module 'wiki_indexer' from 'wiki_indexer.pyc'>"
       ]
      }
     ],
     "prompt_number": 2
    },
    {
     "cell_type": "heading",
     "level": 2,
     "metadata": {},
     "source": [
      "Write the plain text content to disk"
     ]
    },
    {
     "cell_type": "code",
     "collapsed": false,
     "input": [
      "wiki_index = pickle.load(file('../data/wiki_index.pickle'))"
     ],
     "language": "python",
     "metadata": {},
     "outputs": []
    },
    {
     "cell_type": "code",
     "collapsed": false,
     "input": [
      "g = nx.read_graphml('../data/carnatic_music_lsa_clean.graphml', node_type=unicode)"
     ],
     "language": "python",
     "metadata": {},
     "outputs": [],
     "prompt_number": 5
    },
    {
     "cell_type": "code",
     "collapsed": false,
     "input": [
      "res = g.nodes()\n",
      "for i in xrange(len(res)):\n",
      "    print i\n",
      "    print res[i].encode(\"ascii\")\n",
      "    #print i.encode(\"utf-8\")"
     ],
     "language": "python",
     "metadata": {},
     "outputs": []
    },
    {
     "cell_type": "code",
     "collapsed": false,
     "input": [
      "for page_title in g.nodes():\n",
      "    if page_title in wiki_index.keys():\n",
      "        content = wi.get_page_content(page_title, wiki_index)\n",
      "        codecs.open(code_dir+\"/data/content-analysis/carnatic_music/plain-text/\"+page_title.encode(\"utf-8\")+\".txt\", \"w\", \"utf-8\").write(content)"
     ],
     "language": "python",
     "metadata": {},
     "outputs": []
    },
    {
     "cell_type": "heading",
     "level": 2,
     "metadata": {},
     "source": [
      "Tokenize each page to sentences"
     ]
    },
    {
     "cell_type": "code",
     "collapsed": false,
     "input": [
      "sent_tokenizer = nltk.punkt.PunktSentenceTokenizer()\n",
      "all_sentences = []\n",
      "for page_title in g.nodes():\n",
      "    content = codecs.open(code_dir+\"/data/content-analysis/carnatic_music/plain-text/\"+page_title.encode(\"utf-8\")+\".txt\", \"r\", \"utf-8\").read()\n",
      "    nltk.punkt.PunktTrainer(content, verbose=True)\n",
      "    all_sentences.extend(sent_tokenizer.tokenize(content))"
     ],
     "language": "python",
     "metadata": {},
     "outputs": [
      {
       "output_type": "stream",
       "stream": "stdout",
       "text": [
        "  Abbreviation: [2.1055] s\n",
        "  Sent Starter: [41.6726] u'venkata'"
       ]
      },
      {
       "output_type": "stream",
       "stream": "stdout",
       "text": [
        "\n",
        "  Sent Starter: [33.1871] u'he'\n",
        "  Abbreviation: [4.1591] t"
       ]
      },
      {
       "output_type": "stream",
       "stream": "stdout",
       "text": [
        "\n",
        "  Abbreviation: [2.0796] s\n",
        "  Abbreviation: [1.5301] k.v\n",
        "  Abbreviation: [2.0796] j\n",
        "  Abbreviation: [6.2387] k\n",
        "  Abbreviation: [8.3183] v\n",
        "  Abbreviation: [2.0252] n"
       ]
      },
      {
       "output_type": "stream",
       "stream": "stdout",
       "text": [
        "\n",
        "  Abbreviation: [2.0252] s\n",
        "  Abbreviation: [0.9551] pt\n",
        "  Sent Starter: [30.6378] u'she'\n",
        "  Abbreviation: [1.4212] t.s\n",
        "  Abbreviation: [1.9315] t\n",
        "  Abbreviation: [1.4212] d.k\n",
        "  Abbreviation: [1.9315] p\n",
        "  Abbreviation: [3.8631] s\n",
        "  Abbreviation: [1.9315] n\n",
        "  Abbreviation: [10.1077] t"
       ]
      },
      {
       "output_type": "stream",
       "stream": "stdout",
       "text": [
        "\n",
        "  Abbreviation: [3.4375] s\n",
        "  Sent Starter: [30.6920] u'he'\n",
        "  Abbreviation: [0.8350] so"
       ]
      },
      {
       "output_type": "stream",
       "stream": "stdout",
       "text": [
        "\n",
        "  Abbreviation: [0.4532] ph.d"
       ]
      },
      {
       "output_type": "stream",
       "stream": "stdout",
       "text": [
        "\n",
        "  Abbreviation: [2.3216] d"
       ]
      },
      {
       "output_type": "stream",
       "stream": "stdout",
       "text": [
        "\n",
        "  Abbreviation: [0.8541] ca\n",
        "  Sent Starter: [52.2634] u'the'\n",
        "  Abbreviation: [8.4811] d"
       ]
      },
      {
       "output_type": "stream",
       "stream": "stdout",
       "text": [
        "\n",
        "  Abbreviation: [1.4135] t\n",
        "  Abbreviation: [1.4135] b\n",
        "  Abbreviation: [1.4135] r\n",
        "  Abbreviation: [4.2406] m\n",
        "  Abbreviation: [12.7217] k\n",
        "  Abbreviation: [9.8947] s\n",
        "  Removed abbreviation: [-0.6161] so\n",
        "  Removed abbreviation: [-13.4197] p\n",
        "  Removed abbreviation: [-20.1296] s\n",
        "  Removed abbreviation: [-6.7099] n\n",
        "  Removed abbreviation: [-6.7099] r\n",
        "  Removed abbreviation: [-6.7099] m\n",
        "  Abbreviation: [3.7455] dr\n",
        "  Abbreviation: [1.0334] etc\n",
        "  Abbreviation: [2.0139] t"
       ]
      },
      {
       "output_type": "stream",
       "stream": "stdout",
       "text": [
        "\n",
        "  Sent Starter: [58.8922] u'the'\n",
        "  Abbreviation: [1.8829] r.k"
       ]
      },
      {
       "output_type": "stream",
       "stream": "stdout",
       "text": [
        "\n",
        "  Abbreviation: [1.8829] k.v\n",
        "  Abbreviation: [0.9415] st\n",
        "  Abbreviation: [2.5592] j\n",
        "  Abbreviation: [0.3463] now\n",
        "  Abbreviation: [1.8829] d.c\n",
        "  Sent Starter: [46.4671] u'shashank'\n",
        "  Removed abbreviation: [-3.3554] t\n",
        "  Abbreviation: [1.6889] m.s\n",
        "  Abbreviation: [1.6889] k.s\n",
        "  Abbreviation: [4.5908] k\n",
        "  Collocation: [16.9244] u's'+u'narayanaswamy'\n",
        "  Abbreviation: [0.3117] him"
       ]
      },
      {
       "output_type": "stream",
       "stream": "stdout",
       "text": [
        "\n",
        "  Abbreviation: [0.6234] ph.d\n",
        "  Abbreviation: [6.9094] s\n",
        "  Abbreviation: [2.7073] d\n",
        "  Abbreviation: [5.4146] g\n",
        "  Abbreviation: [0.9960] s.v\n",
        "  Removed abbreviation: [-0.0574] him\n",
        "  Abbreviation: [4.0610] l\n",
        "  Abbreviation: [13.5366] t"
       ]
      },
      {
       "output_type": "stream",
       "stream": "stdout",
       "text": [
        "\n",
        "  Abbreviation: [5.4146] r\n",
        "  Abbreviation: [23.0122] m\n",
        "  Abbreviation: [4.0610] u\n",
        "  Abbreviation: [4.0610] c\n",
        "  Abbreviation: [8.1220] p\n",
        "  Abbreviation: [1.3537] j\n",
        "  Abbreviation: [8.1220] k\n",
        "  Abbreviation: [10.8293] s\n",
        "  Abbreviation: [6.7683] v\n",
        "  Abbreviation: [9.4756] n\n",
        "  Sent Starter: [40.3655] u'venkatraman'\n",
        "  Abbreviation: [0.6960] sc\n",
        "  Abbreviation: [0.6960] dr\n",
        "  Abbreviation: [0.5121] ph.d\n",
        "  Abbreviation: [3.7840] r\n",
        "  Abbreviation: [1.8920] m\n",
        "  Sent Starter: [34.2012] u'he'\n",
        "  Collocation: [15.7066] u'a'+u'r.'\n",
        "  Abbreviation: [1.8970] r"
       ]
      },
      {
       "output_type": "stream",
       "stream": "stdout",
       "text": [
        "\n",
        "  Abbreviation: [1.8970] h\n",
        "  Abbreviation: [3.7940] t\n",
        "  Abbreviation: [1.8970] v\n",
        "  Abbreviation: [1.8970] n\n",
        "  Sent Starter: [36.9168] u'he'\n",
        "  Removed abbreviation: [-13.4300] d\n",
        "  Removed abbreviation: [-6.7150] p\n",
        "  Removed abbreviation: [-8.7439] c\n",
        "  Removed abbreviation: [-16.7875] g\n",
        "  Removed abbreviation: [-13.4300] s\n",
        "  Abbreviation: [1.7239] i.e\n",
        "  Removed abbreviation: [-3.3575] n\n",
        "  Removed abbreviation: [-3.3575] r\n",
        "  Abbreviation: [0.3171] etc\n",
        "  Removed abbreviation: [-6.7150] m\n",
        "  Abbreviation: [1.4309] t.p"
       ]
      },
      {
       "output_type": "stream",
       "stream": "stdout",
       "text": [
        "\n",
        "  Removed abbreviation: [-6.6691] t\n",
        "  Abbreviation: [2.8617] t.a\n",
        "  Abbreviation: [1.9448] s\n",
        "  Abbreviation: [0.7896] a.k.c\n",
        "  Removed abbreviation: [-0.1513] now"
       ]
      },
      {
       "output_type": "stream",
       "stream": "stdout",
       "text": [
        "\n",
        "  Removed abbreviation: [-6.7079] s\n",
        "  Abbreviation: [0.3064] etc\n",
        "  Abbreviation: [1.7403] d"
       ]
      },
      {
       "output_type": "stream",
       "stream": "stdout",
       "text": [
        "\n",
        "  Abbreviation: [5.2209] k\n",
        "  Abbreviation: [3.4806] t\n",
        "  Abbreviation: [2.5609] dr\n",
        "  Abbreviation: [1.7403] r\n",
        "  Abbreviation: [1.7403] m\n",
        "  Abbreviation: [5.2209] c\n",
        "  Abbreviation: [3.4806] n\n",
        "  Abbreviation: [1.7403] j\n",
        "  Abbreviation: [1.7403] v\n",
        "  Sent Starter: [41.8949] u'he'\n",
        "  Abbreviation: [2.0927] j\n",
        "  Abbreviation: [2.0927] c\n",
        "  Abbreviation: [2.0927] k\n",
        "  Sent Starter: [35.4516] u'venkatesa'\n",
        "  Abbreviation: [1.9155] m"
       ]
      },
      {
       "output_type": "stream",
       "stream": "stdout",
       "text": [
        "\n",
        "  Abbreviation: [0.7047] mr\n",
        "  Abbreviation: [2.7197] a.m\n",
        "  Abbreviation: [4.0721] t"
       ]
      },
      {
       "output_type": "stream",
       "stream": "stdout",
       "text": [
        "\n",
        "  Abbreviation: [0.7490] dr\n",
        "  Abbreviation: [2.0360] l\n",
        "  Abbreviation: [2.0360] j\n",
        "  Abbreviation: [2.0360] k\n",
        "  Abbreviation: [4.0721] p\n",
        "  Abbreviation: [4.0721] v\n",
        "  Sent Starter: [38.9615] u'chembai'\n",
        "  Sent Starter: [34.9026] u'chembai'"
       ]
      },
      {
       "output_type": "stream",
       "stream": "stdout",
       "text": [
        "\n",
        "  Abbreviation: [1.3924] dr"
       ]
      },
      {
       "output_type": "stream",
       "stream": "stdout",
       "text": [
        "\n",
        "  Abbreviation: [1.3924] t.n\n",
        "  Rare Abbrev: /oct.\n",
        "  Rare Abbrev: govt.\n",
        "  Sent Starter: [52.7933] u'he'\n",
        "  Collocation: [23.0997] u'##number##'+u'vidhwan'\n",
        "  Abbreviation: [1.5254] t.s"
       ]
      },
      {
       "output_type": "stream",
       "stream": "stdout",
       "text": [
        "\n",
        "  Abbreviation: [2.0732] y\n",
        "  Abbreviation: [2.0732] g\n",
        "  Abbreviation: [4.1464] r\n",
        "  Abbreviation: [2.0732] k\n",
        "  Sent Starter: [31.3720] u'he'\n",
        "  Removed abbreviation: [-0.6158] dr"
       ]
      },
      {
       "output_type": "stream",
       "stream": "stdout",
       "text": [
        "\n",
        "  Abbreviation: [1.3612] pt\n",
        "  Abbreviation: [0.5818] vid\n",
        "  Sent Starter: [89.2767] u'he'\n",
        "  Abbreviation: [2.0875] r\n",
        "  Abbreviation: [4.2098] .b"
       ]
      },
      {
       "output_type": "stream",
       "stream": "stdout",
       "text": [
        "\n",
        "  Abbreviation: [2.1049] g\n",
        "  Abbreviation: [2.1049] m\n",
        "  Abbreviation: [13.4939] s\n",
        "  Abbreviation: [2.1049] t\n",
        "  Abbreviation: [10.5246] k\n",
        "  Abbreviation: [2.1049] d\n",
        "  Abbreviation: [6.3147] v\n",
        "  Abbreviation: [2.1049] n\n",
        "  Rare Abbrev: b&w.\n",
        "  Sent Starter: [54.1467] u'he'\n",
        "  Abbreviation: [1.8561] g"
       ]
      },
      {
       "output_type": "stream",
       "stream": "stdout",
       "text": [
        "\n",
        "  Abbreviation: [1.8561] s\n",
        "  Abbreviation: [1.5162] t.h\n",
        "  Abbreviation: [0.7581] dr\n",
        "  Abbreviation: [2.0607] m\n",
        "  Abbreviation: [2.0607] s\n",
        "  Abbreviation: [0.7581] so\n",
        "  Sent Starter: [61.3878] u'he'\n",
        "  Abbreviation: [1.7426] i.e"
       ]
      },
      {
       "output_type": "stream",
       "stream": "stdout",
       "text": [
        "\n",
        "  Abbreviation: [0.7232] dr\n",
        "  Abbreviation: [2.0335] g"
       ]
      },
      {
       "output_type": "stream",
       "stream": "stdout",
       "text": [
        "\n",
        "  Abbreviation: [6.1004] t\n",
        "  Abbreviation: [4.0669] m\n",
        "  Removed abbreviation: [-0.6145] so\n",
        "  Abbreviation: [2.0335] l\n",
        "  Abbreviation: [6.1004] v\n",
        "  Abbreviation: [2.0335] r\n",
        "  Abbreviation: [4.0669] k\n",
        "  Abbreviation: [0.4050] u.s.s.r\n",
        "  Abbreviation: [0.8256] u.a.e\n",
        "  Abbreviation: [2.0335] u\n",
        "  Abbreviation: [2.0335] j\n",
        "  Abbreviation: [4.0669] n\n",
        "  Sent Starter: [45.2110] u'he'\n",
        "  Removed abbreviation: [-0.6052] dr"
       ]
      },
      {
       "output_type": "stream",
       "stream": "stdout",
       "text": [
        "\n",
        "  Abbreviation: [1.5226] l\n",
        "  Abbreviation: [4.5677] t\n",
        "  Abbreviation: [1.5226] o\n",
        "  Removed abbreviation: [-3.5350] s\n",
        "  Abbreviation: [4.5677] m\n",
        "  Abbreviation: [1.5226] v\n",
        "  Abbreviation: [1.1202] t.m\n",
        "  Abbreviation: [6.0903] n\n",
        "  Abbreviation: [1.6714] i.e\n",
        "  Abbreviation: [1.8049] d\n",
        "  Abbreviation: [1.8049] y\n",
        "  Abbreviation: [1.3280] t.k\n",
        "  Abbreviation: [5.4147] t\n",
        "  Abbreviation: [1.8049] b\n",
        "  Abbreviation: [1.8049] m\n",
        "  Abbreviation: [1.3280] m.r\n",
        "  Abbreviation: [1.8049] s\n",
        "  Abbreviation: [7.9248] m"
       ]
      },
      {
       "output_type": "stream",
       "stream": "stdout",
       "text": [
        "\n",
        "  Abbreviation: [2.6416] s\n",
        "  Abbreviation: [2.6416] k\n",
        "  Abbreviation: [2.6416] d\n",
        "  Abbreviation: [2.6416] j\n",
        "  Abbreviation: [2.6416] b\n",
        "  Abbreviation: [2.6416] u\n",
        "  Abbreviation: [0.3575] etc\n",
        "  Abbreviation: [0.7741] mr"
       ]
      },
      {
       "output_type": "stream",
       "stream": "stdout",
       "text": [
        "\n",
        "  Abbreviation: [8.4164] g\n",
        "  Abbreviation: [18.9368] m\n",
        "  Abbreviation: [1.5481] m.s\n",
        "  Abbreviation: [4.2082] f\n",
        "  Abbreviation: [10.5205] s\n",
        "  Removed abbreviation: [-1.2412] r\n",
        "  Abbreviation: [12.6245] k\n",
        "  Abbreviation: [2.1041] p\n",
        "  Abbreviation: [6.3123] b\n",
        "  Abbreviation: [0.8543] t.k.s\n",
        "  Abbreviation: [2.1041] n\n",
        "  Sent Starter: [39.6475] u'iyer'\n",
        "  Sent Starter: [34.7721] u'he'\n",
        "  Removed abbreviation: [-3.3503] d"
       ]
      },
      {
       "output_type": "stream",
       "stream": "stdout",
       "text": [
        "\n",
        "  Removed abbreviation: [-3.3503] c\n",
        "  Removed abbreviation: [-3.3503] g\n",
        "  Abbreviation: [3.7886] t\n",
        "  Abbreviation: [1.8943] r\n",
        "  Abbreviation: [1.8943] p\n",
        "  Abbreviation: [3.7886] s\n",
        "  Abbreviation: [1.8943] v\n",
        "  Abbreviation: [1.8943] n\n",
        "  Abbreviation: [1.5794] j\n",
        "  Abbreviation: [0.5810] dr\n",
        "  Abbreviation: [1.5794] p\n",
        "  Abbreviation: [3.1589] g\n",
        "  Abbreviation: [1.5954] e.g"
       ]
      },
      {
       "output_type": "stream",
       "stream": "stdout",
       "text": [
        "\n",
        "  Removed abbreviation: [-0.6160] dr\n",
        "  Sent Starter: [31.3330] u'he'\n",
        "  Sent Starter: [31.2570] u'it'\n",
        "  Abbreviation: [1.4793] s.n\n",
        "  Abbreviation: [1.4793] k.k\n",
        "  Removed abbreviation: [-3.3338] b"
       ]
      },
      {
       "output_type": "stream",
       "stream": "stdout",
       "text": [
        "\n",
        "  Removed abbreviation: [-6.6677] s\n",
        "  Sent Starter: [138.5556] u'it'\n",
        "  Abbreviation: [1.4115] i.e"
       ]
      },
      {
       "output_type": "stream",
       "stream": "stdout",
       "text": [
        "\n",
        "  Removed abbreviation: [-3.3325] r\n",
        "  Abbreviation: [1.1031] m.n\n",
        "  Abbreviation: [2.9984] s\n",
        "  Abbreviation: [2.9984] r\n",
        "  Abbreviation: [0.9158] wi"
       ]
      },
      {
       "output_type": "stream",
       "stream": "stdout",
       "text": [
        "\n",
        "  Removed abbreviation: [-3.3632] r\n",
        "  Removed abbreviation: [-3.3632] m\n",
        "  Removed abbreviation: [-3.3632] s\n",
        "  Removed abbreviation: [-3.3632] t\n",
        "  Abbreviation: [4.9785] n\n",
        "  Sent Starter: [43.9542] u'he'\n",
        "  Abbreviation: [6.6262] p"
       ]
      },
      {
       "output_type": "stream",
       "stream": "stdout",
       "text": [
        "\n",
        "  Abbreviation: [1.2048] s.v\n",
        "  Abbreviation: [2.2087] l\n",
        "  Abbreviation: [2.2087] j\n",
        "  Abbreviation: [6.5004] i.e\n",
        "  Abbreviation: [6.5500] v\n",
        "  Abbreviation: [4.4175] o\n",
        "  Abbreviation: [0.5463] etc\n",
        "  Abbreviation: [5.1362] g"
       ]
      },
      {
       "output_type": "stream",
       "stream": "stdout",
       "text": [
        "\n",
        "  Abbreviation: [5.1362] j\n",
        "  Abbreviation: [5.1362] r\n",
        "  Abbreviation: [3.1629] r"
       ]
      },
      {
       "output_type": "stream",
       "stream": "stdout",
       "text": [
        "\n",
        "  Abbreviation: [1.8545] f\n",
        "  Abbreviation: [15.2173] s\n",
        "  Abbreviation: [0.5019] rev\n",
        "  Abbreviation: [0.6822] rs\n",
        "  Abbreviation: [3.7089] k\n",
        "  Abbreviation: [1.8545] h\n",
        "  Abbreviation: [1.6228] i.e"
       ]
      },
      {
       "output_type": "stream",
       "stream": "stdout",
       "text": [
        "\n",
        "  Removed abbreviation: [-20.1061] s\n",
        "  Sent Starter: [34.0804] u'he'\n",
        "  Abbreviation: [1.4125] dr\n",
        "  Abbreviation: [0.5196] ph.d\n",
        "  Abbreviation: [0.3064] etc"
       ]
      },
      {
       "output_type": "stream",
       "stream": "stdout",
       "text": [
        "\n",
        "  Abbreviation: [2.1875] m\n",
        "  Abbreviation: [2.1875] l\n",
        "  Abbreviation: [1.8913] g\n",
        "  Abbreviation: [7.5653] t\n",
        "  Abbreviation: [5.6740] m\n",
        "  Abbreviation: [3.7827] s\n",
        "  Abbreviation: [1.0239] smt\n",
        "  Abbreviation: [3.7827] r\n",
        "  Abbreviation: [5.6740] k\n",
        "  Abbreviation: [1.8913] c\n",
        "  Abbreviation: [1.8913] p\n",
        "  Abbreviation: [3.7827] v\n",
        "  Abbreviation: [5.6740] n\n",
        "  Sent Starter: [37.0415] u'he'"
       ]
      },
      {
       "output_type": "stream",
       "stream": "stdout",
       "text": [
        "\n",
        "  Removed abbreviation: [-1.5005] t\n",
        "  Removed abbreviation: [-1.5005] v\n",
        "  Abbreviation: [0.7406] s.k.v\n",
        "  Abbreviation: [2.2052] k\n",
        "  Abbreviation: [2.2052] v\n",
        "  Removed abbreviation: [-3.3534] c"
       ]
      },
      {
       "output_type": "stream",
       "stream": "stdout",
       "text": [
        "\n",
        "  Abbreviation: [2.2522] p\n",
        "  Removed abbreviation: [-20.1112] g"
       ]
      },
      {
       "output_type": "stream",
       "stream": "stdout",
       "text": [
        "\n",
        "  Removed abbreviation: [-33.5186] s\n",
        "  Removed abbreviation: [-10.0556] n\n",
        "  Removed abbreviation: [-16.7593] m\n",
        "  Abbreviation: [2.9697] k\n",
        "  Abbreviation: [2.9697] c\n",
        "  Collocation: [12.9521] u'a'+u'k.'\n",
        "  Abbreviation: [1.4586] k\n",
        "  Abbreviation: [1.4586] s\n",
        "  Abbreviation: [2.9171] v\n",
        "  Abbreviation: [1.4586] r\n",
        "  Abbreviation: [1.4586] t\n",
        "  Collocation: [13.5458] u'a'+u'v.'\n",
        "  Abbreviation: [2.2381] r"
       ]
      },
      {
       "output_type": "stream",
       "stream": "stdout",
       "text": [
        "\n",
        "  Abbreviation: [1.6467] o.w\n",
        "  Abbreviation: [0.6058] emi\n",
        "  Removed abbreviation: [-3.3527] s\n",
        "  Removed abbreviation: [-3.3527] u\n",
        "  Abbreviation: [0.3029] him\n",
        "  Removed abbreviation: [-6.7053] v\n",
        "  Removed abbreviation: [-1.1146] c\n",
        "  Abbreviation: [0.6058] etc\n",
        "  Abbreviation: [3.2934] e.g\n",
        "  Abbreviation: [0.3029] rev\n",
        "  Abbreviation: [1.6467] i.e\n",
        "  Sent Starter: [37.9400] u'the'"
       ]
      },
      {
       "output_type": "stream",
       "stream": "stdout",
       "text": [
        "\n",
        "  Sent Starter: [74.0084] u'these'\n",
        "  Sent Starter: [40.8822] u'some'\n",
        "  Sent Starter: [33.7085] u'they'\n",
        "  Sent Starter: [37.2454] u'another'\n",
        "  Abbreviation: [8.3141] d"
       ]
      },
      {
       "output_type": "stream",
       "stream": "stdout",
       "text": [
        "\n",
        "  Abbreviation: [1.6628] m\n",
        "  Abbreviation: [9.9769] k\n",
        "  Abbreviation: [1.6628] v\n",
        "  Abbreviation: [1.6628] i\n",
        "  Abbreviation: [0.3068] etc\n",
        "  Abbreviation: [0.3118] ear"
       ]
      },
      {
       "output_type": "stream",
       "stream": "stdout",
       "text": [
        "\n",
        "  Removed abbreviation: [-3.3558] d\n",
        "  Abbreviation: [0.9431] etc"
       ]
      },
      {
       "output_type": "stream",
       "stream": "stdout",
       "text": [
        "\n",
        "  Abbreviation: [1.7090] i.e\n",
        "  Sent Starter: [39.6050] u'the'"
       ]
      },
      {
       "output_type": "stream",
       "stream": "stdout",
       "text": [
        "\n",
        "  Sent Starter: [44.7191] u'it'\n",
        "  Removed abbreviation: [-3.3500] r\n",
        "  Removed abbreviation: [-0.1508] him"
       ]
      },
      {
       "output_type": "stream",
       "stream": "stdout",
       "text": [
        "\n",
        "  Abbreviation: [4.1308] t\n",
        "  Abbreviation: [11.2999] g"
       ]
      },
      {
       "output_type": "stream",
       "stream": "stdout",
       "text": [
        "\n",
        "  Abbreviation: [55.0872] t\n",
        "  Abbreviation: [53.6747] m\n",
        "  Abbreviation: [73.4497] s\n",
        "  Abbreviation: [0.5196] no\n",
        "  Abbreviation: [7.0625] l\n",
        "  Abbreviation: [32.4873] r\n",
        "  Abbreviation: [45.1998] k\n",
        "  Abbreviation: [0.5196] mr\n",
        "  Abbreviation: [0.9558] etc\n",
        "  Abbreviation: [1.0393] l.r\n",
        "  Abbreviation: [2.8250] j\n",
        "  Abbreviation: [24.0124] c\n",
        "  Abbreviation: [22.5999] p\n",
        "  Abbreviation: [22.5999] v\n",
        "  Abbreviation: [4.2375] b\n",
        "  Abbreviation: [8.4750] n\n",
        "  Collocation: [23.6697] u'a'+u'bhimsingh'\n",
        "  Collocation: [17.0156] u'a'+u'l.'\n",
        "  Abbreviation: [3.2869] v"
       ]
      },
      {
       "output_type": "stream",
       "stream": "stdout",
       "text": [
        "\n",
        "  Abbreviation: [1.6435] g\n",
        "  Abbreviation: [1.6435] n\n",
        "  Removed abbreviation: [-3.3058] m\n",
        "  Removed abbreviation: [-3.3058] l\n",
        "  Removed abbreviation: [-0.6157] dr\n",
        "  Removed abbreviation: [-3.3474] g\n",
        "  Abbreviation: [4.2788] h\n",
        "  Removed abbreviation: [-3.3474] j\n",
        "  Abbreviation: [4.2788] t\n",
        "  Abbreviation: [2.1394] v\n",
        "  Sent Starter: [30.5003] u'he'"
       ]
      },
      {
       "output_type": "stream",
       "stream": "stdout",
       "text": [
        "\n",
        "  Abbreviation: [2.4041] d\n",
        "  Removed abbreviation: [-0.6180] no\n",
        "  Abbreviation: [1.8285] dr\n",
        "  Removed abbreviation: [-6.7260] p\n",
        "  Abbreviation: [2.4852] j\n",
        "  Removed abbreviation: [-20.1781] o\n",
        "  Removed abbreviation: [-10.9668] s\n",
        "  Abbreviation: [2.4852] m\n",
        "  Abbreviation: [0.3363] etc\n",
        "  Abbreviation: [2.4852] k\n",
        "  Removed abbreviation: [-3.3465] t"
       ]
      },
      {
       "output_type": "stream",
       "stream": "stdout",
       "text": [
        "\n",
        "  Abbreviation: [4.2475] r\n",
        "  Abbreviation: [4.2475] s\n",
        "  Sent Starter: [40.8769] u'he'\n",
        "  Abbreviation: [1.9191] g\n",
        "  Abbreviation: [1.9191] t\n",
        "  Abbreviation: [1.9191] r\n",
        "  Abbreviation: [1.9191] n\n",
        "  Abbreviation: [4.0062] m\n",
        "  Abbreviation: [8.8428] m.s\n",
        "  Abbreviation: [6.0093] s\n",
        "  Abbreviation: [2.0031] r\n",
        "  Abbreviation: [0.7369] rs\n",
        "  Abbreviation: [2.0031] y\n",
        "  Abbreviation: [2.0031] k\n",
        "  Removed abbreviation: [-3.3388] i\n",
        "  Abbreviation: [1.4738] f.g\n",
        "  Abbreviation: [2.0031] n\n",
        "  Sent Starter: [35.7261] u'she'\n",
        "  Abbreviation: [4.1275] t"
       ]
      },
      {
       "output_type": "stream",
       "stream": "stdout",
       "text": [
        "\n",
        "  Abbreviation: [4.1275] v\n",
        "  Abbreviation: [3.0904] p\n",
        "  Abbreviation: [0.8408] no\n",
        "  Removed abbreviation: [-6.7099] d\n",
        "  Removed abbreviation: [-3.3549] c\n",
        "  Removed abbreviation: [-6.7099] g\n",
        "  Removed abbreviation: [-7.7794] s\n",
        "  Abbreviation: [1.6815] a.m\n",
        "  Abbreviation: [1.6815] i.e\n",
        "  Removed abbreviation: [-3.3549] b\n",
        "  Abbreviation: [2.2854] n\n",
        "  Removed abbreviation: [-3.3549] f\n",
        "  Abbreviation: [0.3093] \u2013nu\n",
        "  Removed abbreviation: [-3.3549] m\n",
        "  Removed abbreviation: [-0.1509] smt\n",
        "  Abbreviation: [1.5318] k.v\n",
        "  Abbreviation: [2.0820] m\n",
        "  Abbreviation: [0.8453] t.t.k\n",
        "  Sent Starter: [67.5598] u'he'"
       ]
      },
      {
       "output_type": "stream",
       "stream": "stdout",
       "text": [
        "\n",
        "  Abbreviation: [2.0978] d\n",
        "  Removed abbreviation: [-1.2472] t\n",
        "  Abbreviation: [2.0978] c\n",
        "  Abbreviation: [2.0978] p\n",
        "  Abbreviation: [2.0978] v\n",
        "  Sent Starter: [47.4314] u'he'\n",
        "  Removed abbreviation: [-0.6168] no\n",
        "  Removed abbreviation: [-3.3590] h"
       ]
      },
      {
       "output_type": "stream",
       "stream": "stdout",
       "text": [
        "\n",
        "  Abbreviation: [0.8753] mm\n",
        "  Removed abbreviation: [-3.3590] c\n",
        "  Abbreviation: [2.1108] g\n",
        "  Abbreviation: [0.7765] dr\n",
        "  Abbreviation: [2.1108] m\n",
        "  Abbreviation: [2.1108] v\n",
        "  Sent Starter: [45.1905] u'she'\n",
        "  Abbreviation: [0.7687] dr"
       ]
      },
      {
       "output_type": "stream",
       "stream": "stdout",
       "text": [
        "\n",
        "  Abbreviation: [1.5373] v.a\n",
        "  Abbreviation: [1.9550] r\n",
        "  Sent Starter: [31.0628] u'he'\n",
        "  Abbreviation: [2.0940] m\n",
        "  Abbreviation: [2.0940] t\n",
        "  Abbreviation: [2.0940] p\n",
        "  Abbreviation: [4.1880] v\n",
        "  Abbreviation: [1.5407] s.v\n",
        "  Sent Starter: [38.7488] u'he'\n",
        "  Abbreviation: [4.0839] g"
       ]
      },
      {
       "output_type": "stream",
       "stream": "stdout",
       "text": [
        "\n",
        "  Removed abbreviation: [-0.2390] dr\n",
        "  Abbreviation: [2.0419] t\n",
        "  Abbreviation: [4.8263] m\n",
        "  Abbreviation: [2.0419] u\n",
        "  Abbreviation: [2.0419] c\n",
        "  Abbreviation: [1.5024] m.s\n",
        "  Abbreviation: [2.0419] k\n",
        "  Abbreviation: [2.0419] s\n",
        "  Sent Starter: [34.0612] u'she'\n",
        "  Abbreviation: [1.4501] m\n",
        "  Abbreviation: [2.9003] k\n",
        "  Abbreviation: [2.9003] s\n",
        "  Abbreviation: [1.5456] p.b"
       ]
      },
      {
       "output_type": "stream",
       "stream": "stdout",
       "text": [
        "\n",
        "  Abbreviation: [0.8529] a.i.r\n",
        "  Abbreviation: [0.7728] mr\n",
        "  Removed abbreviation: [-3.3451] d\n",
        "  Sent Starter: [33.3985] u'he'\n",
        "  Sent Starter: [36.7736] u'parthu'\n",
        "  Removed abbreviation: [-3.3493] c"
       ]
      },
      {
       "output_type": "stream",
       "stream": "stdout",
       "text": [
        "\n",
        "  Sent Starter: [41.6955] u'the'\n",
        "  Abbreviation: [1.9525] d\n",
        "  Abbreviation: [5.8574] t\n",
        "  Abbreviation: [3.9050] b\n",
        "  Abbreviation: [0.5285] ph.d\n",
        "  Abbreviation: [1.4366] t.r\n",
        "  Abbreviation: [0.3130] day"
       ]
      },
      {
       "output_type": "stream",
       "stream": "stdout",
       "text": [
        "\n",
        "  Removed abbreviation: [-3.3562] t\n",
        "  Removed abbreviation: [-3.3562] k\n",
        "  Abbreviation: [4.8277] d\n",
        "  Abbreviation: [4.8277] k\n",
        "  Abbreviation: [1.8882] t\n",
        "  Abbreviation: [1.8882] b\n",
        "  Abbreviation: [3.7765] v\n",
        "  Abbreviation: [1.8882] r\n",
        "  Abbreviation: [1.8882] k\n",
        "  Rare Abbrev: ##number##\n",
        "  Abbreviation: [3.0884] g\n",
        "  Abbreviation: [1.1361] d.l\n",
        "  Abbreviation: [15.4418] m\n",
        "  Abbreviation: [18.5302] s\n",
        "  Abbreviation: [0.5681] \u0b9a\u0bbf\n",
        "  Removed abbreviation: [-0.1486] day\n",
        "  Abbreviation: [3.0884] l\n",
        "  Abbreviation: [12.3534] t\n",
        "  Abbreviation: [18.5302] r\n",
        "  Abbreviation: [3.0884] u\n",
        "  Abbreviation: [15.4418] k\n",
        "  Abbreviation: [7.7209] c\n",
        "  Abbreviation: [10.8093] p\n",
        "  Abbreviation: [6.1767] v\n",
        "  Abbreviation: [6.1767] n\n",
        "  Sent Starter: [36.6345] u'he'"
       ]
      },
      {
       "output_type": "stream",
       "stream": "stdout",
       "text": [
        "\n",
        "  Abbreviation: [1.6529] u.s\n",
        "  Abbreviation: [0.8264] st\n",
        "  Abbreviation: [2.2465] u\n",
        "  Abbreviation: [1.5356] e.g"
       ]
      },
      {
       "output_type": "stream",
       "stream": "stdout",
       "text": [
        "\n",
        "  Abbreviation: [1.1298] etc\n",
        "  Removed abbreviation: [-3.3443] s\n",
        "  Abbreviation: [1.5356] i.e\n",
        "  Abbreviation: [1.5832] t.s"
       ]
      },
      {
       "output_type": "stream",
       "stream": "stdout",
       "text": [
        "\n",
        "  Abbreviation: [2.1518] g\n",
        "  Abbreviation: [2.1518] m\n",
        "  Abbreviation: [8.6071] s\n",
        "  Abbreviation: [2.1518] t\n",
        "  Abbreviation: [6.4553] k\n",
        "  Abbreviation: [0.7916] si\n",
        "  Abbreviation: [4.3035] c\n",
        "  Removed abbreviation: [-3.3481] y\n",
        "  Abbreviation: [1.8798] s"
       ]
      },
      {
       "output_type": "stream",
       "stream": "stdout",
       "text": [
        "\n",
        "  Abbreviation: [1.8798] p\n",
        "  Removed abbreviation: [-0.6134] pt\n",
        "  Abbreviation: [0.7912] m2\n",
        "  Abbreviation: [2.3146] b"
       ]
      },
      {
       "output_type": "stream",
       "stream": "stdout",
       "text": [
        "\n",
        "  Abbreviation: [2.3146] n\n",
        "  Abbreviation: [0.3132] etc\n",
        "  Removed abbreviation: [-3.3563] v\n",
        "  Removed abbreviation: [-3.3563] m\n",
        "  Abbreviation: [2.1102] m\n",
        "  Removed abbreviation: [-1.2308] t.s\n",
        "  Abbreviation: [2.1102] s\n",
        "  Abbreviation: [2.1102] t\n",
        "  Abbreviation: [2.1102] d\n",
        "  Abbreviation: [2.1102] n\n",
        "  Sent Starter: [40.1626] u'he'\n",
        "  Abbreviation: [1.6747] c.k"
       ]
      },
      {
       "output_type": "stream",
       "stream": "stdout",
       "text": [
        "\n",
        "  Abbreviation: [0.8374] mr\n",
        "  Removed abbreviation: [-0.1513] ear\n",
        "  Abbreviation: [0.3080] etc\n",
        "  Sent Starter: [48.0307] u'the'\n",
        "  Sent Starter: [35.6262] u'this'\n",
        "  Abbreviation: [1.5342] r.k"
       ]
      },
      {
       "output_type": "stream",
       "stream": "stdout",
       "text": [
        "\n",
        "  Abbreviation: [0.7671] mr\n",
        "  Abbreviation: [2.0851] s\n",
        "  Abbreviation: [2.0851] n\n",
        "  Removed abbreviation: [-3.3509] k\n",
        "  Removed abbreviation: [-0.6164] mr\n",
        "  Removed abbreviation: [-3.3509] m\n",
        "  Removed abbreviation: [-3.3509] s\n",
        "  Abbreviation: [2.2033] n\n",
        "  Sent Starter: [30.1502] u'he'\n",
        "  Abbreviation: [4.8882] t"
       ]
      },
      {
       "output_type": "stream",
       "stream": "stdout",
       "text": [
        "\n",
        "  Abbreviation: [0.5994] dr\n",
        "  Abbreviation: [3.2588] r\n",
        "  Abbreviation: [3.2588] m\n",
        "  Abbreviation: [1.6294] k\n",
        "  Abbreviation: [0.6615] u.s.a\n",
        "  Abbreviation: [13.0351] v\n",
        "  Abbreviation: [1.6294] n\n",
        "  Abbreviation: [0.7916] p.u.c\n",
        "  Abbreviation: [1.9496] s\n",
        "  Abbreviation: [3.8992] t\n",
        "  Abbreviation: [1.9496] r\n",
        "  Abbreviation: [1.9496] n\n",
        "  Abbreviation: [1.4344] m.s\n",
        "  Abbreviation: [0.7172] it\n",
        "  Abbreviation: [1.4344] p.s\n",
        "  Abbreviation: [6.4131] k\n",
        "  Abbreviation: [1.9496] v\n",
        "  Collocation: [12.9871] u'##number##'+u'he'\n",
        "  Removed abbreviation: [-0.1924] it"
       ]
      },
      {
       "output_type": "stream",
       "stream": "stdout",
       "text": [
        "\n",
        "  Abbreviation: [1.4463] i.e\n",
        "  Removed abbreviation: [-3.3361] s\n",
        "  Removed abbreviation: [-0.6136] ca\n",
        "  Collocation: [8.8398] u'##number##'+u'so'\n",
        "  Abbreviation: [1.7195] m"
       ]
      },
      {
       "output_type": "stream",
       "stream": "stdout",
       "text": [
        "\n",
        "  Abbreviation: [1.7195] s\n",
        "  Abbreviation: [1.7195] t\n",
        "  Abbreviation: [1.7195] p\n",
        "  Removed abbreviation: [-6.7024] p\n",
        "  Removed abbreviation: [-13.4048] g\n",
        "  Removed abbreviation: [-7.8443] m\n",
        "  Removed abbreviation: [-13.4048] r\n",
        "  Removed abbreviation: [-1.1419] c\n",
        "  Removed abbreviation: [-20.1073] s\n",
        "  Abbreviation: [0.8128] 's\n",
        "  Abbreviation: [1.6255] i.e\n",
        "  Removed abbreviation: [-1.1419] n\n",
        "  Removed abbreviation: [-10.0536] d\n",
        "  Collocation: [11.9255] u'##number##'+u'as'"
       ]
      },
      {
       "output_type": "stream",
       "stream": "stdout",
       "text": [
        "\n",
        "  Abbreviation: [0.3011] duo\n",
        "  Abbreviation: [2.4558] dr\n",
        "  Abbreviation: [0.3011] etc\n",
        "  Sent Starter: [50.4054] u'he'\n",
        "  Removed abbreviation: [-0.6154] 's"
       ]
      },
      {
       "output_type": "stream",
       "stream": "stdout",
       "text": [
        "\n",
        "  Removed abbreviation: [-0.6158] m2\n",
        "  Abbreviation: [2.1460] c\n",
        "  Abbreviation: [4.2056] g"
       ]
      },
      {
       "output_type": "stream",
       "stream": "stdout",
       "text": [
        "\n",
        "  Abbreviation: [4.2056] t\n",
        "  Removed abbreviation: [-1.2424] v\n",
        "  Abbreviation: [3.0943] u.s\n",
        "  Abbreviation: [2.1028] j\n",
        "  Abbreviation: [2.1028] k\n",
        "  Abbreviation: [2.1028] d\n",
        "  Abbreviation: [0.5692] etc\n",
        "  Abbreviation: [6.3085] n\n",
        "  Sent Starter: [40.3429] u'he'\n",
        "  Abbreviation: [1.9829] t\n",
        "  Abbreviation: [1.4590] u.s\n",
        "  Abbreviation: [1.9829] r\n",
        "  Abbreviation: [3.9659] m\n",
        "  Abbreviation: [1.5672] b"
       ]
      },
      {
       "output_type": "stream",
       "stream": "stdout",
       "text": [
        "\n",
        "  Abbreviation: [1.5672] v\n",
        "  Abbreviation: [1.1531] m.l\n",
        "  Abbreviation: [2.0383] m\n",
        "  Abbreviation: [2.0383] s\n",
        "  Removed abbreviation: [-0.0414] govt\n",
        "  Abbreviation: [1.8729] t\n",
        "  Abbreviation: [0.5069] ph.d\n",
        "  Abbreviation: [0.6890] pg\n",
        "  Removed abbreviation: [-1.4559] r\n",
        "  Removed abbreviation: [0.1534] u.s\n",
        "  Abbreviation: [1.8729] s\n",
        "  Sent Starter: [36.3584] u'she'\n",
        "  Abbreviation: [2.2484] t"
       ]
      },
      {
       "output_type": "stream",
       "stream": "stdout",
       "text": [
        "\n",
        "  Abbreviation: [0.3043] air\n",
        "  Abbreviation: [0.3043] now\n",
        "  Removed abbreviation: [-3.3532] k\n",
        "  Abbreviation: [0.8271] mr\n",
        "  Abbreviation: [0.7402] dr\n",
        "  Removed abbreviation: [-0.1004] air\n",
        "  Abbreviation: [1.4803] t.d\n",
        "  Abbreviation: [4.0239] v\n",
        "  Abbreviation: [5.5667] d\n",
        "  Abbreviation: [3.7111] g\n",
        "  Abbreviation: [5.5667] t\n",
        "  Abbreviation: [5.5667] b\n",
        "  Abbreviation: [1.8556] j\n",
        "  Abbreviation: [1.3652] dr\n",
        "  Abbreviation: [7.4223] m\n",
        "  Abbreviation: [11.1334] k\n",
        "  Abbreviation: [1.8556] s\n",
        "  Abbreviation: [3.7111] v\n",
        "  Abbreviation: [3.7111] n\n",
        "  Sent Starter: [76.0399] u'he'\n",
        "  Removed abbreviation: [-0.1515] now"
       ]
      },
      {
       "output_type": "stream",
       "stream": "stdout",
       "text": [
        "\n",
        "  Abbreviation: [0.9540] d.m.a\n",
        "  Abbreviation: [1.7289] b.m\n",
        "  Removed abbreviation: [-3.3578] s\n",
        "  Abbreviation: [1.5868] t.v\n",
        "  Abbreviation: [2.1567] k\n",
        "  Abbreviation: [2.1567] s\n",
        "  Abbreviation: [0.5838] smt\n",
        "  Abbreviation: [4.0341] d\n",
        "  Removed abbreviation: [-3.3398] n\n",
        "  Removed abbreviation: [-0.0701] duo\n",
        "  Removed abbreviation: [-3.3448] b\n",
        "  Removed abbreviation: [-3.3448] g\n",
        "  Removed abbreviation: [-3.3448] k\n",
        "  Removed abbreviation: [-3.3448] v\n",
        "  Abbreviation: [6.6769] g"
       ]
      },
      {
       "output_type": "stream",
       "stream": "stdout",
       "text": [
        "\n",
        "  Abbreviation: [1.6692] t\n",
        "  Abbreviation: [1.6692] r\n",
        "  Abbreviation: [1.6692] h\n",
        "  Abbreviation: [1.6692] m\n",
        "  Abbreviation: [1.6692] c\n",
        "  Abbreviation: [1.6692] k\n",
        "  Abbreviation: [5.0077] s\n",
        "  Abbreviation: [5.0077] v\n",
        "  Abbreviation: [3.3385] n\n",
        "  Abbreviation: [8.1789] b\n",
        "  Abbreviation: [4.5133] k.p\n",
        "  Abbreviation: [4.0894] p\n",
        "  Abbreviation: [8.1789] k\n",
        "  Abbreviation: [2.2140] g\n",
        "  Abbreviation: [0.5993] etc\n",
        "  Abbreviation: [2.2140] n\n",
        "  Abbreviation: [0.8635] etc"
       ]
      },
      {
       "output_type": "stream",
       "stream": "stdout",
       "text": [
        "\n",
        "  Abbreviation: [4.1104] t\n",
        "  Abbreviation: [6.1391] r\n",
        "  Abbreviation: [6.1391] h\n",
        "  Abbreviation: [4.0927] k\n",
        "  Abbreviation: [4.0927] v\n",
        "  Collocation: [8.0106] u'##number##'+u'she'\n",
        "  Abbreviation: [0.5769] usa"
       ]
      },
      {
       "output_type": "stream",
       "stream": "stdout",
       "text": [
        "\n",
        "  Abbreviation: [2.1460] g\n",
        "  Abbreviation: [0.6772] sr"
       ]
      },
      {
       "output_type": "stream",
       "stream": "stdout",
       "text": [
        "\n",
        "  Abbreviation: [9.2035] t\n",
        "  Removed abbreviation: [-3.3260] p\n",
        "  Removed abbreviation: [-3.3260] s\n",
        "  Abbreviation: [5.5221] r\n",
        "  Removed abbreviation: [-0.4501] a.i.r\n",
        "  Abbreviation: [1.3543] b.a\n",
        "  Abbreviation: [3.6814] n\n",
        "  Sent Starter: [61.8500] u'he'\n",
        "  Abbreviation: [4.8785] g\n",
        "  Abbreviation: [4.1104] t\n",
        "  Abbreviation: [8.2208] m\n",
        "  Abbreviation: [4.1104] s\n",
        "  Abbreviation: [2.0552] l\n",
        "  Abbreviation: [2.0552] r\n",
        "  Abbreviation: [4.1104] k\n",
        "  Abbreviation: [4.1104] d\n",
        "  Abbreviation: [2.0552] j\n",
        "  Abbreviation: [4.1104] v\n",
        "  Abbreviation: [2.8233] n\n",
        "  Sent Starter: [39.8054] u'mlv'"
       ]
      },
      {
       "output_type": "stream",
       "stream": "stdout",
       "text": [
        "\n",
        "  Sent Starter: [32.8941] u'she'\n",
        "  Collocation: [21.8601] u'a'+u'kanyakumari'\n",
        "  Abbreviation: [3.0904] h\n",
        "  Abbreviation: [1.5452] s\n",
        "  Abbreviation: [1.5452] g\n",
        "  Removed abbreviation: [-3.2932] t\n",
        "  Abbreviation: [1.8310] d\n",
        "  Abbreviation: [1.8310] k\n",
        "  Removed abbreviation: [-10.0630] d\n",
        "  Removed abbreviation: [-16.7716] g\n",
        "  Removed abbreviation: [-20.1259] s\n",
        "  Removed abbreviation: [-10.0630] n\n",
        "  Removed abbreviation: [-16.7716] r\n",
        "  Removed abbreviation: [-20.1259] m\n",
        "  Abbreviation: [2.1803] c"
       ]
      },
      {
       "output_type": "stream",
       "stream": "stdout",
       "text": [
        "\n",
        "  Abbreviation: [0.5902] etc\n",
        "  Abbreviation: [0.8524] ad\n",
        "  Abbreviation: [0.7870] n3"
       ]
      },
      {
       "output_type": "stream",
       "stream": "stdout",
       "text": [
        "\n",
        "  Sent Starter: [32.5639] u'it'\n",
        "  Abbreviation: [4.3395] e\n",
        "  Abbreviation: [1.7873] t"
       ]
      },
      {
       "output_type": "stream",
       "stream": "stdout",
       "text": [
        "\n",
        "  Abbreviation: [1.6998] j\n",
        "  Abbreviation: [2.5013] dr\n",
        "  Removed abbreviation: [-4.9246] k\n",
        "  Removed abbreviation: [-3.3122] b\n",
        "  Abbreviation: [1.6998] p\n",
        "  Abbreviation: [3.3997] v\n",
        "  Abbreviation: [3.3997] n\n",
        "  Collocation: [20.0275] u'##number##'+u'he'\n",
        "  Collocation: [10.5719] u'##number##'+u'lalgudy'\n",
        "  Abbreviation: [1.8999] t\n",
        "  Abbreviation: [1.8999] s\n",
        "  Removed abbreviation: [-1.2254] t.r\n",
        "  Abbreviation: [3.7997] k\n",
        "  Sent Starter: [30.9011] u'she'\n",
        "  Removed abbreviation: [-0.6156] n3"
       ]
      },
      {
       "output_type": "stream",
       "stream": "stdout",
       "text": [
        "\n",
        "  Removed abbreviation: [-7.7187] c\n",
        "  Abbreviation: [0.8665] c2\n",
        "  Abbreviation: [0.8665] op\n",
        "  Abbreviation: [0.3188] nos\n",
        "  Abbreviation: [0.3188] c21\n",
        "  Abbreviation: [2.3553] h\n",
        "  Abbreviation: [1.7330] v.a\n",
        "  Removed abbreviation: [-3.3580] e\n",
        "  Abbreviation: [3.5468] s\n",
        "  Abbreviation: [1.8130] d\n",
        "  Abbreviation: [1.3340] h.k\n",
        "  Abbreviation: [1.8130] g\n",
        "  Abbreviation: [1.3340] m.d\n",
        "  Abbreviation: [3.6261] r\n",
        "  Abbreviation: [5.4391] h\n",
        "  Abbreviation: [7.2521] k\n",
        "  Abbreviation: [1.8130] s\n",
        "  Abbreviation: [1.8130] n\n",
        "  Sent Starter: [37.9847] u'he'"
       ]
      },
      {
       "output_type": "stream",
       "stream": "stdout",
       "text": [
        "\n",
        "  Abbreviation: [1.7781] d\n",
        "  Abbreviation: [5.3343] n\n",
        "  Abbreviation: [10.6687] t\n",
        "  Abbreviation: [1.7781] j\n",
        "  Abbreviation: [0.6541] dr\n",
        "  Removed abbreviation: [-0.1498] usa\n",
        "  Abbreviation: [1.7781] s\n",
        "  Abbreviation: [3.5562] m\n",
        "  Abbreviation: [1.3083] b.v\n",
        "  Removed abbreviation: [-3.3203] r\n",
        "  Abbreviation: [1.7781] p\n",
        "  Abbreviation: [2.0141] k\n",
        "  Abbreviation: [1.7781] v\n",
        "  Sent Starter: [76.5609] u'he'\n",
        "  Collocation: [13.1843] u'##number##'+u'rama'"
       ]
      },
      {
       "output_type": "stream",
       "stream": "stdout",
       "text": [
        "\n",
        "  Abbreviation: [1.6194] s\n",
        "  Abbreviation: [1.6194] c\n",
        "  Sent Starter: [31.0529] u'he'\n",
        "  Abbreviation: [2.8324] t\n",
        "  Abbreviation: [1.4162] o\n",
        "  Abbreviation: [0.5210] dr\n",
        "  Abbreviation: [1.0420] t.v\n",
        "  Abbreviation: [1.0420] k.v\n",
        "  Abbreviation: [2.8324] r\n",
        "  Abbreviation: [2.8324] m\n",
        "  Abbreviation: [1.4162] p\n",
        "  Abbreviation: [1.4162] k\n",
        "  Abbreviation: [2.8324] s\n",
        "  Abbreviation: [2.8324] n\n",
        "  Removed abbreviation: [-3.3513] c\n",
        "  Abbreviation: [2.2108] n\n",
        "  Sent Starter: [30.7534] u'the'\n",
        "  Abbreviation: [1.9500] d"
       ]
      },
      {
       "output_type": "stream",
       "stream": "stdout",
       "text": [
        "\n",
        "  Abbreviation: [0.7174] dr\n",
        "  Abbreviation: [1.4348] m.d\n",
        "  Abbreviation: [1.9500] m\n",
        "  Abbreviation: [2.0782] g\n",
        "  Abbreviation: [4.1563] t\n",
        "  Abbreviation: [0.7645] dr\n",
        "  Removed abbreviation: [-1.2301] k.s\n",
        "  Abbreviation: [2.0782] r\n",
        "  Abbreviation: [14.5472] n\n",
        "  Abbreviation: [3.0581] u.s\n",
        "  Abbreviation: [1.9060] d"
       ]
      },
      {
       "output_type": "stream",
       "stream": "stdout",
       "text": [
        "\n",
        "  Abbreviation: [3.8121] g\n",
        "  Abbreviation: [0.4805] t\n",
        "  Abbreviation: [1.9060] b\n",
        "  Removed abbreviation: [-2.8510] s\n",
        "  Abbreviation: [3.8121] m\n",
        "  Abbreviation: [1.9060] v\n",
        "  Abbreviation: [0.4805] n\n",
        "  Collocation: [14.8820] u'c'+u's'\n",
        "  Abbreviation: [2.0291] t\n",
        "  Abbreviation: [2.0291] v\n",
        "  Removed abbreviation: [-1.3114] k\n",
        "  Abbreviation: [4.0583] r\n",
        "  Abbreviation: [2.0291] s\n",
        "  Collocation: [9.8308] u'##number##'+u'as'\n",
        "  Abbreviation: [1.3805] pt\n",
        "  Abbreviation: [1.3805] a.m\n",
        "  Abbreviation: [1.2097] r.r"
       ]
      },
      {
       "output_type": "stream",
       "stream": "stdout",
       "text": [
        "\n",
        "  Abbreviation: [4.9325] t\n",
        "  Abbreviation: [1.6442] b\n",
        "  Removed abbreviation: [-4.9676] s\n",
        "  Abbreviation: [1.6442] p\n",
        "  Abbreviation: [4.9325] v\n",
        "  Removed abbreviation: [-3.3682] b\n",
        "  Abbreviation: [0.3588] pvc\n",
        "  Removed abbreviation: [-0.6195] op\n",
        "  Sent Starter: [30.9097] u'it'\n",
        "  Abbreviation: [4.2140] l"
       ]
      },
      {
       "output_type": "stream",
       "stream": "stdout",
       "text": [
        "\n",
        "  Abbreviation: [8.4280] m\n",
        "  Removed abbreviation: [-16.7839] p\n",
        "  Removed abbreviation: [-16.7839] d\n",
        "  Removed abbreviation: [-20.1406] g\n",
        "  Removed abbreviation: [-11.1009] n\n",
        "  Removed abbreviation: [-13.4271] r\n",
        "  Removed abbreviation: [-16.7839] m\n",
        "  Removed abbreviation: [-1.3840] t\n",
        "  Abbreviation: [0.7178] mr\n",
        "  Abbreviation: [1.9511] r\n",
        "  Abbreviation: [3.9327] s\n",
        "  Removed abbreviation: [-0.4541] a.k.c\n",
        "  Abbreviation: [6.8937] r\n",
        "  Abbreviation: [0.3110] own\n",
        "  Abbreviation: [2.2979] s\n",
        "  Abbreviation: [0.6220] smt\n",
        "  Abbreviation: [1.6907] t.n\n",
        "  Abbreviation: [0.7897] m2"
       ]
      },
      {
       "output_type": "stream",
       "stream": "stdout",
       "text": [
        "\n",
        "  Abbreviation: [2.0347] d\n",
        "  Abbreviation: [6.1042] m\n",
        "  Abbreviation: [1.4971] m.s\n",
        "  Abbreviation: [2.0347] s\n",
        "  Abbreviation: [2.0347] v\n",
        "  Removed abbreviation: [-0.6145] dr\n",
        "  Removed abbreviation: [-3.3363] r\n",
        "  Abbreviation: [2.0032] b\n",
        "  Abbreviation: [0.8133] b.f.a\n",
        "  Removed abbreviation: [-3.3548] o"
       ]
      },
      {
       "output_type": "stream",
       "stream": "stdout",
       "text": [
        "\n",
        "  Removed abbreviation: [-3.3574] d\n",
        "  Removed abbreviation: [-0.1517] own"
       ]
      },
      {
       "output_type": "stream",
       "stream": "stdout",
       "text": [
        "\n",
        "  Removed abbreviation: [-3.3624] m\n",
        "  Abbreviation: [2.0049] u.s.a\n",
        "  Removed abbreviation: [-0.1011] smt\n",
        "  Removed abbreviation: [-0.6185] pt\n",
        "  Removed abbreviation: [-17.7056] s\n",
        "  Abbreviation: [1.8166] u.k\n",
        "  Removed abbreviation: [-10.0873] v\n",
        "  Sent Starter: [32.6973] u'she'\n",
        "  Abbreviation: [1.5227] m.g\n",
        "  Abbreviation: [0.7614] dr\n",
        "  Abbreviation: [1.5227] m.s\n",
        "  Abbreviation: [0.5602] etc\n",
        "  Abbreviation: [1.9473] m"
       ]
      },
      {
       "output_type": "stream",
       "stream": "stdout",
       "text": [
        "\n",
        "  Abbreviation: [1.9473] j\n",
        "  Abbreviation: [1.9473] v\n",
        "  Abbreviation: [1.9473] r\n",
        "  Abbreviation: [1.9473] n\n",
        "  Sent Starter: [49.3743] u'he'\n",
        "  Abbreviation: [0.7957] m2\n",
        "  Abbreviation: [0.8674] dr"
       ]
      },
      {
       "output_type": "stream",
       "stream": "stdout",
       "text": [
        "\n",
        "  Abbreviation: [3.4695] e.g\n",
        "  Removed abbreviation: [-11.0747] b\n",
        "  Abbreviation: [0.3191] era\n",
        "  Sent Starter: [33.6352] u'this'\n",
        "  Sent Starter: [30.1404] u'there'\n",
        "  Abbreviation: [4.0341] t"
       ]
      },
      {
       "output_type": "stream",
       "stream": "stdout",
       "text": [
        "\n",
        "  Abbreviation: [1.9943] m\n",
        "  Abbreviation: [1.4673] v.s\n",
        "  Removed abbreviation: [-0.6140] dr\n",
        "  Abbreviation: [1.4673] k.v\n",
        "  Abbreviation: [3.9886] r\n",
        "  Abbreviation: [1.9943] n\n",
        "  Sent Starter: [38.6770] u'jyotsna'\n",
        "  Abbreviation: [2.2036] n\n",
        "  Collocation: [9.0042] u'c'+u'but'\n",
        "  Abbreviation: [2.1653] t"
       ]
      },
      {
       "output_type": "stream",
       "stream": "stdout",
       "text": [
        "\n",
        "  Abbreviation: [2.1653] m\n",
        "  Abbreviation: [2.1653] s\n",
        "  Abbreviation: [2.1653] p\n",
        "  Sent Starter: [36.4072] u'it'\n",
        "  Abbreviation: [0.3054] etc\n",
        "  Abbreviation: [2.0364] t"
       ]
      },
      {
       "output_type": "stream",
       "stream": "stdout",
       "text": [
        "\n",
        "  Abbreviation: [4.0729] m\n",
        "  Abbreviation: [6.2625] m.s\n",
        "  Abbreviation: [4.0729] s\n",
        "  Abbreviation: [1.4983] v.k\n",
        "  Abbreviation: [2.0364] r\n",
        "  Abbreviation: [1.4983] t.r\n",
        "  Abbreviation: [2.0364] v\n",
        "  Collocation: [8.3067] u'##number##'+u'they'\n",
        "  Abbreviation: [1.9654] t\n",
        "  Abbreviation: [2.1691] dr\n",
        "  Abbreviation: [0.7230] us\n",
        "  Abbreviation: [15.7232] j\n",
        "  Abbreviation: [1.9654] p\n",
        "  Abbreviation: [1.4461] k.j\n",
        "  Abbreviation: [1.9654] v\n",
        "  Abbreviation: [15.7232] k\n",
        "  Abbreviation: [3.9308] h\n",
        "  Abbreviation: [2.2246] k"
       ]
      },
      {
       "output_type": "stream",
       "stream": "stdout",
       "text": [
        "\n",
        "  Abbreviation: [0.3011] off\n",
        "  Abbreviation: [1.6368] i.e\n",
        "  Abbreviation: [2.2246] v\n",
        "  Abbreviation: [1.6368] c.s\n",
        "  Abbreviation: [2.2246] b\n",
        "  Abbreviation: [4.0779] r.s\n",
        "  Removed abbreviation: [-9.9799] k\n",
        "  Abbreviation: [4.0779] r.n\n",
        "  Removed abbreviation: [-8.1324] r\n",
        "  Removed abbreviation: [-3.3266] v\n",
        "  Abbreviation: [8.1559] r.k\n",
        "  Abbreviation: [2.2773] g"
       ]
      },
      {
       "output_type": "stream",
       "stream": "stdout",
       "text": [
        "\n",
        "  Abbreviation: [2.2773] t\n",
        "  Abbreviation: [2.2773] s\n",
        "  Abbreviation: [0.3082] smt\n",
        "  Removed abbreviation: [-3.3546] h\n",
        "  Abbreviation: [0.6164] etc\n",
        "  Sent Starter: [34.9317] u'sri'\n",
        "  Abbreviation: [1.4870] b.a\n",
        "  Abbreviation: [1.4870] t.m\n",
        "  Sent Starter: [31.7407] u'he'"
       ]
      },
      {
       "output_type": "stream",
       "stream": "stdout",
       "text": [
        "\n",
        "  Abbreviation: [6.0525] t\n",
        "  Abbreviation: [1.4844] b.r\n",
        "  Abbreviation: [2.0175] g\n",
        "  Abbreviation: [1.4844] c.m\n",
        "  Abbreviation: [8.0700] r\n",
        "  Abbreviation: [6.0525] k\n",
        "  Removed abbreviation: [-0.6143] dr\n",
        "  Abbreviation: [2.0175] j\n",
        "  Abbreviation: [1.4844] i.e\n",
        "  Abbreviation: [2.0175] c\n",
        "  Abbreviation: [6.0525] v\n",
        "  Abbreviation: [0.7422] mr\n",
        "  Abbreviation: [2.0175] b\n",
        "  Abbreviation: [1.4844] g.n\n",
        "  Abbreviation: [2.0175] h\n",
        "  Sent Starter: [38.4980] u'he'\n",
        "  Abbreviation: [0.3069] now"
       ]
      },
      {
       "output_type": "stream",
       "stream": "stdout",
       "text": [
        "\n",
        "  Abbreviation: [0.6139] etc\n",
        "  Sent Starter: [44.2789] u'purandara'\n",
        "  Sent Starter: [41.8563] u'he'\n",
        "  Abbreviation: [0.7655] ce\n",
        "  Removed abbreviation: [-0.1508] now\n",
        "  Removed abbreviation: [-0.6182] us"
       ]
      },
      {
       "output_type": "stream",
       "stream": "stdout",
       "text": [
        "\n",
        "  Abbreviation: [2.4239] k\n",
        "  Abbreviation: [2.4239] v\n",
        "  Abbreviation: [0.7529] dr\n",
        "  Removed abbreviation: [-3.3417] k\n",
        "  Abbreviation: [1.5058] e.g\n",
        "  Removed abbreviation: [-3.3417] l\n",
        "  Abbreviation: [0.7529] me\n",
        "  Removed abbreviation: [-3.3417] t\n",
        "  Abbreviation: [0.7435] pt"
       ]
      },
      {
       "output_type": "stream",
       "stream": "stdout",
       "text": [
        "\n",
        "  Removed abbreviation: [-3.3400] p\n",
        "  Abbreviation: [7.4348] dr\n",
        "  Abbreviation: [4.0420] s\n",
        "  Abbreviation: [0.8205] smt\n",
        "  Abbreviation: [4.0420] l\n",
        "  Abbreviation: [6.0629] r\n",
        "  Abbreviation: [6.0629] k\n",
        "  Abbreviation: [2.0210] c\n",
        "  Abbreviation: [4.0420] v\n",
        "  Removed abbreviation: [-3.3400] j\n",
        "  Abbreviation: [18.1888] n\n",
        "  Sent Starter: [37.6914] u'saravanan'\n",
        "  Collocation: [10.8324] u'a'+u'k.'\n",
        "  Abbreviation: [3.9665] t\n",
        "  Abbreviation: [1.4592] k.n\n",
        "  Abbreviation: [3.9665] b\n",
        "  Removed abbreviation: [-3.3374] k\n",
        "  Abbreviation: [1.4592] m.s\n",
        "  Removed abbreviation: [-3.3374] r\n",
        "  Abbreviation: [1.9833] s\n",
        "  Removed abbreviation: [-0.1510] off"
       ]
      },
      {
       "output_type": "stream",
       "stream": "stdout",
       "text": [
        "\n",
        "  Abbreviation: [3.9428] t\n",
        "  Removed abbreviation: [-0.1505] smt\n",
        "  Abbreviation: [3.9428] r\n",
        "  Abbreviation: [1.9714] h\n",
        "  Abbreviation: [1.9714] s\n",
        "  Removed abbreviation: [-0.6103] dr\n",
        "  Abbreviation: [2.0637] r\n",
        "  Abbreviation: [2.0637] k\n",
        "  Abbreviation: [2.0637] s\n",
        "  Abbreviation: [2.0637] n\n",
        "  Removed abbreviation: [-3.3142] k"
       ]
      },
      {
       "output_type": "stream",
       "stream": "stdout",
       "text": [
        "\n",
        "  Abbreviation: [3.4375] s\n",
        "  Abbreviation: [1.6257] t.s\n",
        "  Removed abbreviation: [-1.1417] n\n",
        "  Abbreviation: [1.6257] t.n\n",
        "  Abbreviation: [0.8971] etc\n",
        "  Removed abbreviation: [-3.3512] s\n",
        "  Removed abbreviation: [-3.3512] c\n",
        "  Rare Abbrev: viz."
       ]
      },
      {
       "output_type": "stream",
       "stream": "stdout",
       "text": [
        "\n",
        "  Abbreviation: [0.8439] pt"
       ]
      },
      {
       "output_type": "stream",
       "stream": "stdout",
       "text": [
        "\n",
        "  Abbreviation: [0.3104] art\n",
        "  Abbreviation: [0.8439] ce\n",
        "  Abbreviation: [0.3104] lie\n",
        "  Abbreviation: [2.2348] l\n",
        "  Abbreviation: [4.2986] g"
       ]
      },
      {
       "output_type": "stream",
       "stream": "stdout",
       "text": [
        "\n",
        "  Abbreviation: [12.4853] t\n",
        "  Abbreviation: [1.0223] b\n",
        "  Abbreviation: [1.0542] s.k\n",
        "  Abbreviation: [6.7538] m\n",
        "  Removed abbreviation: [-0.0421] era\n",
        "  Abbreviation: [17.3957] s\n",
        "  Abbreviation: [1.4329] y\n",
        "  Abbreviation: [2.1085] r.k\n",
        "  Abbreviation: [4.2986] l\n",
        "  Abbreviation: [2.8657] e\n",
        "  Abbreviation: [0.5818] t.k.v\n",
        "  Abbreviation: [1.0542] t.h\n",
        "  Removed abbreviation: [-16.1802] r\n",
        "  Abbreviation: [13.0970] k\n",
        "  Abbreviation: [5.7315] d\n",
        "  Abbreviation: [1.0542] c.s\n",
        "  Abbreviation: [4.2986] c\n",
        "  Abbreviation: [1.0223] p\n",
        "  Abbreviation: [7.3656] v\n",
        "  Abbreviation: [1.4329] i\n",
        "  Abbreviation: [2.8657] h\n",
        "  Abbreviation: [0.5818] g.j.r\n",
        "  Abbreviation: [2.8657] o\n",
        "  Abbreviation: [12.4853] n\n",
        "  Removed abbreviation: [-8.3960] u\n",
        "  Collocation: [22.5994] u'a'+u'kanyakumari'\n",
        "  Abbreviation: [0.7470] dr\n",
        "  Abbreviation: [2.0305] r\n",
        "  Abbreviation: [4.0609] s\n",
        "  Abbreviation: [1.7845] t"
       ]
      },
      {
       "output_type": "stream",
       "stream": "stdout",
       "text": [
        "\n",
        "  Abbreviation: [3.5690] b\n",
        "  Abbreviation: [0.6565] dr\n",
        "  Abbreviation: [1.7845] r\n",
        "  Abbreviation: [1.7845] a\n",
        "  Abbreviation: [1.7845] n\n",
        "  Abbreviation: [1.6041] i.e\n",
        "  Removed abbreviation: [-20.0980] a\n",
        "  Abbreviation: [6.9883] t\n",
        "  Abbreviation: [8.7354] r\n",
        "  Abbreviation: [0.6427] so\n",
        "  Abbreviation: [3.4942] p\n",
        "  Abbreviation: [6.9883] k\n",
        "  Abbreviation: [6.9883] s\n",
        "  Abbreviation: [1.7471] v\n",
        "  Abbreviation: [1.7471] n\n",
        "  Collocation: [7.9762] u'a'+u't.'\n",
        "  Collocation: [13.3844] u'a'+u'thangavelu'\n",
        "  Abbreviation: [0.3185] key"
       ]
      },
      {
       "output_type": "stream",
       "stream": "stdout",
       "text": [
        "\n",
        "  Abbreviation: [1.7313] a.r\n",
        "  Removed abbreviation: [-3.3579] o\n",
        "  Abbreviation: [2.1832] n\n",
        "  Sent Starter: [48.4950] u'he'\n",
        "  Abbreviation: [3.2293] k\n",
        "  Abbreviation: [3.2293] m\n",
        "  Abbreviation: [3.2293] e\n",
        "  Abbreviation: [1.1880] e.m\n",
        "  Abbreviation: [1.6147] t\n",
        "  Abbreviation: [2.0879] g"
       ]
      },
      {
       "output_type": "stream",
       "stream": "stdout",
       "text": [
        "\n",
        "  Removed abbreviation: [-3.3444] t\n",
        "  Removed abbreviation: [-3.3444] v\n",
        "  Removed abbreviation: [-3.3444] c\n",
        "  Removed abbreviation: [-3.3444] s\n",
        "  Removed abbreviation: [-3.3444] r\n",
        "  Removed abbreviation: [-3.3293] d\n",
        "  Removed abbreviation: [-3.3293] g\n",
        "  Abbreviation: [1.3418] t.s\n",
        "  Abbreviation: [5.4710] g\n",
        "  Abbreviation: [3.6474] t\n",
        "  Abbreviation: [0.6709] dr\n",
        "  Abbreviation: [2.1465] m\n",
        "  Abbreviation: [2.6836] m.s\n",
        "  Abbreviation: [3.9702] s\n",
        "  Removed abbreviation: [-0.2761] st\n",
        "  Abbreviation: [1.3418] b.a\n",
        "  Abbreviation: [1.8237] l\n",
        "  Abbreviation: [3.6474] r\n",
        "  Abbreviation: [1.3418] m.l\n",
        "  Removed abbreviation: [-0.1500] art\n",
        "  Abbreviation: [1.3418] t.r\n",
        "  Abbreviation: [3.6474] v\n",
        "  Abbreviation: [3.6474] n\n",
        "  Sent Starter: [41.7014] u'he'"
       ]
      },
      {
       "output_type": "stream",
       "stream": "stdout",
       "text": [
        "\n",
        "  Removed abbreviation: [-3.3451] k\n",
        "  Abbreviation: [2.1008] t\n",
        "  Abbreviation: [1.5537] h.k\n",
        "  Abbreviation: [0.5716] dr.m\n",
        "  Abbreviation: [1.5537] k.j\n",
        "  Abbreviation: [2.1118] h\n",
        "  Abbreviation: [2.1118] k\n",
        "  Abbreviation: [1.5537] h.n\n",
        "  Sent Starter: [45.4148] u'he'"
       ]
      },
      {
       "output_type": "stream",
       "stream": "stdout",
       "text": [
        "\n",
        "  Abbreviation: [0.8367] dr"
       ]
      },
      {
       "output_type": "stream",
       "stream": "stdout",
       "text": [
        "\n",
        "  Removed abbreviation: [-0.4628] mm\n",
        "  Abbreviation: [1.6733] m.s\n",
        "  Abbreviation: [1.2312] etc\n",
        "  Abbreviation: [0.8367] co\n",
        "  Abbreviation: [0.8367] mt\n",
        "  Abbreviation: [2.2743] n\n",
        "  Abbreviation: [0.3397] sord\n",
        "  Removed abbreviation: [-0.1928] so\n",
        "  Abbreviation: [4.5486] m\n",
        "  Removed abbreviation: [-3.3544] s\n",
        "  Abbreviation: [0.8367] d3\n",
        "  Removed abbreviation: [-6.7088] b\n",
        "  Abbreviation: [0.3078] bar\n",
        "  Abbreviation: [0.3078] box\n",
        "  Removed abbreviation: [-36.8986] e\n",
        "  Abbreviation: [6.6934] e.g\n",
        "  Abbreviation: [1.6733] t.n\n",
        "  Abbreviation: [4.5486] l\n",
        "  Removed abbreviation: [-26.8354] g\n",
        "  Abbreviation: [3.3467] i.e\n",
        "  Abbreviation: [0.9234] g.j.r\n",
        "  Sent Starter: [92.4840] u'the'"
       ]
      },
      {
       "output_type": "stream",
       "stream": "stdout",
       "text": [
        "\n",
        "  Sent Starter: [59.2791] u'this'\n",
        "  Abbreviation: [1.8141] d"
       ]
      },
      {
       "output_type": "stream",
       "stream": "stdout",
       "text": [
        "\n",
        "  Abbreviation: [0.6674] dr\n",
        "  Abbreviation: [9.0703] t\n",
        "  Abbreviation: [1.3347] t.n\n",
        "  Abbreviation: [5.4422] m\n",
        "  Abbreviation: [1.8141] u\n",
        "  Abbreviation: [0.4910] etc\n",
        "  Abbreviation: [7.2562] k\n",
        "  Abbreviation: [1.8141] s\n",
        "  Abbreviation: [1.8141] v\n",
        "  Abbreviation: [1.9985] m\n",
        "  Abbreviation: [1.9985] s\n",
        "  Abbreviation: [1.9985] j\n",
        "  Abbreviation: [1.9985] k\n",
        "  Removed abbreviation: [-0.6141] ce\n",
        "  Abbreviation: [1.9985] c\n",
        "  Removed abbreviation: [-0.4303] ad\n",
        "  Sent Starter: [47.7416] u'he'\n",
        "  Abbreviation: [1.4367] m.g\n",
        "  Removed abbreviation: [-1.3825] k\n",
        "  Removed abbreviation: [-3.3352] j\n",
        "  Abbreviation: [1.4367] ms\n",
        "  Abbreviation: [3.9053] s\n",
        "  Abbreviation: [7.8105] v\n",
        "  Removed abbreviation: [-3.3145] s"
       ]
      },
      {
       "output_type": "stream",
       "stream": "stdout",
       "text": [
        "\n",
        "  Removed abbreviation: [-1.5937] r\n",
        "  Abbreviation: [1.7208] k\n",
        "  Abbreviation: [3.7983] s.r\n",
        "  Abbreviation: [0.4658] smt\n",
        "  Abbreviation: [2.9285] v.v\n",
        "  Abbreviation: [1.9901] p\n",
        "  Abbreviation: [1.9901] s\n",
        "  Abbreviation: [0.8080] v.v.s\n",
        "  Abbreviation: [5.8570] v.r\n",
        "  Sent Starter: [32.2714] u'he'\n",
        "  Removed abbreviation: [-10.0689] d"
       ]
      },
      {
       "output_type": "stream",
       "stream": "stdout",
       "text": [
        "\n",
        "  Removed abbreviation: [-3.3563] l\n",
        "  Removed abbreviation: [-0.1514] lie\n",
        "  Removed abbreviation: [-57.0573] c\n",
        "  Abbreviation: [0.6268] key\n",
        "  Abbreviation: [5.1111] i.e\n",
        "  Abbreviation: [0.9401] etc\n",
        "  Rare Abbrev: roughness.\n",
        "  Sent Starter: [37.4292] u'in'\n",
        "  Abbreviation: [0.7419] dr"
       ]
      },
      {
       "output_type": "stream",
       "stream": "stdout",
       "text": [
        "\n",
        "  Abbreviation: [0.8188] a.i.r\n",
        "  Abbreviation: [1.4839] st\n",
        "  Sent Starter: [36.7612] u'he'\n",
        "  Abbreviation: [3.4465] d.k\n",
        "  Abbreviation: [0.8616] on\n",
        "  Abbreviation: [1.4293] t.k"
       ]
      },
      {
       "output_type": "stream",
       "stream": "stdout",
       "text": [
        "\n",
        "  Removed abbreviation: [-1.2267] t.n\n",
        "  Abbreviation: [3.8851] t\n",
        "  Abbreviation: [1.4293] k.v\n",
        "  Removed abbreviation: [-0.0216] on\n",
        "  Removed abbreviation: [-0.0628] etc\n",
        "  Abbreviation: [1.9426] h\n",
        "  Abbreviation: [1.4293] k.s\n",
        "  Abbreviation: [3.8851] s\n",
        "  Abbreviation: [1.4293] t.m\n",
        "  Abbreviation: [0.9834] al"
       ]
      },
      {
       "output_type": "stream",
       "stream": "stdout",
       "text": [
        "\n",
        "  Removed abbreviation: [-6.7376] i\n",
        "  Abbreviation: [0.3618] etc\n",
        "  Abbreviation: [3.2811] e.g"
       ]
      },
      {
       "output_type": "stream",
       "stream": "stdout",
       "text": [
        "\n",
        "  Abbreviation: [1.6092] s\n",
        "  Abbreviation: [1.6092] r\n",
        "  Abbreviation: [1.6092] t\n",
        "  Abbreviation: [3.2185] p\n",
        "  Removed abbreviation: [-3.3495] s\n",
        "  Abbreviation: [2.1798] g"
       ]
      },
      {
       "output_type": "stream",
       "stream": "stdout",
       "text": [
        "\n",
        "  Abbreviation: [2.1798] m\n",
        "  Abbreviation: [2.1426] t\n",
        "  Abbreviation: [2.1426] m\n",
        "  Abbreviation: [1.5764] t.t\n",
        "  Abbreviation: [3.1529] t.m\n",
        "  Abbreviation: [1.5764] b.a\n",
        "  Removed abbreviation: [-0.6158] dr\n",
        "  Abbreviation: [2.1426] j\n",
        "  Abbreviation: [4.2852] b\n",
        "  Sent Starter: [58.9519] u'he'"
       ]
      },
      {
       "output_type": "stream",
       "stream": "stdout",
       "text": [
        "\n",
        "  Abbreviation: [0.7984] dr"
       ]
      },
      {
       "output_type": "stream",
       "stream": "stdout",
       "text": [
        "\n",
        "  Abbreviation: [2.1702] s\n",
        "  Abbreviation: [0.5874] smt\n",
        "  Abbreviation: [0.8811] a.p.j\n",
        "  Abbreviation: [2.1702] l\n",
        "  Abbreviation: [4.3405] k\n",
        "  Abbreviation: [4.3405] c\n",
        "  Abbreviation: [0.5874] etc\n",
        "  Abbreviation: [3.8413] t"
       ]
      },
      {
       "output_type": "stream",
       "stream": "stdout",
       "text": [
        "\n",
        "  Abbreviation: [1.9206] s\n",
        "  Abbreviation: [1.9206] r\n",
        "  Abbreviation: [3.8413] k\n",
        "  Removed abbreviation: [-11.8052] m\n",
        "  Abbreviation: [1.9206] p\n",
        "  Abbreviation: [0.7798] b.k.s\n",
        "  Abbreviation: [1.4131] g.n\n",
        "  Abbreviation: [1.9206] n\n",
        "  Sent Starter: [39.0903] u'he'\n",
        "  Collocation: [17.0507] u'm'+u'nagaraj'\n",
        "  Collocation: [13.2576] u'm'+u'venkateshachar'\n",
        "  Abbreviation: [3.5288] i.e"
       ]
      },
      {
       "output_type": "stream",
       "stream": "stdout",
       "text": [
        "\n",
        "  Removed abbreviation: [-3.3383] b"
       ]
      },
      {
       "output_type": "stream",
       "stream": "stdout",
       "text": [
        "\n",
        "  Abbreviation: [0.5402] etc\n",
        "  Abbreviation: [1.9957] p\n",
        "  Collocation: [19.2421] u'm'+u'venkateshachar'\n",
        "  Removed abbreviation: [-3.3555] k\n",
        "  Removed abbreviation: [-3.3555] n\n",
        "  Abbreviation: [0.7543] dr\n",
        "  Abbreviation: [2.0504] m\n",
        "  Abbreviation: [6.6226] u"
       ]
      },
      {
       "output_type": "stream",
       "stream": "stdout",
       "text": [
        "\n",
        "  Abbreviation: [2.1977] p\n",
        "  Removed abbreviation: [-0.0404] smt\n",
        "  Abbreviation: [2.1539] dr\n",
        "  Abbreviation: [3.9033] m\n",
        "  Abbreviation: [1.9516] s\n",
        "  Abbreviation: [1.9516] v\n",
        "  Abbreviation: [1.9516] n\n",
        "  Abbreviation: [4.4922] g"
       ]
      },
      {
       "output_type": "stream",
       "stream": "stdout",
       "text": [
        "\n",
        "  Abbreviation: [2.2461] t\n",
        "  Abbreviation: [2.2461] r\n",
        "  Abbreviation: [0.3040] few\n",
        "  Abbreviation: [2.2461] p\n",
        "  Abbreviation: [1.6526] c.m\n",
        "  Abbreviation: [2.2461] v\n",
        "  Abbreviation: [2.2461] b\n",
        "  Abbreviation: [2.2461] n\n",
        "  Sent Starter: [55.2006] u'he'\n",
        "  Abbreviation: [0.9079] a.k.a\n",
        "  Removed abbreviation: [-13.4103] p\n",
        "  Removed abbreviation: [-23.4680] g\n",
        "  Removed abbreviation: [-40.2309] s\n",
        "  Removed abbreviation: [-20.1154] n\n",
        "  Removed abbreviation: [-26.8206] r\n",
        "  Abbreviation: [0.8226] ni\n",
        "  Removed abbreviation: [-0.1005] few\n",
        "  Abbreviation: [0.7927] m2"
       ]
      },
      {
       "output_type": "stream",
       "stream": "stdout",
       "text": [
        "\n",
        "  Abbreviation: [4.2156] d\n",
        "  Abbreviation: [0.4198] prof\n",
        "  Abbreviation: [0.7754] so\n",
        "  Removed abbreviation: [-0.6154] me\n",
        "  Abbreviation: [4.2156] p\n",
        "  Abbreviation: [2.1078] k\n",
        "  Abbreviation: [2.2847] g\n",
        "  Abbreviation: [0.3092] few\n",
        "  Abbreviation: [4.5693] t\n",
        "  Abbreviation: [2.2847] n\n",
        "  Abbreviation: [1.6488] u.s"
       ]
      },
      {
       "output_type": "stream",
       "stream": "stdout",
       "text": [
        "\n",
        "  Abbreviation: [0.3033] ear\n",
        "  Removed abbreviation: [-0.1008] bar\n",
        "  Abbreviation: [0.8244] co\n",
        "  Abbreviation: [0.3033] pub\n",
        "  Removed abbreviation: [-0.4625] so\n",
        "  Abbreviation: [2.2686] no\n",
        "  Abbreviation: [2.2409] x\n",
        "  Abbreviation: [0.9098] r.e.m\n",
        "  Abbreviation: [1.6488] d.c\n",
        "  Removed abbreviation: [-26.8225] d\n",
        "  Abbreviation: [2.2409] u\n",
        "  Removed abbreviation: [-0.1008] few\n",
        "  Abbreviation: [1.6488] e.g\n",
        "  Removed abbreviation: [-5.5766] g\n",
        "  Removed abbreviation: [-4.4647] b\n",
        "  Removed abbreviation: [-0.1513] key\n",
        "  Abbreviation: [5.6107] c\n",
        "  Abbreviation: [0.3033] inc\n",
        "  Sent Starter: [87.6951] u'the'"
       ]
      },
      {
       "output_type": "stream",
       "stream": "stdout",
       "text": [
        "\n",
        "  Sent Starter: [33.8060] u'it'\n",
        "  Sent Starter: [35.1168] u'some'\n",
        "  Abbreviation: [6.4758] l\n",
        "  Abbreviation: [3.6095] dr\n",
        "  Sent Starter: [50.7892] u'ambi'"
       ]
      },
      {
       "output_type": "stream",
       "stream": "stdout",
       "text": [
        "\n",
        "  Abbreviation: [2.2341] g\n",
        "  Abbreviation: [1.6437] dr\n",
        "  Abbreviation: [1.6437] mr\n",
        "  Removed abbreviation: [-4.4709] m\n",
        "  Abbreviation: [2.2341] j\n",
        "  Abbreviation: [2.2341] k\n",
        "  Abbreviation: [0.6047] mrs\n",
        "  Abbreviation: [0.3023] etc\n",
        "  Sent Starter: [37.5408] u'he'\n",
        "  Removed abbreviation: [-60.0429] p"
       ]
      },
      {
       "output_type": "stream",
       "stream": "stdout",
       "text": [
        "\n",
        "  Removed abbreviation: [-43.3643] g\n",
        "  Removed abbreviation: [-34.7328] n\n",
        "  Removed abbreviation: [-0.6136] ni\n",
        "  Abbreviation: [1.6072] m.s\n",
        "  Abbreviation: [2.1844] k\n",
        "  Sent Starter: [47.6916] u'charulatha'\n",
        "  Abbreviation: [1.9840] t"
       ]
      },
      {
       "output_type": "stream",
       "stream": "stdout",
       "text": [
        "\n",
        "  Abbreviation: [0.7299] pm\n",
        "  Abbreviation: [3.9681] m\n",
        "  Abbreviation: [1.9840] s\n",
        "  Abbreviation: [3.9681] l\n",
        "  Abbreviation: [7.9361] r\n",
        "  Abbreviation: [13.8882] k\n",
        "  Abbreviation: [13.8882] d\n",
        "  Removed abbreviation: [-3.3375] c\n",
        "  Abbreviation: [3.9681] i\n",
        "  Removed abbreviation: [-0.6139] no\n",
        "  Sent Starter: [57.1585] u'pattammal'\n",
        "  Sent Starter: [37.9677] u'she'\n",
        "  Removed abbreviation: [-33.4116] d\n",
        "  Removed abbreviation: [-110.2584] s\n",
        "  Removed abbreviation: [-83.5291] r\n",
        "  Abbreviation: [2.0326] l"
       ]
      },
      {
       "output_type": "stream",
       "stream": "stdout",
       "text": [
        "\n",
        "  Abbreviation: [2.0326] r\n",
        "  Abbreviation: [2.0326] s\n",
        "  Abbreviation: [2.0326] v\n",
        "  Abbreviation: [1.5844] k.j\n",
        "  Abbreviation: [0.7922] m2\n",
        "  Abbreviation: [0.3195] now\n",
        "  Removed abbreviation: [-1.2270] t.s\n",
        "  Removed abbreviation: [-1.3803] s\n",
        "  Removed abbreviation: [-3.3353] r\n",
        "  Removed abbreviation: [-4.7156] t\n",
        "  Abbreviation: [0.8092] it"
       ]
      },
      {
       "output_type": "stream",
       "stream": "stdout",
       "text": [
        "\n",
        "  Abbreviation: [1.6184] a.d\n",
        "  Removed abbreviation: [-3.3507] m\n",
        "  Abbreviation: [3.4685] t\n",
        "  Abbreviation: [1.7342] c\n",
        "  Abbreviation: [1.7342] s\n",
        "  Abbreviation: [3.4685] n\n",
        "  Abbreviation: [4.1543] g\n",
        "  Abbreviation: [2.0772] t\n",
        "  Abbreviation: [0.7641] dr\n",
        "  Abbreviation: [10.3858] s\n",
        "  Abbreviation: [4.1543] m\n",
        "  Abbreviation: [1.5283] g.b\n",
        "  Removed abbreviation: [-0.1153] it\n",
        "  Abbreviation: [2.0772] v\n",
        "  Removed abbreviation: [-3.3437] i\n",
        "  Abbreviation: [8.3087] n\n",
        "  Sent Starter: [30.2536] u'he'"
       ]
      },
      {
       "output_type": "stream",
       "stream": "stdout",
       "text": [
        "\n",
        "  Abbreviation: [1.6490] m\n",
        "  Abbreviation: [1.6490] s\n",
        "  Abbreviation: [3.2980] v\n",
        "  Abbreviation: [5.6842] t\n",
        "  Abbreviation: [3.7895] b\n",
        "  Abbreviation: [1.8947] e\n",
        "  Abbreviation: [0.7870] rs\n",
        "  Abbreviation: [1.7713] e.g\n",
        "  Removed abbreviation: [-33.6013] g\n",
        "  Removed abbreviation: [-40.3216] b\n",
        "  Removed abbreviation: [-47.9946] c\n",
        "  Abbreviation: [1.7713] i.e\n",
        "  Removed abbreviation: [-30.2412] e\n",
        "  Removed abbreviation: [-0.1511] now"
       ]
      },
      {
       "output_type": "stream",
       "stream": "stdout",
       "text": [
        "\n",
        "  Abbreviation: [3.5548] e.g"
       ]
      },
      {
       "output_type": "stream",
       "stream": "stdout",
       "text": [
        "\n",
        "  Removed abbreviation: [-0.0217] si\n",
        "  Removed abbreviation: [-3.3605] l\n",
        "  Abbreviation: [0.8887] st\n",
        "  Abbreviation: [2.4157] j\n",
        "  Abbreviation: [3.5548] i.e\n",
        "  Removed abbreviation: [-0.1011] ear\n",
        "  Abbreviation: [1.3077] etc\n",
        "  Abbreviation: [10.5711] g"
       ]
      },
      {
       "output_type": "stream",
       "stream": "stdout",
       "text": [
        "\n",
        "  Removed abbreviation: [-0.1006] box\n",
        "  Abbreviation: [14.7996] m\n",
        "  Abbreviation: [2.1142] s\n",
        "  Abbreviation: [2.1142] y\n",
        "  Abbreviation: [6.3427] r\n",
        "  Abbreviation: [8.4569] k\n",
        "  Abbreviation: [0.7778] mr\n",
        "  Abbreviation: [2.1142] p\n",
        "  Abbreviation: [1.5556] t.r\n",
        "  Abbreviation: [2.1142] b\n",
        "  Sent Starter: [43.4322] u'he'\n",
        "  Abbreviation: [0.9073] dr"
       ]
      },
      {
       "output_type": "stream",
       "stream": "stdout",
       "text": [
        "\n",
        "  Abbreviation: [2.4662] r\n",
        "  Abbreviation: [0.3338] few\n",
        "  Abbreviation: [1.8953] t\n",
        "  Abbreviation: [1.8953] c\n",
        "  Abbreviation: [3.7907] p\n",
        "  Abbreviation: [1.8953] k\n",
        "  Abbreviation: [3.7907] s\n",
        "  Abbreviation: [1.6292] u.k\n",
        "  Abbreviation: [1.6292] t.v\n",
        "  Abbreviation: [8.8570] r\n",
        "  Abbreviation: [2.2142] p\n",
        "  Abbreviation: [0.8904] dr"
       ]
      },
      {
       "output_type": "stream",
       "stream": "stdout",
       "text": [
        "\n",
        "  Abbreviation: [2.4204] v\n",
        "  Abbreviation: [0.3276] cds\n",
        "  Sent Starter: [32.0952] u'tung'\n",
        "  Abbreviation: [3.8812] s\n",
        "  Abbreviation: [1.9406] t\n",
        "  Abbreviation: [1.9406] c\n",
        "  Abbreviation: [1.9406] n\n",
        "  Sent Starter: [34.4258] u'it'\n",
        "  Abbreviation: [2.0346] d"
       ]
      },
      {
       "output_type": "stream",
       "stream": "stdout",
       "text": [
        "\n",
        "  Abbreviation: [8.1382] r\n",
        "  Removed abbreviation: [-0.1005] few\n",
        "  Abbreviation: [1.4098] h.k\n",
        "  Removed abbreviation: [-0.1503] cds\n",
        "  Abbreviation: [1.9161] u\n",
        "  Abbreviation: [1.4098] t.v\n",
        "  Abbreviation: [1.4098] u.k\n",
        "  Abbreviation: [1.9161] s\n",
        "  Abbreviation: [1.9161] v\n",
        "  Sent Starter: [66.2266] u'he'\n",
        "  Collocation: [13.1609] u'##number##'+u'the'\n",
        "  Abbreviation: [3.3735] d\n",
        "  Abbreviation: [0.3017] few"
       ]
      },
      {
       "output_type": "stream",
       "stream": "stdout",
       "text": [
        "\n",
        "  Abbreviation: [0.8200] dr\n",
        "  Abbreviation: [2.2289] m\n",
        "  Abbreviation: [6.5079] s\n",
        "  Abbreviation: [6.5079] g\n",
        "  Abbreviation: [3.2539] t\n",
        "  Abbreviation: [1.6270] h\n",
        "  Abbreviation: [3.2539] r\n",
        "  Abbreviation: [3.2539] m\n",
        "  Removed abbreviation: [-0.1490] few\n",
        "  Abbreviation: [1.6270] c\n",
        "  Abbreviation: [6.5079] k\n",
        "  Abbreviation: [4.8809] v\n",
        "  Abbreviation: [3.2539] n\n",
        "  Abbreviation: [0.3032] own\n",
        "  Removed abbreviation: [-0.4538] a.i.r\n",
        "  Abbreviation: [4.4812] s\n",
        "  Sent Starter: [55.8661] u'he'\n",
        "  Abbreviation: [4.2036] t"
       ]
      },
      {
       "output_type": "stream",
       "stream": "stdout",
       "text": [
        "\n",
        "  Abbreviation: [4.2036] r\n",
        "  Abbreviation: [2.1018] n\n",
        "  Abbreviation: [4.2036] s\n",
        "  Abbreviation: [6.3055] k\n",
        "  Abbreviation: [6.3055] p\n",
        "  Abbreviation: [2.1018] u\n",
        "  Abbreviation: [2.1018] l\n",
        "  Abbreviation: [8.4073] c\n",
        "  Abbreviation: [4.2036] v\n",
        "  Sent Starter: [43.3869] u'iyers'"
       ]
      },
      {
       "output_type": "stream",
       "stream": "stdout",
       "text": [
        "\n",
        "  Sent Starter: [77.4274] u'however'\n",
        "  Sent Starter: [47.1954] u'this'\n",
        "  Abbreviation: [0.6297] 'k\n",
        "  Abbreviation: [6.8472] c\n",
        "  Abbreviation: [5.1354] k\n",
        "  Abbreviation: [1.2595] k.c\n",
        "  Abbreviation: [1.7118] v\n",
        "  Abbreviation: [1.6832] b\n",
        "  Abbreviation: [6.7326] m\n",
        "  Abbreviation: [0.6192] sc\n",
        "  Abbreviation: [6.7326] k\n",
        "  Sent Starter: [39.4214] u'he'\n",
        "  Abbreviation: [1.9499] d"
       ]
      },
      {
       "output_type": "stream",
       "stream": "stdout",
       "text": [
        "\n",
        "  Abbreviation: [1.4347] k.v\n",
        "  Abbreviation: [1.9499] m\n",
        "  Removed abbreviation: [-6.7013] g\n",
        "  Removed abbreviation: [-3.3507] s\n",
        "  Removed abbreviation: [-3.3507] m\n",
        "  Abbreviation: [1.6336] y\n",
        "  Abbreviation: [3.2673] t\n",
        "  Abbreviation: [3.2673] h\n",
        "  Abbreviation: [3.2673] b\n",
        "  Abbreviation: [4.9009] c\n",
        "  Abbreviation: [1.2020] b.s\n",
        "  Abbreviation: [6.5346] k\n",
        "  Abbreviation: [6.4972] s\n",
        "  Abbreviation: [9.8018] v\n",
        "  Abbreviation: [3.2673] p\n",
        "  Abbreviation: [1.6336] r\n",
        "  Abbreviation: [3.2673] n\n",
        "  Abbreviation: [1.9097] d"
       ]
      },
      {
       "output_type": "stream",
       "stream": "stdout",
       "text": [
        "\n",
        "  Abbreviation: [1.9097] b\n",
        "  Sent Starter: [44.4413] u'he'\n",
        "  Abbreviation: [4.3831] d\n",
        "  Abbreviation: [5.8442] t\n",
        "  Removed abbreviation: [-6.9204] v\n",
        "  Abbreviation: [14.2517] r\n",
        "  Abbreviation: [2.9221] m\n",
        "  Abbreviation: [2.9221] n\n",
        "  Abbreviation: [1.4610] p\n",
        "  Abbreviation: [23.3767] k\n",
        "  Abbreviation: [4.3831] s\n",
        "  Sent Starter: [54.4574] u'he'\n",
        "  Collocation: [19.2912] u'v'+u'narayanaswamy'\n",
        "  Removed abbreviation: [0.0441] h\n",
        "  Abbreviation: [3.7013] h.s\n",
        "  Abbreviation: [1.6769] m\n",
        "  Removed abbreviation: [0.0441] s\n",
        "  Abbreviation: [1.6769] v\n",
        "  Collocation: [16.3440] u'h'+u's'\n",
        "  Collocation: [12.5455] u's'+u'sudhindra'\n",
        "  Removed abbreviation: [-13.3026] d"
       ]
      },
      {
       "output_type": "stream",
       "stream": "stdout",
       "text": [
        "\n",
        "  Removed abbreviation: [-13.3026] p\n",
        "  Removed abbreviation: [-6.6513] c\n",
        "  Removed abbreviation: [-3.3256] b\n",
        "  Removed abbreviation: [-6.6513] n\n",
        "  Removed abbreviation: [-16.6282] r\n",
        "  Removed abbreviation: [-9.9769] m\n",
        "  Abbreviation: [0.6804] etc\n",
        "  Abbreviation: [1.6150] t.s"
       ]
      },
      {
       "output_type": "stream",
       "stream": "stdout",
       "text": [
        "\n",
        "  Abbreviation: [1.6150] t.n\n",
        "  Abbreviation: [1.7904] j.d\n",
        "  Removed abbreviation: [-0.6182] pg\n",
        "  Removed abbreviation: [-3.3504] k"
       ]
      },
      {
       "output_type": "stream",
       "stream": "stdout",
       "text": [
        "\n",
        "  Abbreviation: [2.1935] p\n",
        "  Abbreviation: [2.1935] v\n",
        "  Removed abbreviation: [-3.3504] u\n",
        "  Sent Starter: [36.6297] u'according'\n",
        "  Sent Starter: [30.6307] u'other'\n",
        "  Abbreviation: [2.2095] p"
       ]
      },
      {
       "output_type": "stream",
       "stream": "stdout",
       "text": [
        "\n",
        "  Removed abbreviation: [-0.6143] dr\n",
        "  Removed abbreviation: [-1.2285] m.s\n",
        "  Removed abbreviation: [-0.0416] prof\n",
        "  Sent Starter: [58.1850] u'she'\n",
        "  Collocation: [9.5883] u'm'+u's'\n",
        "  Abbreviation: [0.8276] dr"
       ]
      },
      {
       "output_type": "stream",
       "stream": "stdout",
       "text": [
        "\n",
        "  Abbreviation: [2.2498] r\n",
        "  Removed abbreviation: [-6.7065] x\n",
        "  Abbreviation: [2.2498] p\n",
        "  Abbreviation: [0.3045] bce\n",
        "  Abbreviation: [1.6553] c.v\n",
        "  Abbreviation: [3.1282] m"
       ]
      },
      {
       "output_type": "stream",
       "stream": "stdout",
       "text": [
        "\n",
        "  Abbreviation: [0.8467] m.sc\n",
        "  Abbreviation: [4.6922] t\n",
        "  Abbreviation: [1.1508] v.v\n",
        "  Abbreviation: [0.4234] ph.d\n",
        "  Abbreviation: [12.5126] r\n",
        "  Abbreviation: [1.5641] h\n",
        "  Abbreviation: [1.1508] k.s\n",
        "  Abbreviation: [10.9486] k\n",
        "  Abbreviation: [3.1282] v\n",
        "  Abbreviation: [3.1282] n\n",
        "  Sent Starter: [49.0759] u'they'\n",
        "  Abbreviation: [1.6227] t\n",
        "  Abbreviation: [1.1939] m.v\n",
        "  Removed abbreviation: [-1.6806] r\n",
        "  Abbreviation: [1.6227] s\n",
        "  Abbreviation: [1.1939] t.r\n",
        "  Abbreviation: [1.2651] m.a\n",
        "  Abbreviation: [1.2651] d.k\n",
        "  Abbreviation: [1.2651] v.v\n",
        "  Abbreviation: [1.2651] dr\n",
        "  Abbreviation: [1.2651] t.n\n",
        "  Abbreviation: [1.7195] u\n",
        "  Abbreviation: [1.2651] m.s\n",
        "  Abbreviation: [3.4389] n\n",
        "  Abbreviation: [2.2062] g"
       ]
      },
      {
       "output_type": "stream",
       "stream": "stdout",
       "text": [
        "\n",
        "  Abbreviation: [4.4124] r\n",
        "  Abbreviation: [1.6232] c.s\n",
        "  Removed abbreviation: [-3.3510] s\n",
        "  Abbreviation: [4.4124] v\n",
        "  Abbreviation: [6.6186] k\n",
        "  Removed abbreviation: [-3.3510] t\n",
        "  Abbreviation: [2.2062] n\n",
        "  Abbreviation: [1.3546] a.g\n",
        "  Removed abbreviation: [-3.3261] r\n",
        "  Abbreviation: [0.4983] smt\n",
        "  Sent Starter: [36.7988] u'he'\n",
        "  Abbreviation: [1.6958] v.s\n",
        "  Removed abbreviation: [-13.4233] p\n",
        "  Abbreviation: [1.5310] b.a"
       ]
      },
      {
       "output_type": "stream",
       "stream": "stdout",
       "text": [
        "\n",
        "  Abbreviation: [1.5310] m.a\n",
        "  Abbreviation: [2.0809] e\n",
        "  Abbreviation: [6.2426] t\n",
        "  Abbreviation: [2.0809] b\n",
        "  Abbreviation: [0.7655] dr\n",
        "  Abbreviation: [0.5632] ph.d\n",
        "  Sent Starter: [70.2900] u'he'\n",
        "  Abbreviation: [0.9909] r.k\n",
        "  Abbreviation: [1.3468] l\n",
        "  Abbreviation: [1.3468] j\n",
        "  Abbreviation: [0.9909] dr\n",
        "  Abbreviation: [0.9909] t.v\n",
        "  Abbreviation: [2.6936] r\n",
        "  Abbreviation: [0.9909] t.n\n",
        "  Abbreviation: [1.3468] m\n",
        "  Abbreviation: [4.0404] t\n",
        "  Abbreviation: [6.7340] k\n",
        "  Abbreviation: [1.3468] s\n",
        "  Abbreviation: [2.6936] v\n",
        "  Abbreviation: [1.3468] n\n",
        "  Sent Starter: [32.4290] u'he'\n",
        "  Removed abbreviation: [-0.1506] smt"
       ]
      },
      {
       "output_type": "stream",
       "stream": "stdout",
       "text": [
        "\n",
        "  Removed abbreviation: [-3.3374] r\n",
        "  Abbreviation: [0.7295] dr\n",
        "  Abbreviation: [1.9829] n\n",
        "  Abbreviation: [3.9659] m\n",
        "  Abbreviation: [0.7295] so\n",
        "  Abbreviation: [1.9829] p\n",
        "  Abbreviation: [3.9659] k\n",
        "  Abbreviation: [1.9829] s\n",
        "  Abbreviation: [0.5367] kum\n",
        "  Abbreviation: [1.9829] v\n",
        "  Abbreviation: [2.1911] g\n",
        "  Abbreviation: [0.8061] dr\n",
        "  Abbreviation: [4.3823] m\n",
        "  Abbreviation: [2.1911] s\n",
        "  Removed abbreviation: [-0.6162] so\n",
        "  Abbreviation: [4.3823] r\n",
        "  Abbreviation: [2.1911] k\n",
        "  Abbreviation: [2.1911] d\n",
        "  Abbreviation: [2.1911] v\n",
        "  Removed abbreviation: [-0.1008] own\n",
        "  Abbreviation: [2.1911] n\n",
        "  Abbreviation: [2.1361] t"
       ]
      },
      {
       "output_type": "stream",
       "stream": "stdout",
       "text": [
        "\n",
        "  Abbreviation: [3.5035] i.e\n",
        "  Removed abbreviation: [-0.1799] pm\n",
        "  Abbreviation: [0.6444] etc\n",
        "  Abbreviation: [2.1859] s\n",
        "  Abbreviation: [2.1859] v\n",
        "  Abbreviation: [0.8042] mr\n",
        "  Abbreviation: [2.1859] p\n",
        "  Abbreviation: [2.1859] b\n",
        "  Abbreviation: [2.1859] n\n",
        "  Sent Starter: [32.4938] u'he'"
       ]
      },
      {
       "output_type": "stream",
       "stream": "stdout",
       "text": [
        "\n",
        "  Abbreviation: [2.0039] dr\n",
        "  Abbreviation: [1.3359] t.t\n",
        "  Abbreviation: [3.6314] s\n",
        "  Abbreviation: [1.8157] e\n",
        "  Abbreviation: [5.4471] r\n",
        "  Abbreviation: [0.6680] rs\n",
        "  Abbreviation: [5.4471] k\n",
        "  Abbreviation: [0.6680] mr\n",
        "  Abbreviation: [3.6314] c\n",
        "  Abbreviation: [3.6314] p\n",
        "  Abbreviation: [1.8157] v\n",
        "  Abbreviation: [1.8157] u\n",
        "  Abbreviation: [0.3616] y.m.i.a\n",
        "  Abbreviation: [3.6314] n\n",
        "  Abbreviation: [0.8295] uk"
       ]
      },
      {
       "output_type": "stream",
       "stream": "stdout",
       "text": [
        "\n",
        "  Removed abbreviation: [-1.2337] u.s\n",
        "  Abbreviation: [0.8295] ex\n",
        "  Abbreviation: [1.6591] i.e\n",
        "  Abbreviation: [1.5927] b.r\n",
        "  Abbreviation: [6.4942] k\n",
        "  Abbreviation: [2.1647] c\n",
        "  Abbreviation: [2.1647] p\n",
        "  Removed abbreviation: [-10.0465] d\n",
        "  Abbreviation: [6.4942] h\n",
        "  Abbreviation: [0.8789] etc\n",
        "  Abbreviation: [2.2883] c"
       ]
      },
      {
       "output_type": "stream",
       "stream": "stdout",
       "text": [
        "\n",
        "  Abbreviation: [0.8418] ni\n",
        "  Abbreviation: [0.8418] ca\n",
        "  Abbreviation: [1.8483] t\n",
        "  Abbreviation: [0.7504] h.a.s\n",
        "  Abbreviation: [1.8483] h\n",
        "  Abbreviation: [7.3930] c\n",
        "  Abbreviation: [1.8483] k\n",
        "  Abbreviation: [1.8483] s\n",
        "  Abbreviation: [0.7943] m2\n",
        "  Abbreviation: [0.5888] sri\n",
        "  Abbreviation: [0.8210] it"
       ]
      },
      {
       "output_type": "stream",
       "stream": "stdout",
       "text": [
        "\n",
        "  Abbreviation: [0.3020] day\n",
        "  Abbreviation: [0.3020] etc\n",
        "  Sent Starter: [50.2174] u'they'\n",
        "  Abbreviation: [1.5213] k.s\n",
        "  Removed abbreviation: [-0.1508] day\n",
        "  Abbreviation: [2.0677] r\n",
        "  Abbreviation: [1.5213] t.n\n",
        "  Abbreviation: [2.0677] p\n",
        "  Removed abbreviation: [-0.0673] it\n",
        "  Abbreviation: [7.6066] t.r\n",
        "  Abbreviation: [2.0677] v\n",
        "  Removed abbreviation: [-1.2299] b.m\n",
        "  Removed abbreviation: [-1.2754] t\n",
        "  Abbreviation: [4.1354] b\n",
        "  Abbreviation: [1.5213] b.g\n",
        "  Abbreviation: [0.7923] n\n",
        "  Abbreviation: [2.0722] t"
       ]
      },
      {
       "output_type": "stream",
       "stream": "stdout",
       "text": [
        "\n",
        "  Removed abbreviation: [-0.1508] sri\n",
        "  Abbreviation: [1.6242] e.g\n",
        "  Abbreviation: [0.8121] st\n",
        "  Removed abbreviation: [-3.3511] s\n",
        "  Abbreviation: [1.6242] i.e\n",
        "  Removed abbreviation: [-3.3329] k"
       ]
      },
      {
       "output_type": "stream",
       "stream": "stdout",
       "text": [
        "\n",
        "  Abbreviation: [1.6095] m.l\n",
        "  Abbreviation: [2.1027] l\n",
        "  Removed abbreviation: [-1.2307] s.k\n",
        "  Abbreviation: [4.2054] m\n",
        "  Abbreviation: [3.2894] m\n",
        "  Abbreviation: [1.6447] s\n",
        "  Abbreviation: [1.6447] e\n",
        "  Abbreviation: [2.1192] k\n",
        "  Abbreviation: [0.7796] iv\n",
        "  Abbreviation: [5.6927] d"
       ]
      },
      {
       "output_type": "stream",
       "stream": "stdout",
       "text": [
        "\n",
        "  Removed abbreviation: [-3.3309] n\n",
        "  Abbreviation: [5.6927] k\n",
        "  Removed abbreviation: [-0.6150] ni\n",
        "  Abbreviation: [0.3239] etc\n",
        "  Abbreviation: [0.3239] set\n",
        "  Abbreviation: [1.3858] k.b\n",
        "  Removed abbreviation: [-10.0465] d\n",
        "  Removed abbreviation: [-6.6976] p\n",
        "  Removed abbreviation: [-10.0465] g\n",
        "  Removed abbreviation: [-13.3953] s\n",
        "  Removed abbreviation: [-10.0465] r\n",
        "  Removed abbreviation: [-10.0465] m\n",
        "  Abbreviation: [2.0654] t"
       ]
      },
      {
       "output_type": "stream",
       "stream": "stdout",
       "text": [
        "\n",
        "  Abbreviation: [1.5196] e.g\n",
        "  Abbreviation: [2.0654] r\n",
        "  Abbreviation: [2.0654] k\n",
        "  Abbreviation: [1.6584] d\n",
        "  Abbreviation: [1.6584] s\n",
        "  Abbreviation: [3.6605] v.v\n",
        "  Abbreviation: [1.2202] dr\n",
        "  Abbreviation: [1.6584] m\n",
        "  Abbreviation: [0.6733] u.s.a\n",
        "  Abbreviation: [1.2202] v.r\n",
        "  Abbreviation: [1.6584] k\n",
        "  Abbreviation: [13.2670] v\n",
        "  Abbreviation: [0.7259] it\n",
        "  Sent Starter: [43.9962] u'she'"
       ]
      },
      {
       "output_type": "stream",
       "stream": "stdout",
       "text": [
        "\n",
        "  Abbreviation: [0.7941] vid\n",
        "  Removed abbreviation: [-3.6297] v\n",
        "  Removed abbreviation: [-0.6960] k\n",
        "  Abbreviation: [2.9337] r\n",
        "  Removed abbreviation: [-3.2817] m\n",
        "  Collocation: [14.2938] u'k'+u'padmanabha'\n",
        "  Collocation: [8.8411] u'k'+u'v'\n",
        "  Collocation: [9.7259] u'v'+u'krishna'\n",
        "  Abbreviation: [3.0164] dr\n",
        "  Abbreviation: [6.1496] m\n",
        "  Abbreviation: [6.1496] l\n",
        "  Abbreviation: [2.0499] r\n",
        "  Abbreviation: [2.0499] k\n",
        "  Abbreviation: [2.0499] d\n",
        "  Removed abbreviation: [-0.1508] set\n",
        "  Abbreviation: [0.7541] un\n",
        "  Abbreviation: [8.1995] v\n",
        "  Removed abbreviation: [-0.6147] al\n",
        "  Abbreviation: [0.4082] m.b.b.s\n",
        "  Sent Starter: [56.6696] u'he'\n",
        "  Abbreviation: [0.6761] it\n",
        "  Abbreviation: [1.8377] t\n",
        "  Removed abbreviation: [-0.6155] ms"
       ]
      },
      {
       "output_type": "stream",
       "stream": "stdout",
       "text": [
        "\n",
        "  Removed abbreviation: [-3.3462] s\n",
        "  Removed abbreviation: [-0.3077] it\n",
        "  Removed abbreviation: [-3.3462] m\n",
        "  Abbreviation: [1.7533] t\n",
        "  Abbreviation: [1.2900] k.v\n",
        "  Abbreviation: [1.7533] r\n",
        "  Abbreviation: [1.2900] m.k\n",
        "  Removed abbreviation: [-0.6103] uk\n",
        "  Abbreviation: [1.7533] c\n",
        "  Abbreviation: [0.6450] mr\n",
        "  Abbreviation: [1.7533] s\n",
        "  Abbreviation: [1.7533] v\n",
        "  Abbreviation: [2.0591] g\n",
        "  Abbreviation: [1.5150] i.e\n",
        "  Removed abbreviation: [-22.6221] s\n",
        "  Removed abbreviation: [-0.6148] m2\n",
        "  Abbreviation: [2.0591] n\n",
        "  Collocation: [10.0118] u's'+u'kalyanaraman'\n",
        "  Abbreviation: [3.7406] s\n"
       ]
      }
     ],
     "prompt_number": 13
    },
    {
     "cell_type": "code",
     "collapsed": false,
     "input": [
      "for i in xrange(len(all_sentences)):\n",
      "    all_sentences[i] = all_sentences[i].strip()\n",
      "    if \"\\n\" in all_sentences[i]:\n",
      "        parts = [(part, len(part)) for part in all_sentences[i].split(\"\\n\")]\n",
      "        parts = sorted(parts, key=lambda x: x[1], reverse=True)\n",
      "        all_sentences[i] = parts[0][0]"
     ],
     "language": "python",
     "metadata": {},
     "outputs": [],
     "prompt_number": 18
    },
    {
     "cell_type": "code",
     "collapsed": false,
     "input": [
      "s_file = codecs.open(\"../data/content-analysis/carnatic_music/carnatic_music.sentences\", \"w\", \"utf-8\")\n",
      "all_sentences = [i+\"\\n\" for i in all_sentences]\n",
      "s_file.writelines(all_sentences)\n",
      "s_file.close()"
     ],
     "language": "python",
     "metadata": {},
     "outputs": [],
     "prompt_number": 22
    },
    {
     "cell_type": "heading",
     "level": 2,
     "metadata": {},
     "source": [
      "Parsing the xml output from stanford-corenlp"
     ]
    },
    {
     "cell_type": "code",
     "collapsed": false,
     "input": [
      "tree = ET.parse('../data/content-analysis/carnatic_music/stanford-nlp-output/bhavapriya.xml')"
     ],
     "language": "python",
     "metadata": {},
     "outputs": [],
     "prompt_number": 3
    },
    {
     "cell_type": "code",
     "collapsed": false,
     "input": [
      "root = tree.getroot()\n",
      "sentences = []\n",
      "for s in root.iter('sentence'):\n",
      "    "
     ],
     "language": "python",
     "metadata": {},
     "outputs": []
    }
   ],
   "metadata": {}
  }
 ]
}