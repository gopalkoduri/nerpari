{
 "metadata": {
  "name": ""
 },
 "nbformat": 3,
 "nbformat_minor": 0,
 "worksheets": [
  {
   "cells": [
    {
     "cell_type": "heading",
     "level": 1,
     "metadata": {},
     "source": [
      "Trust propagation algorithm for cleaning graphs"
     ]
    },
    {
     "cell_type": "code",
     "collapsed": false,
     "input": [
      "from __future__ import division\n",
      "\n",
      "import graph_tool.all as gt\n",
      "import networkx as nx\n",
      "import community as c\n",
      "import pickle\n",
      "from pylab import *\n",
      "\n",
      "%matplotlib tk\n",
      "rcParams['figure.figsize'] = 16, 12"
     ],
     "language": "python",
     "metadata": {},
     "outputs": [],
     "prompt_number": 1
    },
    {
     "cell_type": "code",
     "collapsed": false,
     "input": [
      "annotations = pickle.load(file('/homedtic/gkoduri/workspace/relation-extraction/data/annotations.pickle'))"
     ],
     "language": "python",
     "metadata": {},
     "outputs": [],
     "prompt_number": 2
    },
    {
     "cell_type": "code",
     "collapsed": false,
     "input": [
      "fname = '/homedtic/gkoduri/workspace/relation-extraction/data/carnatic_music_hyperlinks.graphml'\n",
      "nx_g = nx.read_graphml(fname, node_type=unicode)\n",
      "print nx_g.number_of_nodes(), nx_g.number_of_edges()"
     ],
     "language": "python",
     "metadata": {},
     "outputs": [
      {
       "output_type": "stream",
       "stream": "stdout",
       "text": [
        "1115 6508\n"
       ]
      }
     ],
     "prompt_number": 3
    },
    {
     "cell_type": "markdown",
     "metadata": {},
     "source": [
      "##Simple trust propagation in hyperlink graph\n",
      "The method is as follows:\n",
      "\n",
      "* Start with a labelled set of nodes selected by inverse page rank.\n",
      "* Assign a trust of 1 to carnatic nodes, -1 to non-carnatic nodes.\n",
      "* Set a threshold on how far you would like to propagate this trust from each node (**parameter: distance**)\n",
      "* Propagate by\n",
      "    * Dampening (should be good with sparse network)\n",
      "    * Splitting (should be good with dense network)\n",
      "    * An interplay of both\n",
      "* Classify the nodes by summing up all the propagations each node received."
     ]
    },
    {
     "cell_type": "markdown",
     "metadata": {},
     "source": [
      "###Select a set of nodes based on inverse pagerank"
     ]
    },
    {
     "cell_type": "code",
     "collapsed": false,
     "input": [
      "rev_g = nx_g.reverse(copy=True)"
     ],
     "language": "python",
     "metadata": {},
     "outputs": []
    },
    {
     "cell_type": "code",
     "collapsed": false,
     "input": [
      "inv_pageranks = nx.pagerank(rev_g)\n",
      "inv_pageranks = inv_pageranks.items()\n",
      "inv_pageranks = sorted(inv_pageranks, key=lambda x:x[1], reverse=True)"
     ],
     "language": "python",
     "metadata": {},
     "outputs": []
    },
    {
     "cell_type": "code",
     "collapsed": false,
     "input": [
      "selected_nodes = [i[0] for i in inv_pageranks[:70]]"
     ],
     "language": "python",
     "metadata": {},
     "outputs": []
    },
    {
     "cell_type": "code",
     "collapsed": false,
     "input": [
      "pos = [i for i in selected_nodes if annotations[i] == \"carnatic\"]\n",
      "neg = [i for i in selected_nodes if annotations[i] != \"carnatic\"]\n",
      "\n",
      "print len(pos), len(neg)"
     ],
     "language": "python",
     "metadata": {},
     "outputs": []
    },
    {
     "cell_type": "markdown",
     "metadata": {},
     "source": [
      "###Select a set of nodes based on eigenvector centrality"
     ]
    },
    {
     "cell_type": "code",
     "collapsed": false,
     "input": [
      "centralities = nx.eigenvector_centrality(nx_g)"
     ],
     "language": "python",
     "metadata": {},
     "outputs": []
    },
    {
     "cell_type": "markdown",
     "metadata": {},
     "source": [
      "####A detour to check how good eigenvector centralities are to classify"
     ]
    },
    {
     "cell_type": "code",
     "collapsed": false,
     "input": [
      "neg = [i for i in annotations if annotations[i] != \"carnatic\"]\n",
      "pos = [i for i in annotations if annotations[i] == \"carnatic\"]"
     ],
     "language": "python",
     "metadata": {},
     "outputs": []
    },
    {
     "cell_type": "code",
     "collapsed": false,
     "input": [
      "from __future__ import division\n",
      "\n",
      "eig_limits = np.arange(0.00001, 0.01, 0.00003)\n",
      "neg_n = []\n",
      "neg_p = []\n",
      "pos_n = []\n",
      "pos_p = []\n",
      "\n",
      "for eig_limit in eig_limits:\n",
      "    nbunch = [n for n,v in centralities if v < eig_limit]\n",
      "    neg_n.append(len(set(neg).intersection(nbunch))/len(neg))\n",
      "    neg_p.append(len(set(neg).intersection(nbunch))/len(nbunch))\n",
      "    pos_n.append(len(set(pos).intersection(nbunch))/len(pos))\n",
      "    pos_p.append(len(set(pos).intersection(nbunch))/len(nbunch))"
     ],
     "language": "python",
     "metadata": {},
     "outputs": []
    },
    {
     "cell_type": "code",
     "collapsed": false,
     "input": [
      "plot(eig_limits, neg_p, label=\"neg_p\")\n",
      "plot(eig_limits, neg_n, label=\"neg_n\")\n",
      "plot(eig_limits, pos_p, label=\"pos_p\")\n",
      "plot(eig_limits, pos_n, label=\"pos_n\")\n",
      "legend()"
     ],
     "language": "python",
     "metadata": {},
     "outputs": []
    },
    {
     "cell_type": "code",
     "collapsed": false,
     "input": [
      "centralities = centralities.items()\n",
      "centralities = sorted(centralities, key=lambda x:x[1], reverse=True)\n",
      "selected_nodes = [i[0] for i in centralities[:60]]"
     ],
     "language": "python",
     "metadata": {},
     "outputs": []
    },
    {
     "cell_type": "code",
     "collapsed": false,
     "input": [
      "pos = [i for i in selected_nodes if annotations[i] == \"carnatic\"]\n",
      "neg = [i for i in selected_nodes if annotations[i] != \"carnatic\"]\n",
      "\n",
      "print len(pos), len(neg)"
     ],
     "language": "python",
     "metadata": {},
     "outputs": []
    },
    {
     "cell_type": "code",
     "collapsed": false,
     "input": [
      "def propagate_trust(g, src_bunch, method=\"basic\", damp_factor=0.85, split_with=\"num_edges\", clean_g=nx_g):\n",
      "    \"\"\"\n",
      "    Propagates trust from a given set of nodes to their neighbors.\n",
      "    The function expects the properties 'trust' defined on all src_bunch.\n",
      "    It returns the modified graph and those set of nodes which are assigned\n",
      "    trust during this execution/iteration.\n",
      "    \n",
      "    Methods available:\n",
      "    \n",
      "    basic: It propagates the trust value of the src node to it's neighbor \n",
      "    without modification. An average of the total sum received at the \n",
      "    destination node becomes its trust score.\n",
      "    \n",
      "    dampening: It propagates the trust value of the src node to it's neighbor\n",
      "    by dampening the trust by a given damp_factor. An average of the total sum \n",
      "    received at the destination node becomes its trust score.\n",
      "    \n",
      "    splitting: It propagates the trust value of the src node to it's neighbor\n",
      "    by splitting the trust among the neighbors. The split can be based on the absolute\n",
      "    number of out edges, or their weights (split_with argument can num_edges/weights).\n",
      "    An average of the total sum received at the destination node becomes its trust score.\n",
      "    \n",
      "    \"\"\"\n",
      "    fresh_bunch = set()\n",
      "    \n",
      "    for src in src_bunch:\n",
      "        if \"trust\" not in g[src].keys():\n",
      "            print src, \"has no trust assigned.\"\n",
      "            continue\n",
      "            \n",
      "        neighbors = [i[1] for i in clean_g.out_edges(src)]\n",
      "        if len(neighbors) == 0:\n",
      "            print src, \"does not have out going edges.\"\n",
      "            continue\n",
      "        \n",
      "        fresh_bunch = fresh_bunch.union(neighbors)\n",
      "        #To avoid recomputing over and again...\n",
      "        if method == \"splitting\" and split_with == \"num_edges\":\n",
      "            trust_share = g[src][\"trust\"]/len(neighbors)\n",
      "        \n",
      "        for dest in neighbors:\n",
      "            if method == \"basic\":\n",
      "                if \"trust\" in g[dest].keys():\n",
      "                    g[dest][\"trust\"] += g[src][\"trust\"]\n",
      "                    g[dest][\"trust\"] /= 2.0\n",
      "                else:\n",
      "                    g[dest][\"trust\"] = g[src][\"trust\"]\n",
      "                        \n",
      "            elif method == \"dampening\":\n",
      "                if \"trust\" in g[dest].keys():\n",
      "                    g[dest][\"trust\"] += g[src][\"trust\"]*damp_factor\n",
      "                    g[dest][\"trust\"] /= 2.0\n",
      "                else:\n",
      "                    g[dest][\"trust\"] = g[src][\"trust\"]*damp_factor\n",
      "                \n",
      "            elif method == \"splitting\":\n",
      "                if method == \"splitting\" and split_with == \"weights\":\n",
      "                    trust_share = g[src][\"trust\"]*g[src][dest][\"weight\"]\n",
      "                    \n",
      "                if \"trust\" in g[dest].keys():\n",
      "                    g[dest][\"trust\"] += trust_share\n",
      "                    g[dest][\"trust\"] /= 2.0\n",
      "                else:\n",
      "                    g[dest][\"trust\"] = trust_share\n",
      "                \n",
      "            elif method == \"hybrid\":\n",
      "                pass\n",
      "            else:\n",
      "                print \"Method not implemented\"\n",
      "                return\n",
      "    \n",
      "    return g, fresh_bunch"
     ],
     "language": "python",
     "metadata": {},
     "outputs": []
    },
    {
     "cell_type": "code",
     "collapsed": false,
     "input": [
      "g = nx_g.copy()\n",
      "\n",
      "for src in selected_nodes:\n",
      "    if annotations[src] == \"carnatic\":\n",
      "        g[src][\"trust\"] = 1\n",
      "    else:\n",
      "        g[src][\"trust\"] = -1"
     ],
     "language": "python",
     "metadata": {},
     "outputs": []
    },
    {
     "cell_type": "code",
     "collapsed": false,
     "input": [
      "num_iter = 3\n",
      "fresh_bunch = selected_nodes\n",
      "for i in xrange(num_iter):\n",
      "    print i, len(fresh_bunch)\n",
      "    g, fresh_bunch = propagate_trust(g, fresh_bunch, method=\"dampening\", damp_factor=0.85)\n",
      "    "
     ],
     "language": "python",
     "metadata": {},
     "outputs": []
    },
    {
     "cell_type": "code",
     "collapsed": false,
     "input": [
      "trusts = [g[node][\"trust\"] for node in nodes if \"trust\" in g[node].keys()]\n",
      "res = hist(trusts, bins=1000)"
     ],
     "language": "python",
     "metadata": {},
     "outputs": []
    },
    {
     "cell_type": "code",
     "collapsed": false,
     "input": [
      "good_nodes = []\n",
      "bad_nodes = []\n",
      "orphans = []\n",
      "for n in g.nodes():\n",
      "    if \"trust\" in g[n].keys():\n",
      "        if g[n][\"trust\"] > 0:\n",
      "            good_nodes.append(n)\n",
      "        else:\n",
      "            bad_nodes.append(n)\n",
      "    else:\n",
      "        orphans.append(n)\n",
      "print len(selected_nodes), len(good_nodes), len(bad_nodes), len(orphans)\n",
      "good_nodes"
     ],
     "language": "python",
     "metadata": {},
     "outputs": []
    },
    {
     "cell_type": "code",
     "collapsed": false,
     "input": [
      "tp = 0\n",
      "tn = 0\n",
      "fp = 0\n",
      "fn = 0\n",
      "\n",
      "for n in good_nodes:\n",
      "    if n in annotations.keys():\n",
      "        if annotations[n] == \"carnatic\":\n",
      "            tp += 1\n",
      "        else:\n",
      "            fp += 1\n",
      "\n",
      "for n in bad_nodes + orphans:\n",
      "    if n in annotations.keys():\n",
      "        if annotations[n] != \"carnatic\":\n",
      "            tn += 1\n",
      "        else:\n",
      "            fn += 1\n",
      "\n",
      "precision = tp/(tp+fp)\n",
      "recall = tp/(tp+fn)\n",
      "f_measure = 2*tp/(2*tp+fp+fn)\n",
      "print precision, recall, f_measure\n",
      "print tn/(tn+fn)"
     ],
     "language": "python",
     "metadata": {},
     "outputs": []
    },
    {
     "cell_type": "markdown",
     "metadata": {},
     "source": [
      "##Community analysis with a seed set\n",
      "\n",
      "**_Remarks: Works well!_**\n",
      "\n",
      "**Method:**\n",
      "\n",
      "* Build a hyperlink graph\n",
      "* Label a seed set of nodes whether they are carnatic or non-carnatic\n",
      "* Perform community-analysis on the undirected version of the graph and keep the big ones\n",
      "* Note the ochiai-coefficients of each community with the carnatic and non-carnatic labeled sets\n",
      "* Classify the communities into carnatic and non-carnatic sets"
     ]
    },
    {
     "cell_type": "code",
     "collapsed": false,
     "input": [
      "fname = '/homedtic/gkoduri/workspace/relation-extraction/data/carnatic_hyperlinks.graphml'\n",
      "nx_g = nx.read_graphml(fname, node_type=unicode)\n",
      "print nx_g.number_of_nodes(), nx_g.number_of_edges()"
     ],
     "language": "python",
     "metadata": {},
     "outputs": []
    },
    {
     "cell_type": "code",
     "collapsed": false,
     "input": [
      "g = nx_g.to_undirected()\n",
      "dendogram = c.generate_dendogram(g)\n",
      "#partition = c.best_partition(g)\n",
      "partition = c.partition_at_level(dendogram, 0)\n",
      "print len(np.unique(partition.values()))"
     ],
     "language": "python",
     "metadata": {},
     "outputs": [
      {
       "output_type": "stream",
       "stream": "stdout",
       "text": [
        "89\n"
       ]
      }
     ],
     "prompt_number": 10
    },
    {
     "cell_type": "code",
     "collapsed": false,
     "input": [
      "categories = {}\n",
      "min_com_size = 10\n",
      "\n",
      "for com in set(partition.values()) :\n",
      "    list_nodes = [nodes for nodes in partition.keys()\n",
      "                                if partition[nodes] == com]\n",
      "\n",
      "    if len(list_nodes) > min_com_size:\n",
      "        categories[com] = list_nodes\n",
      "        print com, len(list_nodes)\n",
      "        print"
     ],
     "language": "python",
     "metadata": {},
     "outputs": [
      {
       "output_type": "stream",
       "stream": "stdout",
       "text": [
        "1 97\n",
        "\n",
        "3 221\n",
        "\n",
        "5 160\n",
        "\n",
        "6 12\n",
        "\n",
        "7 24\n",
        "\n",
        "8 135\n",
        "\n",
        "10 26\n",
        "\n",
        "11 12\n",
        "\n",
        "13 11\n",
        "\n",
        "15 21\n",
        "\n",
        "17 49\n",
        "\n",
        "19 21\n",
        "\n",
        "21 14\n",
        "\n",
        "27 17\n",
        "\n",
        "29 18\n",
        "\n",
        "30 40\n",
        "\n"
       ]
      }
     ],
     "prompt_number": 13
    },
    {
     "cell_type": "code",
     "collapsed": false,
     "input": [
      "for com, nbunch in categories.items():\n",
      "    print com, len(nbunch), nbunch[:100]\n",
      "    print"
     ],
     "language": "python",
     "metadata": {},
     "outputs": [
      {
       "output_type": "stream",
       "stream": "stdout",
       "text": [
        "1 97 [u'the blast (album)', u'anthimanthaarai', u'n. c. karunya', u't. k. ramamoorthy', u'c. r. subburaman', u'marudhanayagam', u'kadal (soundtrack)', u'shweta mohan', u'mano (singer)', u'chola nadu', u'nandhavana theru', u'yuvan shankar raja', u'm. s. subbulakshmi', u'tyagayya (1946 film)', u'mamta mohandas', u'bazaar-e-husn', u'karaikudi sambasiva iyer', u'sirkazhi govindarajan', u'bhavadhaarini', u'charumathi ramachandran', u'annakili', u'p. leela', u'rajan-nagendra', u'nandanar (1935 film)', u'sangamam', u'g. ramanathan', u'karthik raja', u'madanakamarajan', u'alphons joseph', u'sowmya raoh', u'kaviyoor revamma', u'ponvayal', u'naresh iyer', u'vijay prakash', u'vijaya bhaskar', u'kalki krishnamurthy', u'ilaiyaraaja', u'u. r. jeevarathinam', u'pragathi guruprasad', u'karthik (singer)', u'd. k. pattammal', u't. g. lingappa', u'soolamangalam sisters', u'haricharan', u'varumayin niram sivappu', u'ramesh vinayakam', u'papanasam sivan', u'm. k. thyagaraja bhagavathar', u't s radhakrishnan', u's. rajeswara rao', u'sharanya srinivas', u'mahathi', u't. r. rajakumari', u'vani jairam', u'vyjayanthimala', u'veturi sundararama murthy', u'ranjani-gayatri', u'k. balachander', u'national institute of technology, tiruchirappalli', u'introducing a. r. rahman', u'kishore kumar', u's. d. subbulakshmi', u'chandralekha (1948 film)', u's. v. venkatraman', u'music of tamil nadu', u's. janaki', u'filmi', u's. p. balasubrahmanyam', u'f. g. natesa iyer', u'kanda naal mudhal', u'works of c. rajagopalachari', u'megha (singer)', u'viswanathan\\u2013ramamoorthy', u'devi sri prasad', u'harris jayaraj', u'sriram parthasarathy', u'airtel super singer junior', u'chinmayi', u'susarla dakshinamurthi', u'm. s. viswanathan', u'radha jayalakshmi', u'kizhakku vasal', u'm. l. vasanthakumari', u'santha p. nair', u'unnal mudiyum thambi', u'tiruchirappalli', u'en swasa kaatre', u'mankatha (soundtrack)', u'a. r. rahman', u't. nagar', u'kurai onrum illai', u'gemini ganesan', u't. m. soundararajan', u'kodambakkam, chennai', u'a. m. rajah', u'p. susheela', u'magnasound']\n",
        "\n",
        "3 221 [u'dhanyasi', u'adi tala', u'aman ali khan', u'chakkani rajamargamu', u'vasu', u'subbarama dikshitar', u'bhairavi (carnatic)', u'devadasu', u'madhuvanti', u'madhyamavati', u'manachanallur giridharan', u'samay', u'sargam (music)', u'james vasanthan', u'shree ragam', u'rakes of mallow', u'sampurna raga', u'saveri', u'hindolam', u'yagapriya', u'g. j. r. krishnan', u'atana', u'kalpanaswaram', u'list of janya ragas', u'manavati', u'simhendramadhyamam', u'charukesi', u'namanarayani', u'niroshta', u'sankarabharanam', u'gavambhodi', u'pann', u'pharaju', u'shubhapantuvarali', u'carnatic music', u'v.r. raghava krishna', u'nagasvaravali', u'chandra', u'malayamarutam', u'gamanashrama', u'hungarian gypsy scale', u'lalgudi vijayalakshmi', u'shree ranjani', u'yadukulakamboji', u'navaneetam', u'graha bhedam', u'sarasangi', u'swara', u'sucharitra', u'kapi (raga)', u'bhairavi (hindustani)', u'god save the queen', u'melakarta', u'suresh talwalkar', u'asampurna melakarta', u'khamas (raga)', u'agnee', u'shruti (music)', u'jalarnavam', u'gangeyabhushani', u'anandabhairavi', u'shanmukhapriya', u'akkarai subhalakshmi', u'vachaspati (raga)', u'udayaravichandrika', u'valaji', u'hayden chisholm', u'rishi', u'svaramelakalanidhi', u'abhogi', u'bilahari', u'varunapriya', u'vishnu narayan bhatkhande', u'visalakshi nityanand', u'jyoti swarupini', u'kamalamba navavarna kritis', u'dheerasankarabharanam', u'nasikabhushani', u'sahiti g', u'navaragamalika', u'salaga bhairavi', u'kanakangi', u'list of carnatic music treatises', u'bhavapriya', u'raghupriya', u'kantamani', u'bhupalam', u'chalanata', u'darbari kanada', u'kirwani', u'chakravakam (raga)', u'kalavati', u'gourimanohari', u'suryakantam', u'ottu (instrument)', u'shahana', u'sahana (raga)', u'raga bhoopeshwari', u'muthuswami dikshitar', u'tanarupi']\n",
        "\n",
        "5 160 [u'vijayanagara musicological nonet', u'culture of mysore', u'saroja vaidyanathan', u'gangubai hangal', u'vanaja (film)', u'south india', u'abdul karim khan', u'music', u'karur', u'history of india', u'mallika srinivasan', u'western chalukya literature in kannada', u'tarangini (music)', u'mysore literature in kannada', u'culture of india', u'musicians of the kingdom of mysore', u'mallikarjun mansur', u'sikh music', u'krishna ni begane baaro', u'kuchipudi', u'yakshagana', u'muhammad shah', u'parthasarathy (parthu)', u'vidyabhushana', u'aurangzeb', u'vijayanagara empire', u'index of india-related articles', u'madurai', u'haridasa', u'navakoti narayana', u'kerala natanam', u'2010 commonwealth games opening ceremony', u'culture of bangalore', u'k. n. kesari', u'nandini muthuswamy', u'art and culture of karnataka', u'rudrabhatta', u'bhimsen joshi', u'odissi music', u'rayalaseema', u'achyuta deva raya', u'subramanya bharathi', u'list of carnatic instrumentalists', u'karnataka', u'amruthavarshini', u'history of tamil nadu', u'krishna raja wadiyar iv', u'list of pre-modern great powers', u'bagalkot district', u'purandara dasa', u'political history of medieval karnataka', u'praveen d rao', u'garimella balakrishna prasad', u'madras presidency', u'c. rajagopalachari', u'carnatic region', u'telugu poetry', u'indian literature', u'kirtan', u'vyasatirtha', u'harmony', u'dance in india', u'kannada language', u'tourism in tamil nadu', u'pandit venkatesh kumar', u'tourism in karnataka', u'list of fm radio stations in bangalore', u'indian people', u'pappu venugopala rao', u'basavaraj rajguru', u'sawai gandharva bhimsen festival', u'karnataka rajyotsava', u'malladihalli sri raghavendra swamiji', u'eastern fare music foundation', u'pandit s. ballesh', u'bangalore', u'france\\u2013india relations', u'vijaya dasa', u'tirunelveli', u'tamil people', u'annamacharya', u'music of india', u'hinduism in tamil nadu', u'odisha', u'andhra pradesh', u'bangalore nagarathnamma', u'kallidaikurichi', u'k. thavamani devi', u'linguistic history of the indian subcontinent', u'konerirajapuram vaidyanatha ayyar', u'jayachamarajendra wadiyar', u'vijayanagara literature in kannada', u'south west india', u'vithoba', u'theatre of india', u'society of the kingdom of mysore', u'pravin godkhindi', u'tirumala venkateswara temple', u'rallapalli ananta krishna sharma', u'kannada poetry']\n",
        "\n",
        "6 12 [u'tyagaraja', u'ram nam', u'papanasa mudaliar', u'kovur sundareswarar temple', u'giriraja kavi', u'mysore vasudevachar', u'pallavi seshayyar', u'melharmony', u'kalpakam swaminathan', u'broche varevaru ra', u'mysore (disambiguation)', u'mysore sadasiva rao']\n",
        "\n",
        "7 24 [u'devulapalli krishnasastri', u'south indian cultural association, indore', u'india', u'gaana.com', u'delhi p. sunder rajan', u'indiramma iyengar', u'janardhan mitta', u'shrutinandan', u'toby wren', u'damodar hota', u'music of malaysia', u'kodandera madappa cariappa', u'maharaja sayajirao university of baroda', u'institute of chartered accountants of india', u'anitha shaiq', u'vidya shah', u'thenral', u'rajee narayan', u\"st.joseph's school, trichy\", u'indo-caribbean american', u'sri rajarajeswari peetam', u'parampara series \\u2013 andhri', u'sankardev', u'thamil isai kalaamanram']\n",
        "\n",
        "8 135 [u'hamsika iyer', u'katcheri', u'mysore brothers', u'national indian music competition', u'vellore a. r. srinivasan', u'alathur venkatesa iyer', u'balabhaskar', u'chembai', u'concerts of chembai', u'tyagaraja aradhana', u'm. balamuralikrishna', u'hamsageethe', u'dakshinamurthy pillai', u'sangeetha kalanidhi', u'a. k. c. natarajan', u'a. v. anand', u'trichur v. ramachandran', u'konnakol', u's. r. janakiraman', u't. v. sankaranarayanan', u'ghatam', u'tirukkodikaval krishna iyer', u'r. suryaprakash', u'mysore manjunath', u'awards of chembai', u'ariyakudi ramanuja iyengar', u'shakti (band)', u'sangeet natak akademi fellowship', u'salem k. meera', u'madurai mani iyer', u'mridangam', u't. n. krishnan', u'miguel frasconi', u'ganesh and kumaresh', u'thetakudi harihara vinayakram', u'palghat r. raghu', u'v. selvaganesh', u'jamey haddad', u'violin', u'paul poovathingal', u'chingleput ranganathan', u'alathur brothers', u'ambi subramaniam', u'srimushnam v. raja rao', u'sikkil r. bhaskaran', u'vedavalli', u'pattu rajagopalan', u'kanjira', u'm. k. rocksamy', u'morsing', u'k. v. narayanaswamy', u'jon b. higgins', u'ghatam udupa', u'thiruvarur bakthavathsalam', u'palani subramaniam pillai', u'subbudu', u'h. ramakrishnan', u'karaikudi mani', u'v. v. ravi', u'madras music academy', u'endaro mahanubhavulu', u'n. c. vasanthakokilam', u'elu suttina kote', u'john mclaughlin (musician)', u'manakkal rangarajan', u'shankar mahadevan', u'sangeetha kalasikhamani', u'palghat mani iyer', u'sivamani', u'parupalli ramakrishnayya pantulu', u'sundaram balachander', u'rajkumar bharathi', u'mannargudi easwaran', u'mavelikkara s. r. raju', u'semmangudi srinivasa iyer', u't. v. gopalakrishnan', u'mukul shivputra', u'lalitha sivakumar', u'bangalore gayana samaja', u'm. narmadha', u'm. s. gopalakrishnan', u'thetakudi harihara subash chandran', u'john kruth', u'musiri subramania iyer', u'arun luthra', u'muthiah bhagavatar', u'lalgudi jayaraman', u'madurai t. srinivasan', u'b. sasikumar', u'tambourine', u'shri (musician)', u's. somasundaram', u'm. d. ramanathan', u'ramanathapuram c s murugabhoopathy', u'malgudi days (tv series)', u'l. vaidyanathan', u'veena venkatagiriyappa', u'radha viswanathan', u'periyasaamy thooran', u'azhagianambi pillai']\n",
        "\n",
        "10 26 [u'sthai', u'sahityam', u'chakra tanam', u'chitta swara', u'glossary of carnatic music', u'sopana sangeetham', u'swarajati', u'manodharma', u'performances of carnatic music', u'tillana', u'anupallavi', u'geetam', u'haridasas and carnatic music', u'ugabhoga', u'narayana ninna namada', u'viruttam', u'charanam', u'tanam', u'puranam purushottama sastri', u'ragam thanam pallavi', u'niraval', u'raghuvamsa sudha', u'kriti', u'varnam', u'telugu literature', u'pallavi']\n",
        "\n",
        "11 12 [u'palghat srirama bhagavathar', u'serfoji ii', u'thanjavur quartet', u'sadasiva brahmendra', u'manambuchavadi venkatasubbayyar', u'anai ayya brothers', u'isai velalar', u'manambuchavadi', u'thanjavur', u'maha vaidyanatha iyer', u'tanjore district (madras presidency)', u'nallan chakravartula krishnamacharyulu']\n",
        "\n",
        "13 11 [u'antara (music)', u'kanada (raga group)', u'machas with attitude', u's. a. k. durga', u'whole tone scale', u'raaga.com', u'hindustani classical music', u'murki', u'rasika', u'drone music', u'tarana']\n",
        "\n",
        "15 21 [u'chennai', u'rishi valley school', u'madras music season', u'ranjith (singer)', u't. n. sivakumar', u'justin mccarthy (dancer)', u'shakthisree gopalan', u'alladi ramakrishnan', u'prapancham sitaram', u'continuum fingerboard', u'triplicane', u'sujatha rangarajan', u'jaysri-jeyaraaj', u\"st. george's cathedral, chennai\", u'enthiran (soundtrack)', u'economy of chennai', u'miss malini', u'k. bhaskaran', u'rose muralikrishnan', u'n. murali', u'national public school, chennai']\n",
        "\n",
        "17 49 [u'margazhi raagam', u'bansuri', u'patri satish kumar', u'd. k. jayaraman', u'joi srivastava', u'dharmadasa walpola', u'gayathri venkataraghavan', u'flute', u'n. ramani', u'nagai muralidharan', u'amutham music', u'rudrapatna', u't. m. krishna', u'r. k. shriramkumar', u'thiagarajan ramani', u'priya sisters', u'venu (disambiguation)', u'bombay jayashri', u'k. v. krishna prasad', u'nithyasree mahadevan', u'neyyattinkara vasudevan', u'shashank subramanyam', u's. ramanathan', u'thrissur c. rajendran', u'avaneeswaram s r vinu', u'embar kannan', u'chowdiah memorial hall', u'n. ravikiran', u'gandharva mahavidyalaya', u'v. ramarathnam', u'sudha ragunathan', u'vittal ramamurthy', u'ramnad krishnan', u'nagai sriram', u'south indian cultural association, hyderabad', u'bombay sisters', u'p. unni krishnan', u'tiruchy l. saravanan', u'venu', u'malladi brothers', u'neyveli santhanagopalan', u'vijay siva', u'charulatha mani', u't. n. seshagopalan', u's. sowmya', u'nedunuri krishnamurthy', u'sanjay subrahmanyan', u'list of carnatic artists', u'harini']\n",
        "\n",
        "19 21 [u'puthucode', u'kshetram vadyam', u'nishad george', u'sithara (singer)', u'saranamanthram', u'sainoj', u'bennet veetraag', u'kesavananda bharati', u'palghat parameswara bhagavathar', u'madurai maqbara', u'reghu kumar', u'deepa miriam', u'sreeram ramachandran', u'jyotsna radhakrishnan', u'smitha rajan', u'panchari melam', u'before the rains', u'palghat anantharama bhagavatar', u'deepti omchery bhalla', u'kerala', u'vidya balan']\n",
        "\n",
        "21 14 [u'k. radhakrishnan', u'theeyaattam', u'v. balakrishna eradi', u'sadanam k. harikumaran', u'kalamandalam hyderali', u'kathakali', u'sankaran embranthiri', u'thiruvilwamala', u'kalamandalam haridas', u'adyar k. lakshman', u'neelakantan nambisan', u'sreevalsan j menon', u'suchith suresan', u'ramesh narayan']\n",
        "\n",
        "27 17 [u'music of odisha', u'resonance (madras string quartet album)', u'gaadha', u'canadian classical music', u'shrutilayalu', u'puthur-vela', u'list of k. j. yesudas concerts', u'tala (music)', u'indian classical music', u'shankar mahadevan academy', u'canadian music genres', u'alan hovhaness', u'b. arundhathi', u'sheik mahaboob subhani', u'darbar festival', u'list of carnatic composers', u'singapore indian fine arts society']\n",
        "\n",
        "29 18 [u'sathya prakash', u'vadiveeswaram', u'mukkudal', u'culture of chennai', u'rithvik raja', u'pattabhiramayya', u'vairamangalam lakshmi narayanan', u'umayalpuram mali', u'kotturpuram', u'ramya nsk', u'annupamaa', u'narayan iyengar', u's. j. berchmans', u'tamil nadu', u'namagiripettai', u'madurai sundar', u'david dean shulman', u'naattupurapaattu']\n",
        "\n",
        "30 40 [u'k. j. yesudas', u'm. s. thripunithura', u'changanassery', u'remya nambeesan', u'music of kerala', u'chithram', u'm. jayachandran', u'gayatri asokan', u'm. g. radhakrishnan', u'biju narayanan', u'm. g. sreekumar', u'pradip somasundaran', u'sabarimala', u'k. s. chithra', u'ore kadal', u'patrick ngcobo', u'devasuram', u'tripunithura krishnadas', u'k. j. yesudas discography', u'johnson (composer)', u'prem nazir', u'malayalam cinema', u'raveendran', u'aranmula ponnamma', u'bharatham', u'k. omanakutty', u'his highness abdullah', u'm. r. rajakrishnan', u'culture of kerala', u'philip v. francis', u'mohanlal', u'v. dakshinamoorthy', u'g. devarajan', u'gireesh puthenchery', u'the prince (1996 film)', u'kaithapram damodaran namboothiri', u'deepak dev', u'sindhu bhairavi (film)', u'madhu balakrishnan', u'm.k. sankaran namboothiri']\n",
        "\n"
       ]
      }
     ],
     "prompt_number": 14
    },
    {
     "cell_type": "code",
     "collapsed": false,
     "input": [
      "good_nodes = [i for i in selected_nodes if annotations[i] == \"carnatic\"]\n",
      "bad_nodes = [i for i in selected_nodes if annotations[i] != \"carnatic\"]"
     ],
     "language": "python",
     "metadata": {},
     "outputs": []
    },
    {
     "cell_type": "code",
     "collapsed": false,
     "input": [
      "for com, nbunch in categories.items():\n",
      "    print com, len(nbunch), ochiai_coefficient(good_nodes, nbunch), ochiai_coefficient(bad_nodes, nbunch)"
     ],
     "language": "python",
     "metadata": {},
     "outputs": []
    },
    {
     "cell_type": "code",
     "collapsed": false,
     "input": [
      "fgood_nodes = categories[1] + categories[2]\n",
      "fbad_nodes = categories[0] + categories[3] + categories[4]\n",
      "\n",
      "tp = 0\n",
      "tn = 0\n",
      "fp = 0\n",
      "fn = 0\n",
      "\n",
      "for n in fgood_nodes:\n",
      "    if n in annotations.keys():\n",
      "        if annotations[n] == \"carnatic\":\n",
      "            tp += 1\n",
      "        else:\n",
      "            fp += 1\n",
      "\n",
      "for n in fbad_nodes:\n",
      "    if n in annotations.keys():\n",
      "        if annotations[n] != \"carnatic\":\n",
      "            tn += 1\n",
      "        else:\n",
      "            fn += 1\n",
      "\n",
      "precision = tp/(tp+fp)\n",
      "recall = tp/(tp+fn)\n",
      "f_measure = 2*tp/(2*tp+fp+fn)\n",
      "print precision, recall, f_measure\n",
      "print tn/(tn+fn)"
     ],
     "language": "python",
     "metadata": {},
     "outputs": []
    },
    {
     "cell_type": "code",
     "collapsed": false,
     "input": [
      "clean_g = nx_g.subgraph(fgood_nodes)\n",
      "nx.write_graphml(clean_g, '/homedtic/gkoduri/workspace/relation-extraction/data/carnatic_hyperlinks_clean.graphml')"
     ],
     "language": "python",
     "metadata": {},
     "outputs": []
    },
    {
     "cell_type": "code",
     "collapsed": false,
     "input": [
      "import cStringIO\n",
      "\n",
      "def propmap_len(vertices, propmap):\n",
      "    count = 0\n",
      "    for v in vertices:\n",
      "        if propmap[v]:\n",
      "            count += 1\n",
      "    return count\n",
      "\n",
      "def convert_graph(src_g, to=\"graphtool\"):\n",
      "    buf = cStringIO.StringIO()\n",
      "    if to == \"graphtool\":\n",
      "        nx.write_graphml(src_g, buf, encoding='utf-8')\n",
      "        buf.flush()\n",
      "        buf.reset()\n",
      "        dest_g = gt.Graph()\n",
      "        dest_g.load(buf, fmt=\"xml\")\n",
      "    else:\n",
      "        src_g.save(buf, fmt=\"xml\")\n",
      "        buf.flush()\n",
      "        buf.reset()\n",
      "        dest_g = nx.read_graphml(buf, node_type=unicode)\n",
      "    return dest_g\n",
      "\n",
      "def sample_graph(g, num_nodes=100):\n",
      "    nodes = array(g.nodes())\n",
      "    indices = unique(random_integers(0, len(nodes), num_nodes+100))[:num_nodes]\n",
      "    nodes = nodes[indices]\n",
      "    sub_graph = g.subgraph(nodes)\n",
      "    return sub_graph\n",
      "\n",
      "def filter_edgeweight(g, thresh, weight_type=\"distance\"):\n",
      "    filt_g = g.copy()\n",
      "    for u,v,d in filt_g.edges(data=True):\n",
      "        if weight_type == \"distance\":\n",
      "            if d[\"weight\"] > thresh:\n",
      "                filt_g.remove_edge(u,v)\n",
      "        elif weight_type == \"similarity\":\n",
      "            if d[\"weight\"] < thresh:\n",
      "                filt_g.remove_edge(u,v)\n",
      "                \n",
      "    nodes = filt_g.nodes()\n",
      "    for n in nodes:\n",
      "        if filt_g.degree(n) == 0:\n",
      "            filt_g.remove_node(n)\n",
      "        \n",
      "    return filt_g\n",
      "\n",
      "def invert_weights(g):\n",
      "    for u,v,d in g.edges(data=True):\n",
      "        d[\"weight\"] = 1.0-d[\"weight\"]+0.000001\n",
      "    return g\n",
      "\n",
      "def ochiai_coefficient(x, y):\n",
      "    x = set(x)\n",
      "    y = set(y)\n",
      "    return len(x.intersection(y))/(sqrt(len(x)*len(y)))"
     ],
     "language": "python",
     "metadata": {},
     "outputs": []
    },
    {
     "cell_type": "code",
     "collapsed": false,
     "input": [],
     "language": "python",
     "metadata": {},
     "outputs": []
    }
   ],
   "metadata": {}
  }
 ]
}