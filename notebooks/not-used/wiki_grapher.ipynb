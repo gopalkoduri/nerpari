{
 "metadata": {
  "name": ""
 },
 "nbformat": 3,
 "nbformat_minor": 0,
 "worksheets": [
  {
   "cells": [
    {
     "cell_type": "code",
     "collapsed": false,
     "input": [
      "data_dir = \"/homedtic/gkoduri/data/wiki/extracted\"\n",
      "code_dir = \"/homedtic/gkoduri/workspace/relation-extraction\""
     ],
     "language": "python",
     "metadata": {},
     "outputs": [],
     "prompt_number": 1
    },
    {
     "cell_type": "code",
     "collapsed": false,
     "input": [
      "from BeautifulSoup import BeautifulSoup\n",
      "from glob import glob\n",
      "from math import sqrt, floor\n",
      "import pickle\n",
      "import codecs\n",
      "import networkx as nx\n",
      "import sys\n",
      "import nltk\n",
      "import numpy as np"
     ],
     "language": "python",
     "metadata": {},
     "outputs": [],
     "prompt_number": 46
    },
    {
     "cell_type": "markdown",
     "metadata": {},
     "source": [
      "##Links-based graph"
     ]
    },
    {
     "cell_type": "code",
     "collapsed": false,
     "input": [
      "def graph_from_link_index(wiki_link_index, weight_thresh):\n",
      "    pages = wiki_link_index.keys()\n",
      "    n = len(pages)\n",
      "    g = nx.Graph()\n",
      "    \n",
      "    total_calc = floor(n*(n-1)/2)\n",
      "    mul_factor = 100.0/total_calc\n",
      "    count = 0\n",
      "    for i in xrange(0, n):\n",
      "        for j in xrange(i+1, n):\n",
      "            x = set(wiki_link_index[pages[i]])\n",
      "            y = set(wiki_link_index[pages[j]])\n",
      "            \n",
      "            #Ochiai coefficient, in this case is equal to Cosine similarity\n",
      "            if len(x) == 0 or len(y) == 0:\n",
      "                weight = 0\n",
      "            else:\n",
      "                if pages[j] in x or pages[i] in y:\n",
      "                    weight = (1+len(x.intersection(y)))/(sqrt(len(x)*len(y)))\n",
      "                else:\n",
      "                    weight = len(x.intersection(y))/(sqrt(len(x)*len(y)))\n",
      "            #print pages[i], pages[j], weight\n",
      "            if weight >= weight_thresh:\n",
      "                g.add_edge(pages[i], pages[j], weight=weight)\n",
      "        count += (n-i-1)\n",
      "        sys.stdout.write(\"Progress: {0}%\\r\".format(count*mul_factor))\n",
      "        sys.stdout.flush()\n",
      "    return g"
     ],
     "language": "python",
     "metadata": {},
     "outputs": []
    },
    {
     "cell_type": "code",
     "collapsed": false,
     "input": [
      "if __name__ == \"__main__\":\n",
      "    pass"
     ],
     "language": "python",
     "metadata": {},
     "outputs": []
    }
   ],
   "metadata": {}
  }
 ]
}