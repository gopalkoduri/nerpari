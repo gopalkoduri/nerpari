{
 "metadata": {
  "name": ""
 },
 "nbformat": 3,
 "nbformat_minor": 0,
 "worksheets": [
  {
   "cells": [
    {
     "cell_type": "markdown",
     "metadata": {},
     "source": [
      "#Plots for relation extraction work"
     ]
    },
    {
     "cell_type": "markdown",
     "metadata": {},
     "source": [
      "##Graph cleaning"
     ]
    },
    {
     "cell_type": "code",
     "collapsed": false,
     "input": [
      "from os import chdir\n",
      "chdir(\"/homedtic/gkoduri/workspace/relation-extraction/src/\")"
     ],
     "language": "python",
     "metadata": {},
     "outputs": []
    },
    {
     "cell_type": "code",
     "collapsed": false,
     "input": [
      "import pickle\n",
      "import networkx as nx\n",
      "import graph_filtering as gf\n",
      "reload(gf)\n",
      "\n",
      "%matplotlib tk\n",
      "rcParams['figure.figsize'] = 12, 8"
     ],
     "language": "python",
     "metadata": {},
     "outputs": []
    },
    {
     "cell_type": "code",
     "collapsed": false,
     "input": [
      "annotations = pickle.load(file('/homedtic/gkoduri/workspace/relation-extraction/data/annotations.pickle'))\n",
      "fname = '/homedtic/gkoduri/workspace/relation-extraction/data/carnatic_music_hyperlinks.graphml'\n",
      "g = nx.read_graphml(fname, node_type=unicode)\n",
      "print g.number_of_nodes(), g.number_of_edges()"
     ],
     "language": "python",
     "metadata": {},
     "outputs": []
    },
    {
     "cell_type": "code",
     "collapsed": false,
     "input": [
      "wg = gf.WikiGraph(g, annotations)"
     ],
     "language": "python",
     "metadata": {},
     "outputs": []
    },
    {
     "cell_type": "markdown",
     "metadata": {},
     "source": [
      "###Evaluation of existing methods"
     ]
    },
    {
     "cell_type": "markdown",
     "metadata": {},
     "source": [
      "###Disparity filter"
     ]
    },
    {
     "cell_type": "code",
     "collapsed": false,
     "input": [
      "import graph_backbone as gb\n",
      "reload(gb)"
     ],
     "language": "python",
     "metadata": {},
     "outputs": []
    },
    {
     "cell_type": "code",
     "collapsed": false,
     "input": [
      "wg.reset_data()\n",
      "filter_levels = arange(0.1, 0.95, 0.1)\n",
      "precisions = []\n",
      "recalls = []\n",
      "f_measures = []\n",
      "\n",
      "for level in filter_levels:\n",
      "    filt_g = gb.filter_graph_edges(g.copy(), level, verbose=False)\n",
      "    if len(filt_g.nodes()) == 0:\n",
      "        p, r, f = 0, 0, 0\n",
      "    else:\n",
      "        wg.expanded_seedset[\"good\"] = filt_g.nodes()\n",
      "        [p, r, f] = wg.evaluate()\n",
      "    precisions.append(p)\n",
      "    recalls.append(r)\n",
      "    f_measures.append(f)"
     ],
     "language": "python",
     "metadata": {},
     "outputs": []
    },
    {
     "cell_type": "code",
     "collapsed": false,
     "input": [
      "plot(filter_levels, precisions, label=\"precision\")\n",
      "plot(filter_levels, recalls, label=\"recall\")\n",
      "plot(filter_levels, f_measures, label=\"f_measure\")\n",
      "legend()"
     ],
     "language": "python",
     "metadata": {},
     "outputs": []
    },
    {
     "cell_type": "markdown",
     "metadata": {},
     "source": [
      "###Our approach"
     ]
    },
    {
     "cell_type": "markdown",
     "metadata": {},
     "source": [
      "###Seedset selection methods"
     ]
    },
    {
     "cell_type": "markdown",
     "metadata": {},
     "source": [
      "####Reach and balance"
     ]
    },
    {
     "cell_type": "code",
     "collapsed": false,
     "input": [
      "res = wg.evaluate_seedset_methods(np.arange(10, 60, 10).tolist() + np.arange(75, 210, 25).tolist())"
     ],
     "language": "python",
     "metadata": {},
     "outputs": []
    },
    {
     "cell_type": "code",
     "collapsed": false,
     "input": [
      "plot(res[\"x\"], res[\"pagerank_reach\"], \"r-\", marker=\"o\", label=\"Pagerank\")\n",
      "plot(res[\"x\"], res[\"eig_reach\"], \"m-\", marker=\"o\", label=\"Eigenvector centrality\")\n",
      "plot(res[\"x\"], res[\"outdegree_reach\"], \"c-\", marker=\"o\", label=\"Outdegree centrality\")\n",
      "plot(res[\"x\"], res[\"community_pagerank_reach\"], \"b-\", marker=\"o\", label=\"Community (pagerank)\")\n",
      "plot(res[\"x\"], res[\"community_hubs_reach\"], \"g-\", marker=\"o\", label=\"Community (hubs)\")\n",
      "legend(loc='lower right')\n",
      "xlabel(\"Seedset size\")\n",
      "ylabel(\"Portion of nodes within a path-length of three\")"
     ],
     "language": "python",
     "metadata": {},
     "outputs": []
    },
    {
     "cell_type": "code",
     "collapsed": false,
     "input": [
      "figure()\n",
      "plot(res[\"x\"], res[\"pagerank_balance\"], \"r-\", marker=\"o\", label=\"Pagerank\")\n",
      "plot(res[\"x\"], res[\"eig_balance\"], \"m-\", marker=\"o\", label=\"Eigenvector centrality\")\n",
      "plot(res[\"x\"], res[\"outdegree_balance\"], \"c-\", marker=\"o\", label=\"Outdegree centrality\")\n",
      "plot(res[\"x\"], res[\"community_pagerank_balance\"], \"b-\", marker=\"o\", label=\"Community (pagerank)\")\n",
      "plot(res[\"x\"], res[\"community_hubs_balance\"], \"g-\", marker=\"o\", label=\"Community (hubs)\")\n",
      "legend(loc='lower right')\n",
      "xlabel(\"Seedset size\")\n",
      "ylabel(\"Balance between positive/negative parts of the seedset\")"
     ],
     "language": "python",
     "metadata": {},
     "outputs": []
    },
    {
     "cell_type": "markdown",
     "metadata": {},
     "source": [
      "####Performance of the seedset selection methods"
     ]
    },
    {
     "cell_type": "code",
     "collapsed": false,
     "input": [
      "from scipy.ndimage.filters import gaussian_filter\n",
      "sf = 1\n",
      "steps = 2\n",
      "sizes = np.arange(10, 60, 10).tolist() + np.arange(75, 210, 25).tolist()\n",
      "\n",
      "wg.prop_method = \"dampening\"\n",
      "wg.damp_factor = 0.85\n",
      "\n",
      "wg.vote_method = \"score\"\n",
      "wg.vote_iterations = 1\n",
      "wg.vote_contribution = 0.5"
     ],
     "language": "python",
     "metadata": {},
     "outputs": []
    },
    {
     "cell_type": "code",
     "collapsed": false,
     "input": [
      "wg.reset_data()\n",
      "wg.seedset_method = \"pagerank\"\n",
      "pagerank_res = wg.vary_parameter(\"seedset_size\", sizes, expand_steps=steps)"
     ],
     "language": "python",
     "metadata": {},
     "outputs": []
    },
    {
     "cell_type": "code",
     "collapsed": false,
     "input": [
      "fig = figure()\n",
      "ax = fig.add_subplot(1,1,1)\n",
      "plot(pagerank_res[\"x\"], gaussian_filter(pagerank_res[\"precisions\"], sf), \"r--\", marker=\"o\", label=\"Precision\")\n",
      "plot(pagerank_res[\"x\"], gaussian_filter(pagerank_res[\"recalls\"], sf), \"r-.\", marker=\"o\", label=\"Recall\")\n",
      "plot(pagerank_res[\"x\"], gaussian_filter(pagerank_res[\"f_measures\"], sf), \"r-\", marker=\"o\", label=\"F measure\")"
     ],
     "language": "python",
     "metadata": {},
     "outputs": []
    },
    {
     "cell_type": "code",
     "collapsed": false,
     "input": [
      "wg.reset_data()\n",
      "wg.seedset_method = \"eig\"\n",
      "eig_res = wg.vary_parameter(\"seedset_size\", sizes, expand_steps=steps)"
     ],
     "language": "python",
     "metadata": {},
     "outputs": []
    },
    {
     "cell_type": "code",
     "collapsed": false,
     "input": [
      "plot(eig_res[\"x\"], gaussian_filter(eig_res[\"precisions\"], sf), \"m--\", marker=\"o\", label=\"Precision\")\n",
      "plot(eig_res[\"x\"], gaussian_filter(eig_res[\"recalls\"], sf), \"m-.\", marker=\"o\", label=\"Recall\")\n",
      "plot(eig_res[\"x\"], gaussian_filter(eig_res[\"f_measures\"], sf), \"m-\", marker=\"o\", label=\"F measure\")"
     ],
     "language": "python",
     "metadata": {},
     "outputs": []
    },
    {
     "cell_type": "code",
     "collapsed": false,
     "input": [
      "wg.reset_data()\n",
      "wg.seedset_method = \"outdegree\"\n",
      "outdegree_res = wg.vary_parameter(\"seedset_size\", sizes, expand_steps=steps)"
     ],
     "language": "python",
     "metadata": {},
     "outputs": []
    },
    {
     "cell_type": "code",
     "collapsed": false,
     "input": [
      "plot(outdegree_res[\"x\"], gaussian_filter(outdegree_res[\"precisions\"], sf), \"c--\", marker=\"o\", label=\"Precision\")\n",
      "plot(outdegree_res[\"x\"], gaussian_filter(outdegree_res[\"recalls\"], sf), \"c-.\", marker=\"o\", label=\"Recall\")\n",
      "plot(outdegree_res[\"x\"], gaussian_filter(outdegree_res[\"f_measures\"], sf), \"c-\", marker=\"o\", label=\"F measure\")"
     ],
     "language": "python",
     "metadata": {},
     "outputs": []
    },
    {
     "cell_type": "code",
     "collapsed": false,
     "input": [
      "wg.reset_data()\n",
      "wg.seedset_method = \"community-pagerank\"\n",
      "community_pagerank_res = wg.vary_parameter(\"seedset_size\", sizes, expand_steps=steps)"
     ],
     "language": "python",
     "metadata": {},
     "outputs": []
    },
    {
     "cell_type": "code",
     "collapsed": false,
     "input": [
      "plot(community_pagerank_res[\"x\"], gaussian_filter(community_pagerank_res[\"precisions\"], sf), \"b--\", marker=\"o\", label=\"Precision\")\n",
      "plot(community_pagerank_res[\"x\"], gaussian_filter(community_pagerank_res[\"recalls\"], sf), \"b-.\", marker=\"o\", label=\"Recall\")\n",
      "plot(community_pagerank_res[\"x\"], gaussian_filter(community_pagerank_res[\"f_measures\"], sf), \"b-\", marker=\"o\", label=\"F measure\")"
     ],
     "language": "python",
     "metadata": {},
     "outputs": []
    },
    {
     "cell_type": "code",
     "collapsed": false,
     "input": [
      "wg.reset_data()\n",
      "wg.seedset_method = \"community-hubs\"\n",
      "community_hubs_res = wg.vary_parameter(\"seedset_size\", sizes, expand_steps=steps)"
     ],
     "language": "python",
     "metadata": {},
     "outputs": []
    },
    {
     "cell_type": "code",
     "collapsed": false,
     "input": [
      "plot(community_hubs_res[\"x\"], gaussian_filter(community_hubs_res[\"precisions\"], sf), \"g--\", marker=\"o\", label=\"Precision\")\n",
      "plot(community_hubs_res[\"x\"], gaussian_filter(community_hubs_res[\"recalls\"], sf), \"g-.\", marker=\"o\", label=\"Recall\")\n",
      "plot(community_hubs_res[\"x\"], gaussian_filter(community_hubs_res[\"f_measures\"], sf), \"g-\", marker=\"o\", label=\"F measure\")"
     ],
     "language": "python",
     "metadata": {},
     "outputs": []
    },
    {
     "cell_type": "code",
     "collapsed": false,
     "input": [
      "#Get artists and labels for legend and chose which ones to display\n",
      "xlabel(\"Size of the seedset\")\n",
      "\n",
      "handles, labels = ax.get_legend_handles_labels()\n",
      "display = (2, 5, 8, 11, 14)\n",
      "\n",
      "#Create custom artists\n",
      "precision = plt.Line2D((0,1),(0,0), color='k', linestyle='--')\n",
      "recall = plt.Line2D((0,1),(0,0), color='k', linestyle='-.')\n",
      "f_measure = plt.Line2D((0,1),(0,0), color='k', linestyle='-')\n",
      "\n",
      "#Create legend from custom artist/label lists\n",
      "ax.legend([handle for i,handle in enumerate(handles) if i in display]+[precision, recall, f_measure],\n",
      "          ['Pagerank', 'Eigenvector centrality', 'Outdegree centrality', 'Community (pagerank)', 'Community (hubs)'] + ['Precision', 'Recall', 'F Measure'],\n",
      "          loc='lower right')\n",
      "\n",
      "grid()\n",
      "draw()"
     ],
     "language": "python",
     "metadata": {},
     "outputs": []
    },
    {
     "cell_type": "code",
     "collapsed": false,
     "input": [
      "grid()\n",
      "draw()"
     ],
     "language": "python",
     "metadata": {},
     "outputs": []
    },
    {
     "cell_type": "markdown",
     "metadata": {},
     "source": [
      "###Trust propagation methods"
     ]
    },
    {
     "cell_type": "markdown",
     "metadata": {},
     "source": [
      "####Dampening method"
     ]
    },
    {
     "cell_type": "code",
     "collapsed": false,
     "input": [
      "wg = gf.WikiGraph(g, annotations)\n",
      "wg.seedset_method = \"community-pagerank\"\n",
      "wg.prop_method = \"dampening\"\n",
      "wg.prop_depth = 3\n",
      "wg.seedset_size = 50"
     ],
     "language": "python",
     "metadata": {},
     "outputs": []
    },
    {
     "cell_type": "code",
     "collapsed": false,
     "input": [
      "res = wg.vary_parameter(\"damp_factor\", np.arange(0.1, 0.95, 0.2))"
     ],
     "language": "python",
     "metadata": {},
     "outputs": []
    },
    {
     "cell_type": "code",
     "collapsed": false,
     "input": [
      "from scipy.ndimage.filters import gaussian_filter\n",
      "sf = 0"
     ],
     "language": "python",
     "metadata": {},
     "outputs": []
    },
    {
     "cell_type": "code",
     "collapsed": false,
     "input": [
      "fig = figure()\n",
      "ax = fig.add_subplot(1,1,1)\n",
      "plot(res[\"x\"], gaussian_filter(res[\"precisions\"], sf), \"r--\",  marker=\"o\", label=\"Precision\")\n",
      "plot(res[\"x\"], gaussian_filter(res[\"recalls\"], sf), \"r-.\",  marker=\"o\", label=\"Recall\")\n",
      "plot(res[\"x\"], gaussian_filter(res[\"f_measures\"], sf), \"r-\",  marker=\"o\", label=\"F measure\")\n",
      "xlabel(\"Damping factor\")\n",
      "legend()"
     ],
     "language": "python",
     "metadata": {},
     "outputs": []
    },
    {
     "cell_type": "code",
     "collapsed": false,
     "input": [
      "wg = gf.WikiGraph(g, annotations)\n",
      "wg.seedset_method = \"community-pagerank\"\n",
      "wg.prop_method = \"dampening\"\n",
      "wg.damp_factor = 0.85\n",
      "wg.prop_depth = 3\n",
      "wg.seedset_size = 50\n",
      "wg.select_seedset()\n",
      "wg.set_seedtrusts()\n",
      "score_index = wg.propagate_trust()\n",
      "wg.set_trusts(score_index)\n",
      "[p, r, f] = wg.evaluate()"
     ],
     "language": "python",
     "metadata": {},
     "outputs": []
    },
    {
     "cell_type": "code",
     "collapsed": false,
     "input": [
      "print round(p, 2), round(r, 2), round(f, 2)"
     ],
     "language": "python",
     "metadata": {},
     "outputs": []
    },
    {
     "cell_type": "markdown",
     "metadata": {},
     "source": [
      "####Splitting method"
     ]
    },
    {
     "cell_type": "code",
     "collapsed": false,
     "input": [
      "wg = gf.WikiGraph(g, annotations)\n",
      "wg.seedset_method = \"community-pagerank\"\n",
      "wg.prop_method = \"splitting\"\n",
      "wg.split_with = \"num_edges\"\n",
      "wg.prop_depth = 3\n",
      "wg.seedset_size = 50\n",
      "wg.select_seedset()\n",
      "wg.set_seedtrusts()\n",
      "score_index = wg.propagate_trust()\n",
      "wg.set_trusts(score_index)\n",
      "[p, r, f] = wg.evaluate()"
     ],
     "language": "python",
     "metadata": {},
     "outputs": []
    },
    {
     "cell_type": "code",
     "collapsed": false,
     "input": [
      "print round(p, 2), round(r, 2), round(f, 2)"
     ],
     "language": "python",
     "metadata": {},
     "outputs": []
    },
    {
     "cell_type": "markdown",
     "metadata": {},
     "source": [
      "####Basic method"
     ]
    },
    {
     "cell_type": "code",
     "collapsed": false,
     "input": [
      "wg = gf.WikiGraph(g, annotations)\n",
      "wg.seedset_method = \"community-pagerank\"\n",
      "wg.prop_method = \"basic\"\n",
      "wg.prop_depth = 3\n",
      "wg.seedset_size = 50\n",
      "wg.doubtful = \"non-carnatic\"\n",
      "wg.select_seedset()\n",
      "wg.set_seedtrusts()\n",
      "score_index = wg.propagate_trust()\n",
      "wg.set_trusts(score_index)\n",
      "[p, r, f] = wg.evaluate()"
     ],
     "language": "python",
     "metadata": {},
     "outputs": []
    },
    {
     "cell_type": "code",
     "collapsed": false,
     "input": [
      "doubtful = []\n",
      "for node in wg.fp_nodes:\n",
      "    if annotations[node] == \"non-carnatic\":\n",
      "        doubtful.append(node)\n",
      "\n",
      "print len(wg.fp_nodes), len(doubtful)\n",
      "doubtful"
     ],
     "language": "python",
     "metadata": {},
     "outputs": []
    },
    {
     "cell_type": "code",
     "collapsed": false,
     "input": [
      "print round(p, 2), round(r, 2), round(f, 2)"
     ],
     "language": "python",
     "metadata": {},
     "outputs": []
    },
    {
     "cell_type": "markdown",
     "metadata": {},
     "source": [
      "####+Voting"
     ]
    },
    {
     "cell_type": "code",
     "collapsed": false,
     "input": [
      "wg.vote_method = \"score\"\n",
      "wg.vote_iterations = 100\n",
      "score_index = wg.vote_nodes()\n",
      "wg.set_trusts(score_index)\n",
      "[p, r, f] = wg.evaluate()"
     ],
     "language": "python",
     "metadata": {},
     "outputs": []
    },
    {
     "cell_type": "code",
     "collapsed": false,
     "input": [
      "print round(p, 2), round(r, 2), round(f, 2)"
     ],
     "language": "python",
     "metadata": {},
     "outputs": []
    },
    {
     "cell_type": "code",
     "collapsed": false,
     "input": [
      "trusts = [wg.graph[n][\"trust\"] for n in wg.graph.nodes() if \"trust\" in wg.graph[n].keys()]"
     ],
     "language": "python",
     "metadata": {},
     "outputs": []
    },
    {
     "cell_type": "code",
     "collapsed": false,
     "input": [
      "hist(trusts, 100)"
     ],
     "language": "python",
     "metadata": {},
     "outputs": []
    },
    {
     "cell_type": "markdown",
     "metadata": {},
     "source": [
      "####+Community analysis"
     ]
    },
    {
     "cell_type": "code",
     "collapsed": false,
     "input": [
      "wg.min_comsize = 10\n",
      "wg.level = 0\n",
      "\n",
      "score_index = wg.community_filter()\n",
      "wg.set_trusts(score_index)\n",
      "\n",
      "[p, r, f] = wg.evaluate()\n",
      "print round(p, 2), round(r, 2), round(f, 2)"
     ],
     "language": "python",
     "metadata": {},
     "outputs": []
    },
    {
     "cell_type": "markdown",
     "metadata": {},
     "source": [
      "###The ideal graph"
     ]
    },
    {
     "cell_type": "code",
     "collapsed": false,
     "input": [
      "good_nodes = [i for i in annotations.keys() if annotations[i] == \"carnatic\"]\n",
      "sub_g = g.subgraph(good_nodes)\n",
      "nx.write_graphml(sub_g, '/homedtic/gkoduri/workspace/relation-extraction/data/carnatic_hyperlinks_ideal.graphml')"
     ],
     "language": "python",
     "metadata": {},
     "outputs": []
    },
    {
     "cell_type": "code",
     "collapsed": false,
     "input": [],
     "language": "python",
     "metadata": {},
     "outputs": []
    }
   ],
   "metadata": {}
  }
 ]
}