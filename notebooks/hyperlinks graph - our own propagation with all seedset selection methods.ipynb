{
 "metadata": {
  "name": ""
 },
 "nbformat": 3,
 "nbformat_minor": 0,
 "worksheets": [
  {
   "cells": [
    {
     "cell_type": "markdown",
     "metadata": {},
     "source": [
      "#Plots for relation extraction work"
     ]
    },
    {
     "cell_type": "markdown",
     "metadata": {},
     "source": [
      "##Graph cleaning"
     ]
    },
    {
     "cell_type": "code",
     "collapsed": false,
     "input": [
      "from os import chdir\n",
      "chdir(\"/homedtic/gkoduri/workspace/relation-extraction/src/\")"
     ],
     "language": "python",
     "metadata": {},
     "outputs": [],
     "prompt_number": 343
    },
    {
     "cell_type": "code",
     "collapsed": false,
     "input": [
      "import pickle\n",
      "import networkx as nx\n",
      "import graph_filtering as gf\n",
      "reload(gf)\n",
      "\n",
      "%matplotlib tk\n",
      "rcParams['figure.figsize'] = 12, 8"
     ],
     "language": "python",
     "metadata": {},
     "outputs": [],
     "prompt_number": 344
    },
    {
     "cell_type": "code",
     "collapsed": false,
     "input": [
      "annotations = pickle.load(file('/homedtic/gkoduri/workspace/relation-extraction/data/annotations.pickle'))\n",
      "fname = '/homedtic/gkoduri/workspace/relation-extraction/data/carnatic_music_hyperlinks.graphml'\n",
      "g = nx.read_graphml(fname, node_type=unicode)\n",
      "print g.number_of_nodes(), g.number_of_edges()"
     ],
     "language": "python",
     "metadata": {},
     "outputs": [
      {
       "output_type": "stream",
       "stream": "stdout",
       "text": [
        "1115 6508\n"
       ]
      }
     ],
     "prompt_number": 332
    },
    {
     "cell_type": "code",
     "collapsed": false,
     "input": [
      "wg = gf.WikiGraph(g, annotations)"
     ],
     "language": "python",
     "metadata": {},
     "outputs": [],
     "prompt_number": 345
    },
    {
     "cell_type": "markdown",
     "metadata": {},
     "source": [
      "###Evaluation of existing methods"
     ]
    },
    {
     "cell_type": "markdown",
     "metadata": {},
     "source": [
      "###Disparity filter"
     ]
    },
    {
     "cell_type": "code",
     "collapsed": false,
     "input": [
      "import graph_backbone as gb\n",
      "reload(gb)"
     ],
     "language": "python",
     "metadata": {},
     "outputs": []
    },
    {
     "cell_type": "code",
     "collapsed": false,
     "input": [
      "wg.reset_data()\n",
      "filter_levels = arange(0.1, 0.95, 0.1)\n",
      "precisions = []\n",
      "recalls = []\n",
      "f_measures = []\n",
      "\n",
      "for level in filter_levels:\n",
      "    filt_g = gb.filter_graph_edges(g.copy(), level, verbose=False)\n",
      "    if len(filt_g.nodes()) == 0:\n",
      "        p, r, f = 0, 0, 0\n",
      "    else:\n",
      "        wg.expanded_seedset[\"good\"] = filt_g.nodes()\n",
      "        [p, r, f] = wg.evaluate()\n",
      "    precisions.append(p)\n",
      "    recalls.append(r)\n",
      "    f_measures.append(f)"
     ],
     "language": "python",
     "metadata": {},
     "outputs": []
    },
    {
     "cell_type": "code",
     "collapsed": false,
     "input": [
      "plot(filter_levels, precisions, label=\"precision\")\n",
      "plot(filter_levels, recalls, label=\"recall\")\n",
      "plot(filter_levels, f_measures, label=\"f_measure\")\n",
      "legend()"
     ],
     "language": "python",
     "metadata": {},
     "outputs": []
    },
    {
     "cell_type": "markdown",
     "metadata": {},
     "source": [
      "###Our approach"
     ]
    },
    {
     "cell_type": "markdown",
     "metadata": {},
     "source": [
      "###Seedset selection methods"
     ]
    },
    {
     "cell_type": "markdown",
     "metadata": {},
     "source": [
      "####Reach and balance"
     ]
    },
    {
     "cell_type": "code",
     "collapsed": false,
     "input": [
      "res = wg.evaluate_seedset_methods(np.arange(10, 60, 10).tolist() + np.arange(75, 210, 25).tolist())"
     ],
     "language": "python",
     "metadata": {},
     "outputs": [
      {
       "output_type": "stream",
       "stream": "stdout",
       "text": [
        "pagerank eval done.\n",
        "eig eval done."
       ]
      },
      {
       "output_type": "stream",
       "stream": "stdout",
       "text": [
        "\n",
        "outdegree eval done."
       ]
      },
      {
       "output_type": "stream",
       "stream": "stdout",
       "text": [
        "\n",
        "community-pagerank eval done."
       ]
      },
      {
       "output_type": "stream",
       "stream": "stdout",
       "text": [
        "\n",
        "community-hubs eval done."
       ]
      },
      {
       "output_type": "stream",
       "stream": "stdout",
       "text": [
        "\n",
        "pagerank eval done."
       ]
      },
      {
       "output_type": "stream",
       "stream": "stdout",
       "text": [
        "\n",
        "eig eval done."
       ]
      },
      {
       "output_type": "stream",
       "stream": "stdout",
       "text": [
        "\n",
        "outdegree eval done."
       ]
      },
      {
       "output_type": "stream",
       "stream": "stdout",
       "text": [
        "\n",
        "community-pagerank eval done."
       ]
      },
      {
       "output_type": "stream",
       "stream": "stdout",
       "text": [
        "\n",
        "community-hubs eval done."
       ]
      },
      {
       "output_type": "stream",
       "stream": "stdout",
       "text": [
        "\n",
        "pagerank eval done."
       ]
      },
      {
       "output_type": "stream",
       "stream": "stdout",
       "text": [
        "\n",
        "eig eval done."
       ]
      },
      {
       "output_type": "stream",
       "stream": "stdout",
       "text": [
        "\n",
        "outdegree eval done."
       ]
      },
      {
       "output_type": "stream",
       "stream": "stdout",
       "text": [
        "\n",
        "community-pagerank eval done."
       ]
      },
      {
       "output_type": "stream",
       "stream": "stdout",
       "text": [
        "\n",
        "community-hubs eval done."
       ]
      },
      {
       "output_type": "stream",
       "stream": "stdout",
       "text": [
        "\n",
        "pagerank eval done."
       ]
      },
      {
       "output_type": "stream",
       "stream": "stdout",
       "text": [
        "\n",
        "eig eval done."
       ]
      },
      {
       "output_type": "stream",
       "stream": "stdout",
       "text": [
        "\n",
        "outdegree eval done."
       ]
      },
      {
       "output_type": "stream",
       "stream": "stdout",
       "text": [
        "\n",
        "community-pagerank eval done."
       ]
      },
      {
       "output_type": "stream",
       "stream": "stdout",
       "text": [
        "\n",
        "community-hubs eval done."
       ]
      },
      {
       "output_type": "stream",
       "stream": "stdout",
       "text": [
        "\n",
        "pagerank eval done."
       ]
      },
      {
       "output_type": "stream",
       "stream": "stdout",
       "text": [
        "\n",
        "eig eval done."
       ]
      },
      {
       "output_type": "stream",
       "stream": "stdout",
       "text": [
        "\n",
        "outdegree eval done."
       ]
      },
      {
       "output_type": "stream",
       "stream": "stdout",
       "text": [
        "\n",
        "community-pagerank eval done."
       ]
      },
      {
       "output_type": "stream",
       "stream": "stdout",
       "text": [
        "\n",
        "community-hubs eval done."
       ]
      },
      {
       "output_type": "stream",
       "stream": "stdout",
       "text": [
        "\n",
        "pagerank eval done."
       ]
      },
      {
       "output_type": "stream",
       "stream": "stdout",
       "text": [
        "\n",
        "eig eval done."
       ]
      },
      {
       "output_type": "stream",
       "stream": "stdout",
       "text": [
        "\n",
        "outdegree eval done."
       ]
      },
      {
       "output_type": "stream",
       "stream": "stdout",
       "text": [
        "\n",
        "community-pagerank eval done."
       ]
      },
      {
       "output_type": "stream",
       "stream": "stdout",
       "text": [
        "\n",
        "community-hubs eval done."
       ]
      },
      {
       "output_type": "stream",
       "stream": "stdout",
       "text": [
        "\n",
        "pagerank eval done."
       ]
      },
      {
       "output_type": "stream",
       "stream": "stdout",
       "text": [
        "\n",
        "eig eval done."
       ]
      },
      {
       "output_type": "stream",
       "stream": "stdout",
       "text": [
        "\n",
        "outdegree eval done."
       ]
      },
      {
       "output_type": "stream",
       "stream": "stdout",
       "text": [
        "\n",
        "community-pagerank eval done."
       ]
      },
      {
       "output_type": "stream",
       "stream": "stdout",
       "text": [
        "\n",
        "community-hubs eval done."
       ]
      },
      {
       "output_type": "stream",
       "stream": "stdout",
       "text": [
        "\n",
        "pagerank eval done."
       ]
      },
      {
       "output_type": "stream",
       "stream": "stdout",
       "text": [
        "\n",
        "eig eval done."
       ]
      },
      {
       "output_type": "stream",
       "stream": "stdout",
       "text": [
        "\n",
        "outdegree eval done."
       ]
      },
      {
       "output_type": "stream",
       "stream": "stdout",
       "text": [
        "\n",
        "community-pagerank eval done."
       ]
      },
      {
       "output_type": "stream",
       "stream": "stdout",
       "text": [
        "\n",
        "community-hubs eval done."
       ]
      },
      {
       "output_type": "stream",
       "stream": "stdout",
       "text": [
        "\n",
        "pagerank eval done."
       ]
      },
      {
       "output_type": "stream",
       "stream": "stdout",
       "text": [
        "\n",
        "eig eval done."
       ]
      },
      {
       "output_type": "stream",
       "stream": "stdout",
       "text": [
        "\n",
        "outdegree eval done."
       ]
      },
      {
       "output_type": "stream",
       "stream": "stdout",
       "text": [
        "\n",
        "community-pagerank eval done."
       ]
      },
      {
       "output_type": "stream",
       "stream": "stdout",
       "text": [
        "\n",
        "community-hubs eval done."
       ]
      },
      {
       "output_type": "stream",
       "stream": "stdout",
       "text": [
        "\n",
        "pagerank eval done."
       ]
      },
      {
       "output_type": "stream",
       "stream": "stdout",
       "text": [
        "\n",
        "eig eval done."
       ]
      },
      {
       "output_type": "stream",
       "stream": "stdout",
       "text": [
        "\n",
        "outdegree eval done."
       ]
      },
      {
       "output_type": "stream",
       "stream": "stdout",
       "text": [
        "\n",
        "community-pagerank eval done."
       ]
      },
      {
       "output_type": "stream",
       "stream": "stdout",
       "text": [
        "\n",
        "community-hubs eval done."
       ]
      },
      {
       "output_type": "stream",
       "stream": "stdout",
       "text": [
        "\n",
        "pagerank eval done."
       ]
      },
      {
       "output_type": "stream",
       "stream": "stdout",
       "text": [
        "\n",
        "eig eval done."
       ]
      },
      {
       "output_type": "stream",
       "stream": "stdout",
       "text": [
        "\n",
        "outdegree eval done."
       ]
      },
      {
       "output_type": "stream",
       "stream": "stdout",
       "text": [
        "\n",
        "community-pagerank eval done."
       ]
      },
      {
       "output_type": "stream",
       "stream": "stdout",
       "text": [
        "\n",
        "community-hubs eval done."
       ]
      },
      {
       "output_type": "stream",
       "stream": "stdout",
       "text": [
        "\n"
       ]
      }
     ],
     "prompt_number": 334
    },
    {
     "cell_type": "code",
     "collapsed": false,
     "input": [
      "plot(res[\"x\"], res[\"pagerank_reach\"], \"r-\", marker=\"o\", label=\"Pagerank\")\n",
      "plot(res[\"x\"], res[\"eig_reach\"], \"m-\", marker=\"o\", label=\"Eigenvector centrality\")\n",
      "plot(res[\"x\"], res[\"outdegree_reach\"], \"c-\", marker=\"o\", label=\"Outdegree centrality\")\n",
      "plot(res[\"x\"], res[\"community_pagerank_reach\"], \"b-\", marker=\"o\", label=\"Community (pagerank)\")\n",
      "plot(res[\"x\"], res[\"community_hubs_reach\"], \"g-\", marker=\"o\", label=\"Community (hubs)\")\n",
      "legend(loc='lower right')\n",
      "xlabel(\"Seedset size\")\n",
      "ylabel(\"Portion of nodes within a path-length of three\")"
     ],
     "language": "python",
     "metadata": {},
     "outputs": [
      {
       "metadata": {},
       "output_type": "pyout",
       "prompt_number": 340,
       "text": [
        "<matplotlib.text.Text at 0x977e290>"
       ]
      }
     ],
     "prompt_number": 340
    },
    {
     "cell_type": "code",
     "collapsed": false,
     "input": [
      "figure()\n",
      "plot(res[\"x\"], res[\"pagerank_balance\"], \"r-\", marker=\"o\", label=\"Pagerank\")\n",
      "plot(res[\"x\"], res[\"eig_balance\"], \"m-\", marker=\"o\", label=\"Eigenvector centrality\")\n",
      "plot(res[\"x\"], res[\"outdegree_balance\"], \"c-\", marker=\"o\", label=\"Outdegree centrality\")\n",
      "plot(res[\"x\"], res[\"community_pagerank_balance\"], \"b-\", marker=\"o\", label=\"Community (pagerank)\")\n",
      "plot(res[\"x\"], res[\"community_hubs_balance\"], \"g-\", marker=\"o\", label=\"Community (hubs)\")\n",
      "legend(loc='lower right')\n",
      "xlabel(\"Seedset size\")\n",
      "ylabel(\"Balance between positive/negative parts of the seedset\")"
     ],
     "language": "python",
     "metadata": {},
     "outputs": [
      {
       "metadata": {},
       "output_type": "pyout",
       "prompt_number": 342,
       "text": [
        "<matplotlib.text.Text at 0xa76ac10>"
       ]
      }
     ],
     "prompt_number": 342
    },
    {
     "cell_type": "markdown",
     "metadata": {},
     "source": [
      "####Performance of the seedset selection methods"
     ]
    },
    {
     "cell_type": "code",
     "collapsed": false,
     "input": [
      "from scipy.ndimage.filters import gaussian_filter\n",
      "sf = 1\n",
      "steps = 2\n",
      "sizes = np.arange(10, 60, 10).tolist() + np.arange(75, 210, 25).tolist()\n",
      "\n",
      "wg.prop_method = \"dampening\"\n",
      "wg.damp_factor = 0.85\n",
      "\n",
      "wg.vote_method = \"score\"\n",
      "wg.vote_iterations = 1\n",
      "wg.vote_contribution = 0.5"
     ],
     "language": "python",
     "metadata": {},
     "outputs": [],
     "prompt_number": 384
    },
    {
     "cell_type": "code",
     "collapsed": false,
     "input": [
      "wg.reset_data()\n",
      "wg.seedset_method = \"pagerank\"\n",
      "pagerank_res = wg.vary_parameter(\"seedset_size\", sizes, expand_steps=steps)"
     ],
     "language": "python",
     "metadata": {},
     "outputs": [
      {
       "output_type": "stream",
       "stream": "stdout",
       "text": [
        "\n",
        "        Run configuration:\n",
        "        seedset size: 10,\n",
        "        seedset method: pagerank,\n",
        "        trust propagation method: dampening,\n",
        "        trust propagation depth: 3,\n",
        "        trust propagation damp factor: 0.850000,\n",
        "        trust propagation split factor: num_edges,\n",
        "        min. community size: 10,\n",
        "        no. of expansion steps: 2\n",
        "        \n",
        "seedset selected."
       ]
      },
      {
       "output_type": "stream",
       "stream": "stdout",
       "text": [
        "\n",
        "trusts set for seedset.\n",
        "step.1 of expanding seedset (trust prop) is done.\n",
        "step.2 of expanding seedset (community analysis) is done."
       ]
      },
      {
       "output_type": "stream",
       "stream": "stdout",
       "text": [
        "\n",
        "471 198 358 85\n",
        "\n",
        "        Run configuration:\n",
        "        seedset size: 20,\n",
        "        seedset method: pagerank,\n",
        "        trust propagation method: dampening,\n",
        "        trust propagation depth: 3,\n",
        "        trust propagation damp factor: 0.850000,\n",
        "        trust propagation split factor: num_edges,\n",
        "        min. community size: 10,\n",
        "        no. of expansion steps: 2\n",
        "        "
       ]
      },
      {
       "output_type": "stream",
       "stream": "stdout",
       "text": [
        "\n",
        "seedset selected."
       ]
      },
      {
       "output_type": "stream",
       "stream": "stdout",
       "text": [
        "\n",
        "trusts set for seedset.\n",
        "step.1 of expanding seedset (trust prop) is done."
       ]
      },
      {
       "output_type": "stream",
       "stream": "stdout",
       "text": [
        "\n",
        "step.2 of expanding seedset (community analysis) is done."
       ]
      },
      {
       "output_type": "stream",
       "stream": "stdout",
       "text": [
        "\n",
        "483 196 360 73\n",
        "\n",
        "        Run configuration:\n",
        "        seedset size: 30,\n",
        "        seedset method: pagerank,\n",
        "        trust propagation method: dampening,\n",
        "        trust propagation depth: 3,\n",
        "        trust propagation damp factor: 0.850000,\n",
        "        trust propagation split factor: num_edges,\n",
        "        min. community size: 10,\n",
        "        no. of expansion steps: 2\n",
        "        "
       ]
      },
      {
       "output_type": "stream",
       "stream": "stdout",
       "text": [
        "\n",
        "seedset selected."
       ]
      },
      {
       "output_type": "stream",
       "stream": "stdout",
       "text": [
        "\n",
        "trusts set for seedset.\n",
        "step.1 of expanding seedset (trust prop) is done.\n",
        "step.2 of expanding seedset (community analysis) is done."
       ]
      },
      {
       "output_type": "stream",
       "stream": "stdout",
       "text": [
        "\n",
        "439 145 411 117\n",
        "\n",
        "        Run configuration:\n",
        "        seedset size: 40,\n",
        "        seedset method: pagerank,\n",
        "        trust propagation method: dampening,\n",
        "        trust propagation depth: 3,\n",
        "        trust propagation damp factor: 0.850000,\n",
        "        trust propagation split factor: num_edges,\n",
        "        min. community size: 10,\n",
        "        no. of expansion steps: 2\n",
        "        "
       ]
      },
      {
       "output_type": "stream",
       "stream": "stdout",
       "text": [
        "\n",
        "seedset selected."
       ]
      },
      {
       "output_type": "stream",
       "stream": "stdout",
       "text": [
        "\n",
        "trusts set for seedset.\n",
        "step.1 of expanding seedset (trust prop) is done.\n",
        "step.2 of expanding seedset (community analysis) is done."
       ]
      },
      {
       "output_type": "stream",
       "stream": "stdout",
       "text": [
        "\n",
        "436 146 410 120\n",
        "\n",
        "        Run configuration:\n",
        "        seedset size: 50,\n",
        "        seedset method: pagerank,\n",
        "        trust propagation method: dampening,\n",
        "        trust propagation depth: 3,\n",
        "        trust propagation damp factor: 0.850000,\n",
        "        trust propagation split factor: num_edges,\n",
        "        min. community size: 10,\n",
        "        no. of expansion steps: 2\n",
        "        "
       ]
      },
      {
       "output_type": "stream",
       "stream": "stdout",
       "text": [
        "\n",
        "seedset selected."
       ]
      },
      {
       "output_type": "stream",
       "stream": "stdout",
       "text": [
        "\n",
        "trusts set for seedset.\n",
        "step.1 of expanding seedset (trust prop) is done.\n",
        "step.2 of expanding seedset (community analysis) is done."
       ]
      },
      {
       "output_type": "stream",
       "stream": "stdout",
       "text": [
        "\n",
        "438 147 409 118\n",
        "\n",
        "        Run configuration:\n",
        "        seedset size: 75,\n",
        "        seedset method: pagerank,\n",
        "        trust propagation method: dampening,\n",
        "        trust propagation depth: 3,\n",
        "        trust propagation damp factor: 0.850000,\n",
        "        trust propagation split factor: num_edges,\n",
        "        min. community size: 10,\n",
        "        no. of expansion steps: 2\n",
        "        "
       ]
      },
      {
       "output_type": "stream",
       "stream": "stdout",
       "text": [
        "\n",
        "seedset selected."
       ]
      },
      {
       "output_type": "stream",
       "stream": "stdout",
       "text": [
        "\n",
        "trusts set for seedset.\n",
        "step.1 of expanding seedset (trust prop) is done.\n",
        "step.2 of expanding seedset (community analysis) is done."
       ]
      },
      {
       "output_type": "stream",
       "stream": "stdout",
       "text": [
        "\n",
        "435 140 416 121\n",
        "\n",
        "        Run configuration:\n",
        "        seedset size: 100,\n",
        "        seedset method: pagerank,\n",
        "        trust propagation method: dampening,\n",
        "        trust propagation depth: 3,\n",
        "        trust propagation damp factor: 0.850000,\n",
        "        trust propagation split factor: num_edges,\n",
        "        min. community size: 10,\n",
        "        no. of expansion steps: 2\n",
        "        "
       ]
      },
      {
       "output_type": "stream",
       "stream": "stdout",
       "text": [
        "\n",
        "seedset selected."
       ]
      },
      {
       "output_type": "stream",
       "stream": "stdout",
       "text": [
        "\n",
        "trusts set for seedset.\n",
        "step.1 of expanding seedset (trust prop) is done.\n",
        "step.2 of expanding seedset (community analysis) is done."
       ]
      },
      {
       "output_type": "stream",
       "stream": "stdout",
       "text": [
        "\n",
        "438"
       ]
      },
      {
       "output_type": "stream",
       "stream": "stdout",
       "text": [
        " 142 414 118\n",
        "\n",
        "        Run configuration:\n",
        "        seedset size: 125,\n",
        "        seedset method: pagerank,\n",
        "        trust propagation method: dampening,\n",
        "        trust propagation depth: 3,\n",
        "        trust propagation damp factor: 0.850000,\n",
        "        trust propagation split factor: num_edges,\n",
        "        min. community size: 10,\n",
        "        no. of expansion steps: 2\n",
        "        "
       ]
      },
      {
       "output_type": "stream",
       "stream": "stdout",
       "text": [
        "\n",
        "seedset selected."
       ]
      },
      {
       "output_type": "stream",
       "stream": "stdout",
       "text": [
        "\n",
        "trusts set for seedset.\n",
        "step.1 of expanding seedset (trust prop) is done.\n",
        "step.2 of expanding seedset (community analysis) is done."
       ]
      },
      {
       "output_type": "stream",
       "stream": "stdout",
       "text": [
        "\n",
        "442 137 419 114\n",
        "\n",
        "        Run configuration:\n",
        "        seedset size: 150,\n",
        "        seedset method: pagerank,\n",
        "        trust propagation method: dampening,\n",
        "        trust propagation depth: 3,\n",
        "        trust propagation damp factor: 0.850000,\n",
        "        trust propagation split factor: num_edges,\n",
        "        min. community size: 10,\n",
        "        no. of expansion steps: 2\n",
        "        "
       ]
      },
      {
       "output_type": "stream",
       "stream": "stdout",
       "text": [
        "\n",
        "seedset selected."
       ]
      },
      {
       "output_type": "stream",
       "stream": "stdout",
       "text": [
        "\n",
        "trusts set for seedset.\n",
        "step.1 of expanding seedset (trust prop) is done.\n",
        "step.2 of expanding seedset (community analysis) is done."
       ]
      },
      {
       "output_type": "stream",
       "stream": "stdout",
       "text": [
        "\n",
        "444 135 421 112\n",
        "\n",
        "        Run configuration:\n",
        "        seedset size: 175,\n",
        "        seedset method: pagerank,\n",
        "        trust propagation method: dampening,\n",
        "        trust propagation depth: 3,\n",
        "        trust propagation damp factor: 0.850000,\n",
        "        trust propagation split factor: num_edges,\n",
        "        min. community size: 10,\n",
        "        no. of expansion steps: 2\n",
        "        "
       ]
      },
      {
       "output_type": "stream",
       "stream": "stdout",
       "text": [
        "\n",
        "seedset selected."
       ]
      },
      {
       "output_type": "stream",
       "stream": "stdout",
       "text": [
        "\n",
        "trusts set for seedset.\n",
        "step.1 of expanding seedset (trust prop) is done.\n",
        "step.2 of expanding seedset (community analysis) is done."
       ]
      },
      {
       "output_type": "stream",
       "stream": "stdout",
       "text": [
        "\n",
        "445 137 419 111\n",
        "\n",
        "        Run configuration:\n",
        "        seedset size: 200,\n",
        "        seedset method: pagerank,\n",
        "        trust propagation method: dampening,\n",
        "        trust propagation depth: 3,\n",
        "        trust propagation damp factor: 0.850000,\n",
        "        trust propagation split factor: num_edges,\n",
        "        min. community size: 10,\n",
        "        no. of expansion steps: 2\n",
        "        "
       ]
      },
      {
       "output_type": "stream",
       "stream": "stdout",
       "text": [
        "\n",
        "seedset selected."
       ]
      },
      {
       "output_type": "stream",
       "stream": "stdout",
       "text": [
        "\n",
        "trusts set for seedset.\n",
        "step.1 of expanding seedset (trust prop) is done.\n",
        "step.2 of expanding seedset (community analysis) is done."
       ]
      },
      {
       "output_type": "stream",
       "stream": "stdout",
       "text": [
        "\n",
        "445 132 424 111\n"
       ]
      }
     ],
     "prompt_number": 373
    },
    {
     "cell_type": "code",
     "collapsed": false,
     "input": [
      "fig = figure()\n",
      "ax = fig.add_subplot(1,1,1)\n",
      "plot(pagerank_res[\"x\"], gaussian_filter(pagerank_res[\"precisions\"], sf), \"r--\", marker=\"o\", label=\"Precision\")\n",
      "plot(pagerank_res[\"x\"], gaussian_filter(pagerank_res[\"recalls\"], sf), \"r-.\", marker=\"o\", label=\"Recall\")\n",
      "plot(pagerank_res[\"x\"], gaussian_filter(pagerank_res[\"f_measures\"], sf), \"r-\", marker=\"o\", label=\"F measure\")"
     ],
     "language": "python",
     "metadata": {},
     "outputs": [
      {
       "metadata": {},
       "output_type": "pyout",
       "prompt_number": 385,
       "text": [
        "[<matplotlib.lines.Line2D at 0xe25dcd0>]"
       ]
      }
     ],
     "prompt_number": 385
    },
    {
     "cell_type": "code",
     "collapsed": false,
     "input": [
      "wg.reset_data()\n",
      "wg.seedset_method = \"eig\"\n",
      "eig_res = wg.vary_parameter(\"seedset_size\", sizes, expand_steps=steps)"
     ],
     "language": "python",
     "metadata": {},
     "outputs": [
      {
       "output_type": "stream",
       "stream": "stdout",
       "text": [
        "\n",
        "        Run configuration:\n",
        "        seedset size: 10,\n",
        "        seedset method: eig,\n",
        "        trust propagation method: dampening,\n",
        "        trust propagation depth: 3,\n",
        "        trust propagation damp factor: 0.850000,\n",
        "        trust propagation split factor: num_edges,\n",
        "        min. community size: 10,\n",
        "        no. of expansion steps: 2\n",
        "        \n",
        "seedset selected."
       ]
      },
      {
       "output_type": "stream",
       "stream": "stdout",
       "text": [
        "\n",
        "trusts set for seedset.\n",
        "step.1 of expanding seedset (trust prop) is done.\n",
        "step.2 of expanding seedset (community analysis) is done."
       ]
      },
      {
       "output_type": "stream",
       "stream": "stdout",
       "text": [
        "\n",
        "446 149 407 110\n",
        "\n",
        "        Run configuration:\n",
        "        seedset size: 20,\n",
        "        seedset method: eig,\n",
        "        trust propagation method: dampening,\n",
        "        trust propagation depth: 3,\n",
        "        trust propagation damp factor: 0.850000,\n",
        "        trust propagation split factor: num_edges,\n",
        "        min. community size: 10,\n",
        "        no. of expansion steps: 2\n",
        "        "
       ]
      },
      {
       "output_type": "stream",
       "stream": "stdout",
       "text": [
        "\n",
        "seedset selected."
       ]
      },
      {
       "output_type": "stream",
       "stream": "stdout",
       "text": [
        "\n",
        "trusts set for seedset.\n",
        "step.1 of expanding seedset (trust prop) is done.\n",
        "step.2 of expanding seedset (community analysis) is done."
       ]
      },
      {
       "output_type": "stream",
       "stream": "stdout",
       "text": [
        "\n",
        "448 149 407 108\n",
        "\n",
        "        Run configuration:\n",
        "        seedset size: 30,\n",
        "        seedset method: eig,\n",
        "        trust propagation method: dampening,\n",
        "        trust propagation depth: 3,\n",
        "        trust propagation damp factor: 0.850000,\n",
        "        trust propagation split factor: num_edges,\n",
        "        min. community size: 10,\n",
        "        no. of expansion steps: 2\n",
        "        "
       ]
      },
      {
       "output_type": "stream",
       "stream": "stdout",
       "text": [
        "\n",
        "seedset selected."
       ]
      },
      {
       "output_type": "stream",
       "stream": "stdout",
       "text": [
        "\n",
        "trusts set for seedset.\n",
        "step.1 of expanding seedset (trust prop) is done.\n",
        "step.2 of expanding seedset (community analysis) is done."
       ]
      },
      {
       "output_type": "stream",
       "stream": "stdout",
       "text": [
        "\n",
        "480 189 367 76\n",
        "\n",
        "        Run configuration:\n",
        "        seedset size: 40,\n",
        "        seedset method: eig,\n",
        "        trust propagation method: dampening,\n",
        "        trust propagation depth: 3,\n",
        "        trust propagation damp factor: 0.850000,\n",
        "        trust propagation split factor: num_edges,\n",
        "        min. community size: 10,\n",
        "        no. of expansion steps: 2\n",
        "        "
       ]
      },
      {
       "output_type": "stream",
       "stream": "stdout",
       "text": [
        "\n",
        "seedset selected."
       ]
      },
      {
       "output_type": "stream",
       "stream": "stdout",
       "text": [
        "\n",
        "trusts set for seedset.\n",
        "step.1 of expanding seedset (trust prop) is done.\n",
        "step.2 of expanding seedset (community analysis) is done."
       ]
      },
      {
       "output_type": "stream",
       "stream": "stdout",
       "text": [
        "\n",
        "438 154 402 118\n",
        "\n",
        "        Run configuration:\n",
        "        seedset size: 50,\n",
        "        seedset method: eig,\n",
        "        trust propagation method: dampening,\n",
        "        trust propagation depth: 3,\n",
        "        trust propagation damp factor: 0.850000,\n",
        "        trust propagation split factor: num_edges,\n",
        "        min. community size: 10,\n",
        "        no. of expansion steps: 2\n",
        "        "
       ]
      },
      {
       "output_type": "stream",
       "stream": "stdout",
       "text": [
        "\n",
        "seedset selected."
       ]
      },
      {
       "output_type": "stream",
       "stream": "stdout",
       "text": [
        "\n",
        "trusts set for seedset.\n",
        "step.1 of expanding seedset (trust prop) is done.\n",
        "step.2 of expanding seedset (community analysis) is done."
       ]
      },
      {
       "output_type": "stream",
       "stream": "stdout",
       "text": [
        "\n",
        "436 151 405 120\n",
        "\n",
        "        Run configuration:\n",
        "        seedset size: 75,\n",
        "        seedset method: eig,\n",
        "        trust propagation method: dampening,\n",
        "        trust propagation depth: 3,\n",
        "        trust propagation damp factor: 0.850000,\n",
        "        trust propagation split factor: num_edges,\n",
        "        min. community size: 10,\n",
        "        no. of expansion steps: 2\n",
        "        "
       ]
      },
      {
       "output_type": "stream",
       "stream": "stdout",
       "text": [
        "\n",
        "seedset selected."
       ]
      },
      {
       "output_type": "stream",
       "stream": "stdout",
       "text": [
        "\n",
        "trusts set for seedset.\n",
        "step.1 of expanding seedset (trust prop) is done.\n",
        "step.2 of expanding seedset (community analysis) is done."
       ]
      },
      {
       "output_type": "stream",
       "stream": "stdout",
       "text": [
        "\n",
        "438 141 415 118\n",
        "\n",
        "        Run configuration:\n",
        "        seedset size: 100,\n",
        "        seedset method: eig,\n",
        "        trust propagation method: dampening,\n",
        "        trust propagation depth: 3,\n",
        "        trust propagation damp factor: 0.850000,\n",
        "        trust propagation split factor: num_edges,\n",
        "        min. community size: 10,\n",
        "        no. of expansion steps: 2\n",
        "        "
       ]
      },
      {
       "output_type": "stream",
       "stream": "stdout",
       "text": [
        "\n",
        "seedset selected."
       ]
      },
      {
       "output_type": "stream",
       "stream": "stdout",
       "text": [
        "\n",
        "trusts set for seedset.\n",
        "step.1 of expanding seedset (trust prop) is done.\n",
        "step.2 of expanding seedset (community analysis) is done."
       ]
      },
      {
       "output_type": "stream",
       "stream": "stdout",
       "text": [
        "\n",
        "440 141 415 116\n",
        "\n",
        "        Run configuration:\n",
        "        seedset size: 125,\n",
        "        seedset method: eig,\n",
        "        trust propagation method: dampening,\n",
        "        trust propagation depth: 3,\n",
        "        trust propagation damp factor: 0.850000,\n",
        "        trust propagation split factor: num_edges,\n",
        "        min. community size: 10,\n",
        "        no. of expansion steps: 2\n",
        "        "
       ]
      },
      {
       "output_type": "stream",
       "stream": "stdout",
       "text": [
        "\n",
        "seedset selected."
       ]
      },
      {
       "output_type": "stream",
       "stream": "stdout",
       "text": [
        "\n",
        "trusts set for seedset.\n",
        "step.1 of expanding seedset (trust prop) is done.\n",
        "step.2 of expanding seedset (community analysis) is done."
       ]
      },
      {
       "output_type": "stream",
       "stream": "stdout",
       "text": [
        "\n",
        "478 182 374 78\n",
        "\n",
        "        Run configuration:\n",
        "        seedset size: 150,\n",
        "        seedset method: eig,\n",
        "        trust propagation method: dampening,\n",
        "        trust propagation depth: 3,\n",
        "        trust propagation damp factor: 0.850000,\n",
        "        trust propagation split factor: num_edges,\n",
        "        min. community size: 10,\n",
        "        no. of expansion steps: 2\n",
        "        "
       ]
      },
      {
       "output_type": "stream",
       "stream": "stdout",
       "text": [
        "\n",
        "seedset selected."
       ]
      },
      {
       "output_type": "stream",
       "stream": "stdout",
       "text": [
        "\n",
        "trusts set for seedset.\n",
        "step.1 of expanding seedset (trust prop) is done.\n",
        "step.2 of expanding seedset (community analysis) is done."
       ]
      },
      {
       "output_type": "stream",
       "stream": "stdout",
       "text": [
        "\n",
        "472 178 378 84\n",
        "\n",
        "        Run configuration:\n",
        "        seedset size: 175,\n",
        "        seedset method: eig,\n",
        "        trust propagation method: dampening,\n",
        "        trust propagation depth: 3,\n",
        "        trust propagation damp factor: 0.850000,\n",
        "        trust propagation split factor: num_edges,\n",
        "        min. community size: 10,\n",
        "        no. of expansion steps: 2\n",
        "        "
       ]
      },
      {
       "output_type": "stream",
       "stream": "stdout",
       "text": [
        "\n",
        "seedset selected."
       ]
      },
      {
       "output_type": "stream",
       "stream": "stdout",
       "text": [
        "\n",
        "trusts set for seedset.\n",
        "step.1 of expanding seedset (trust prop) is done.\n",
        "step.2 of expanding seedset (community analysis) is done."
       ]
      },
      {
       "output_type": "stream",
       "stream": "stdout",
       "text": [
        "\n",
        "469 179 377 87\n",
        "\n",
        "        Run configuration:\n",
        "        seedset size: 200,\n",
        "        seedset method: eig,\n",
        "        trust propagation method: dampening,\n",
        "        trust propagation depth: 3,\n",
        "        trust propagation damp factor: 0.850000,\n",
        "        trust propagation split factor: num_edges,\n",
        "        min. community size: 10,\n",
        "        no. of expansion steps: 2\n",
        "        "
       ]
      },
      {
       "output_type": "stream",
       "stream": "stdout",
       "text": [
        "\n",
        "seedset selected."
       ]
      },
      {
       "output_type": "stream",
       "stream": "stdout",
       "text": [
        "\n",
        "trusts set for seedset.\n",
        "step.1 of expanding seedset (trust prop) is done."
       ]
      },
      {
       "output_type": "stream",
       "stream": "stdout",
       "text": [
        "\n",
        "step.2 of expanding seedset (community analysis) is done."
       ]
      },
      {
       "output_type": "stream",
       "stream": "stdout",
       "text": [
        "\n",
        "434 134 422 122\n"
       ]
      }
     ],
     "prompt_number": 375
    },
    {
     "cell_type": "code",
     "collapsed": false,
     "input": [
      "plot(eig_res[\"x\"], gaussian_filter(eig_res[\"precisions\"], sf), \"m--\", marker=\"o\", label=\"Precision\")\n",
      "plot(eig_res[\"x\"], gaussian_filter(eig_res[\"recalls\"], sf), \"m-.\", marker=\"o\", label=\"Recall\")\n",
      "plot(eig_res[\"x\"], gaussian_filter(eig_res[\"f_measures\"], sf), \"m-\", marker=\"o\", label=\"F measure\")"
     ],
     "language": "python",
     "metadata": {},
     "outputs": [
      {
       "metadata": {},
       "output_type": "pyout",
       "prompt_number": 386,
       "text": [
        "[<matplotlib.lines.Line2D at 0xe2a7f90>]"
       ]
      }
     ],
     "prompt_number": 386
    },
    {
     "cell_type": "code",
     "collapsed": false,
     "input": [
      "wg.reset_data()\n",
      "wg.seedset_method = \"outdegree\"\n",
      "outdegree_res = wg.vary_parameter(\"seedset_size\", sizes, expand_steps=steps)"
     ],
     "language": "python",
     "metadata": {},
     "outputs": [
      {
       "output_type": "stream",
       "stream": "stdout",
       "text": [
        "\n",
        "        Run configuration:\n",
        "        seedset size: 10,\n",
        "        seedset method: outdegree,\n",
        "        trust propagation method: dampening,\n",
        "        trust propagation depth: 3,\n",
        "        trust propagation damp factor: 0.850000,\n",
        "        trust propagation split factor: num_edges,\n",
        "        min. community size: 10,\n",
        "        no. of expansion steps: 2\n",
        "        \n",
        "seedset selected.\n",
        "trusts set for seedset.\n",
        "step.1 of expanding seedset (trust prop) is done."
       ]
      },
      {
       "output_type": "stream",
       "stream": "stdout",
       "text": [
        "\n",
        "step.2 of expanding seedset (community analysis) is done."
       ]
      },
      {
       "output_type": "stream",
       "stream": "stdout",
       "text": [
        "\n",
        "447 151 405 109\n",
        "\n",
        "        Run configuration:\n",
        "        seedset size: 20,\n",
        "        seedset method: outdegree,\n",
        "        trust propagation method: dampening,\n",
        "        trust propagation depth: 3,\n",
        "        trust propagation damp factor: 0.850000,\n",
        "        trust propagation split factor: num_edges,\n",
        "        min. community size: 10,\n",
        "        no. of expansion steps: 2\n",
        "        "
       ]
      },
      {
       "output_type": "stream",
       "stream": "stdout",
       "text": [
        "\n",
        "seedset selected.\n",
        "trusts set for seedset.\n",
        "step.1 of expanding seedset (trust prop) is done.\n",
        "step.2 of expanding seedset (community analysis) is done."
       ]
      },
      {
       "output_type": "stream",
       "stream": "stdout",
       "text": [
        "\n",
        "440 158 398 116\n",
        "\n",
        "        Run configuration:\n",
        "        seedset size: 30,\n",
        "        seedset method: outdegree,\n",
        "        trust propagation method: dampening,\n",
        "        trust propagation depth: 3,\n",
        "        trust propagation damp factor: 0.850000,\n",
        "        trust propagation split factor: num_edges,\n",
        "        min. community size: 10,\n",
        "        no. of expansion steps: 2\n",
        "        "
       ]
      },
      {
       "output_type": "stream",
       "stream": "stdout",
       "text": [
        "\n",
        "seedset selected.\n",
        "trusts set for seedset.\n",
        "step.1 of expanding seedset (trust prop) is done.\n",
        "step.2 of expanding seedset (community analysis) is done."
       ]
      },
      {
       "output_type": "stream",
       "stream": "stdout",
       "text": [
        "\n",
        "433 147 409 123\n",
        "\n",
        "        Run configuration:\n",
        "        seedset size: 40,\n",
        "        seedset method: outdegree,\n",
        "        trust propagation method: dampening,\n",
        "        trust propagation depth: 3,\n",
        "        trust propagation damp factor: 0.850000,\n",
        "        trust propagation split factor: num_edges,\n",
        "        min. community size: 10,\n",
        "        no. of expansion steps: 2\n",
        "        "
       ]
      },
      {
       "output_type": "stream",
       "stream": "stdout",
       "text": [
        "\n",
        "seedset selected.\n",
        "trusts set for seedset.\n",
        "step.1 of expanding seedset (trust prop) is done.\n",
        "step.2 of expanding seedset (community analysis) is done."
       ]
      },
      {
       "output_type": "stream",
       "stream": "stdout",
       "text": [
        "\n",
        "430 144 412 126\n",
        "\n",
        "        Run configuration:\n",
        "        seedset size: 50,\n",
        "        seedset method: outdegree,\n",
        "        trust propagation method: dampening,\n",
        "        trust propagation depth: 3,\n",
        "        trust propagation damp factor: 0.850000,\n",
        "        trust propagation split factor: num_edges,\n",
        "        min. community size: 10,\n",
        "        no. of expansion steps: 2\n",
        "        "
       ]
      },
      {
       "output_type": "stream",
       "stream": "stdout",
       "text": [
        "\n",
        "seedset selected.\n",
        "trusts set for seedset.\n",
        "step.1 of expanding seedset (trust prop) is done.\n",
        "step.2 of expanding seedset (community analysis) is done."
       ]
      },
      {
       "output_type": "stream",
       "stream": "stdout",
       "text": [
        "\n",
        "429"
       ]
      },
      {
       "output_type": "stream",
       "stream": "stdout",
       "text": [
        " 141 415 127\n",
        "\n",
        "        Run configuration:\n",
        "        seedset size: 75,\n",
        "        seedset method: outdegree,\n",
        "        trust propagation method: dampening,\n",
        "        trust propagation depth: 3,\n",
        "        trust propagation damp factor: 0.850000,\n",
        "        trust propagation split factor: num_edges,\n",
        "        min. community size: 10,\n",
        "        no. of expansion steps: 2\n",
        "        "
       ]
      },
      {
       "output_type": "stream",
       "stream": "stdout",
       "text": [
        "\n",
        "seedset selected.\n",
        "trusts set for seedset.\n",
        "step.1 of expanding seedset (trust prop) is done."
       ]
      },
      {
       "output_type": "stream",
       "stream": "stdout",
       "text": [
        "\n",
        "step.2 of expanding seedset (community analysis) is done."
       ]
      },
      {
       "output_type": "stream",
       "stream": "stdout",
       "text": [
        "\n",
        "431 134 422 125\n",
        "\n",
        "        Run configuration:\n",
        "        seedset size: 100,\n",
        "        seedset method: outdegree,\n",
        "        trust propagation method: dampening,\n",
        "        trust propagation depth: 3,\n",
        "        trust propagation damp factor: 0.850000,\n",
        "        trust propagation split factor: num_edges,\n",
        "        min. community size: 10,\n",
        "        no. of expansion steps: 2\n",
        "        "
       ]
      },
      {
       "output_type": "stream",
       "stream": "stdout",
       "text": [
        "\n",
        "seedset selected.\n",
        "trusts set for seedset.\n",
        "step.1 of expanding seedset (trust prop) is done.\n",
        "step.2 of expanding seedset (community analysis) is done."
       ]
      },
      {
       "output_type": "stream",
       "stream": "stdout",
       "text": [
        "\n",
        "429 134 422 127\n",
        "\n",
        "        Run configuration:\n",
        "        seedset size: 125,\n",
        "        seedset method: outdegree,\n",
        "        trust propagation method: dampening,\n",
        "        trust propagation depth: 3,\n",
        "        trust propagation damp factor: 0.850000,\n",
        "        trust propagation split factor: num_edges,\n",
        "        min. community size: 10,\n",
        "        no. of expansion steps: 2\n",
        "        "
       ]
      },
      {
       "output_type": "stream",
       "stream": "stdout",
       "text": [
        "\n",
        "seedset selected.\n",
        "trusts set for seedset.\n",
        "step.1 of expanding seedset (trust prop) is done.\n",
        "step.2 of expanding seedset (community analysis) is done."
       ]
      },
      {
       "output_type": "stream",
       "stream": "stdout",
       "text": [
        "\n",
        "438 136 420 118\n",
        "\n",
        "        Run configuration:\n",
        "        seedset size: 150,\n",
        "        seedset method: outdegree,\n",
        "        trust propagation method: dampening,\n",
        "        trust propagation depth: 3,\n",
        "        trust propagation damp factor: 0.850000,\n",
        "        trust propagation split factor: num_edges,\n",
        "        min. community size: 10,\n",
        "        no. of expansion steps: 2\n",
        "        "
       ]
      },
      {
       "output_type": "stream",
       "stream": "stdout",
       "text": [
        "\n",
        "seedset selected.\n",
        "trusts set for seedset.\n",
        "step.1 of expanding seedset (trust prop) is done.\n",
        "step.2 of expanding seedset (community analysis) is done."
       ]
      },
      {
       "output_type": "stream",
       "stream": "stdout",
       "text": [
        "\n",
        "441 136 420 115\n",
        "\n",
        "        Run configuration:\n",
        "        seedset size: 175,\n",
        "        seedset method: outdegree,\n",
        "        trust propagation method: dampening,\n",
        "        trust propagation depth: 3,\n",
        "        trust propagation damp factor: 0.850000,\n",
        "        trust propagation split factor: num_edges,\n",
        "        min. community size: 10,\n",
        "        no. of expansion steps: 2\n",
        "        "
       ]
      },
      {
       "output_type": "stream",
       "stream": "stdout",
       "text": [
        "\n",
        "seedset selected.\n",
        "trusts set for seedset.\n",
        "step.1 of expanding seedset (trust prop) is done.\n",
        "step.2 of expanding seedset (community analysis) is done."
       ]
      },
      {
       "output_type": "stream",
       "stream": "stdout",
       "text": [
        "\n",
        "441 134 422 115\n",
        "\n",
        "        Run configuration:\n",
        "        seedset size: 200,\n",
        "        seedset method: outdegree,\n",
        "        trust propagation method: dampening,\n",
        "        trust propagation depth: 3,\n",
        "        trust propagation damp factor: 0.850000,\n",
        "        trust propagation split factor: num_edges,\n",
        "        min. community size: 10,\n",
        "        no. of expansion steps: 2\n",
        "        "
       ]
      },
      {
       "output_type": "stream",
       "stream": "stdout",
       "text": [
        "\n",
        "seedset selected.\n",
        "trusts set for seedset.\n",
        "step.1 of expanding seedset (trust prop) is done.\n",
        "step.2 of expanding seedset (community analysis) is done."
       ]
      },
      {
       "output_type": "stream",
       "stream": "stdout",
       "text": [
        "\n",
        "461 170 386 95\n"
       ]
      }
     ],
     "prompt_number": 377
    },
    {
     "cell_type": "code",
     "collapsed": false,
     "input": [
      "plot(outdegree_res[\"x\"], gaussian_filter(outdegree_res[\"precisions\"], sf), \"c--\", marker=\"o\", label=\"Precision\")\n",
      "plot(outdegree_res[\"x\"], gaussian_filter(outdegree_res[\"recalls\"], sf), \"c-.\", marker=\"o\", label=\"Recall\")\n",
      "plot(outdegree_res[\"x\"], gaussian_filter(outdegree_res[\"f_measures\"], sf), \"c-\", marker=\"o\", label=\"F measure\")"
     ],
     "language": "python",
     "metadata": {},
     "outputs": [
      {
       "metadata": {},
       "output_type": "pyout",
       "prompt_number": 387,
       "text": [
        "[<matplotlib.lines.Line2D at 0xe2a7290>]"
       ]
      }
     ],
     "prompt_number": 387
    },
    {
     "cell_type": "code",
     "collapsed": false,
     "input": [
      "wg.reset_data()\n",
      "wg.seedset_method = \"community-pagerank\"\n",
      "community_pagerank_res = wg.vary_parameter(\"seedset_size\", sizes, expand_steps=steps)"
     ],
     "language": "python",
     "metadata": {},
     "outputs": [
      {
       "output_type": "stream",
       "stream": "stdout",
       "text": [
        "\n",
        "        Run configuration:\n",
        "        seedset size: 10,\n",
        "        seedset method: community-pagerank,\n",
        "        trust propagation method: dampening,\n",
        "        trust propagation depth: 3,\n",
        "        trust propagation damp factor: 0.850000,\n",
        "        trust propagation split factor: num_edges,\n",
        "        min. community size: 10,\n",
        "        no. of expansion steps: 2\n",
        "        \n",
        "seedset selected."
       ]
      },
      {
       "output_type": "stream",
       "stream": "stdout",
       "text": [
        "\n",
        "trusts set for seedset.\n",
        "step.1 of expanding seedset (trust prop) is done.\n",
        "step.2 of expanding seedset (community analysis) is done."
       ]
      },
      {
       "output_type": "stream",
       "stream": "stdout",
       "text": [
        "\n",
        "419 139 417 137\n",
        "\n",
        "        Run configuration:\n",
        "        seedset size: 20,\n",
        "        seedset method: community-pagerank,\n",
        "        trust propagation method: dampening,\n",
        "        trust propagation depth: 3,\n",
        "        trust propagation damp factor: 0.850000,\n",
        "        trust propagation split factor: num_edges,\n",
        "        min. community size: 10,\n",
        "        no. of expansion steps: 2\n",
        "        "
       ]
      },
      {
       "output_type": "stream",
       "stream": "stdout",
       "text": [
        "\n",
        "seedset selected."
       ]
      },
      {
       "output_type": "stream",
       "stream": "stdout",
       "text": [
        "\n",
        "trusts set for seedset.\n",
        "step.1 of expanding seedset (trust prop) is done.\n",
        "step.2 of expanding seedset (community analysis) is done."
       ]
      },
      {
       "output_type": "stream",
       "stream": "stdout",
       "text": [
        "\n",
        "444 145 411 112\n",
        "\n",
        "        Run configuration:\n",
        "        seedset size: 30,\n",
        "        seedset method: community-pagerank,\n",
        "        trust propagation method: dampening,\n",
        "        trust propagation depth: 3,\n",
        "        trust propagation damp factor: 0.850000,\n",
        "        trust propagation split factor: num_edges,\n",
        "        min. community size: 10,\n",
        "        no. of expansion steps: 2\n",
        "        "
       ]
      },
      {
       "output_type": "stream",
       "stream": "stdout",
       "text": [
        "\n",
        "seedset selected."
       ]
      },
      {
       "output_type": "stream",
       "stream": "stdout",
       "text": [
        "\n",
        "trusts set for seedset.\n",
        "step.1 of expanding seedset (trust prop) is done.\n",
        "step.2 of expanding seedset (community analysis) is done."
       ]
      },
      {
       "output_type": "stream",
       "stream": "stdout",
       "text": [
        "\n",
        "438 146 410 118\n",
        "\n",
        "        Run configuration:\n",
        "        seedset size: 40,\n",
        "        seedset method: community-pagerank,\n",
        "        trust propagation method: dampening,\n",
        "        trust propagation depth: 3,\n",
        "        trust propagation damp factor: 0.850000,\n",
        "        trust propagation split factor: num_edges,\n",
        "        min. community size: 10,\n",
        "        no. of expansion steps: 2\n",
        "        "
       ]
      },
      {
       "output_type": "stream",
       "stream": "stdout",
       "text": [
        "\n",
        "seedset selected."
       ]
      },
      {
       "output_type": "stream",
       "stream": "stdout",
       "text": [
        "\n",
        "trusts set for seedset.\n",
        "step.1 of expanding seedset (trust prop) is done.\n",
        "step.2 of expanding seedset (community analysis) is done."
       ]
      },
      {
       "output_type": "stream",
       "stream": "stdout",
       "text": [
        "\n",
        "436 145 411 120\n",
        "\n",
        "        Run configuration:\n",
        "        seedset size: 50,\n",
        "        seedset method: community-pagerank,\n",
        "        trust propagation method: dampening,\n",
        "        trust propagation depth: 3,\n",
        "        trust propagation damp factor: 0.850000,\n",
        "        trust propagation split factor: num_edges,\n",
        "        min. community size: 10,\n",
        "        no. of expansion steps: 2\n",
        "        "
       ]
      },
      {
       "output_type": "stream",
       "stream": "stdout",
       "text": [
        "\n",
        "seedset selected."
       ]
      },
      {
       "output_type": "stream",
       "stream": "stdout",
       "text": [
        "\n",
        "trusts set for seedset.\n",
        "step.1 of expanding seedset (trust prop) is done.\n",
        "step.2 of expanding seedset (community analysis) is done."
       ]
      },
      {
       "output_type": "stream",
       "stream": "stdout",
       "text": [
        "\n",
        "433 141 415 123\n",
        "\n",
        "        Run configuration:\n",
        "        seedset size: 75,\n",
        "        seedset method: community-pagerank,\n",
        "        trust propagation method: dampening,\n",
        "        trust propagation depth: 3,\n",
        "        trust propagation damp factor: 0.850000,\n",
        "        trust propagation split factor: num_edges,\n",
        "        min. community size: 10,\n",
        "        no. of expansion steps: 2\n",
        "        "
       ]
      },
      {
       "output_type": "stream",
       "stream": "stdout",
       "text": [
        "\n",
        "seedset selected."
       ]
      },
      {
       "output_type": "stream",
       "stream": "stdout",
       "text": [
        "\n",
        "trusts set for seedset.\n",
        "step.1 of expanding seedset (trust prop) is done.\n",
        "step.2 of expanding seedset (community analysis) is done."
       ]
      },
      {
       "output_type": "stream",
       "stream": "stdout",
       "text": [
        "\n",
        "438 142 414 118\n",
        "\n",
        "        Run configuration:\n",
        "        seedset size: 100,\n",
        "        seedset method: community-pagerank,\n",
        "        trust propagation method: dampening,\n",
        "        trust propagation depth: 3,\n",
        "        trust propagation damp factor: 0.850000,\n",
        "        trust propagation split factor: num_edges,\n",
        "        min. community size: 10,\n",
        "        no. of expansion steps: 2\n",
        "        "
       ]
      },
      {
       "output_type": "stream",
       "stream": "stdout",
       "text": [
        "\n",
        "seedset selected."
       ]
      },
      {
       "output_type": "stream",
       "stream": "stdout",
       "text": [
        "\n",
        "trusts set for seedset.\n",
        "step.1 of expanding seedset (trust prop) is done.\n",
        "step.2 of expanding seedset (community analysis) is done."
       ]
      },
      {
       "output_type": "stream",
       "stream": "stdout",
       "text": [
        "\n",
        "441 143 413 115\n",
        "\n",
        "        Run configuration:\n",
        "        seedset size: 125,\n",
        "        seedset method: community-pagerank,\n",
        "        trust propagation method: dampening,\n",
        "        trust propagation depth: 3,\n",
        "        trust propagation damp factor: 0.850000,\n",
        "        trust propagation split factor: num_edges,\n",
        "        min. community size: 10,\n",
        "        no. of expansion steps: 2\n",
        "        "
       ]
      },
      {
       "output_type": "stream",
       "stream": "stdout",
       "text": [
        "\n",
        "seedset selected."
       ]
      },
      {
       "output_type": "stream",
       "stream": "stdout",
       "text": [
        "\n",
        "trusts set for seedset.\n",
        "step.1 of expanding seedset (trust prop) is done.\n",
        "step.2 of expanding seedset (community analysis) is done."
       ]
      },
      {
       "output_type": "stream",
       "stream": "stdout",
       "text": [
        "\n",
        "442 140 416 114\n",
        "\n",
        "        Run configuration:\n",
        "        seedset size: 150,\n",
        "        seedset method: community-pagerank,\n",
        "        trust propagation method: dampening,\n",
        "        trust propagation depth: 3,\n",
        "        trust propagation damp factor: 0.850000,\n",
        "        trust propagation split factor: num_edges,\n",
        "        min. community size: 10,\n",
        "        no. of expansion steps: 2\n",
        "        "
       ]
      },
      {
       "output_type": "stream",
       "stream": "stdout",
       "text": [
        "\n",
        "seedset selected."
       ]
      },
      {
       "output_type": "stream",
       "stream": "stdout",
       "text": [
        "\n",
        "trusts set for seedset.\n",
        "step.1 of expanding seedset (trust prop) is done.\n",
        "step.2 of expanding seedset (community analysis) is done."
       ]
      },
      {
       "output_type": "stream",
       "stream": "stdout",
       "text": [
        "\n",
        "444 134 422 112\n",
        "\n",
        "        Run configuration:\n",
        "        seedset size: 175,\n",
        "        seedset method: community-pagerank,\n",
        "        trust propagation method: dampening,\n",
        "        trust propagation depth: 3,\n",
        "        trust propagation damp factor: 0.850000,\n",
        "        trust propagation split factor: num_edges,\n",
        "        min. community size: 10,\n",
        "        no. of expansion steps: 2\n",
        "        "
       ]
      },
      {
       "output_type": "stream",
       "stream": "stdout",
       "text": [
        "\n",
        "seedset selected."
       ]
      },
      {
       "output_type": "stream",
       "stream": "stdout",
       "text": [
        "\n",
        "trusts set for seedset.\n",
        "step.1 of expanding seedset (trust prop) is done.\n",
        "step.2 of expanding seedset (community analysis) is done."
       ]
      },
      {
       "output_type": "stream",
       "stream": "stdout",
       "text": [
        "\n",
        "448 133 423 108\n",
        "\n",
        "        Run configuration:\n",
        "        seedset size: 200,\n",
        "        seedset method: community-pagerank,\n",
        "        trust propagation method: dampening,\n",
        "        trust propagation depth: 3,\n",
        "        trust propagation damp factor: 0.850000,\n",
        "        trust propagation split factor: num_edges,\n",
        "        min. community size: 10,\n",
        "        no. of expansion steps: 2\n",
        "        "
       ]
      },
      {
       "output_type": "stream",
       "stream": "stdout",
       "text": [
        "\n",
        "seedset selected."
       ]
      },
      {
       "output_type": "stream",
       "stream": "stdout",
       "text": [
        "\n",
        "trusts set for seedset.\n",
        "step.1 of expanding seedset (trust prop) is done.\n",
        "step.2 of expanding seedset (community analysis) is done."
       ]
      },
      {
       "output_type": "stream",
       "stream": "stdout",
       "text": [
        "\n",
        "449 132 424 107\n"
       ]
      }
     ],
     "prompt_number": 379
    },
    {
     "cell_type": "code",
     "collapsed": false,
     "input": [
      "plot(community_pagerank_res[\"x\"], gaussian_filter(community_pagerank_res[\"precisions\"], sf), \"b--\", marker=\"o\", label=\"Precision\")\n",
      "plot(community_pagerank_res[\"x\"], gaussian_filter(community_pagerank_res[\"recalls\"], sf), \"b-.\", marker=\"o\", label=\"Recall\")\n",
      "plot(community_pagerank_res[\"x\"], gaussian_filter(community_pagerank_res[\"f_measures\"], sf), \"b-\", marker=\"o\", label=\"F measure\")"
     ],
     "language": "python",
     "metadata": {},
     "outputs": [
      {
       "metadata": {},
       "output_type": "pyout",
       "prompt_number": 388,
       "text": [
        "[<matplotlib.lines.Line2D at 0xe2af450>]"
       ]
      }
     ],
     "prompt_number": 388
    },
    {
     "cell_type": "code",
     "collapsed": false,
     "input": [
      "wg.reset_data()\n",
      "wg.seedset_method = \"community-hubs\"\n",
      "community_hubs_res = wg.vary_parameter(\"seedset_size\", sizes, expand_steps=steps)"
     ],
     "language": "python",
     "metadata": {},
     "outputs": [
      {
       "output_type": "stream",
       "stream": "stdout",
       "text": [
        "\n",
        "        Run configuration:\n",
        "        seedset size: 10,\n",
        "        seedset method: community-hubs,\n",
        "        trust propagation method: dampening,\n",
        "        trust propagation depth: 3,\n",
        "        trust propagation damp factor: 0.850000,\n",
        "        trust propagation split factor: num_edges,\n",
        "        min. community size: 10,\n",
        "        no. of expansion steps: 2\n",
        "        \n",
        "seedset selected."
       ]
      },
      {
       "output_type": "stream",
       "stream": "stdout",
       "text": [
        "\n",
        "trusts set for seedset.\n",
        "step.1 of expanding seedset (trust prop) is done.\n",
        "step.2 of expanding seedset (community analysis) is done."
       ]
      },
      {
       "output_type": "stream",
       "stream": "stdout",
       "text": [
        "\n",
        "469 192 364 87\n",
        "\n",
        "        Run configuration:\n",
        "        seedset size: 20,\n",
        "        seedset method: community-hubs,\n",
        "        trust propagation method: dampening,\n",
        "        trust propagation depth: 3,\n",
        "        trust propagation damp factor: 0.850000,\n",
        "        trust propagation split factor: num_edges,\n",
        "        min. community size: 10,\n",
        "        no. of expansion steps: 2\n",
        "        "
       ]
      },
      {
       "output_type": "stream",
       "stream": "stdout",
       "text": [
        "\n",
        "seedset selected."
       ]
      },
      {
       "output_type": "stream",
       "stream": "stdout",
       "text": [
        "\n",
        "trusts set for seedset.\n",
        "step.1 of expanding seedset (trust prop) is done.\n",
        "step.2 of expanding seedset (community analysis) is done."
       ]
      },
      {
       "output_type": "stream",
       "stream": "stdout",
       "text": [
        "\n",
        "426"
       ]
      },
      {
       "output_type": "stream",
       "stream": "stdout",
       "text": [
        " 145 411 130\n",
        "\n",
        "        Run configuration:\n",
        "        seedset size: 30,\n",
        "        seedset method: community-hubs,\n",
        "        trust propagation method: dampening,\n",
        "        trust propagation depth: 3,\n",
        "        trust propagation damp factor: 0.850000,\n",
        "        trust propagation split factor: num_edges,\n",
        "        min. community size: 10,\n",
        "        no. of expansion steps: 2\n",
        "        "
       ]
      },
      {
       "output_type": "stream",
       "stream": "stdout",
       "text": [
        "\n",
        "seedset selected."
       ]
      },
      {
       "output_type": "stream",
       "stream": "stdout",
       "text": [
        "\n",
        "trusts set for seedset.\n",
        "step.1 of expanding seedset (trust prop) is done.\n",
        "step.2 of expanding seedset (community analysis) is done."
       ]
      },
      {
       "output_type": "stream",
       "stream": "stdout",
       "text": [
        "\n",
        "426 143 413 130\n",
        "\n",
        "        Run configuration:\n",
        "        seedset size: 40,\n",
        "        seedset method: community-hubs,\n",
        "        trust propagation method: dampening,\n",
        "        trust propagation depth: 3,\n",
        "        trust propagation damp factor: 0.850000,\n",
        "        trust propagation split factor: num_edges,\n",
        "        min. community size: 10,\n",
        "        no. of expansion steps: 2\n",
        "        "
       ]
      },
      {
       "output_type": "stream",
       "stream": "stdout",
       "text": [
        "\n",
        "seedset selected."
       ]
      },
      {
       "output_type": "stream",
       "stream": "stdout",
       "text": [
        "\n",
        "trusts set for seedset.\n",
        "step.1 of expanding seedset (trust prop) is done.\n",
        "step.2 of expanding seedset (community analysis) is done."
       ]
      },
      {
       "output_type": "stream",
       "stream": "stdout",
       "text": [
        "\n",
        "431 148 408 125\n",
        "\n",
        "        Run configuration:\n",
        "        seedset size: 50,\n",
        "        seedset method: community-hubs,\n",
        "        trust propagation method: dampening,\n",
        "        trust propagation depth: 3,\n",
        "        trust propagation damp factor: 0.850000,\n",
        "        trust propagation split factor: num_edges,\n",
        "        min. community size: 10,\n",
        "        no. of expansion steps: 2\n",
        "        "
       ]
      },
      {
       "output_type": "stream",
       "stream": "stdout",
       "text": [
        "\n",
        "seedset selected."
       ]
      },
      {
       "output_type": "stream",
       "stream": "stdout",
       "text": [
        "\n",
        "trusts set for seedset.\n",
        "step.1 of expanding seedset (trust prop) is done.\n",
        "step.2 of expanding seedset (community analysis) is done."
       ]
      },
      {
       "output_type": "stream",
       "stream": "stdout",
       "text": [
        "\n",
        "423 146 410 133\n",
        "\n",
        "        Run configuration:\n",
        "        seedset size: 75,\n",
        "        seedset method: community-hubs,\n",
        "        trust propagation method: dampening,\n",
        "        trust propagation depth: 3,\n",
        "        trust propagation damp factor: 0.850000,\n",
        "        trust propagation split factor: num_edges,\n",
        "        min. community size: 10,\n",
        "        no. of expansion steps: 2\n",
        "        "
       ]
      },
      {
       "output_type": "stream",
       "stream": "stdout",
       "text": [
        "\n",
        "seedset selected."
       ]
      },
      {
       "output_type": "stream",
       "stream": "stdout",
       "text": [
        "\n",
        "trusts set for seedset.\n",
        "step.1 of expanding seedset (trust prop) is done.\n",
        "step.2 of expanding seedset (community analysis) is done."
       ]
      },
      {
       "output_type": "stream",
       "stream": "stdout",
       "text": [
        "\n",
        "425 145 411 131\n",
        "\n",
        "        Run configuration:\n",
        "        seedset size: 100,\n",
        "        seedset method: community-hubs,\n",
        "        trust propagation method: dampening,\n",
        "        trust propagation depth: 3,\n",
        "        trust propagation damp factor: 0.850000,\n",
        "        trust propagation split factor: num_edges,\n",
        "        min. community size: 10,\n",
        "        no. of expansion steps: 2\n",
        "        "
       ]
      },
      {
       "output_type": "stream",
       "stream": "stdout",
       "text": [
        "\n",
        "seedset selected."
       ]
      },
      {
       "output_type": "stream",
       "stream": "stdout",
       "text": [
        "\n",
        "trusts set for seedset.\n",
        "step.1 of expanding seedset (trust prop) is done.\n",
        "step.2 of expanding seedset (community analysis) is done."
       ]
      },
      {
       "output_type": "stream",
       "stream": "stdout",
       "text": [
        "\n",
        "468 181 375 88\n",
        "\n",
        "        Run configuration:\n",
        "        seedset size: 125,\n",
        "        seedset method: community-hubs,\n",
        "        trust propagation method: dampening,\n",
        "        trust propagation depth: 3,\n",
        "        trust propagation damp factor: 0.850000,\n",
        "        trust propagation split factor: num_edges,\n",
        "        min. community size: 10,\n",
        "        no. of expansion steps: 2\n",
        "        "
       ]
      },
      {
       "output_type": "stream",
       "stream": "stdout",
       "text": [
        "\n",
        "seedset selected."
       ]
      },
      {
       "output_type": "stream",
       "stream": "stdout",
       "text": [
        "\n",
        "trusts set for seedset.\n",
        "step.1 of expanding seedset (trust prop) is done.\n",
        "step.2 of expanding seedset (community analysis) is done."
       ]
      },
      {
       "output_type": "stream",
       "stream": "stdout",
       "text": [
        "\n",
        "473 180 376 83\n",
        "\n",
        "        Run configuration:\n",
        "        seedset size: 150,\n",
        "        seedset method: community-hubs,\n",
        "        trust propagation method: dampening,\n",
        "        trust propagation depth: 3,\n",
        "        trust propagation damp factor: 0.850000,\n",
        "        trust propagation split factor: num_edges,\n",
        "        min. community size: 10,\n",
        "        no. of expansion steps: 2\n",
        "        "
       ]
      },
      {
       "output_type": "stream",
       "stream": "stdout",
       "text": [
        "\n",
        "seedset selected."
       ]
      },
      {
       "output_type": "stream",
       "stream": "stdout",
       "text": [
        "\n",
        "trusts set for seedset.\n",
        "step.1 of expanding seedset (trust prop) is done.\n",
        "step.2 of expanding seedset (community analysis) is done."
       ]
      },
      {
       "output_type": "stream",
       "stream": "stdout",
       "text": [
        "\n",
        "474 180 376 82\n",
        "\n",
        "        Run configuration:\n",
        "        seedset size: 175,\n",
        "        seedset method: community-hubs,\n",
        "        trust propagation method: dampening,\n",
        "        trust propagation depth: 3,\n",
        "        trust propagation damp factor: 0.850000,\n",
        "        trust propagation split factor: num_edges,\n",
        "        min. community size: 10,\n",
        "        no. of expansion steps: 2\n",
        "        "
       ]
      },
      {
       "output_type": "stream",
       "stream": "stdout",
       "text": [
        "\n",
        "seedset selected."
       ]
      },
      {
       "output_type": "stream",
       "stream": "stdout",
       "text": [
        "\n",
        "trusts set for seedset.\n",
        "step.1 of expanding seedset (trust prop) is done.\n",
        "step.2 of expanding seedset (community analysis) is done."
       ]
      },
      {
       "output_type": "stream",
       "stream": "stdout",
       "text": [
        "\n",
        "424 130 426 132\n",
        "\n",
        "        Run configuration:\n",
        "        seedset size: 200,\n",
        "        seedset method: community-hubs,\n",
        "        trust propagation method: dampening,\n",
        "        trust propagation depth: 3,\n",
        "        trust propagation damp factor: 0.850000,\n",
        "        trust propagation split factor: num_edges,\n",
        "        min. community size: 10,\n",
        "        no. of expansion steps: 2\n",
        "        "
       ]
      },
      {
       "output_type": "stream",
       "stream": "stdout",
       "text": [
        "\n",
        "seedset selected."
       ]
      },
      {
       "output_type": "stream",
       "stream": "stdout",
       "text": [
        "\n",
        "trusts set for seedset.\n",
        "step.1 of expanding seedset (trust prop) is done."
       ]
      },
      {
       "output_type": "stream",
       "stream": "stdout",
       "text": [
        "\n",
        "step.2 of expanding seedset (community analysis) is done."
       ]
      },
      {
       "output_type": "stream",
       "stream": "stdout",
       "text": [
        "\n",
        "457"
       ]
      },
      {
       "output_type": "stream",
       "stream": "stdout",
       "text": [
        " 173 383 99\n"
       ]
      }
     ],
     "prompt_number": 381
    },
    {
     "cell_type": "code",
     "collapsed": false,
     "input": [
      "plot(community_hubs_res[\"x\"], gaussian_filter(community_hubs_res[\"precisions\"], sf), \"g--\", marker=\"o\", label=\"Precision\")\n",
      "plot(community_hubs_res[\"x\"], gaussian_filter(community_hubs_res[\"recalls\"], sf), \"g-.\", marker=\"o\", label=\"Recall\")\n",
      "plot(community_hubs_res[\"x\"], gaussian_filter(community_hubs_res[\"f_measures\"], sf), \"g-\", marker=\"o\", label=\"F measure\")"
     ],
     "language": "python",
     "metadata": {},
     "outputs": [
      {
       "metadata": {},
       "output_type": "pyout",
       "prompt_number": 389,
       "text": [
        "[<matplotlib.lines.Line2D at 0xe2b05d0>]"
       ]
      }
     ],
     "prompt_number": 389
    },
    {
     "cell_type": "code",
     "collapsed": false,
     "input": [
      "#Get artists and labels for legend and chose which ones to display\n",
      "xlabel(\"Size of the seedset\")\n",
      "\n",
      "handles, labels = ax.get_legend_handles_labels()\n",
      "display = (2, 5, 8, 11, 14)\n",
      "\n",
      "#Create custom artists\n",
      "precision = plt.Line2D((0,1),(0,0), color='k', linestyle='--')\n",
      "recall = plt.Line2D((0,1),(0,0), color='k', linestyle='-.')\n",
      "f_measure = plt.Line2D((0,1),(0,0), color='k', linestyle='-')\n",
      "\n",
      "#Create legend from custom artist/label lists\n",
      "ax.legend([handle for i,handle in enumerate(handles) if i in display]+[precision, recall, f_measure],\n",
      "          ['Pagerank', 'Eigenvector centrality', 'Outdegree centrality', 'Community (pagerank)', 'Community (hubs)'] + ['Precision', 'Recall', 'F Measure'],\n",
      "          loc='lower right')\n",
      "\n",
      "grid()\n",
      "draw()"
     ],
     "language": "python",
     "metadata": {},
     "outputs": [],
     "prompt_number": 390
    },
    {
     "cell_type": "code",
     "collapsed": false,
     "input": [
      "grid()\n",
      "draw()"
     ],
     "language": "python",
     "metadata": {},
     "outputs": [],
     "prompt_number": 359
    },
    {
     "cell_type": "markdown",
     "metadata": {},
     "source": [
      "###Trust propagation methods"
     ]
    },
    {
     "cell_type": "markdown",
     "metadata": {},
     "source": [
      "####Dampening method"
     ]
    },
    {
     "cell_type": "code",
     "collapsed": false,
     "input": [
      "wg = gf.WikiGraph(g, annotations)\n",
      "wg.seedset_method = \"community-pagerank\"\n",
      "wg.prop_method = \"dampening\"\n",
      "wg.prop_depth = 3\n",
      "wg.seedset_size = 50"
     ],
     "language": "python",
     "metadata": {},
     "outputs": []
    },
    {
     "cell_type": "code",
     "collapsed": false,
     "input": [
      "res = wg.vary_parameter(\"damp_factor\", np.arange(0.1, 0.95, 0.2))"
     ],
     "language": "python",
     "metadata": {},
     "outputs": []
    },
    {
     "cell_type": "code",
     "collapsed": false,
     "input": [
      "from scipy.ndimage.filters import gaussian_filter\n",
      "sf = 0"
     ],
     "language": "python",
     "metadata": {},
     "outputs": []
    },
    {
     "cell_type": "code",
     "collapsed": false,
     "input": [
      "fig = figure()\n",
      "ax = fig.add_subplot(1,1,1)\n",
      "plot(res[\"x\"], gaussian_filter(res[\"precisions\"], sf), \"r--\",  marker=\"o\", label=\"Precision\")\n",
      "plot(res[\"x\"], gaussian_filter(res[\"recalls\"], sf), \"r-.\",  marker=\"o\", label=\"Recall\")\n",
      "plot(res[\"x\"], gaussian_filter(res[\"f_measures\"], sf), \"r-\",  marker=\"o\", label=\"F measure\")\n",
      "xlabel(\"Damping factor\")\n",
      "legend()"
     ],
     "language": "python",
     "metadata": {},
     "outputs": []
    },
    {
     "cell_type": "code",
     "collapsed": false,
     "input": [
      "wg = gf.WikiGraph(g, annotations)\n",
      "wg.seedset_method = \"community-pagerank\"\n",
      "wg.prop_method = \"dampening\"\n",
      "wg.damp_factor = 0.85\n",
      "wg.prop_depth = 3\n",
      "wg.seedset_size = 50\n",
      "wg.select_seedset()\n",
      "wg.set_seedtrusts()\n",
      "score_index = wg.propagate_trust()\n",
      "wg.set_trusts(score_index)\n",
      "[p, r, f] = wg.evaluate()"
     ],
     "language": "python",
     "metadata": {},
     "outputs": []
    },
    {
     "cell_type": "code",
     "collapsed": false,
     "input": [
      "print round(p, 2), round(r, 2), round(f, 2)"
     ],
     "language": "python",
     "metadata": {},
     "outputs": []
    },
    {
     "cell_type": "markdown",
     "metadata": {},
     "source": [
      "####Splitting method"
     ]
    },
    {
     "cell_type": "code",
     "collapsed": false,
     "input": [
      "wg = gf.WikiGraph(g, annotations)\n",
      "wg.seedset_method = \"community-pagerank\"\n",
      "wg.prop_method = \"splitting\"\n",
      "wg.split_with = \"num_edges\"\n",
      "wg.prop_depth = 3\n",
      "wg.seedset_size = 50\n",
      "wg.select_seedset()\n",
      "wg.set_seedtrusts()\n",
      "score_index = wg.propagate_trust()\n",
      "wg.set_trusts(score_index)\n",
      "[p, r, f] = wg.evaluate()"
     ],
     "language": "python",
     "metadata": {},
     "outputs": []
    },
    {
     "cell_type": "code",
     "collapsed": false,
     "input": [
      "print round(p, 2), round(r, 2), round(f, 2)"
     ],
     "language": "python",
     "metadata": {},
     "outputs": []
    },
    {
     "cell_type": "markdown",
     "metadata": {},
     "source": [
      "####Basic method"
     ]
    },
    {
     "cell_type": "code",
     "collapsed": false,
     "input": [
      "wg = gf.WikiGraph(g, annotations)\n",
      "wg.seedset_method = \"community-pagerank\"\n",
      "wg.prop_method = \"basic\"\n",
      "wg.prop_depth = 3\n",
      "wg.seedset_size = 50\n",
      "wg.doubtful = \"non-carnatic\"\n",
      "wg.select_seedset()\n",
      "wg.set_seedtrusts()\n",
      "score_index = wg.propagate_trust()\n",
      "wg.set_trusts(score_index)\n",
      "[p, r, f] = wg.evaluate()"
     ],
     "language": "python",
     "metadata": {},
     "outputs": []
    },
    {
     "cell_type": "code",
     "collapsed": false,
     "input": [
      "doubtful = []\n",
      "for node in wg.fp_nodes:\n",
      "    if annotations[node] == \"non-carnatic\":\n",
      "        doubtful.append(node)\n",
      "\n",
      "print len(wg.fp_nodes), len(doubtful)\n",
      "doubtful"
     ],
     "language": "python",
     "metadata": {},
     "outputs": []
    },
    {
     "cell_type": "code",
     "collapsed": false,
     "input": [
      "print round(p, 2), round(r, 2), round(f, 2)"
     ],
     "language": "python",
     "metadata": {},
     "outputs": []
    },
    {
     "cell_type": "markdown",
     "metadata": {},
     "source": [
      "####+Voting"
     ]
    },
    {
     "cell_type": "code",
     "collapsed": false,
     "input": [
      "wg.vote_method = \"score\"\n",
      "wg.vote_iterations = 100\n",
      "score_index = wg.vote_nodes()\n",
      "wg.set_trusts(score_index)\n",
      "[p, r, f] = wg.evaluate()"
     ],
     "language": "python",
     "metadata": {},
     "outputs": []
    },
    {
     "cell_type": "code",
     "collapsed": false,
     "input": [
      "print round(p, 2), round(r, 2), round(f, 2)"
     ],
     "language": "python",
     "metadata": {},
     "outputs": []
    },
    {
     "cell_type": "code",
     "collapsed": false,
     "input": [
      "trusts = [wg.graph[n][\"trust\"] for n in wg.graph.nodes() if \"trust\" in wg.graph[n].keys()]"
     ],
     "language": "python",
     "metadata": {},
     "outputs": []
    },
    {
     "cell_type": "code",
     "collapsed": false,
     "input": [
      "hist(trusts, 100)"
     ],
     "language": "python",
     "metadata": {},
     "outputs": []
    },
    {
     "cell_type": "markdown",
     "metadata": {},
     "source": [
      "####+Community analysis"
     ]
    },
    {
     "cell_type": "code",
     "collapsed": false,
     "input": [
      "wg.min_comsize = 10\n",
      "wg.level = 0\n",
      "\n",
      "score_index = wg.community_filter()\n",
      "wg.set_trusts(score_index)\n",
      "\n",
      "[p, r, f] = wg.evaluate()\n",
      "print round(p, 2), round(r, 2), round(f, 2)"
     ],
     "language": "python",
     "metadata": {},
     "outputs": []
    },
    {
     "cell_type": "markdown",
     "metadata": {},
     "source": [
      "###The ideal graph"
     ]
    },
    {
     "cell_type": "code",
     "collapsed": false,
     "input": [
      "good_nodes = [i for i in annotations.keys() if annotations[i] == \"carnatic\"]\n",
      "sub_g = g.subgraph(good_nodes)\n",
      "nx.write_graphml(sub_g, '/homedtic/gkoduri/workspace/relation-extraction/data/carnatic_hyperlinks_ideal.graphml')"
     ],
     "language": "python",
     "metadata": {},
     "outputs": []
    },
    {
     "cell_type": "code",
     "collapsed": false,
     "input": [],
     "language": "python",
     "metadata": {},
     "outputs": []
    }
   ],
   "metadata": {}
  }
 ]
}